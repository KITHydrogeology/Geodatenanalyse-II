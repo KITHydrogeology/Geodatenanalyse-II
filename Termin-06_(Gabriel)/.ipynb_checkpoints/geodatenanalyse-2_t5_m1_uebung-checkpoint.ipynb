{
 "cells": [
  {
   "cell_type": "markdown",
   "id": "complimentary-unknown",
   "metadata": {},
   "source": [
    "# Geodatenanalyse 2\n",
    "\n",
    "\n",
    "## Termin 5 - Modul 1\n",
    "\n",
    "## Was ist \"big data\"? Datenformate und Umgang"
   ]
  },
  {
   "cell_type": "code",
   "execution_count": 1,
   "id": "resistant-corporation",
   "metadata": {},
   "outputs": [],
   "source": [
    "import xarray as xr\n",
    "import numpy as np\n",
    "import cartopy.crs as ccrs\n",
    "import matplotlib.pyplot as plt\n",
    "import pandas as pd"
   ]
  },
  {
   "cell_type": "markdown",
   "id": "patient-croatia",
   "metadata": {},
   "source": [
    "## Übung 1\n",
    "\n",
    "Ein globaler Datensatz wurde erstellt und soll voruntersucht werden. **ACHTUNG**: Die Daten müssen unbedingt vertraulich behandelt werden! Sie können auf ILIAS herunter geladen werden (*SMBM_global_means.nc*). Die Daten stammen aus einer Publikation, welche gerade begutachtet wird:\n",
    "\n",
    "> [Cuthbert et al. (under review) *Global climate-driven trade-offs between the water retention and cooling benefits of urban greening*](https://eartharxiv.org/repository/view/2100/)\n",
    "\n",
    "- **Aufgabe 1**: Untersuche welch Eigenschaften (z.B., Dimensionen, Koordinaten, Variable, Attribute, etc.) der Datensatz hat. \n",
    "\n",
    "- **Aufgabe 2**: Wie groß ist die Auflösung eines einzelnen Pixels in Kilometer Erdoberfläche in Richtung Längengrad und Breitengrad? Warum sind die Werte unterschiedlich? Der Erdradius beträgt ca. 6.371 km.\n",
    "\n",
    "- **Aufgabe 3**: Extrahiere den Wert der Variable *p_av* (durchschnittlicher Niederschlag) für Karlsruhe (49.0069° N, 8.4037° E).\n"
   ]
  },
  {
   "cell_type": "code",
   "execution_count": 1,
   "id": "composed-commander",
   "metadata": {
    "scrolled": false
   },
   "outputs": [],
   "source": [
    "# Aufgabe 1"
   ]
  },
  {
   "cell_type": "code",
   "execution_count": 2,
   "id": "vocational-retailer",
   "metadata": {},
   "outputs": [],
   "source": [
    "# Aufgabe 2"
   ]
  },
  {
   "cell_type": "code",
   "execution_count": 3,
   "id": "inner-musical",
   "metadata": {},
   "outputs": [],
   "source": [
    "# Aufgabe 3"
   ]
  },
  {
   "cell_type": "markdown",
   "id": "passive-anderson",
   "metadata": {},
   "source": [
    "## Übung 2\n",
    "\n",
    "Ein historischer und globaler Klimadatensatz der [Global Precipitation Climatology Centre (GPCC )](https://prism.oregonstate.edu/) soll untersucht werden. Er liegt auf dem folgenden Server:  *https://psl.noaa.gov/thredds/dodsC/Datasets/gpcc/full_v7/precip.mon.total.v7.nc*. Die Erklärung zum Datensatz ist auf der Webseite von [NOAA](https://psl.noaa.gov/data/gridded/data.gpcc.html).\n",
    "\n",
    "- **Aufgabe 1**: Öffne den Datensatz und untersuche die Eigenschaften (z.B., Dimensionen, Koordinaten, Variable, Attribute, etc.). \n",
    "\n",
    "- **Aufgabe 2**: Lade eine Zeitreihe des durchschnittlichen monatlichen Niederschlags für das Gebiet von Karlsruhe herunter und spiechere diese als CSV-Datei. *ACHTUNG*: Das kann eine Weile dauern!\n"
   ]
  },
  {
   "cell_type": "code",
   "execution_count": 4,
   "id": "deluxe-decrease",
   "metadata": {},
   "outputs": [],
   "source": [
    "# Aufgabe 1"
   ]
  },
  {
   "cell_type": "code",
   "execution_count": 5,
   "id": "legal-energy",
   "metadata": {},
   "outputs": [],
   "source": [
    "# Aufgabe 2"
   ]
  }
 ],
 "metadata": {
  "kernelspec": {
   "display_name": "Python 3",
   "language": "python",
   "name": "python3"
  },
  "language_info": {
   "codemirror_mode": {
    "name": "ipython",
    "version": 3
   },
   "file_extension": ".py",
   "mimetype": "text/x-python",
   "name": "python",
   "nbconvert_exporter": "python",
   "pygments_lexer": "ipython3",
   "version": "3.7.10"
  },
  "toc": {
   "base_numbering": 1,
   "nav_menu": {},
   "number_sections": false,
   "sideBar": true,
   "skip_h1_title": false,
   "title_cell": "Table of Contents",
   "title_sidebar": "Contents",
   "toc_cell": false,
   "toc_position": {},
   "toc_section_display": true,
   "toc_window_display": true
  }
 },
 "nbformat": 4,
 "nbformat_minor": 5
}
