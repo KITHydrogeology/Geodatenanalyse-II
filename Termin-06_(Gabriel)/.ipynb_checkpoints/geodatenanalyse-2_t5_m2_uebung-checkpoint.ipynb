{
 "cells": [
  {
   "cell_type": "markdown",
   "id": "complimentary-unknown",
   "metadata": {},
   "source": [
    "# Geodatenanalyse 2\n",
    "\n",
    "\n",
    "## Termin 5 - Modul 2\n",
    "\n",
    "## Datenanalyse mit *xarray*\n",
    "\n",
    "*Bemerkung*: Die hier bearbeiteten Daten wurden verkleinert, um nicht unnötig Speicherplatz zu verbrauchen."
   ]
  },
  {
   "cell_type": "code",
   "execution_count": 1,
   "id": "resistant-corporation",
   "metadata": {},
   "outputs": [],
   "source": [
    "import xarray as xr\n",
    "import numpy as np\n",
    "import cartopy.crs as ccrs\n",
    "import matplotlib.pyplot as plt"
   ]
  },
  {
   "cell_type": "markdown",
   "id": "patient-croatia",
   "metadata": {},
   "source": [
    "## Übung 1\n",
    "\n",
    "Diese Fragen beruhen alle auf dem Datensatz der Meeresoberflächentemperatur des Jahres 2019 (Datei: *data/HadISST1_SST_update.nc*).\n",
    "\n",
    "- **Aufgabe 1**: Was ist die weltweit maximale und minimale Meeresoberflächentemperatur für das Jahr 2019?\n",
    "\n",
    "- **Aufgabe 2**: Zeige die Jahreslinie der Meeresoberflächentemperatur für eine Geoposition, die nahe an Hawaii (USA) liegt. Was war dort die durchschnittliche Meeresoberflächentemperatur für das Jahr 2019?\n"
   ]
  },
  {
   "cell_type": "code",
   "execution_count": 1,
   "id": "southeast-wholesale",
   "metadata": {},
   "outputs": [],
   "source": [
    "# Aufgabe 1"
   ]
  },
  {
   "cell_type": "code",
   "execution_count": 2,
   "id": "posted-california",
   "metadata": {
    "scrolled": false
   },
   "outputs": [],
   "source": [
    "# Aufgabe 2"
   ]
  },
  {
   "cell_type": "markdown",
   "id": "graphic-testing",
   "metadata": {},
   "source": [
    "## Übung 2\n",
    "\n",
    "In dieser Übung wird ein Datensatz zu Bodenfeuchte verwendet [Datensatz ESSMRA](https://cds.climate.copernicus.eu/cdsapp#!/dataset/satellite-soil-moisture?tab=form). Für das Jahr 2013 sind die Dateien in einem Unterordner gespeichert (z.B., *data/SSMT/SSMT_yyyymmdd.nc*).\n",
    "\n",
    "\n",
    "- **Aufgabe 1**: Bilde den globalen Unterschied der Bodenfeuchte zwischen April und Oktober 2013 ab.\n",
    "\n",
    "- **Aufgabe 2**: Berechne den Durchschnitt über alle Werte im Längengrad und bilde diesen Durchschnitt über den Breitengrad für beide Monate ab.\n",
    "\n",
    "- **Aufgabe 3**: Füge die Daten aller 12 Monate des Jahres 2013 zusammen, und speichere diesen als eine Datei ab.\n"
   ]
  },
  {
   "cell_type": "code",
   "execution_count": 3,
   "id": "marked-binding",
   "metadata": {},
   "outputs": [],
   "source": [
    "# Aufgabe 1"
   ]
  },
  {
   "cell_type": "code",
   "execution_count": 4,
   "id": "assisted-lightweight",
   "metadata": {
    "scrolled": true
   },
   "outputs": [],
   "source": [
    "# Aufgabe 2"
   ]
  },
  {
   "cell_type": "code",
   "execution_count": 5,
   "id": "peripheral-mailing",
   "metadata": {},
   "outputs": [],
   "source": [
    "# Aufgabe 3"
   ]
  }
 ],
 "metadata": {
  "kernelspec": {
   "display_name": "Python 3",
   "language": "python",
   "name": "python3"
  },
  "language_info": {
   "codemirror_mode": {
    "name": "ipython",
    "version": 3
   },
   "file_extension": ".py",
   "mimetype": "text/x-python",
   "name": "python",
   "nbconvert_exporter": "python",
   "pygments_lexer": "ipython3",
   "version": "3.7.10"
  },
  "toc": {
   "base_numbering": 1,
   "nav_menu": {},
   "number_sections": false,
   "sideBar": true,
   "skip_h1_title": false,
   "title_cell": "Table of Contents",
   "title_sidebar": "Contents",
   "toc_cell": false,
   "toc_position": {},
   "toc_section_display": true,
   "toc_window_display": true
  }
 },
 "nbformat": 4,
 "nbformat_minor": 5
}
