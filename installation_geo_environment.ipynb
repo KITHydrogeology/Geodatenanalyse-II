{
 "cells": [
  {
   "cell_type": "markdown",
   "metadata": {
    "slideshow": {
     "slide_type": "slide"
    }
   },
   "source": [
    "# Geodatenanalyse 1 - Installation der Analyseumgebung"
   ]
  },
  {
   "cell_type": "markdown",
   "metadata": {},
   "source": [
    "## Anaconda herunterladen\n",
    "\n",
    "Bitte [Anaconda downloaden](https://www.anaconda.com/products/individual)\n",
    "\n",
    "<img src=\"images/download.png\" alt=\"drawing\" width=\"500\"/>\n",
    "\n",
    "Bitte hier für das jeweilige System die Installationsdatei herunterladen.\n"
   ]
  },
  {
   "cell_type": "markdown",
   "metadata": {},
   "source": [
    "## Anaconda installieren\n",
    "\n",
    "### Windows\n",
    "\n",
    "*ACHTUNG*: Bitte den von Anaconda vorgeschlagenen Installationspfad nicht verändern!\n",
    "\n",
    "<img src=\"images/install_path.png\" alt=\"drawing\" width=\"400\"/>\n",
    "\n",
    "### MacOS / Linux\n",
    "\n",
    "Bitte ganz normal installieren"
   ]
  },
  {
   "cell_type": "markdown",
   "metadata": {},
   "source": [
    "## Kursmaterial herunterladen und lokal dekomprimieren\n",
    "\n",
    "Bitte das Archiv des [Kursmaterials Geodatenanalyse 1](https://github.com/KIT-IngGeo/Geodatenanalyse) von GitHub als ZIP-Datei herunterladen \n",
    "\n",
    "<img src=\"images/github_ZIP.png\" alt=\"drawing\" width=\"800\"/>\n",
    "\n",
    "Die herunter geladene ZIP-Datei kann jetzt lokal in einem beliebigen Order (<span style=\"color:red\">#PFAD#</span>, unter Windows z.B. C:\\Geodatenanalyse 1\\\\) dekomprimiert weren"
   ]
  },
  {
   "cell_type": "markdown",
   "metadata": {},
   "source": [
    "## Einmalige Erstellung der Entwicklungsumgebung\n",
    "\n",
    "Die Konfigurationsdatei für die Analyseumgebung (Python 3.7) ist im Kursmaterial enthalten. Sie wurde beim letzten Schritt als Datei **geodatenanalyse.yml** in den <span style=\"color:red\">#PFAD#</span> dekomptimiert abgelegt.\n",
    "\n",
    "**Achtung**: Der Einrichtungsprozess kann eine Weile dauern!"
   ]
  },
  {
   "cell_type": "markdown",
   "metadata": {},
   "source": [
    "#### Windows\n",
    "\n",
    "1 - Den <span style=\"color:red\">#PFAD#</span> im Dateimanager in die Zwischenablage kopieren\n",
    "\n",
    "2 - Das Programm *Anaconda Prompt* öffnen\n",
    "\n",
    "3 - Folgendes in *Anaconda Prompt* eingeben und Enter drücken:\n",
    "\n",
    "``cd #PFAD#`` \n",
    "\n",
    "(schreibe 'cd ', dann Rechtsklick einfügen)\n",
    "\n",
    "4 - Folgendes in *Anaconda Prompt* eingeben und Enter drücken:\n",
    "\n",
    "``conda env create -f geodatenanalyse.yml python=3.7``\n",
    "\n",
    "Jetzt wird die Umgebung eingerichtet."
   ]
  },
  {
   "cell_type": "markdown",
   "metadata": {},
   "source": [
    "#### McOS\n",
    "\n",
    "1 - Das Programm *Shell command* öffnen\n",
    "\n",
    "2 - Zum Archiv navigieren:\n",
    "\n",
    "``cd #PFAD#``\n",
    "\n",
    "3 - Umgebung installieren:\n",
    "\n",
    "``conda env create -f geodatenanalyse.yml python=3.7``\n",
    "\n",
    "4 - Ausführungsrechte für den Notebook-Starter:\n",
    "\n",
    "``chmod +x start_geo_MAC.sh``\n",
    "\n",
    "Jetzt wird die Umgebung eingerichtet."
   ]
  },
  {
   "cell_type": "markdown",
   "metadata": {},
   "source": [
    "#### Linux\n",
    "\n",
    "1 - *Terminal* öffnen\n",
    "\n",
    "2 - Zum Archiv navigieren:\n",
    "\n",
    "``cd #PFAD#``\n",
    "\n",
    "3 - Umgebung installieren:\n",
    "\n",
    "``conda env create -f geodatenanalyse.yml python=3.7``\n",
    "\n",
    "4 - Ausführungsrechte für den Notebook-Starter:\n",
    "\n",
    "``chmod +x start_geo_LINUX.sh``\n",
    "\n",
    "Jetzt wird die Umgebung eingerichtet."
   ]
  },
  {
   "cell_type": "markdown",
   "metadata": {},
   "source": [
    "\n",
    "### Verwendung der Analyseumgebung"
   ]
  },
  {
   "cell_type": "markdown",
   "metadata": {},
   "source": [
    "#### Windows\n",
    "\n",
    "Die Analyseumgebung kann nun für jede Sesson durch Doppelklick auf die Batch-Datei **start_geo_WINDOWS.bat** geöffnet werden.\n",
    "\n",
    "Diese Aktion sollte das Browser-Fenster mit den Kursmaterialien öffnen.\n",
    "\n",
    "Sollte diese Datei einen Fehler anzeigen, dann wurde der nstallationspfad geändert und muss zu den Umgebungsvariablen in Windows hinzugefügt werden."
   ]
  },
  {
   "cell_type": "markdown",
   "metadata": {},
   "source": [
    "#### MacOS\n",
    "\n",
    "Die Analyseumgebung kann nun durch Aufruf der Bash-Datei im *Shell command* gestartet werden:\n",
    "\n",
    "``./start_geo_MAC.sh``"
   ]
  },
  {
   "cell_type": "markdown",
   "metadata": {},
   "source": [
    "#### Linux\n",
    "\n",
    "Die Analyseumgebung kann nun durch Aufruf der Bash-Datei im *Terminal* gestartet werden:\n",
    "\n",
    "``./start_geo_LINUX.sh``"
   ]
  },
  {
   "cell_type": "markdown",
   "metadata": {},
   "source": [
    "## Anleitung zur manuellen Erstellung der Umgebung\n",
    "\n",
    "**ACHTUNG**: Bitte diese Anleitung nur ausführen, wenn die automatische Einrichtung nicht klappt!"
   ]
  },
  {
   "cell_type": "markdown",
   "metadata": {},
   "source": [
    "### Windows\n",
    "\n",
    "Das Programm *Anaconda Prompt* öffnen\n",
    "\n",
    "### Linux/MacOS\n",
    "\n",
    "Ein beliebiges Terminal aufmachen\n"
   ]
  },
  {
   "cell_type": "markdown",
   "metadata": {},
   "source": [
    "### Für alle Betriebssysteme\n",
    "\n",
    "1 - Eine neue Umgebung namens \"geo\" erstellen:\n",
    "\n",
    "``conda create -n geo python=3.7``\n",
    "\n",
    "2 - Activate the new environment:\n",
    "\n",
    "``conda activate geo``\n",
    "\n",
    "3a - Pakete installieren:\n",
    "\n",
    "``conda install -c anaconda xlrd openpyxl ipykernel mpmath sympy xarray netcdf4 seaborn``\n",
    "\n",
    "3b - Weitere Pakete installieren:\n",
    "\n",
    "``conda install -c conda-forge shapely cartopy descartes contextily salib pykrige ruptures geopandas jupyterlab``\n",
    "\n",
    "3c - Pakete über pip installieren:\n",
    "\n",
    "``pip install scikit-gstat``\n",
    "\n",
    "5 - Add the user to the kernel:\n",
    "\n",
    "``python -m ipykernel install --user``"
   ]
  },
  {
   "cell_type": "markdown",
   "metadata": {},
   "source": [
    "## Umgebung testen\n",
    "\n",
    "Ein Test, ob vor allem *GeoPandas* funktioniert:"
   ]
  },
  {
   "cell_type": "code",
   "execution_count": 1,
   "metadata": {},
   "outputs": [
    {
     "data": {
      "text/plain": [
       "'3010400'"
      ]
     },
     "execution_count": 1,
     "metadata": {},
     "output_type": "execute_result"
    }
   ],
   "source": [
    "from osgeo import gdal, ogr, osr\n",
    "from fiona.ogrext import Iterator, ItemsIterator, KeysIterator\n",
    "from geopandas import GeoDataFrame\n",
    "gdal.VersionInfo()"
   ]
  },
  {
   "cell_type": "markdown",
   "metadata": {},
   "source": [
    "Wenn dieser Test keine Fehlermeldung anzeigt, dann ist alles in Ordunug!"
   ]
  },
  {
   "cell_type": "markdown",
   "metadata": {},
   "source": [
    "### Manueller Aufruf von *Jupyter*\n",
    "\n",
    "Beim Aufruf von *Jupyter* müssen nun folgende Schritte durchgeführt werden:\n",
    "\n",
    "1 - ``conda activate geo``\n",
    "\n",
    "2 - ``jupyter notebook --notebook-dir=\"#PFAD#\"``\n"
   ]
  },
  {
   "cell_type": "markdown",
   "metadata": {},
   "source": [
    "## Anaconda FAQ\n",
    "\n",
    "[Hier können Probleme gelöst werden](https://docs.anaconda.com/anaconda/user-guide/faq/)"
   ]
  },
  {
   "cell_type": "markdown",
   "metadata": {},
   "source": [
    "## ENDE"
   ]
  }
 ],
 "metadata": {
  "celltoolbar": "Slideshow",
  "kernelspec": {
   "display_name": "Python 3",
   "language": "python",
   "name": "python3"
  },
  "language_info": {
   "codemirror_mode": {
    "name": "ipython",
    "version": 3
   },
   "file_extension": ".py",
   "mimetype": "text/x-python",
   "name": "python",
   "nbconvert_exporter": "python",
   "pygments_lexer": "ipython3",
   "version": "3.7.10"
  }
 },
 "nbformat": 4,
 "nbformat_minor": 4
}
