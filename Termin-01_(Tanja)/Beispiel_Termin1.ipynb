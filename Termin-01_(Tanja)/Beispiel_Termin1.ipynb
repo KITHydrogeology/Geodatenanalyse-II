{
 "cells": [
  {
   "cell_type": "markdown",
   "id": "f37eaffd",
   "metadata": {},
   "source": [
    "# Geodatenanalyse 2: Termin 2 - Datenaufbereitung"
   ]
  },
  {
   "cell_type": "markdown",
   "id": "75090b68",
   "metadata": {},
   "source": [
    "### Aufbau:\n",
    "- Importieren von Daten\n",
    "- Zusammenführen und Filtern der Datensätze\n",
    "\n",
    "Datenaufbereitung:\n",
    "\n",
    "- Ersetzen von Werten unterhalb der Nachweisgrenze\n",
    "- Ersetzen von kategorischen und numerischen *NaN* Einträgen\n",
    "- Aufteilen in Test- und Train-Split\n",
    "- Skalieren ( Normieren/Standardisieren)\n",
    "- Encodieren (Binär/One Hot/Target)\n",
    "- Speichern der Daten\n",
    "- Übungsaufgabe"
   ]
  },
  {
   "cell_type": "markdown",
   "id": "95091cd3",
   "metadata": {},
   "source": [
    "#### Laden der Bibliotheken"
   ]
  },
  {
   "cell_type": "code",
   "execution_count": 1,
   "id": "d3cc034e",
   "metadata": {},
   "outputs": [],
   "source": [
    "# Basic packages\n",
    "import pandas as pd\n",
    "import numpy as np\n",
    "import matplotlib.pyplot as plt"
   ]
  },
  {
   "cell_type": "markdown",
   "id": "22fd8b70",
   "metadata": {},
   "source": [
    "# 1. Importieren der Daten"
   ]
  },
  {
   "cell_type": "markdown",
   "id": "bceb7ac7",
   "metadata": {},
   "source": [
    "ZweiWir verwenden zwei Datensätze\n",
    "- Nitratdatensatz\n",
    "- Corine Landnutzung für die Messstellen\n",
    "\n",
    "Importieren mit der Funktion <span style=\"color:blue\">**pandas.read_csv**</span> &rarr; [Hilfe](https://pandas.pydata.org/docs/reference/api/pandas.read_csv.html)\n",
    "\n",
    "### Nitratdatensatz:"
   ]
  },
  {
   "cell_type": "code",
   "execution_count": 2,
   "id": "91f2e7cf",
   "metadata": {},
   "outputs": [
    {
     "data": {
      "text/html": [
       "<div>\n",
       "<style scoped>\n",
       "    .dataframe tbody tr th:only-of-type {\n",
       "        vertical-align: middle;\n",
       "    }\n",
       "\n",
       "    .dataframe tbody tr th {\n",
       "        vertical-align: top;\n",
       "    }\n",
       "\n",
       "    .dataframe thead th {\n",
       "        text-align: right;\n",
       "    }\n",
       "</style>\n",
       "<table border=\"1\" class=\"dataframe\">\n",
       "  <thead>\n",
       "    <tr style=\"text-align: right;\">\n",
       "      <th></th>\n",
       "      <th>GW-Nummer</th>\n",
       "      <th>Messstelle</th>\n",
       "      <th>Datum</th>\n",
       "      <th>NO3 [mg/l]</th>\n",
       "      <th>pH [ -]</th>\n",
       "      <th>O2 [mg/l]</th>\n",
       "      <th>O2-Sätt [%]</th>\n",
       "      <th>T [°C]</th>\n",
       "      <th>RECHTSWERT</th>\n",
       "      <th>HOCHWERT</th>\n",
       "      <th>HYDROGEOLE</th>\n",
       "      <th>AQUIFER</th>\n",
       "      <th>HYDROGEOL3</th>\n",
       "    </tr>\n",
       "  </thead>\n",
       "  <tbody>\n",
       "    <tr>\n",
       "      <th>0</th>\n",
       "      <td>918/069-2</td>\n",
       "      <td>BBR Betonwerk, Umkirch</td>\n",
       "      <td>11.10.2006 15:20</td>\n",
       "      <td>9,4</td>\n",
       "      <td>6,45</td>\n",
       "      <td>2,4</td>\n",
       "      <td>23,3</td>\n",
       "      <td>14,0</td>\n",
       "      <td>3407870</td>\n",
       "      <td>5323120</td>\n",
       "      <td>3.0</td>\n",
       "      <td>QUARTÄR EISZEITL.KIESE+SANDE (OBERRHEINGRABEN)</td>\n",
       "      <td>Quartäre Kiese und Sande (GWL)</td>\n",
       "    </tr>\n",
       "    <tr>\n",
       "      <th>1</th>\n",
       "      <td>918/069-2</td>\n",
       "      <td>BBR Betonwerk, Umkirch</td>\n",
       "      <td>17.09.2007 14:20</td>\n",
       "      <td>12</td>\n",
       "      <td>6,39</td>\n",
       "      <td>2,1</td>\n",
       "      <td>25,0</td>\n",
       "      <td>21,8</td>\n",
       "      <td>3407870</td>\n",
       "      <td>5323120</td>\n",
       "      <td>3.0</td>\n",
       "      <td>QUARTÄR EISZEITL.KIESE+SANDE (OBERRHEINGRABEN)</td>\n",
       "      <td>Quartäre Kiese und Sande (GWL)</td>\n",
       "    </tr>\n",
       "    <tr>\n",
       "      <th>2</th>\n",
       "      <td>918/069-2</td>\n",
       "      <td>BBR Betonwerk, Umkirch</td>\n",
       "      <td>23.09.2008 08:05</td>\n",
       "      <td>7,6</td>\n",
       "      <td>6,58</td>\n",
       "      <td>2,5</td>\n",
       "      <td>23,0</td>\n",
       "      <td>NaN</td>\n",
       "      <td>3407870</td>\n",
       "      <td>5323120</td>\n",
       "      <td>3.0</td>\n",
       "      <td>QUARTÄR EISZEITL.KIESE+SANDE (OBERRHEINGRABEN)</td>\n",
       "      <td>Quartäre Kiese und Sande (GWL)</td>\n",
       "    </tr>\n",
       "    <tr>\n",
       "      <th>3</th>\n",
       "      <td>918/069-2</td>\n",
       "      <td>BBR Betonwerk, Umkirch</td>\n",
       "      <td>10.11.2008 09:10</td>\n",
       "      <td>12,2</td>\n",
       "      <td>6,54</td>\n",
       "      <td>1,2</td>\n",
       "      <td>12,0</td>\n",
       "      <td>15,4</td>\n",
       "      <td>3407870</td>\n",
       "      <td>5323120</td>\n",
       "      <td>3.0</td>\n",
       "      <td>QUARTÄR EISZEITL.KIESE+SANDE (OBERRHEINGRABEN)</td>\n",
       "      <td>Quartäre Kiese und Sande (GWL)</td>\n",
       "    </tr>\n",
       "    <tr>\n",
       "      <th>4</th>\n",
       "      <td>918/069-2</td>\n",
       "      <td>BBR Betonwerk, Umkirch</td>\n",
       "      <td>09.09.2009 14:08</td>\n",
       "      <td>12</td>\n",
       "      <td>6,46</td>\n",
       "      <td>1,3</td>\n",
       "      <td>14,0</td>\n",
       "      <td>20,0</td>\n",
       "      <td>3407870</td>\n",
       "      <td>5323120</td>\n",
       "      <td>3.0</td>\n",
       "      <td>QUARTÄR EISZEITL.KIESE+SANDE (OBERRHEINGRABEN)</td>\n",
       "      <td>Quartäre Kiese und Sande (GWL)</td>\n",
       "    </tr>\n",
       "  </tbody>\n",
       "</table>\n",
       "</div>"
      ],
      "text/plain": [
       "   GW-Nummer              Messstelle             Datum NO3 [mg/l] pH [ -]  \\\n",
       "0  918/069-2  BBR Betonwerk, Umkirch  11.10.2006 15:20        9,4    6,45   \n",
       "1  918/069-2  BBR Betonwerk, Umkirch  17.09.2007 14:20         12    6,39   \n",
       "2  918/069-2  BBR Betonwerk, Umkirch  23.09.2008 08:05        7,6    6,58   \n",
       "3  918/069-2  BBR Betonwerk, Umkirch  10.11.2008 09:10       12,2    6,54   \n",
       "4  918/069-2  BBR Betonwerk, Umkirch  09.09.2009 14:08         12    6,46   \n",
       "\n",
       "  O2 [mg/l] O2-Sätt [%] T [°C]  RECHTSWERT  HOCHWERT  HYDROGEOLE  \\\n",
       "0       2,4        23,3   14,0     3407870   5323120         3.0   \n",
       "1       2,1        25,0   21,8     3407870   5323120         3.0   \n",
       "2       2,5        23,0    NaN     3407870   5323120         3.0   \n",
       "3       1,2        12,0   15,4     3407870   5323120         3.0   \n",
       "4       1,3        14,0   20,0     3407870   5323120         3.0   \n",
       "\n",
       "                                          AQUIFER  \\\n",
       "0  QUARTÄR EISZEITL.KIESE+SANDE (OBERRHEINGRABEN)   \n",
       "1  QUARTÄR EISZEITL.KIESE+SANDE (OBERRHEINGRABEN)   \n",
       "2  QUARTÄR EISZEITL.KIESE+SANDE (OBERRHEINGRABEN)   \n",
       "3  QUARTÄR EISZEITL.KIESE+SANDE (OBERRHEINGRABEN)   \n",
       "4  QUARTÄR EISZEITL.KIESE+SANDE (OBERRHEINGRABEN)   \n",
       "\n",
       "                       HYDROGEOL3  \n",
       "0  Quartäre Kiese und Sande (GWL)  \n",
       "1  Quartäre Kiese und Sande (GWL)  \n",
       "2  Quartäre Kiese und Sande (GWL)  \n",
       "3  Quartäre Kiese und Sande (GWL)  \n",
       "4  Quartäre Kiese und Sande (GWL)  "
      ]
     },
     "execution_count": 2,
     "metadata": {},
     "output_type": "execute_result"
    }
   ],
   "source": [
    "data1 = pd.read_csv('Nitratmessungen.csv', sep=',', encoding=\"utf-8\", index_col=0)\n",
    "data1.head()"
   ]
  },
  {
   "cell_type": "code",
   "execution_count": 3,
   "id": "d9cf907b",
   "metadata": {},
   "outputs": [
    {
     "data": {
      "text/plain": [
       "GW-Nummer       object\n",
       "Messstelle      object\n",
       "Datum           object\n",
       "NO3 [mg/l]      object\n",
       "pH [ -]         object\n",
       "O2 [mg/l]       object\n",
       "O2-Sätt [%]     object\n",
       "T [°C]          object\n",
       "RECHTSWERT       int64\n",
       "HOCHWERT         int64\n",
       "HYDROGEOLE     float64\n",
       "AQUIFER         object\n",
       "HYDROGEOL3      object\n",
       "dtype: object"
      ]
     },
     "execution_count": 3,
     "metadata": {},
     "output_type": "execute_result"
    }
   ],
   "source": [
    "data1.dtypes"
   ]
  },
  {
   "cell_type": "markdown",
   "id": "8616715c",
   "metadata": {},
   "source": [
    "### Corine Landnutzung für Messstellen:"
   ]
  },
  {
   "cell_type": "code",
   "execution_count": 4,
   "id": "92ebaaaf",
   "metadata": {},
   "outputs": [
    {
     "data": {
      "text/html": [
       "<div>\n",
       "<style scoped>\n",
       "    .dataframe tbody tr th:only-of-type {\n",
       "        vertical-align: middle;\n",
       "    }\n",
       "\n",
       "    .dataframe tbody tr th {\n",
       "        vertical-align: top;\n",
       "    }\n",
       "\n",
       "    .dataframe thead th {\n",
       "        text-align: right;\n",
       "    }\n",
       "</style>\n",
       "<table border=\"1\" class=\"dataframe\">\n",
       "  <thead>\n",
       "    <tr style=\"text-align: right;\">\n",
       "      <th></th>\n",
       "      <th>GW_NUMMER</th>\n",
       "      <th>NAME</th>\n",
       "      <th>RECHTSWERT</th>\n",
       "      <th>HOCHWERT</th>\n",
       "      <th>GEMEINDE_K</th>\n",
       "      <th>AQUIFER_KZ</th>\n",
       "      <th>EINZUGSGEB</th>\n",
       "      <th>HYDROGEOLE</th>\n",
       "      <th>HYDROGEOL2</th>\n",
       "      <th>MESSNETZ1_</th>\n",
       "      <th>MESSNETZ2_</th>\n",
       "      <th>GEMEINDE</th>\n",
       "      <th>AQUIFER</th>\n",
       "      <th>EINZUGSGE2</th>\n",
       "      <th>HYDROGEOL3</th>\n",
       "      <th>MESSNETZ1</th>\n",
       "      <th>MESSNETZ2</th>\n",
       "      <th>RASTERVALU</th>\n",
       "    </tr>\n",
       "    <tr>\n",
       "      <th>FID</th>\n",
       "      <th></th>\n",
       "      <th></th>\n",
       "      <th></th>\n",
       "      <th></th>\n",
       "      <th></th>\n",
       "      <th></th>\n",
       "      <th></th>\n",
       "      <th></th>\n",
       "      <th></th>\n",
       "      <th></th>\n",
       "      <th></th>\n",
       "      <th></th>\n",
       "      <th></th>\n",
       "      <th></th>\n",
       "      <th></th>\n",
       "      <th></th>\n",
       "      <th></th>\n",
       "      <th></th>\n",
       "    </tr>\n",
       "  </thead>\n",
       "  <tbody>\n",
       "    <tr>\n",
       "      <th>0</th>\n",
       "      <td>1/022-9</td>\n",
       "      <td>QSS HERTINGERQU.1+2, KANDERN</td>\n",
       "      <td>3395475.0</td>\n",
       "      <td>5288420.0</td>\n",
       "      <td>8336104.0</td>\n",
       "      <td>31.0</td>\n",
       "      <td>2.333220e+09</td>\n",
       "      <td>11.0</td>\n",
       "      <td>2.0</td>\n",
       "      <td></td>\n",
       "      <td></td>\n",
       "      <td>MALSBURG-MARZELL</td>\n",
       "      <td>MALM WEIßJURA (SCHWÄBISCHE ALB)</td>\n",
       "      <td>Engebach</td>\n",
       "      <td>Oberjura (Raurasische Fazies) (GWL)</td>\n",
       "      <td>#800000000010</td>\n",
       "      <td>#800000000002</td>\n",
       "      <td>311</td>\n",
       "    </tr>\n",
       "    <tr>\n",
       "      <th>1</th>\n",
       "      <td>1/117-3</td>\n",
       "      <td>QF KREBSBRUNNENQ., ETTENHEIM</td>\n",
       "      <td>3419400.0</td>\n",
       "      <td>5345550.0</td>\n",
       "      <td>8317026.0</td>\n",
       "      <td>81.0</td>\n",
       "      <td>2.338940e+09</td>\n",
       "      <td>45.0</td>\n",
       "      <td>69.0</td>\n",
       "      <td></td>\n",
       "      <td></td>\n",
       "      <td>ETTENHEIM, STADT</td>\n",
       "      <td>BUNTSANDSTEIN</td>\n",
       "      <td>Ettenbach</td>\n",
       "      <td>Unterer und Mittlerer Buntsandstein (GWL)</td>\n",
       "      <td>#800000000010</td>\n",
       "      <td>#800000000002</td>\n",
       "      <td>311</td>\n",
       "    </tr>\n",
       "    <tr>\n",
       "      <th>2</th>\n",
       "      <td>1/119-9</td>\n",
       "      <td>TB SCHLAGBR.4, VOERSTETTEN</td>\n",
       "      <td>3414860.0</td>\n",
       "      <td>5325450.0</td>\n",
       "      <td>8316045.0</td>\n",
       "      <td>4.0</td>\n",
       "      <td>2.338892e+09</td>\n",
       "      <td>3.0</td>\n",
       "      <td>8.0</td>\n",
       "      <td></td>\n",
       "      <td></td>\n",
       "      <td>VÖRSTETTEN</td>\n",
       "      <td>QUARTÄR EISZEITL.KIESE+SANDE (OBERRHEINGRABEN)</td>\n",
       "      <td>Schobbach</td>\n",
       "      <td>Quartäre Kiese und Sande (GWL)</td>\n",
       "      <td>#800000000012</td>\n",
       "      <td></td>\n",
       "      <td>211</td>\n",
       "    </tr>\n",
       "    <tr>\n",
       "      <th>3</th>\n",
       "      <td>1/120-8</td>\n",
       "      <td>QF2 KLEISLEWALDQ., ZASTLER</td>\n",
       "      <td>3423200.0</td>\n",
       "      <td>5309100.0</td>\n",
       "      <td>8315084.0</td>\n",
       "      <td>91.0</td>\n",
       "      <td>2.338830e+09</td>\n",
       "      <td>50.0</td>\n",
       "      <td>18.0</td>\n",
       "      <td></td>\n",
       "      <td></td>\n",
       "      <td>OBERRIED</td>\n",
       "      <td>KRISTALLIN (SCHWARZWALD)</td>\n",
       "      <td>Dreisam unterh. Wagensteigbach oberh. Brugga</td>\n",
       "      <td>Paläozoikum, Kristallin (GWG)</td>\n",
       "      <td>#800000000010</td>\n",
       "      <td>#800000000002</td>\n",
       "      <td>312</td>\n",
       "    </tr>\n",
       "    <tr>\n",
       "      <th>4</th>\n",
       "      <td>1/121-0</td>\n",
       "      <td>Q STOLLENQUELLE HINTERES ELEND, MÜNSTERTAL</td>\n",
       "      <td>3413785.0</td>\n",
       "      <td>5303338.0</td>\n",
       "      <td>8315130.0</td>\n",
       "      <td>91.0</td>\n",
       "      <td>2.336410e+09</td>\n",
       "      <td>50.0</td>\n",
       "      <td>18.0</td>\n",
       "      <td></td>\n",
       "      <td></td>\n",
       "      <td>MÜNSTERTAL/ SCHWARZWALD</td>\n",
       "      <td>KRISTALLIN (SCHWARZWALD)</td>\n",
       "      <td>Neumagen oberhalb von Talbach</td>\n",
       "      <td>Paläozoikum, Kristallin (GWG)</td>\n",
       "      <td>#800000000010</td>\n",
       "      <td>#800000000002</td>\n",
       "      <td>231</td>\n",
       "    </tr>\n",
       "  </tbody>\n",
       "</table>\n",
       "</div>"
      ],
      "text/plain": [
       "    GW_NUMMER                                        NAME  RECHTSWERT  \\\n",
       "FID                                                                     \n",
       "0     1/022-9                QSS HERTINGERQU.1+2, KANDERN   3395475.0   \n",
       "1     1/117-3                QF KREBSBRUNNENQ., ETTENHEIM   3419400.0   \n",
       "2     1/119-9                  TB SCHLAGBR.4, VOERSTETTEN   3414860.0   \n",
       "3     1/120-8                  QF2 KLEISLEWALDQ., ZASTLER   3423200.0   \n",
       "4     1/121-0  Q STOLLENQUELLE HINTERES ELEND, MÜNSTERTAL   3413785.0   \n",
       "\n",
       "      HOCHWERT  GEMEINDE_K  AQUIFER_KZ    EINZUGSGEB  HYDROGEOLE  HYDROGEOL2  \\\n",
       "FID                                                                            \n",
       "0    5288420.0   8336104.0        31.0  2.333220e+09        11.0         2.0   \n",
       "1    5345550.0   8317026.0        81.0  2.338940e+09        45.0        69.0   \n",
       "2    5325450.0   8316045.0         4.0  2.338892e+09         3.0         8.0   \n",
       "3    5309100.0   8315084.0        91.0  2.338830e+09        50.0        18.0   \n",
       "4    5303338.0   8315130.0        91.0  2.336410e+09        50.0        18.0   \n",
       "\n",
       "    MESSNETZ1_ MESSNETZ2_                 GEMEINDE  \\\n",
       "FID                                                  \n",
       "0                                 MALSBURG-MARZELL   \n",
       "1                                 ETTENHEIM, STADT   \n",
       "2                                       VÖRSTETTEN   \n",
       "3                                         OBERRIED   \n",
       "4                          MÜNSTERTAL/ SCHWARZWALD   \n",
       "\n",
       "                                            AQUIFER  \\\n",
       "FID                                                   \n",
       "0                   MALM WEIßJURA (SCHWÄBISCHE ALB)   \n",
       "1                                     BUNTSANDSTEIN   \n",
       "2    QUARTÄR EISZEITL.KIESE+SANDE (OBERRHEINGRABEN)   \n",
       "3                          KRISTALLIN (SCHWARZWALD)   \n",
       "4                          KRISTALLIN (SCHWARZWALD)   \n",
       "\n",
       "                                       EINZUGSGE2  \\\n",
       "FID                                                 \n",
       "0                                        Engebach   \n",
       "1                                       Ettenbach   \n",
       "2                                       Schobbach   \n",
       "3    Dreisam unterh. Wagensteigbach oberh. Brugga   \n",
       "4                   Neumagen oberhalb von Talbach   \n",
       "\n",
       "                                    HYDROGEOL3      MESSNETZ1      MESSNETZ2  \\\n",
       "FID                                                                            \n",
       "0          Oberjura (Raurasische Fazies) (GWL)  #800000000010  #800000000002   \n",
       "1    Unterer und Mittlerer Buntsandstein (GWL)  #800000000010  #800000000002   \n",
       "2               Quartäre Kiese und Sande (GWL)  #800000000012                  \n",
       "3                Paläozoikum, Kristallin (GWG)  #800000000010  #800000000002   \n",
       "4                Paläozoikum, Kristallin (GWG)  #800000000010  #800000000002   \n",
       "\n",
       "     RASTERVALU  \n",
       "FID              \n",
       "0           311  \n",
       "1           311  \n",
       "2           211  \n",
       "3           312  \n",
       "4           231  "
      ]
     },
     "execution_count": 4,
     "metadata": {},
     "output_type": "execute_result"
    }
   ],
   "source": [
    "data2 = pd.read_csv('Corinedaten.txt', sep=';',decimal=',',  encoding='utf-8', index_col=0)\n",
    "data2.head()"
   ]
  },
  {
   "cell_type": "code",
   "execution_count": 5,
   "id": "f75193e7",
   "metadata": {},
   "outputs": [
    {
     "data": {
      "text/plain": [
       "GW_NUMMER      object\n",
       "NAME           object\n",
       "RECHTSWERT    float64\n",
       "HOCHWERT      float64\n",
       "GEMEINDE_K    float64\n",
       "AQUIFER_KZ    float64\n",
       "EINZUGSGEB    float64\n",
       "HYDROGEOLE    float64\n",
       "HYDROGEOL2    float64\n",
       "MESSNETZ1_     object\n",
       "MESSNETZ2_     object\n",
       "GEMEINDE       object\n",
       "AQUIFER        object\n",
       "EINZUGSGE2     object\n",
       "HYDROGEOL3     object\n",
       "MESSNETZ1      object\n",
       "MESSNETZ2      object\n",
       "RASTERVALU      int64\n",
       "dtype: object"
      ]
     },
     "execution_count": 5,
     "metadata": {},
     "output_type": "execute_result"
    }
   ],
   "source": [
    "data2.dtypes"
   ]
  },
  {
   "cell_type": "markdown",
   "id": "81f5238b",
   "metadata": {},
   "source": [
    "## 2. Zusammenführen und Filtern der Datensätze"
   ]
  },
  {
   "cell_type": "markdown",
   "id": "5346c830",
   "metadata": {},
   "source": [
    "Zusammenführen der beiden Datensätze mit Hilfe der <span style=\"color:blue\">**.merge**</span>-Funktion für Pandas Dataframes. &rarr; [Hilfe](https://pandas.pydata.org/docs/reference/api/pandas.DataFrame.merge.html)\n",
    "- Gemeinsame Spalte für das Zusammenführen ist die **Grundwassernummer**.\n",
    "\n",
    "- Von dem zweiten Datensatz benötigen wir lediglich die Spalte **\"RASTERVALU\"**, diese enthält Daten zur Landnutzung von der Corine Landuse."
   ]
  },
  {
   "cell_type": "markdown",
   "id": "a7af2e13",
   "metadata": {},
   "source": [
    "### 2.1 Verknüpfen der Datensätze"
   ]
  },
  {
   "cell_type": "code",
   "execution_count": 6,
   "id": "8cf02a21",
   "metadata": {},
   "outputs": [
    {
     "data": {
      "text/html": [
       "<div>\n",
       "<style scoped>\n",
       "    .dataframe tbody tr th:only-of-type {\n",
       "        vertical-align: middle;\n",
       "    }\n",
       "\n",
       "    .dataframe tbody tr th {\n",
       "        vertical-align: top;\n",
       "    }\n",
       "\n",
       "    .dataframe thead th {\n",
       "        text-align: right;\n",
       "    }\n",
       "</style>\n",
       "<table border=\"1\" class=\"dataframe\">\n",
       "  <thead>\n",
       "    <tr style=\"text-align: right;\">\n",
       "      <th></th>\n",
       "      <th>GW-Nummer</th>\n",
       "      <th>Messstelle</th>\n",
       "      <th>Datum</th>\n",
       "      <th>NO3 [mg/l]</th>\n",
       "      <th>pH [ -]</th>\n",
       "      <th>O2 [mg/l]</th>\n",
       "      <th>O2-Sätt [%]</th>\n",
       "      <th>T [°C]</th>\n",
       "      <th>RECHTSWERT</th>\n",
       "      <th>HOCHWERT</th>\n",
       "      <th>HYDROGEOLE</th>\n",
       "      <th>AQUIFER</th>\n",
       "      <th>HYDROGEOL3</th>\n",
       "      <th>GW_NUMMER</th>\n",
       "      <th>RASTERVALU</th>\n",
       "    </tr>\n",
       "  </thead>\n",
       "  <tbody>\n",
       "    <tr>\n",
       "      <th>0</th>\n",
       "      <td>918/069-2</td>\n",
       "      <td>BBR Betonwerk, Umkirch</td>\n",
       "      <td>11.10.2006 15:20</td>\n",
       "      <td>9,4</td>\n",
       "      <td>6,45</td>\n",
       "      <td>2,4</td>\n",
       "      <td>23,3</td>\n",
       "      <td>14,0</td>\n",
       "      <td>3407870</td>\n",
       "      <td>5323120</td>\n",
       "      <td>3.0</td>\n",
       "      <td>QUARTÄR EISZEITL.KIESE+SANDE (OBERRHEINGRABEN)</td>\n",
       "      <td>Quartäre Kiese und Sande (GWL)</td>\n",
       "      <td>918/069-2</td>\n",
       "      <td>121</td>\n",
       "    </tr>\n",
       "    <tr>\n",
       "      <th>1</th>\n",
       "      <td>918/069-2</td>\n",
       "      <td>BBR Betonwerk, Umkirch</td>\n",
       "      <td>17.09.2007 14:20</td>\n",
       "      <td>12</td>\n",
       "      <td>6,39</td>\n",
       "      <td>2,1</td>\n",
       "      <td>25,0</td>\n",
       "      <td>21,8</td>\n",
       "      <td>3407870</td>\n",
       "      <td>5323120</td>\n",
       "      <td>3.0</td>\n",
       "      <td>QUARTÄR EISZEITL.KIESE+SANDE (OBERRHEINGRABEN)</td>\n",
       "      <td>Quartäre Kiese und Sande (GWL)</td>\n",
       "      <td>918/069-2</td>\n",
       "      <td>121</td>\n",
       "    </tr>\n",
       "    <tr>\n",
       "      <th>2</th>\n",
       "      <td>918/069-2</td>\n",
       "      <td>BBR Betonwerk, Umkirch</td>\n",
       "      <td>23.09.2008 08:05</td>\n",
       "      <td>7,6</td>\n",
       "      <td>6,58</td>\n",
       "      <td>2,5</td>\n",
       "      <td>23,0</td>\n",
       "      <td>NaN</td>\n",
       "      <td>3407870</td>\n",
       "      <td>5323120</td>\n",
       "      <td>3.0</td>\n",
       "      <td>QUARTÄR EISZEITL.KIESE+SANDE (OBERRHEINGRABEN)</td>\n",
       "      <td>Quartäre Kiese und Sande (GWL)</td>\n",
       "      <td>918/069-2</td>\n",
       "      <td>121</td>\n",
       "    </tr>\n",
       "    <tr>\n",
       "      <th>3</th>\n",
       "      <td>918/069-2</td>\n",
       "      <td>BBR Betonwerk, Umkirch</td>\n",
       "      <td>10.11.2008 09:10</td>\n",
       "      <td>12,2</td>\n",
       "      <td>6,54</td>\n",
       "      <td>1,2</td>\n",
       "      <td>12,0</td>\n",
       "      <td>15,4</td>\n",
       "      <td>3407870</td>\n",
       "      <td>5323120</td>\n",
       "      <td>3.0</td>\n",
       "      <td>QUARTÄR EISZEITL.KIESE+SANDE (OBERRHEINGRABEN)</td>\n",
       "      <td>Quartäre Kiese und Sande (GWL)</td>\n",
       "      <td>918/069-2</td>\n",
       "      <td>121</td>\n",
       "    </tr>\n",
       "    <tr>\n",
       "      <th>4</th>\n",
       "      <td>918/069-2</td>\n",
       "      <td>BBR Betonwerk, Umkirch</td>\n",
       "      <td>09.09.2009 14:08</td>\n",
       "      <td>12</td>\n",
       "      <td>6,46</td>\n",
       "      <td>1,3</td>\n",
       "      <td>14,0</td>\n",
       "      <td>20,0</td>\n",
       "      <td>3407870</td>\n",
       "      <td>5323120</td>\n",
       "      <td>3.0</td>\n",
       "      <td>QUARTÄR EISZEITL.KIESE+SANDE (OBERRHEINGRABEN)</td>\n",
       "      <td>Quartäre Kiese und Sande (GWL)</td>\n",
       "      <td>918/069-2</td>\n",
       "      <td>121</td>\n",
       "    </tr>\n",
       "  </tbody>\n",
       "</table>\n",
       "</div>"
      ],
      "text/plain": [
       "   GW-Nummer              Messstelle             Datum NO3 [mg/l] pH [ -]  \\\n",
       "0  918/069-2  BBR Betonwerk, Umkirch  11.10.2006 15:20        9,4    6,45   \n",
       "1  918/069-2  BBR Betonwerk, Umkirch  17.09.2007 14:20         12    6,39   \n",
       "2  918/069-2  BBR Betonwerk, Umkirch  23.09.2008 08:05        7,6    6,58   \n",
       "3  918/069-2  BBR Betonwerk, Umkirch  10.11.2008 09:10       12,2    6,54   \n",
       "4  918/069-2  BBR Betonwerk, Umkirch  09.09.2009 14:08         12    6,46   \n",
       "\n",
       "  O2 [mg/l] O2-Sätt [%] T [°C]  RECHTSWERT  HOCHWERT  HYDROGEOLE  \\\n",
       "0       2,4        23,3   14,0     3407870   5323120         3.0   \n",
       "1       2,1        25,0   21,8     3407870   5323120         3.0   \n",
       "2       2,5        23,0    NaN     3407870   5323120         3.0   \n",
       "3       1,2        12,0   15,4     3407870   5323120         3.0   \n",
       "4       1,3        14,0   20,0     3407870   5323120         3.0   \n",
       "\n",
       "                                          AQUIFER  \\\n",
       "0  QUARTÄR EISZEITL.KIESE+SANDE (OBERRHEINGRABEN)   \n",
       "1  QUARTÄR EISZEITL.KIESE+SANDE (OBERRHEINGRABEN)   \n",
       "2  QUARTÄR EISZEITL.KIESE+SANDE (OBERRHEINGRABEN)   \n",
       "3  QUARTÄR EISZEITL.KIESE+SANDE (OBERRHEINGRABEN)   \n",
       "4  QUARTÄR EISZEITL.KIESE+SANDE (OBERRHEINGRABEN)   \n",
       "\n",
       "                       HYDROGEOL3  GW_NUMMER  RASTERVALU  \n",
       "0  Quartäre Kiese und Sande (GWL)  918/069-2         121  \n",
       "1  Quartäre Kiese und Sande (GWL)  918/069-2         121  \n",
       "2  Quartäre Kiese und Sande (GWL)  918/069-2         121  \n",
       "3  Quartäre Kiese und Sande (GWL)  918/069-2         121  \n",
       "4  Quartäre Kiese und Sande (GWL)  918/069-2         121  "
      ]
     },
     "execution_count": 6,
     "metadata": {},
     "output_type": "execute_result"
    }
   ],
   "source": [
    "joined_data = data1.merge(data2[['GW_NUMMER','RASTERVALU']], how=\"inner\", left_on='GW-Nummer', right_on='GW_NUMMER')\n",
    "joined_data.head()"
   ]
  },
  {
   "cell_type": "code",
   "execution_count": 7,
   "id": "3955be57",
   "metadata": {},
   "outputs": [
    {
     "data": {
      "text/plain": [
       "GW-Nummer       object\n",
       "Messstelle      object\n",
       "Datum           object\n",
       "NO3 [mg/l]      object\n",
       "pH [ -]         object\n",
       "O2 [mg/l]       object\n",
       "O2-Sätt [%]     object\n",
       "T [°C]          object\n",
       "RECHTSWERT       int64\n",
       "HOCHWERT         int64\n",
       "HYDROGEOLE     float64\n",
       "AQUIFER         object\n",
       "HYDROGEOL3      object\n",
       "GW_NUMMER       object\n",
       "RASTERVALU       int64\n",
       "dtype: object"
      ]
     },
     "execution_count": 7,
     "metadata": {},
     "output_type": "execute_result"
    }
   ],
   "source": [
    "joined_data.dtypes"
   ]
  },
  {
   "cell_type": "markdown",
   "id": "315e813d",
   "metadata": {},
   "source": [
    "### 2.2 Filtern der Datensätze"
   ]
  },
  {
   "cell_type": "markdown",
   "id": "62f019b2",
   "metadata": {},
   "source": [
    "#### Für die weitere Verarbeitung benötigen wir nur noch die folgenden Spalten:\n",
    "- Messstelle\n",
    "- GW-Nummer \n",
    "- Datum\n",
    "- NO3\n",
    "- O2\n",
    "- Rastervalu = Corine Landcover\n",
    "- Hydrogeologie"
   ]
  },
  {
   "cell_type": "code",
   "execution_count": 8,
   "id": "6bbdac50",
   "metadata": {},
   "outputs": [
    {
     "data": {
      "text/html": [
       "<div>\n",
       "<style scoped>\n",
       "    .dataframe tbody tr th:only-of-type {\n",
       "        vertical-align: middle;\n",
       "    }\n",
       "\n",
       "    .dataframe tbody tr th {\n",
       "        vertical-align: top;\n",
       "    }\n",
       "\n",
       "    .dataframe thead th {\n",
       "        text-align: right;\n",
       "    }\n",
       "</style>\n",
       "<table border=\"1\" class=\"dataframe\">\n",
       "  <thead>\n",
       "    <tr style=\"text-align: right;\">\n",
       "      <th></th>\n",
       "      <th>Messstelle</th>\n",
       "      <th>GW-Nummer</th>\n",
       "      <th>Datum</th>\n",
       "      <th>NO3 [mg/l]</th>\n",
       "      <th>O2 [mg/l]</th>\n",
       "      <th>RASTERVALU</th>\n",
       "      <th>HYDROGEOL3</th>\n",
       "    </tr>\n",
       "  </thead>\n",
       "  <tbody>\n",
       "    <tr>\n",
       "      <th>0</th>\n",
       "      <td>BBR Betonwerk, Umkirch</td>\n",
       "      <td>918/069-2</td>\n",
       "      <td>2006-10-11 15:20:00</td>\n",
       "      <td>9,4</td>\n",
       "      <td>2,4</td>\n",
       "      <td>121</td>\n",
       "      <td>Quartäre Kiese und Sande (GWL)</td>\n",
       "    </tr>\n",
       "    <tr>\n",
       "      <th>1</th>\n",
       "      <td>BBR Betonwerk, Umkirch</td>\n",
       "      <td>918/069-2</td>\n",
       "      <td>2007-09-17 14:20:00</td>\n",
       "      <td>12</td>\n",
       "      <td>2,1</td>\n",
       "      <td>121</td>\n",
       "      <td>Quartäre Kiese und Sande (GWL)</td>\n",
       "    </tr>\n",
       "    <tr>\n",
       "      <th>2</th>\n",
       "      <td>BBR Betonwerk, Umkirch</td>\n",
       "      <td>918/069-2</td>\n",
       "      <td>2008-09-23 08:05:00</td>\n",
       "      <td>7,6</td>\n",
       "      <td>2,5</td>\n",
       "      <td>121</td>\n",
       "      <td>Quartäre Kiese und Sande (GWL)</td>\n",
       "    </tr>\n",
       "    <tr>\n",
       "      <th>3</th>\n",
       "      <td>BBR Betonwerk, Umkirch</td>\n",
       "      <td>918/069-2</td>\n",
       "      <td>2008-11-10 09:10:00</td>\n",
       "      <td>12,2</td>\n",
       "      <td>1,2</td>\n",
       "      <td>121</td>\n",
       "      <td>Quartäre Kiese und Sande (GWL)</td>\n",
       "    </tr>\n",
       "    <tr>\n",
       "      <th>4</th>\n",
       "      <td>BBR Betonwerk, Umkirch</td>\n",
       "      <td>918/069-2</td>\n",
       "      <td>2009-09-09 14:08:00</td>\n",
       "      <td>12</td>\n",
       "      <td>1,3</td>\n",
       "      <td>121</td>\n",
       "      <td>Quartäre Kiese und Sande (GWL)</td>\n",
       "    </tr>\n",
       "  </tbody>\n",
       "</table>\n",
       "</div>"
      ],
      "text/plain": [
       "               Messstelle  GW-Nummer               Datum NO3 [mg/l] O2 [mg/l]  \\\n",
       "0  BBR Betonwerk, Umkirch  918/069-2 2006-10-11 15:20:00        9,4       2,4   \n",
       "1  BBR Betonwerk, Umkirch  918/069-2 2007-09-17 14:20:00         12       2,1   \n",
       "2  BBR Betonwerk, Umkirch  918/069-2 2008-09-23 08:05:00        7,6       2,5   \n",
       "3  BBR Betonwerk, Umkirch  918/069-2 2008-11-10 09:10:00       12,2       1,2   \n",
       "4  BBR Betonwerk, Umkirch  918/069-2 2009-09-09 14:08:00         12       1,3   \n",
       "\n",
       "   RASTERVALU                      HYDROGEOL3  \n",
       "0         121  Quartäre Kiese und Sande (GWL)  \n",
       "1         121  Quartäre Kiese und Sande (GWL)  \n",
       "2         121  Quartäre Kiese und Sande (GWL)  \n",
       "3         121  Quartäre Kiese und Sande (GWL)  \n",
       "4         121  Quartäre Kiese und Sande (GWL)  "
      ]
     },
     "execution_count": 8,
     "metadata": {},
     "output_type": "execute_result"
    }
   ],
   "source": [
    "data = joined_data[['Messstelle','GW-Nummer','Datum', 'NO3 [mg/l]','O2 [mg/l]','RASTERVALU', 'HYDROGEOL3']]\n",
    "data = data.assign(Datum=pd.to_datetime(data['Datum'], format='%d.%m.%Y %H:%M'))\n",
    "data.head()"
   ]
  },
  {
   "cell_type": "markdown",
   "id": "b81e05bf",
   "metadata": {},
   "source": [
    "## 3. Ersetzen von Werten"
   ]
  },
  {
   "cell_type": "markdown",
   "id": "e224cbe4",
   "metadata": {},
   "source": [
    "### 3.1 Ersetzen von Werte unter Nachweisgrenze (NWG)\n",
    "Datensätze bestehen meist aus signigikanten (> NWG) und nicht-signifikanten (< NWG).\n",
    "Der Umgang mit diesen Daten hat großen Einfluss auf die Statistiken der Features.\n",
    "\n",
    "Die folgende Funktion ersetzt Werte unter der NWG, die im Format \"< NWG\" vorliegen durch 0.5*NWG:"
   ]
  },
  {
   "cell_type": "code",
   "execution_count": 9,
   "id": "a503f996",
   "metadata": {
    "code_folding": [
     0
    ]
   },
   "outputs": [],
   "source": [
    "# Funktion um Werte unter der NWG durch 0.5*NWG zu ersetzen\n",
    "def u_NWG(X):\n",
    "    if type(X) == str:\n",
    "        if '<' in X:\n",
    "            Y = float(X.split('<')[1].replace(',', '.'))/2\n",
    "        else:\n",
    "            Y = float(X.replace(',','.'))\n",
    "    else:\n",
    "        Y = X\n",
    "    return float(Y)"
   ]
  },
  {
   "cell_type": "code",
   "execution_count": 10,
   "id": "ea070475",
   "metadata": {},
   "outputs": [
    {
     "name": "stdout",
     "output_type": "stream",
     "text": [
      "0.11602890458203317 0.17326326161931352\n"
     ]
    }
   ],
   "source": [
    "print(data['O2 [mg/l]'].str.contains('<').sum()/len(data),\n",
    "      data['NO3 [mg/l]'].str.contains('<').sum()/len(data))"
   ]
  },
  {
   "cell_type": "markdown",
   "id": "1e23ad3a",
   "metadata": {},
   "source": [
    "Anwenden unserer Funktion <span style=\"color:green\">**u_NWG**</span>-Funktion\n",
    "auf die Spalten **'NO3 [mg/l]'*** und **'O2 [mg/l]'**, um die neuen Spalten **'NO3'*** und ***'O2'*** zu erstellen.  \n",
    "\n",
    "Verwendete Funktionen:  \n",
    "<span style=\"color:blue\">**.assign**</span>-Funktion &rarr; [Hilfe](https://pandas.pydata.org/docs/reference/api/pandas.DataFrame.assign.html)  \n",
    "<span style=\"color:blue\">**.apply**</span>-Funktion &rarr; [Hilfe](https://pandas.pydata.org/docs/reference/api/pandas.DataFrame.apply.html)  \n",
    "<span style=\"color:blue\">**.drop**</span>-Funktion &rarr; [Hilfe](https://pandas.pydata.org/docs/reference/api/pandas.DataFrame.drop.html)\n",
    "\n",
    "Anschließendes Entfernen der ehemaligen Spalten.\n",
    "\n"
   ]
  },
  {
   "cell_type": "code",
   "execution_count": 11,
   "id": "4c2f5433",
   "metadata": {},
   "outputs": [
    {
     "data": {
      "text/html": [
       "<div>\n",
       "<style scoped>\n",
       "    .dataframe tbody tr th:only-of-type {\n",
       "        vertical-align: middle;\n",
       "    }\n",
       "\n",
       "    .dataframe tbody tr th {\n",
       "        vertical-align: top;\n",
       "    }\n",
       "\n",
       "    .dataframe thead th {\n",
       "        text-align: right;\n",
       "    }\n",
       "</style>\n",
       "<table border=\"1\" class=\"dataframe\">\n",
       "  <thead>\n",
       "    <tr style=\"text-align: right;\">\n",
       "      <th></th>\n",
       "      <th>Messstelle</th>\n",
       "      <th>GW-Nummer</th>\n",
       "      <th>Datum</th>\n",
       "      <th>RASTERVALU</th>\n",
       "      <th>HYDROGEOL3</th>\n",
       "      <th>O2</th>\n",
       "      <th>NO3</th>\n",
       "    </tr>\n",
       "  </thead>\n",
       "  <tbody>\n",
       "    <tr>\n",
       "      <th>1196</th>\n",
       "      <td>BR K 2/1, Schwetzingen</td>\n",
       "      <td>139/306-7</td>\n",
       "      <td>2018-08-29 13:45:00</td>\n",
       "      <td>312</td>\n",
       "      <td>Quartäre Kiese und Sande (GWL)</td>\n",
       "      <td>NaN</td>\n",
       "      <td>0.05</td>\n",
       "    </tr>\n",
       "    <tr>\n",
       "      <th>3818</th>\n",
       "      <td>GWM B2 Tief, Neumühl</td>\n",
       "      <td>2002/114-7</td>\n",
       "      <td>2015-09-23 13:45:00</td>\n",
       "      <td>211</td>\n",
       "      <td>Quartäre Kiese und Sande (GWL)</td>\n",
       "      <td>2.5</td>\n",
       "      <td>0.05</td>\n",
       "    </tr>\n",
       "    <tr>\n",
       "      <th>2035</th>\n",
       "      <td>BR Vogelpark, Neudorf</td>\n",
       "      <td>129/308-5</td>\n",
       "      <td>2007-09-20 13:30:00</td>\n",
       "      <td>112</td>\n",
       "      <td>Quartäre Kiese und Sande (GWL)</td>\n",
       "      <td>0.2</td>\n",
       "      <td>0.05</td>\n",
       "    </tr>\n",
       "    <tr>\n",
       "      <th>3011</th>\n",
       "      <td>BR 60/7 (Brunnen 2), Hockenheim</td>\n",
       "      <td>218/306-5</td>\n",
       "      <td>2018-09-18 08:45:00</td>\n",
       "      <td>112</td>\n",
       "      <td>Quartäre Kiese und Sande (GWL)</td>\n",
       "      <td>NaN</td>\n",
       "      <td>0.05</td>\n",
       "    </tr>\n",
       "    <tr>\n",
       "      <th>4410</th>\n",
       "      <td>GWM F, Sankt Leon-Rot</td>\n",
       "      <td>164/307-2</td>\n",
       "      <td>2018-09-25 12:45:00</td>\n",
       "      <td>142</td>\n",
       "      <td>Quartäre Kiese und Sande (GWL)</td>\n",
       "      <td>0.2</td>\n",
       "      <td>0.05</td>\n",
       "    </tr>\n",
       "  </tbody>\n",
       "</table>\n",
       "</div>"
      ],
      "text/plain": [
       "                           Messstelle   GW-Nummer               Datum  \\\n",
       "1196           BR K 2/1, Schwetzingen   139/306-7 2018-08-29 13:45:00   \n",
       "3818             GWM B2 Tief, Neumühl  2002/114-7 2015-09-23 13:45:00   \n",
       "2035            BR Vogelpark, Neudorf   129/308-5 2007-09-20 13:30:00   \n",
       "3011  BR 60/7 (Brunnen 2), Hockenheim   218/306-5 2018-09-18 08:45:00   \n",
       "4410            GWM F, Sankt Leon-Rot   164/307-2 2018-09-25 12:45:00   \n",
       "\n",
       "      RASTERVALU                      HYDROGEOL3   O2   NO3  \n",
       "1196         312  Quartäre Kiese und Sande (GWL)  NaN  0.05  \n",
       "3818         211  Quartäre Kiese und Sande (GWL)  2.5  0.05  \n",
       "2035         112  Quartäre Kiese und Sande (GWL)  0.2  0.05  \n",
       "3011         112  Quartäre Kiese und Sande (GWL)  NaN  0.05  \n",
       "4410         142  Quartäre Kiese und Sande (GWL)  0.2  0.05  "
      ]
     },
     "execution_count": 11,
     "metadata": {},
     "output_type": "execute_result"
    }
   ],
   "source": [
    "data = data.assign(O2= data['O2 [mg/l]'].apply(u_NWG),\n",
    "           NO3 = data['NO3 [mg/l]'].apply(u_NWG))\n",
    "data.drop(columns=['NO3 [mg/l]','O2 [mg/l]'], inplace=True)\n",
    "data.sort_values(\"NO3\", ascending=True).head()"
   ]
  },
  {
   "cell_type": "markdown",
   "id": "0a3690cb",
   "metadata": {},
   "source": [
    "### 3.2 Ersetzen von fehlenden Werte (NULL-Values)\n",
    "Datensätze sind oftmals unvollständig und enthalten fehlende Werte, sog: NULL values oder NaNs\n",
    "Probleme\n",
    " - Beeinflussen Metriken\n",
    " - Algorithmen können damit nicht umgehen\n",
    " Unterschied zwischen \"0\" und \"NULL ist entscheidend\n",
    " Löschung der Nullwerte ist nur bei sehr geringem Anteil sinnvoll da Informationsverlust. Besserer Lösung ist die Inputation dieser fehlenden Werte"
   ]
  },
  {
   "cell_type": "markdown",
   "id": "d325c1f9",
   "metadata": {},
   "source": [
    "Kontrolle der NULL-Values:"
   ]
  },
  {
   "cell_type": "code",
   "execution_count": 12,
   "id": "719db85d",
   "metadata": {},
   "outputs": [
    {
     "data": {
      "text/plain": [
       "Messstelle      0\n",
       "GW-Nummer       0\n",
       "Datum           0\n",
       "RASTERVALU      0\n",
       "HYDROGEOL3     56\n",
       "O2            475\n",
       "NO3             0\n",
       "dtype: int64"
      ]
     },
     "execution_count": 12,
     "metadata": {},
     "output_type": "execute_result"
    }
   ],
   "source": [
    "data.isnull().sum()"
   ]
  },
  {
   "cell_type": "markdown",
   "id": "246e9890",
   "metadata": {},
   "source": [
    "### 3.3 Nan in numerische Spalten"
   ]
  },
  {
   "cell_type": "markdown",
   "id": "bfc45cc1",
   "metadata": {},
   "source": [
    "Für die numerische Spalte 'O2' werden die fehlenden Werte durch den Mittelwert ersetzt.\n",
    "\n",
    "Dies passiert mit dem <span style=\"color:blue\">**\"fillna()\"**</span>-Befehl für Pandas-Dataframes.\n",
    "\n",
    "Falls fehlende Werte durch bspw. \"-999\" gegeben sind, können Sie mit dem Befehl <span style=\"color:blue\">**\".replace('alter_Wert', 'neuer_Wert')\"**</span> ersetzt werden. "
   ]
  },
  {
   "cell_type": "code",
   "execution_count": 13,
   "id": "08e69896",
   "metadata": {},
   "outputs": [
    {
     "data": {
      "text/html": [
       "<div>\n",
       "<style scoped>\n",
       "    .dataframe tbody tr th:only-of-type {\n",
       "        vertical-align: middle;\n",
       "    }\n",
       "\n",
       "    .dataframe tbody tr th {\n",
       "        vertical-align: top;\n",
       "    }\n",
       "\n",
       "    .dataframe thead th {\n",
       "        text-align: right;\n",
       "    }\n",
       "</style>\n",
       "<table border=\"1\" class=\"dataframe\">\n",
       "  <thead>\n",
       "    <tr style=\"text-align: right;\">\n",
       "      <th></th>\n",
       "      <th>Messstelle</th>\n",
       "      <th>GW-Nummer</th>\n",
       "      <th>Datum</th>\n",
       "      <th>RASTERVALU</th>\n",
       "      <th>HYDROGEOL3</th>\n",
       "      <th>O2</th>\n",
       "      <th>NO3</th>\n",
       "    </tr>\n",
       "  </thead>\n",
       "  <tbody>\n",
       "    <tr>\n",
       "      <th>0</th>\n",
       "      <td>BBR Betonwerk, Umkirch</td>\n",
       "      <td>918/069-2</td>\n",
       "      <td>2006-10-11 15:20:00</td>\n",
       "      <td>121</td>\n",
       "      <td>Quartäre Kiese und Sande (GWL)</td>\n",
       "      <td>2.4</td>\n",
       "      <td>9.4</td>\n",
       "    </tr>\n",
       "    <tr>\n",
       "      <th>1</th>\n",
       "      <td>BBR Betonwerk, Umkirch</td>\n",
       "      <td>918/069-2</td>\n",
       "      <td>2007-09-17 14:20:00</td>\n",
       "      <td>121</td>\n",
       "      <td>Quartäre Kiese und Sande (GWL)</td>\n",
       "      <td>2.1</td>\n",
       "      <td>12.0</td>\n",
       "    </tr>\n",
       "    <tr>\n",
       "      <th>2</th>\n",
       "      <td>BBR Betonwerk, Umkirch</td>\n",
       "      <td>918/069-2</td>\n",
       "      <td>2008-09-23 08:05:00</td>\n",
       "      <td>121</td>\n",
       "      <td>Quartäre Kiese und Sande (GWL)</td>\n",
       "      <td>2.5</td>\n",
       "      <td>7.6</td>\n",
       "    </tr>\n",
       "    <tr>\n",
       "      <th>3</th>\n",
       "      <td>BBR Betonwerk, Umkirch</td>\n",
       "      <td>918/069-2</td>\n",
       "      <td>2008-11-10 09:10:00</td>\n",
       "      <td>121</td>\n",
       "      <td>Quartäre Kiese und Sande (GWL)</td>\n",
       "      <td>1.2</td>\n",
       "      <td>12.2</td>\n",
       "    </tr>\n",
       "    <tr>\n",
       "      <th>4</th>\n",
       "      <td>BBR Betonwerk, Umkirch</td>\n",
       "      <td>918/069-2</td>\n",
       "      <td>2009-09-09 14:08:00</td>\n",
       "      <td>121</td>\n",
       "      <td>Quartäre Kiese und Sande (GWL)</td>\n",
       "      <td>1.3</td>\n",
       "      <td>12.0</td>\n",
       "    </tr>\n",
       "  </tbody>\n",
       "</table>\n",
       "</div>"
      ],
      "text/plain": [
       "               Messstelle  GW-Nummer               Datum  RASTERVALU  \\\n",
       "0  BBR Betonwerk, Umkirch  918/069-2 2006-10-11 15:20:00         121   \n",
       "1  BBR Betonwerk, Umkirch  918/069-2 2007-09-17 14:20:00         121   \n",
       "2  BBR Betonwerk, Umkirch  918/069-2 2008-09-23 08:05:00         121   \n",
       "3  BBR Betonwerk, Umkirch  918/069-2 2008-11-10 09:10:00         121   \n",
       "4  BBR Betonwerk, Umkirch  918/069-2 2009-09-09 14:08:00         121   \n",
       "\n",
       "                       HYDROGEOL3   O2   NO3  \n",
       "0  Quartäre Kiese und Sande (GWL)  2.4   9.4  \n",
       "1  Quartäre Kiese und Sande (GWL)  2.1  12.0  \n",
       "2  Quartäre Kiese und Sande (GWL)  2.5   7.6  \n",
       "3  Quartäre Kiese und Sande (GWL)  1.2  12.2  \n",
       "4  Quartäre Kiese und Sande (GWL)  1.3  12.0  "
      ]
     },
     "execution_count": 13,
     "metadata": {},
     "output_type": "execute_result"
    }
   ],
   "source": [
    "data['O2'].fillna(data.O2.mean(), inplace=True)\n",
    "data.head()"
   ]
  },
  {
   "cell_type": "markdown",
   "id": "18e68a2c",
   "metadata": {},
   "source": [
    "### 3.4 NAN in kategorische Spalten\n",
    "Einsetzen des meist vorkommenden Wertes, der sog. \"Modus\""
   ]
  },
  {
   "cell_type": "code",
   "execution_count": 14,
   "id": "9fa29ffb",
   "metadata": {},
   "outputs": [
    {
     "name": "stdout",
     "output_type": "stream",
     "text": [
      "Quartäre Kiese und Sande (GWL)         11955\n",
      "Paläozoikum, Kristallin (GWG)             50\n",
      "Tertiär im Oberrheingraben (GWG)          37\n",
      "Oberjura (Raurasische Fazies) (GWL)       35\n",
      "Oberer Muschelkalk (GWL)                  26\n",
      "Unterjura und Mitteljura (GWG)            19\n",
      "Name: HYDROGEOL3, dtype: int64 \n",
      "\n",
      " Modus: Quartäre Kiese und Sande (GWL)\n"
     ]
    }
   ],
   "source": [
    "hy_mode = data.HYDROGEOL3.mode()[0]\n",
    "print(data.HYDROGEOL3.value_counts(),'\\n\\n',\n",
    "      'Modus:',\n",
    "      hy_mode)"
   ]
  },
  {
   "cell_type": "code",
   "execution_count": 15,
   "id": "fcf8d6c4",
   "metadata": {},
   "outputs": [],
   "source": [
    "data = data.assign(Hydrogeologie = data.loc[:,'HYDROGEOL3'].fillna(hy_mode))\n",
    "data.drop(columns='HYDROGEOL3', inplace=True)"
   ]
  },
  {
   "cell_type": "markdown",
   "id": "f30e4a05",
   "metadata": {},
   "source": [
    "### Kontrolle"
   ]
  },
  {
   "cell_type": "code",
   "execution_count": 16,
   "id": "d8310323",
   "metadata": {},
   "outputs": [
    {
     "data": {
      "text/plain": [
       "Messstelle       0\n",
       "GW-Nummer        0\n",
       "Datum            0\n",
       "RASTERVALU       0\n",
       "O2               0\n",
       "NO3              0\n",
       "Hydrogeologie    0\n",
       "dtype: int64"
      ]
     },
     "execution_count": 16,
     "metadata": {},
     "output_type": "execute_result"
    }
   ],
   "source": [
    "data.isnull().sum()"
   ]
  },
  {
   "cell_type": "markdown",
   "id": "9517db86",
   "metadata": {},
   "source": [
    "## 4. Feature Aggregation"
   ]
  },
  {
   "cell_type": "markdown",
   "id": "d8c6cc0e",
   "metadata": {},
   "source": [
    "Wir wollen einen mittleren Wert für jede Messstelle.\n",
    "\n",
    "- Für die numerischen Features (NO3, O2) wird für jede Messstelle der Mittelwert verwendet, während für die kategorischen Variablen der Modus (häufigst auftretender Wert) verwendet wird.\n",
    "\n",
    "- Für dieses Zusammenfassen wird die Funktion <span style=\"color:blue\">\".groupby()\"**</span> verwendet.\n",
    "\n",
    "- Nach dem Zusammenfassen wird der Index resetet weil sonst die Messstellen der Index sind.\n",
    "\n",
    "- Die beiden entstandenen Datensätze werden dann wieder zusammengeführt."
   ]
  },
  {
   "cell_type": "code",
   "execution_count": 17,
   "id": "0276b539",
   "metadata": {},
   "outputs": [],
   "source": [
    "messstellen1 = data[['Messstelle','NO3','O2']].groupby('Messstelle').mean()\n",
    "messstellen2 = data[['Messstelle','Hydrogeologie','RASTERVALU']].groupby('Messstelle').agg(pd.Series.mode)\n",
    "\n",
    "messstellen1.reset_index(inplace=True)\n",
    "messstellen2.reset_index(inplace=True)"
   ]
  },
  {
   "cell_type": "code",
   "execution_count": 18,
   "id": "3b4b37ee",
   "metadata": {},
   "outputs": [
    {
     "data": {
      "text/html": [
       "<div>\n",
       "<style scoped>\n",
       "    .dataframe tbody tr th:only-of-type {\n",
       "        vertical-align: middle;\n",
       "    }\n",
       "\n",
       "    .dataframe tbody tr th {\n",
       "        vertical-align: top;\n",
       "    }\n",
       "\n",
       "    .dataframe thead th {\n",
       "        text-align: right;\n",
       "    }\n",
       "</style>\n",
       "<table border=\"1\" class=\"dataframe\">\n",
       "  <thead>\n",
       "    <tr style=\"text-align: right;\">\n",
       "      <th></th>\n",
       "      <th>Messstelle</th>\n",
       "      <th>NO3</th>\n",
       "      <th>O2</th>\n",
       "      <th>Hydrogeologie</th>\n",
       "      <th>RASTERVALU</th>\n",
       "    </tr>\n",
       "  </thead>\n",
       "  <tbody>\n",
       "    <tr>\n",
       "      <th>0</th>\n",
       "      <td>BBR 1 Firma Schultis, Riegel</td>\n",
       "      <td>6.259259</td>\n",
       "      <td>1.315473</td>\n",
       "      <td>Quartäre Kiese und Sande (GWL)</td>\n",
       "      <td>121</td>\n",
       "    </tr>\n",
       "    <tr>\n",
       "      <th>1</th>\n",
       "      <td>BBR 2 Firma Thieme, Teningen</td>\n",
       "      <td>1.452941</td>\n",
       "      <td>0.823723</td>\n",
       "      <td>Quartäre Kiese und Sande (GWL)</td>\n",
       "      <td>121</td>\n",
       "    </tr>\n",
       "    <tr>\n",
       "      <th>2</th>\n",
       "      <td>BBR 2 Kronenwiese Firma Burda Werk 1, Offenburg</td>\n",
       "      <td>5.600000</td>\n",
       "      <td>1.984615</td>\n",
       "      <td>Quartäre Kiese und Sande (GWL)</td>\n",
       "      <td>121</td>\n",
       "    </tr>\n",
       "    <tr>\n",
       "      <th>3</th>\n",
       "      <td>BBR 3186 im Garten der alten Schule, Langhurst</td>\n",
       "      <td>6.968750</td>\n",
       "      <td>0.730346</td>\n",
       "      <td>Quartäre Kiese und Sande (GWL)</td>\n",
       "      <td>112</td>\n",
       "    </tr>\n",
       "    <tr>\n",
       "      <th>4</th>\n",
       "      <td>BBR 998 A Kehlerstraße, Neuried-Auenheim</td>\n",
       "      <td>56.164286</td>\n",
       "      <td>1.116071</td>\n",
       "      <td>Quartäre Kiese und Sande (GWL)</td>\n",
       "      <td>112</td>\n",
       "    </tr>\n",
       "  </tbody>\n",
       "</table>\n",
       "</div>"
      ],
      "text/plain": [
       "                                        Messstelle        NO3        O2  \\\n",
       "0                     BBR 1 Firma Schultis, Riegel   6.259259  1.315473   \n",
       "1                     BBR 2 Firma Thieme, Teningen   1.452941  0.823723   \n",
       "2  BBR 2 Kronenwiese Firma Burda Werk 1, Offenburg   5.600000  1.984615   \n",
       "3   BBR 3186 im Garten der alten Schule, Langhurst   6.968750  0.730346   \n",
       "4         BBR 998 A Kehlerstraße, Neuried-Auenheim  56.164286  1.116071   \n",
       "\n",
       "                    Hydrogeologie  RASTERVALU  \n",
       "0  Quartäre Kiese und Sande (GWL)         121  \n",
       "1  Quartäre Kiese und Sande (GWL)         121  \n",
       "2  Quartäre Kiese und Sande (GWL)         121  \n",
       "3  Quartäre Kiese und Sande (GWL)         112  \n",
       "4  Quartäre Kiese und Sande (GWL)         112  "
      ]
     },
     "execution_count": 18,
     "metadata": {},
     "output_type": "execute_result"
    }
   ],
   "source": [
    "Messstellen  = messstellen1.merge(messstellen2, on='Messstelle')\n",
    "Messstellen.head()"
   ]
  },
  {
   "cell_type": "markdown",
   "id": "545ed8ae",
   "metadata": {},
   "source": [
    "## 5. Splitten"
   ]
  },
  {
   "cell_type": "markdown",
   "id": "be700c37",
   "metadata": {},
   "source": [
    "Das Aufteilen des Datensatzes erfolgt mit der Funktion \"train_test_split\" des Packages sklearn.\n",
    "\n",
    "Hier kann mit dem Parameter \"test_size\" das Verhältnis festgelegt werden und mit dem Parameter \"random_state\" die Reproduzierbarkeit garantiert werden. "
   ]
  },
  {
   "cell_type": "code",
   "execution_count": 19,
   "id": "0bca70da",
   "metadata": {},
   "outputs": [],
   "source": [
    "from sklearn.model_selection import train_test_split"
   ]
  },
  {
   "cell_type": "code",
   "execution_count": 20,
   "id": "c514ef6d",
   "metadata": {},
   "outputs": [],
   "source": [
    "train, test = train_test_split(Messstellen, test_size=0.8, random_state=43)"
   ]
  },
  {
   "cell_type": "code",
   "execution_count": 21,
   "id": "c885c3b4",
   "metadata": {},
   "outputs": [
    {
     "name": "stdout",
     "output_type": "stream",
     "text": [
      "Größe Trainingsdaten:  (101, 5)\n",
      "Größe Testdaten:  (406, 5)\n"
     ]
    }
   ],
   "source": [
    "print('Größe Trainingsdaten: ', train.shape)\n",
    "print('Größe Testdaten: ', test.shape)"
   ]
  },
  {
   "cell_type": "markdown",
   "id": "02a5c045",
   "metadata": {},
   "source": [
    "## 6. Skalieren"
   ]
  },
  {
   "cell_type": "markdown",
   "id": "f0604f4e",
   "metadata": {},
   "source": [
    "### 6.1 Normieren"
   ]
  },
  {
   "cell_type": "markdown",
   "id": "bb3d6b32",
   "metadata": {},
   "source": [
    "#### 6.1.1 Händisches Skalieren mit Hilfe der Formel:\n",
    "$X_{norm} = \\frac{X - X_{min}}{X_{max} - X_{min}}$"
   ]
  },
  {
   "cell_type": "code",
   "execution_count": 22,
   "id": "2c978e86",
   "metadata": {},
   "outputs": [],
   "source": [
    "X_min = train.NO3.min()\n",
    "X_range = train.NO3.max() - train.NO3.min()\n",
    "train = train.assign(NO3_norm = (train['NO3']-X_min)/X_range)\n",
    "test = test.assign(NO3_norm = (test['NO3']-X_min)/X_range)"
   ]
  },
  {
   "cell_type": "code",
   "execution_count": 23,
   "id": "44b2617b",
   "metadata": {},
   "outputs": [
    {
     "name": "stdout",
     "output_type": "stream",
     "text": [
      "X_min:  0.0\n",
      "X_max:  1.0\n",
      "X_max:  0.20451396227712246\n"
     ]
    }
   ],
   "source": [
    "print('X_min: ', train.NO3_norm.min())\n",
    "print('X_max: ', train.NO3_norm.max())\n",
    "print('X_max: ', train.NO3_norm.mean())"
   ]
  },
  {
   "cell_type": "markdown",
   "id": "36f854e8",
   "metadata": {},
   "source": [
    "#### 6.1.2 Vorhandene Funktion von sklearn \"MinMaxScaler\"\n",
    "\n",
    "Die Scaler werden zuerst als eingenes Objekt erstellt und müssen dann an Daten gefittet werden.\n",
    "\n",
    "Anschließend können sie Daten auf Grundlage der Fit-Daten transformieren, hier sklieren."
   ]
  },
  {
   "cell_type": "code",
   "execution_count": 24,
   "id": "32bc905b",
   "metadata": {},
   "outputs": [],
   "source": [
    "from sklearn.preprocessing import MinMaxScaler"
   ]
  },
  {
   "cell_type": "code",
   "execution_count": 25,
   "id": "92d87724",
   "metadata": {},
   "outputs": [
    {
     "data": {
      "text/plain": [
       "MinMaxScaler()"
      ]
     },
     "execution_count": 25,
     "metadata": {},
     "output_type": "execute_result"
    }
   ],
   "source": [
    "scaler = MinMaxScaler()\n",
    "scaler.fit(train[['NO3']])"
   ]
  },
  {
   "cell_type": "code",
   "execution_count": 26,
   "id": "1748c2be",
   "metadata": {},
   "outputs": [],
   "source": [
    "train['NO3_norm']= scaler.transform(train[['NO3']])\n",
    "test['NO3_norm'] = scaler.transform(test[['NO3']])"
   ]
  },
  {
   "cell_type": "code",
   "execution_count": 27,
   "id": "c6878778",
   "metadata": {},
   "outputs": [
    {
     "name": "stdout",
     "output_type": "stream",
     "text": [
      "X_min:  0.0\n",
      "X_max:  1.0\n",
      "X_max:  0.2045139622771224\n"
     ]
    }
   ],
   "source": [
    "print('X_min: ', train.NO3_norm.min())\n",
    "print('X_max: ', train.NO3_norm.max())\n",
    "print('X_max: ', train.NO3_norm.mean())"
   ]
  },
  {
   "cell_type": "markdown",
   "id": "247ce089",
   "metadata": {},
   "source": [
    "### 6.2 Standardisieren"
   ]
  },
  {
   "cell_type": "markdown",
   "id": "217450f3",
   "metadata": {},
   "source": [
    "#### 6.2.1 Händisches Skalieren mit Hilfe der Formel:\n",
    "$X_{std} = \\frac{X - mean(X)}{stdw(X)}$"
   ]
  },
  {
   "cell_type": "code",
   "execution_count": 28,
   "id": "0756fa81",
   "metadata": {},
   "outputs": [],
   "source": [
    "X_mean = train.NO3.mean()\n",
    "X_std = train.NO3.std()\n",
    "train = train.assign(NO3_std = (train['NO3']-X_mean)/X_std)\n",
    "test = test.assign(NO3_std = (test['NO3']-X_mean)/X_std)"
   ]
  },
  {
   "cell_type": "code",
   "execution_count": 29,
   "id": "2f369c0a",
   "metadata": {},
   "outputs": [
    {
     "name": "stdout",
     "output_type": "stream",
     "text": [
      "mean(X):  5.27630744376312e-17\n",
      "std(X):  0.9999999999999999\n"
     ]
    }
   ],
   "source": [
    "print('mean(X): ', train.NO3_std.mean())\n",
    "print('std(X): ', train.NO3_std.std())"
   ]
  },
  {
   "cell_type": "markdown",
   "id": "bd19dfd3",
   "metadata": {},
   "source": [
    "#### 6.2.2 Vorhandene Funktion von sklearn \"StandardScaler\""
   ]
  },
  {
   "cell_type": "code",
   "execution_count": 30,
   "id": "4a385718",
   "metadata": {},
   "outputs": [],
   "source": [
    "from sklearn.preprocessing import StandardScaler"
   ]
  },
  {
   "cell_type": "code",
   "execution_count": 31,
   "id": "fd5167cd",
   "metadata": {},
   "outputs": [
    {
     "data": {
      "text/plain": [
       "StandardScaler()"
      ]
     },
     "execution_count": 31,
     "metadata": {},
     "output_type": "execute_result"
    }
   ],
   "source": [
    "scaler = StandardScaler()\n",
    "scaler.fit(train[['NO3']])"
   ]
  },
  {
   "cell_type": "code",
   "execution_count": 32,
   "id": "638323fb",
   "metadata": {},
   "outputs": [],
   "source": [
    "train['NO3_std']= scaler.transform(train[['NO3']])\n",
    "test['NO3_std'] = scaler.transform(test[['NO3']])"
   ]
  },
  {
   "cell_type": "code",
   "execution_count": 33,
   "id": "7fa80846",
   "metadata": {},
   "outputs": [
    {
     "name": "stdout",
     "output_type": "stream",
     "text": [
      "mean(X):  5.386230515508185e-17\n",
      "std(X):  1.004987562112089\n"
     ]
    }
   ],
   "source": [
    "print('mean(X): ', train.NO3_std.mean())\n",
    "print('std(X): ', train.NO3_std.std())"
   ]
  },
  {
   "cell_type": "code",
   "execution_count": 34,
   "id": "1bff391d",
   "metadata": {},
   "outputs": [
    {
     "data": {
      "text/html": [
       "<div>\n",
       "<style scoped>\n",
       "    .dataframe tbody tr th:only-of-type {\n",
       "        vertical-align: middle;\n",
       "    }\n",
       "\n",
       "    .dataframe tbody tr th {\n",
       "        vertical-align: top;\n",
       "    }\n",
       "\n",
       "    .dataframe thead th {\n",
       "        text-align: right;\n",
       "    }\n",
       "</style>\n",
       "<table border=\"1\" class=\"dataframe\">\n",
       "  <thead>\n",
       "    <tr style=\"text-align: right;\">\n",
       "      <th></th>\n",
       "      <th>Messstelle</th>\n",
       "      <th>NO3</th>\n",
       "      <th>O2</th>\n",
       "      <th>Hydrogeologie</th>\n",
       "      <th>RASTERVALU</th>\n",
       "      <th>NO3_norm</th>\n",
       "      <th>NO3_std</th>\n",
       "    </tr>\n",
       "  </thead>\n",
       "  <tbody>\n",
       "    <tr>\n",
       "      <th>49</th>\n",
       "      <td>BR 7 Hofgut Freudenberg, Heddesheim</td>\n",
       "      <td>0.366000</td>\n",
       "      <td>0.394000</td>\n",
       "      <td>Quartäre Kiese und Sande (GWL)</td>\n",
       "      <td>211</td>\n",
       "      <td>0.001255</td>\n",
       "      <td>-0.847277</td>\n",
       "    </tr>\n",
       "    <tr>\n",
       "      <th>298</th>\n",
       "      <td>GWM E40 ZWK Kurpfalz, Schwetzingen</td>\n",
       "      <td>15.027586</td>\n",
       "      <td>5.883984</td>\n",
       "      <td>Quartäre Kiese und Sande (GWL)</td>\n",
       "      <td>112</td>\n",
       "      <td>0.140704</td>\n",
       "      <td>-0.265988</td>\n",
       "    </tr>\n",
       "    <tr>\n",
       "      <th>437</th>\n",
       "      <td>TB 2 Transportbeton Freiburg</td>\n",
       "      <td>16.500000</td>\n",
       "      <td>6.939286</td>\n",
       "      <td>Quartäre Kiese und Sande (GWL)</td>\n",
       "      <td>121</td>\n",
       "      <td>0.154709</td>\n",
       "      <td>-0.207611</td>\n",
       "    </tr>\n",
       "    <tr>\n",
       "      <th>441</th>\n",
       "      <td>TB 3 Firma Hansa Heemann AG, Bruchsal</td>\n",
       "      <td>0.287037</td>\n",
       "      <td>0.546296</td>\n",
       "      <td>Quartäre Kiese und Sande (GWL)</td>\n",
       "      <td>121</td>\n",
       "      <td>0.000504</td>\n",
       "      <td>-0.850407</td>\n",
       "    </tr>\n",
       "    <tr>\n",
       "      <th>382</th>\n",
       "      <td>GWM Tief, Heddesheim</td>\n",
       "      <td>0.250000</td>\n",
       "      <td>0.347619</td>\n",
       "      <td>Quartäre Kiese und Sande (GWL)</td>\n",
       "      <td>211</td>\n",
       "      <td>0.000151</td>\n",
       "      <td>-0.851876</td>\n",
       "    </tr>\n",
       "  </tbody>\n",
       "</table>\n",
       "</div>"
      ],
      "text/plain": [
       "                                Messstelle        NO3        O2  \\\n",
       "49     BR 7 Hofgut Freudenberg, Heddesheim   0.366000  0.394000   \n",
       "298     GWM E40 ZWK Kurpfalz, Schwetzingen  15.027586  5.883984   \n",
       "437           TB 2 Transportbeton Freiburg  16.500000  6.939286   \n",
       "441  TB 3 Firma Hansa Heemann AG, Bruchsal   0.287037  0.546296   \n",
       "382                   GWM Tief, Heddesheim   0.250000  0.347619   \n",
       "\n",
       "                      Hydrogeologie  RASTERVALU  NO3_norm   NO3_std  \n",
       "49   Quartäre Kiese und Sande (GWL)         211  0.001255 -0.847277  \n",
       "298  Quartäre Kiese und Sande (GWL)         112  0.140704 -0.265988  \n",
       "437  Quartäre Kiese und Sande (GWL)         121  0.154709 -0.207611  \n",
       "441  Quartäre Kiese und Sande (GWL)         121  0.000504 -0.850407  \n",
       "382  Quartäre Kiese und Sande (GWL)         211  0.000151 -0.851876  "
      ]
     },
     "execution_count": 34,
     "metadata": {},
     "output_type": "execute_result"
    }
   ],
   "source": [
    "train.head()"
   ]
  },
  {
   "cell_type": "code",
   "execution_count": 35,
   "id": "8b93205e",
   "metadata": {
    "scrolled": true
   },
   "outputs": [
    {
     "data": {
      "text/html": [
       "<div>\n",
       "<style scoped>\n",
       "    .dataframe tbody tr th:only-of-type {\n",
       "        vertical-align: middle;\n",
       "    }\n",
       "\n",
       "    .dataframe tbody tr th {\n",
       "        vertical-align: top;\n",
       "    }\n",
       "\n",
       "    .dataframe thead th {\n",
       "        text-align: right;\n",
       "    }\n",
       "</style>\n",
       "<table border=\"1\" class=\"dataframe\">\n",
       "  <thead>\n",
       "    <tr style=\"text-align: right;\">\n",
       "      <th></th>\n",
       "      <th>Messstelle</th>\n",
       "      <th>NO3</th>\n",
       "      <th>O2</th>\n",
       "      <th>Hydrogeologie</th>\n",
       "      <th>RASTERVALU</th>\n",
       "      <th>NO3_norm</th>\n",
       "      <th>NO3_std</th>\n",
       "    </tr>\n",
       "  </thead>\n",
       "  <tbody>\n",
       "    <tr>\n",
       "      <th>498</th>\n",
       "      <td>TB WW Neuburgweier, Rheinstetten</td>\n",
       "      <td>0.664062</td>\n",
       "      <td>1.625000</td>\n",
       "      <td>Quartäre Kiese und Sande (GWL)</td>\n",
       "      <td>231</td>\n",
       "      <td>0.004090</td>\n",
       "      <td>-0.835459</td>\n",
       "    </tr>\n",
       "    <tr>\n",
       "      <th>328</th>\n",
       "      <td>GWM K 20 Kehl, Goldscheuer</td>\n",
       "      <td>0.227778</td>\n",
       "      <td>0.255556</td>\n",
       "      <td>Quartäre Kiese und Sande (GWL)</td>\n",
       "      <td>231</td>\n",
       "      <td>-0.000060</td>\n",
       "      <td>-0.852757</td>\n",
       "    </tr>\n",
       "    <tr>\n",
       "      <th>321</th>\n",
       "      <td>GWM G0/1 KIT, Leopoldshafen</td>\n",
       "      <td>6.945455</td>\n",
       "      <td>3.259091</td>\n",
       "      <td>Quartäre Kiese und Sande (GWL)</td>\n",
       "      <td>313</td>\n",
       "      <td>0.063833</td>\n",
       "      <td>-0.586421</td>\n",
       "    </tr>\n",
       "    <tr>\n",
       "      <th>170</th>\n",
       "      <td>GWM 1279 A, Oberhausen</td>\n",
       "      <td>14.138462</td>\n",
       "      <td>7.215385</td>\n",
       "      <td>Quartäre Kiese und Sande (GWL)</td>\n",
       "      <td>231</td>\n",
       "      <td>0.132248</td>\n",
       "      <td>-0.301239</td>\n",
       "    </tr>\n",
       "    <tr>\n",
       "      <th>432</th>\n",
       "      <td>TB 116 Universität Albertstraße, Freiburg</td>\n",
       "      <td>14.133333</td>\n",
       "      <td>7.412369</td>\n",
       "      <td>Quartäre Kiese und Sande (GWL)</td>\n",
       "      <td>121</td>\n",
       "      <td>0.132199</td>\n",
       "      <td>-0.301442</td>\n",
       "    </tr>\n",
       "  </tbody>\n",
       "</table>\n",
       "</div>"
      ],
      "text/plain": [
       "                                    Messstelle        NO3        O2  \\\n",
       "498           TB WW Neuburgweier, Rheinstetten   0.664062  1.625000   \n",
       "328                 GWM K 20 Kehl, Goldscheuer   0.227778  0.255556   \n",
       "321                GWM G0/1 KIT, Leopoldshafen   6.945455  3.259091   \n",
       "170                     GWM 1279 A, Oberhausen  14.138462  7.215385   \n",
       "432  TB 116 Universität Albertstraße, Freiburg  14.133333  7.412369   \n",
       "\n",
       "                      Hydrogeologie  RASTERVALU  NO3_norm   NO3_std  \n",
       "498  Quartäre Kiese und Sande (GWL)         231  0.004090 -0.835459  \n",
       "328  Quartäre Kiese und Sande (GWL)         231 -0.000060 -0.852757  \n",
       "321  Quartäre Kiese und Sande (GWL)         313  0.063833 -0.586421  \n",
       "170  Quartäre Kiese und Sande (GWL)         231  0.132248 -0.301239  \n",
       "432  Quartäre Kiese und Sande (GWL)         121  0.132199 -0.301442  "
      ]
     },
     "execution_count": 35,
     "metadata": {},
     "output_type": "execute_result"
    }
   ],
   "source": [
    "test.head()"
   ]
  },
  {
   "cell_type": "markdown",
   "id": "7e047a7e",
   "metadata": {},
   "source": [
    "## 7. Encodieren"
   ]
  },
  {
   "cell_type": "markdown",
   "id": "b5184cef",
   "metadata": {},
   "source": [
    "### 7.1 Binär\n",
    "Jede Kategorie wird umgewandelt in Zahlenwert"
   ]
  },
  {
   "cell_type": "markdown",
   "id": "eaa878df",
   "metadata": {},
   "source": [
    "\n",
    "Der 3-stellige Corine Code ist eine Stufenweise Beschreibung der Landnutzung, wobei die erste Ziffer die gröbste Einordnung darstellt.\n",
    "- 1XX = Artificial Surfaces \n",
    "- 2XX = Agricultural areas \n",
    "- 3XX = Forest and seminatural areas\n",
    "- 4XX = Wetlands \n",
    "- 5XX = Water bodies \n",
    "\n",
    "Im folgende erfolgt ein binäres Encoding nach der Klasse 1.\n",
    "Dafür wird zuerst eine neue Spalte erstellt, die nur die erste Ziffer enthät und anschließend in Abhängigkeit davon ein binäres Encoding."
   ]
  },
  {
   "cell_type": "code",
   "execution_count": 36,
   "id": "ebcfebf9",
   "metadata": {},
   "outputs": [],
   "source": [
    "train['Corine'] = train['RASTERVALU'].apply(lambda x: int(str(x)[0]))\n",
    "train['Artificial_Surface'] = train['Corine'].apply(lambda x: 1 if x == 1  else 0)\n",
    "\n",
    "test['Corine'] = test['RASTERVALU'].apply(lambda x: int(str(x)[0]))\n",
    "test['Artificial_Surface'] = test['Corine'].apply(lambda x: 1 if x == 1  else 0)"
   ]
  },
  {
   "cell_type": "code",
   "execution_count": 37,
   "id": "af94209b",
   "metadata": {},
   "outputs": [],
   "source": [
    "train.drop(columns='RASTERVALU', inplace=True)\n",
    "test.drop(columns='RASTERVALU', inplace=True)"
   ]
  },
  {
   "cell_type": "markdown",
   "id": "25f79dee",
   "metadata": {},
   "source": [
    "### 7.2 One-Hot\n",
    "Encoding für Nominal-Daten (ohne Rangfolge)  \n",
    "Für jedes Merkmal wird eine neue binäre Variable erstellt"
   ]
  },
  {
   "cell_type": "code",
   "execution_count": 38,
   "id": "80316886",
   "metadata": {},
   "outputs": [],
   "source": [
    "from sklearn.preprocessing import OneHotEncoder"
   ]
  },
  {
   "cell_type": "code",
   "execution_count": 39,
   "id": "b7c28929",
   "metadata": {},
   "outputs": [
    {
     "data": {
      "text/plain": [
       "array(['Corine_1', 'Corine_2', 'Corine_3', 'Corine_5'], dtype=object)"
      ]
     },
     "execution_count": 39,
     "metadata": {},
     "output_type": "execute_result"
    }
   ],
   "source": [
    "encoder = OneHotEncoder(sparse=False)\n",
    "encoder.fit(train[['Corine']])\n",
    "encoder.get_feature_names_out()"
   ]
  },
  {
   "cell_type": "markdown",
   "id": "70cd8d79",
   "metadata": {},
   "source": [
    "Beispiel für One-Hot Encoding:"
   ]
  },
  {
   "cell_type": "code",
   "execution_count": 40,
   "id": "061b9a63",
   "metadata": {},
   "outputs": [],
   "source": [
    "example_oh = encoder.transform(test[['Corine']]) \n",
    "#encoder.transform(train[['Corine']]) # genauso auch für die train-Daten möglich\n",
    "example_oh = pd.DataFrame(example_oh, columns=encoder.get_feature_names_out())"
   ]
  },
  {
   "cell_type": "code",
   "execution_count": 41,
   "id": "52829d15",
   "metadata": {},
   "outputs": [
    {
     "data": {
      "text/html": [
       "<div>\n",
       "<style scoped>\n",
       "    .dataframe tbody tr th:only-of-type {\n",
       "        vertical-align: middle;\n",
       "    }\n",
       "\n",
       "    .dataframe tbody tr th {\n",
       "        vertical-align: top;\n",
       "    }\n",
       "\n",
       "    .dataframe thead th {\n",
       "        text-align: right;\n",
       "    }\n",
       "</style>\n",
       "<table border=\"1\" class=\"dataframe\">\n",
       "  <thead>\n",
       "    <tr style=\"text-align: right;\">\n",
       "      <th></th>\n",
       "      <th>Corine_1</th>\n",
       "      <th>Corine_2</th>\n",
       "      <th>Corine_3</th>\n",
       "      <th>Corine_5</th>\n",
       "    </tr>\n",
       "  </thead>\n",
       "  <tbody>\n",
       "    <tr>\n",
       "      <th>0</th>\n",
       "      <td>0.0</td>\n",
       "      <td>1.0</td>\n",
       "      <td>0.0</td>\n",
       "      <td>0.0</td>\n",
       "    </tr>\n",
       "    <tr>\n",
       "      <th>1</th>\n",
       "      <td>0.0</td>\n",
       "      <td>1.0</td>\n",
       "      <td>0.0</td>\n",
       "      <td>0.0</td>\n",
       "    </tr>\n",
       "    <tr>\n",
       "      <th>2</th>\n",
       "      <td>0.0</td>\n",
       "      <td>0.0</td>\n",
       "      <td>1.0</td>\n",
       "      <td>0.0</td>\n",
       "    </tr>\n",
       "    <tr>\n",
       "      <th>3</th>\n",
       "      <td>0.0</td>\n",
       "      <td>1.0</td>\n",
       "      <td>0.0</td>\n",
       "      <td>0.0</td>\n",
       "    </tr>\n",
       "    <tr>\n",
       "      <th>4</th>\n",
       "      <td>1.0</td>\n",
       "      <td>0.0</td>\n",
       "      <td>0.0</td>\n",
       "      <td>0.0</td>\n",
       "    </tr>\n",
       "    <tr>\n",
       "      <th>...</th>\n",
       "      <td>...</td>\n",
       "      <td>...</td>\n",
       "      <td>...</td>\n",
       "      <td>...</td>\n",
       "    </tr>\n",
       "    <tr>\n",
       "      <th>401</th>\n",
       "      <td>1.0</td>\n",
       "      <td>0.0</td>\n",
       "      <td>0.0</td>\n",
       "      <td>0.0</td>\n",
       "    </tr>\n",
       "    <tr>\n",
       "      <th>402</th>\n",
       "      <td>0.0</td>\n",
       "      <td>0.0</td>\n",
       "      <td>1.0</td>\n",
       "      <td>0.0</td>\n",
       "    </tr>\n",
       "    <tr>\n",
       "      <th>403</th>\n",
       "      <td>0.0</td>\n",
       "      <td>1.0</td>\n",
       "      <td>0.0</td>\n",
       "      <td>0.0</td>\n",
       "    </tr>\n",
       "    <tr>\n",
       "      <th>404</th>\n",
       "      <td>1.0</td>\n",
       "      <td>0.0</td>\n",
       "      <td>0.0</td>\n",
       "      <td>0.0</td>\n",
       "    </tr>\n",
       "    <tr>\n",
       "      <th>405</th>\n",
       "      <td>1.0</td>\n",
       "      <td>0.0</td>\n",
       "      <td>0.0</td>\n",
       "      <td>0.0</td>\n",
       "    </tr>\n",
       "  </tbody>\n",
       "</table>\n",
       "<p>406 rows × 4 columns</p>\n",
       "</div>"
      ],
      "text/plain": [
       "     Corine_1  Corine_2  Corine_3  Corine_5\n",
       "0         0.0       1.0       0.0       0.0\n",
       "1         0.0       1.0       0.0       0.0\n",
       "2         0.0       0.0       1.0       0.0\n",
       "3         0.0       1.0       0.0       0.0\n",
       "4         1.0       0.0       0.0       0.0\n",
       "..        ...       ...       ...       ...\n",
       "401       1.0       0.0       0.0       0.0\n",
       "402       0.0       0.0       1.0       0.0\n",
       "403       0.0       1.0       0.0       0.0\n",
       "404       1.0       0.0       0.0       0.0\n",
       "405       1.0       0.0       0.0       0.0\n",
       "\n",
       "[406 rows x 4 columns]"
      ]
     },
     "execution_count": 41,
     "metadata": {},
     "output_type": "execute_result"
    }
   ],
   "source": [
    "example_oh"
   ]
  },
  {
   "cell_type": "markdown",
   "id": "5af17a26",
   "metadata": {},
   "source": [
    "### 7.3 Target\n",
    "Der Mittelwert der Ziel Variable wird für jede Kategorie berechnet und als Wert für die entsprechende Kategorie verwendet  \n",
    "Das Encodieren muss nach dem Data-Split erfolgen um ein Data Leakage zu vermeiden"
   ]
  },
  {
   "cell_type": "code",
   "execution_count": 42,
   "id": "cf5b6640",
   "metadata": {},
   "outputs": [],
   "source": [
    "from category_encoders.target_encoder import TargetEncoder"
   ]
  },
  {
   "cell_type": "code",
   "execution_count": 43,
   "id": "450bc36e",
   "metadata": {},
   "outputs": [
    {
     "data": {
      "text/html": [
       "<div>\n",
       "<style scoped>\n",
       "    .dataframe tbody tr th:only-of-type {\n",
       "        vertical-align: middle;\n",
       "    }\n",
       "\n",
       "    .dataframe tbody tr th {\n",
       "        vertical-align: top;\n",
       "    }\n",
       "\n",
       "    .dataframe thead th {\n",
       "        text-align: right;\n",
       "    }\n",
       "</style>\n",
       "<table border=\"1\" class=\"dataframe\">\n",
       "  <thead>\n",
       "    <tr style=\"text-align: right;\">\n",
       "      <th></th>\n",
       "      <th>Messstelle</th>\n",
       "      <th>NO3</th>\n",
       "      <th>O2</th>\n",
       "      <th>Hydrogeologie</th>\n",
       "      <th>NO3_norm</th>\n",
       "      <th>NO3_std</th>\n",
       "      <th>Corine</th>\n",
       "      <th>Artificial_Surface</th>\n",
       "      <th>Target_Hy</th>\n",
       "    </tr>\n",
       "  </thead>\n",
       "  <tbody>\n",
       "    <tr>\n",
       "      <th>49</th>\n",
       "      <td>BR 7 Hofgut Freudenberg, Heddesheim</td>\n",
       "      <td>0.366000</td>\n",
       "      <td>0.394000</td>\n",
       "      <td>Quartäre Kiese und Sande (GWL)</td>\n",
       "      <td>0.001255</td>\n",
       "      <td>-0.847277</td>\n",
       "      <td>2</td>\n",
       "      <td>0</td>\n",
       "      <td>21.923846</td>\n",
       "    </tr>\n",
       "    <tr>\n",
       "      <th>298</th>\n",
       "      <td>GWM E40 ZWK Kurpfalz, Schwetzingen</td>\n",
       "      <td>15.027586</td>\n",
       "      <td>5.883984</td>\n",
       "      <td>Quartäre Kiese und Sande (GWL)</td>\n",
       "      <td>0.140704</td>\n",
       "      <td>-0.265988</td>\n",
       "      <td>1</td>\n",
       "      <td>1</td>\n",
       "      <td>21.923846</td>\n",
       "    </tr>\n",
       "    <tr>\n",
       "      <th>437</th>\n",
       "      <td>TB 2 Transportbeton Freiburg</td>\n",
       "      <td>16.500000</td>\n",
       "      <td>6.939286</td>\n",
       "      <td>Quartäre Kiese und Sande (GWL)</td>\n",
       "      <td>0.154709</td>\n",
       "      <td>-0.207611</td>\n",
       "      <td>1</td>\n",
       "      <td>1</td>\n",
       "      <td>21.923846</td>\n",
       "    </tr>\n",
       "    <tr>\n",
       "      <th>441</th>\n",
       "      <td>TB 3 Firma Hansa Heemann AG, Bruchsal</td>\n",
       "      <td>0.287037</td>\n",
       "      <td>0.546296</td>\n",
       "      <td>Quartäre Kiese und Sande (GWL)</td>\n",
       "      <td>0.000504</td>\n",
       "      <td>-0.850407</td>\n",
       "      <td>1</td>\n",
       "      <td>1</td>\n",
       "      <td>21.923846</td>\n",
       "    </tr>\n",
       "    <tr>\n",
       "      <th>382</th>\n",
       "      <td>GWM Tief, Heddesheim</td>\n",
       "      <td>0.250000</td>\n",
       "      <td>0.347619</td>\n",
       "      <td>Quartäre Kiese und Sande (GWL)</td>\n",
       "      <td>0.000151</td>\n",
       "      <td>-0.851876</td>\n",
       "      <td>2</td>\n",
       "      <td>0</td>\n",
       "      <td>21.923846</td>\n",
       "    </tr>\n",
       "  </tbody>\n",
       "</table>\n",
       "</div>"
      ],
      "text/plain": [
       "                                Messstelle        NO3        O2  \\\n",
       "49     BR 7 Hofgut Freudenberg, Heddesheim   0.366000  0.394000   \n",
       "298     GWM E40 ZWK Kurpfalz, Schwetzingen  15.027586  5.883984   \n",
       "437           TB 2 Transportbeton Freiburg  16.500000  6.939286   \n",
       "441  TB 3 Firma Hansa Heemann AG, Bruchsal   0.287037  0.546296   \n",
       "382                   GWM Tief, Heddesheim   0.250000  0.347619   \n",
       "\n",
       "                      Hydrogeologie  NO3_norm   NO3_std  Corine  \\\n",
       "49   Quartäre Kiese und Sande (GWL)  0.001255 -0.847277       2   \n",
       "298  Quartäre Kiese und Sande (GWL)  0.140704 -0.265988       1   \n",
       "437  Quartäre Kiese und Sande (GWL)  0.154709 -0.207611       1   \n",
       "441  Quartäre Kiese und Sande (GWL)  0.000504 -0.850407       1   \n",
       "382  Quartäre Kiese und Sande (GWL)  0.000151 -0.851876       2   \n",
       "\n",
       "     Artificial_Surface  Target_Hy  \n",
       "49                    0  21.923846  \n",
       "298                   1  21.923846  \n",
       "437                   1  21.923846  \n",
       "441                   1  21.923846  \n",
       "382                   0  21.923846  "
      ]
     },
     "execution_count": 43,
     "metadata": {},
     "output_type": "execute_result"
    }
   ],
   "source": [
    "encoder = TargetEncoder()\n",
    "train['Target_Hy'] = encoder.fit_transform(train['Hydrogeologie'],train['NO3'])\n",
    "test['Target_Hy'] = encoder.transform(test['Hydrogeologie'])\n",
    "train.head()"
   ]
  },
  {
   "cell_type": "markdown",
   "id": "23516173",
   "metadata": {},
   "source": [
    "## 8. Speichern der Ergebnisse"
   ]
  },
  {
   "cell_type": "markdown",
   "id": "ee013f3b",
   "metadata": {},
   "source": [
    "Um einen Datensatz zu speichern,ist es sinnvoll diesen als csv.Datei zu exportieren.\n",
    "\n",
    "Das Exportieren erfolgt über den Befehl \".to_csv\" für Dataframes.\n",
    "\n",
    "https://pandas.pydata.org/docs/reference/api/pandas.DataFrame.to_csv.html"
   ]
  },
  {
   "cell_type": "code",
   "execution_count": 44,
   "id": "2fa48208",
   "metadata": {},
   "outputs": [],
   "source": [
    "train.to_csv('res.csv')"
   ]
  },
  {
   "cell_type": "markdown",
   "id": "724660d6",
   "metadata": {},
   "source": [
    "## 9 Übung"
   ]
  },
  {
   "cell_type": "markdown",
   "id": "e985dfe3",
   "metadata": {},
   "source": [
    "Bereite jetzt selbst den Datensatz \"Nitratmessungen_aufgabe.csv\" auf:\n",
    "1. Ersetze die Werte unter der NWG \n",
    "2. Ersetze alle NULL-Values\n",
    "3. Aggregiere die Daten für jede Messstelle\n",
    "4. Splitte die Date (85:15)\n",
    "5. Standardisiere die numerischen Variablen\n",
    "6. Encode die Landnutzung binär nach der Landwirtschaft (Corine = 2XX) --> vorhanden = 1, nicht vorhanden = 0\n",
    "7. Taret-Encode die Hyrogeologie auf Basis der Nitratkonzentration\n",
    "8. Speichere deine Ergebnisse\n",
    "9. Fertig! :)\n",
    "\n",
    "Tipps:\n",
    "- für die Features der Sauerstoff-Konzentration und der Hydrogeologie liegen die NULL-Values nicht als diese direkt vor, hier ist es hilfreich mal die Features mit \".describe()\" bzw. \".unique()\" zu betrachten"
   ]
  }
 ],
 "metadata": {
  "hide_input": false,
  "kernelspec": {
   "display_name": "Python 3 (ipykernel)",
   "language": "python",
   "name": "python3"
  },
  "language_info": {
   "codemirror_mode": {
    "name": "ipython",
    "version": 3
   },
   "file_extension": ".py",
   "mimetype": "text/x-python",
   "name": "python",
   "nbconvert_exporter": "python",
   "pygments_lexer": "ipython3",
   "version": "3.8.13"
  },
  "toc": {
   "base_numbering": 1,
   "nav_menu": {},
   "number_sections": false,
   "sideBar": true,
   "skip_h1_title": true,
   "title_cell": "Table of Contents",
   "title_sidebar": "Contents",
   "toc_cell": false,
   "toc_position": {
    "height": "calc(100% - 180px)",
    "left": "10px",
    "top": "150px",
    "width": "384px"
   },
   "toc_section_display": true,
   "toc_window_display": true
  },
  "varInspector": {
   "cols": {
    "lenName": 16,
    "lenType": 16,
    "lenVar": 40
   },
   "kernels_config": {
    "python": {
     "delete_cmd_postfix": "",
     "delete_cmd_prefix": "del ",
     "library": "var_list.py",
     "varRefreshCmd": "print(var_dic_list())"
    },
    "r": {
     "delete_cmd_postfix": ") ",
     "delete_cmd_prefix": "rm(",
     "library": "var_list.r",
     "varRefreshCmd": "cat(var_dic_list()) "
    }
   },
   "types_to_exclude": [
    "module",
    "function",
    "builtin_function_or_method",
    "instance",
    "_Feature"
   ],
   "window_display": false
  }
 },
 "nbformat": 4,
 "nbformat_minor": 5
}
