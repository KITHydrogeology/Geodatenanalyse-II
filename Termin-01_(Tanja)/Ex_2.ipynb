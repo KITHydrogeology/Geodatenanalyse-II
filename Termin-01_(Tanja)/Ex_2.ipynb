{
 "cells": [
  {
   "cell_type": "markdown",
   "id": "f37eaffd",
   "metadata": {},
   "source": [
    "# Datenaufbereitung"
   ]
  },
  {
   "cell_type": "markdown",
   "id": "43fbbb2e",
   "metadata": {},
   "source": [
    "## Einführung"
   ]
  },
  {
   "cell_type": "code",
   "execution_count": 1,
   "id": "d3cc034e",
   "metadata": {},
   "outputs": [],
   "source": [
    "import pandas as pd\n",
    "import numpy as np\n",
    "import matplotlib.pyplot as plt"
   ]
  },
  {
   "cell_type": "markdown",
   "id": "22fd8b70",
   "metadata": {},
   "source": [
    "## Importieren der Daten"
   ]
  },
  {
   "cell_type": "markdown",
   "id": "bceb7ac7",
   "metadata": {},
   "source": [
    "Zwei Datensätze:\n",
    "- Nitratdatensatz\n",
    "- Corine Landnutzung für die Messstellen"
   ]
  },
  {
   "cell_type": "code",
   "execution_count": 2,
   "id": "91f2e7cf",
   "metadata": {},
   "outputs": [],
   "source": [
    "data1 = pd.read_csv('GDA_Ex2_1.csv', sep=',', encoding='latin1')\n",
    "data2 = pd.read_csv('GDA_Ex2_1.txt', sep=';',decimal=',',  encoding='latin1')"
   ]
  },
  {
   "cell_type": "code",
   "execution_count": 3,
   "id": "6c1af7ee",
   "metadata": {},
   "outputs": [
    {
     "data": {
      "text/html": [
       "<div>\n",
       "<style scoped>\n",
       "    .dataframe tbody tr th:only-of-type {\n",
       "        vertical-align: middle;\n",
       "    }\n",
       "\n",
       "    .dataframe tbody tr th {\n",
       "        vertical-align: top;\n",
       "    }\n",
       "\n",
       "    .dataframe thead th {\n",
       "        text-align: right;\n",
       "    }\n",
       "</style>\n",
       "<table border=\"1\" class=\"dataframe\">\n",
       "  <thead>\n",
       "    <tr style=\"text-align: right;\">\n",
       "      <th></th>\n",
       "      <th>Unnamed: 0</th>\n",
       "      <th>GW-Nummer</th>\n",
       "      <th>Messstelle</th>\n",
       "      <th>Datum</th>\n",
       "      <th>NO3 [mg/l]</th>\n",
       "      <th>pH [ -]</th>\n",
       "      <th>O2 [mg/l]</th>\n",
       "      <th>O2-SÃ¤tt [%]</th>\n",
       "      <th>T [Â°C]</th>\n",
       "      <th>RECHTSWERT</th>\n",
       "      <th>HOCHWERT</th>\n",
       "      <th>HYDROGEOLE</th>\n",
       "      <th>AQUIFER</th>\n",
       "      <th>HYDROGEOL3</th>\n",
       "    </tr>\n",
       "  </thead>\n",
       "  <tbody>\n",
       "    <tr>\n",
       "      <th>0</th>\n",
       "      <td>0</td>\n",
       "      <td>918/069-2</td>\n",
       "      <td>BBR Betonwerk, Umkirch</td>\n",
       "      <td>11.10.2006 15:20</td>\n",
       "      <td>9,4</td>\n",
       "      <td>6,45</td>\n",
       "      <td>2,4</td>\n",
       "      <td>23,3</td>\n",
       "      <td>14,0</td>\n",
       "      <td>3407870</td>\n",
       "      <td>5323120</td>\n",
       "      <td>3.0</td>\n",
       "      <td>QUARTÃR EISZEITL.KIESE+SANDE (OBERRHEINGRABEN)</td>\n",
       "      <td>QuartÃ¤re Kiese und Sande (GWL)</td>\n",
       "    </tr>\n",
       "    <tr>\n",
       "      <th>1</th>\n",
       "      <td>1</td>\n",
       "      <td>918/069-2</td>\n",
       "      <td>BBR Betonwerk, Umkirch</td>\n",
       "      <td>17.09.2007 14:20</td>\n",
       "      <td>12</td>\n",
       "      <td>6,39</td>\n",
       "      <td>2,1</td>\n",
       "      <td>25,0</td>\n",
       "      <td>21,8</td>\n",
       "      <td>3407870</td>\n",
       "      <td>5323120</td>\n",
       "      <td>3.0</td>\n",
       "      <td>QUARTÃR EISZEITL.KIESE+SANDE (OBERRHEINGRABEN)</td>\n",
       "      <td>QuartÃ¤re Kiese und Sande (GWL)</td>\n",
       "    </tr>\n",
       "    <tr>\n",
       "      <th>2</th>\n",
       "      <td>2</td>\n",
       "      <td>918/069-2</td>\n",
       "      <td>BBR Betonwerk, Umkirch</td>\n",
       "      <td>23.09.2008 08:05</td>\n",
       "      <td>7,6</td>\n",
       "      <td>6,58</td>\n",
       "      <td>2,5</td>\n",
       "      <td>23,0</td>\n",
       "      <td>NaN</td>\n",
       "      <td>3407870</td>\n",
       "      <td>5323120</td>\n",
       "      <td>3.0</td>\n",
       "      <td>QUARTÃR EISZEITL.KIESE+SANDE (OBERRHEINGRABEN)</td>\n",
       "      <td>QuartÃ¤re Kiese und Sande (GWL)</td>\n",
       "    </tr>\n",
       "    <tr>\n",
       "      <th>3</th>\n",
       "      <td>3</td>\n",
       "      <td>918/069-2</td>\n",
       "      <td>BBR Betonwerk, Umkirch</td>\n",
       "      <td>10.11.2008 09:10</td>\n",
       "      <td>12,2</td>\n",
       "      <td>6,54</td>\n",
       "      <td>1,2</td>\n",
       "      <td>12,0</td>\n",
       "      <td>15,4</td>\n",
       "      <td>3407870</td>\n",
       "      <td>5323120</td>\n",
       "      <td>3.0</td>\n",
       "      <td>QUARTÃR EISZEITL.KIESE+SANDE (OBERRHEINGRABEN)</td>\n",
       "      <td>QuartÃ¤re Kiese und Sande (GWL)</td>\n",
       "    </tr>\n",
       "    <tr>\n",
       "      <th>4</th>\n",
       "      <td>4</td>\n",
       "      <td>918/069-2</td>\n",
       "      <td>BBR Betonwerk, Umkirch</td>\n",
       "      <td>09.09.2009 14:08</td>\n",
       "      <td>12</td>\n",
       "      <td>6,46</td>\n",
       "      <td>1,3</td>\n",
       "      <td>14,0</td>\n",
       "      <td>20,0</td>\n",
       "      <td>3407870</td>\n",
       "      <td>5323120</td>\n",
       "      <td>3.0</td>\n",
       "      <td>QUARTÃR EISZEITL.KIESE+SANDE (OBERRHEINGRABEN)</td>\n",
       "      <td>QuartÃ¤re Kiese und Sande (GWL)</td>\n",
       "    </tr>\n",
       "  </tbody>\n",
       "</table>\n",
       "</div>"
      ],
      "text/plain": [
       "   Unnamed: 0  GW-Nummer              Messstelle             Datum NO3 [mg/l]  \\\n",
       "0           0  918/069-2  BBR Betonwerk, Umkirch  11.10.2006 15:20        9,4   \n",
       "1           1  918/069-2  BBR Betonwerk, Umkirch  17.09.2007 14:20         12   \n",
       "2           2  918/069-2  BBR Betonwerk, Umkirch  23.09.2008 08:05        7,6   \n",
       "3           3  918/069-2  BBR Betonwerk, Umkirch  10.11.2008 09:10       12,2   \n",
       "4           4  918/069-2  BBR Betonwerk, Umkirch  09.09.2009 14:08         12   \n",
       "\n",
       "  pH [ -] O2 [mg/l] O2-SÃ¤tt [%] T [Â°C]  RECHTSWERT  HOCHWERT  HYDROGEOLE  \\\n",
       "0    6,45       2,4         23,3    14,0     3407870   5323120         3.0   \n",
       "1    6,39       2,1         25,0    21,8     3407870   5323120         3.0   \n",
       "2    6,58       2,5         23,0     NaN     3407870   5323120         3.0   \n",
       "3    6,54       1,2         12,0    15,4     3407870   5323120         3.0   \n",
       "4    6,46       1,3         14,0    20,0     3407870   5323120         3.0   \n",
       "\n",
       "                                           AQUIFER  \\\n",
       "0  QUARTÃR EISZEITL.KIESE+SANDE (OBERRHEINGRABEN)   \n",
       "1  QUARTÃR EISZEITL.KIESE+SANDE (OBERRHEINGRABEN)   \n",
       "2  QUARTÃR EISZEITL.KIESE+SANDE (OBERRHEINGRABEN)   \n",
       "3  QUARTÃR EISZEITL.KIESE+SANDE (OBERRHEINGRABEN)   \n",
       "4  QUARTÃR EISZEITL.KIESE+SANDE (OBERRHEINGRABEN)   \n",
       "\n",
       "                        HYDROGEOL3  \n",
       "0  QuartÃ¤re Kiese und Sande (GWL)  \n",
       "1  QuartÃ¤re Kiese und Sande (GWL)  \n",
       "2  QuartÃ¤re Kiese und Sande (GWL)  \n",
       "3  QuartÃ¤re Kiese und Sande (GWL)  \n",
       "4  QuartÃ¤re Kiese und Sande (GWL)  "
      ]
     },
     "execution_count": 3,
     "metadata": {},
     "output_type": "execute_result"
    }
   ],
   "source": [
    "data1.head()"
   ]
  },
  {
   "cell_type": "code",
   "execution_count": 4,
   "id": "7b04e26f",
   "metadata": {},
   "outputs": [
    {
     "data": {
      "text/plain": [
       "Unnamed: 0        int64\n",
       "GW-Nummer        object\n",
       "Messstelle       object\n",
       "Datum            object\n",
       "NO3 [mg/l]       object\n",
       "pH [ -]          object\n",
       "O2 [mg/l]        object\n",
       "O2-SÃ¤tt [%]     object\n",
       "T [Â°C]          object\n",
       "RECHTSWERT        int64\n",
       "HOCHWERT          int64\n",
       "HYDROGEOLE      float64\n",
       "AQUIFER          object\n",
       "HYDROGEOL3       object\n",
       "dtype: object"
      ]
     },
     "execution_count": 4,
     "metadata": {},
     "output_type": "execute_result"
    }
   ],
   "source": [
    "data1.dtypes"
   ]
  },
  {
   "cell_type": "code",
   "execution_count": 5,
   "id": "086c5e2f",
   "metadata": {},
   "outputs": [
    {
     "data": {
      "text/html": [
       "<div>\n",
       "<style scoped>\n",
       "    .dataframe tbody tr th:only-of-type {\n",
       "        vertical-align: middle;\n",
       "    }\n",
       "\n",
       "    .dataframe tbody tr th {\n",
       "        vertical-align: top;\n",
       "    }\n",
       "\n",
       "    .dataframe thead th {\n",
       "        text-align: right;\n",
       "    }\n",
       "</style>\n",
       "<table border=\"1\" class=\"dataframe\">\n",
       "  <thead>\n",
       "    <tr style=\"text-align: right;\">\n",
       "      <th></th>\n",
       "      <th>FID</th>\n",
       "      <th>GW_NUMMER</th>\n",
       "      <th>NAME</th>\n",
       "      <th>RECHTSWERT</th>\n",
       "      <th>HOCHWERT</th>\n",
       "      <th>GEMEINDE_K</th>\n",
       "      <th>AQUIFER_KZ</th>\n",
       "      <th>EINZUGSGEB</th>\n",
       "      <th>HYDROGEOLE</th>\n",
       "      <th>HYDROGEOL2</th>\n",
       "      <th>MESSNETZ1_</th>\n",
       "      <th>MESSNETZ2_</th>\n",
       "      <th>GEMEINDE</th>\n",
       "      <th>AQUIFER</th>\n",
       "      <th>EINZUGSGE2</th>\n",
       "      <th>HYDROGEOL3</th>\n",
       "      <th>MESSNETZ1</th>\n",
       "      <th>MESSNETZ2</th>\n",
       "      <th>RASTERVALU</th>\n",
       "    </tr>\n",
       "  </thead>\n",
       "  <tbody>\n",
       "    <tr>\n",
       "      <th>0</th>\n",
       "      <td>0</td>\n",
       "      <td>1/022-9</td>\n",
       "      <td>QSS HERTINGERQU.1+2, KANDERN</td>\n",
       "      <td>3395475.0</td>\n",
       "      <td>5288420.0</td>\n",
       "      <td>8336104.0</td>\n",
       "      <td>31.0</td>\n",
       "      <td>2.333220e+09</td>\n",
       "      <td>11.0</td>\n",
       "      <td>2.0</td>\n",
       "      <td></td>\n",
       "      <td></td>\n",
       "      <td>MALSBURG-MARZELL</td>\n",
       "      <td>MALM WEIÃJURA (SCHWÃBISCHE ALB)</td>\n",
       "      <td>Engebach</td>\n",
       "      <td>Oberjura (Raurasische Fazies) (GWL)</td>\n",
       "      <td>#800000000010</td>\n",
       "      <td>#800000000002</td>\n",
       "      <td>311</td>\n",
       "    </tr>\n",
       "    <tr>\n",
       "      <th>1</th>\n",
       "      <td>1</td>\n",
       "      <td>1/117-3</td>\n",
       "      <td>QF KREBSBRUNNENQ., ETTENHEIM</td>\n",
       "      <td>3419400.0</td>\n",
       "      <td>5345550.0</td>\n",
       "      <td>8317026.0</td>\n",
       "      <td>81.0</td>\n",
       "      <td>2.338940e+09</td>\n",
       "      <td>45.0</td>\n",
       "      <td>69.0</td>\n",
       "      <td></td>\n",
       "      <td></td>\n",
       "      <td>ETTENHEIM, STADT</td>\n",
       "      <td>BUNTSANDSTEIN</td>\n",
       "      <td>Ettenbach</td>\n",
       "      <td>Unterer und Mittlerer Buntsandstein (GWL)</td>\n",
       "      <td>#800000000010</td>\n",
       "      <td>#800000000002</td>\n",
       "      <td>311</td>\n",
       "    </tr>\n",
       "    <tr>\n",
       "      <th>2</th>\n",
       "      <td>2</td>\n",
       "      <td>1/119-9</td>\n",
       "      <td>TB SCHLAGBR.4, VOERSTETTEN</td>\n",
       "      <td>3414860.0</td>\n",
       "      <td>5325450.0</td>\n",
       "      <td>8316045.0</td>\n",
       "      <td>4.0</td>\n",
       "      <td>2.338892e+09</td>\n",
       "      <td>3.0</td>\n",
       "      <td>8.0</td>\n",
       "      <td></td>\n",
       "      <td></td>\n",
       "      <td>VÃRSTETTEN</td>\n",
       "      <td>QUARTÃR EISZEITL.KIESE+SANDE (OBERRHEINGRABEN)</td>\n",
       "      <td>Schobbach</td>\n",
       "      <td>QuartÃ¤re Kiese und Sande (GWL)</td>\n",
       "      <td>#800000000012</td>\n",
       "      <td></td>\n",
       "      <td>211</td>\n",
       "    </tr>\n",
       "    <tr>\n",
       "      <th>3</th>\n",
       "      <td>3</td>\n",
       "      <td>1/120-8</td>\n",
       "      <td>QF2 KLEISLEWALDQ., ZASTLER</td>\n",
       "      <td>3423200.0</td>\n",
       "      <td>5309100.0</td>\n",
       "      <td>8315084.0</td>\n",
       "      <td>91.0</td>\n",
       "      <td>2.338830e+09</td>\n",
       "      <td>50.0</td>\n",
       "      <td>18.0</td>\n",
       "      <td></td>\n",
       "      <td></td>\n",
       "      <td>OBERRIED</td>\n",
       "      <td>KRISTALLIN (SCHWARZWALD)</td>\n",
       "      <td>Dreisam unterh. Wagensteigbach oberh. Brugga</td>\n",
       "      <td>PalÃ¤ozoikum, Kristallin (GWG)</td>\n",
       "      <td>#800000000010</td>\n",
       "      <td>#800000000002</td>\n",
       "      <td>312</td>\n",
       "    </tr>\n",
       "    <tr>\n",
       "      <th>4</th>\n",
       "      <td>4</td>\n",
       "      <td>1/121-0</td>\n",
       "      <td>Q STOLLENQUELLE HINTERES ELEND, MÃNSTERTAL</td>\n",
       "      <td>3413785.0</td>\n",
       "      <td>5303338.0</td>\n",
       "      <td>8315130.0</td>\n",
       "      <td>91.0</td>\n",
       "      <td>2.336410e+09</td>\n",
       "      <td>50.0</td>\n",
       "      <td>18.0</td>\n",
       "      <td></td>\n",
       "      <td></td>\n",
       "      <td>MÃNSTERTAL/ SCHWARZWALD</td>\n",
       "      <td>KRISTALLIN (SCHWARZWALD)</td>\n",
       "      <td>Neumagen oberhalb von Talbach</td>\n",
       "      <td>PalÃ¤ozoikum, Kristallin (GWG)</td>\n",
       "      <td>#800000000010</td>\n",
       "      <td>#800000000002</td>\n",
       "      <td>231</td>\n",
       "    </tr>\n",
       "  </tbody>\n",
       "</table>\n",
       "</div>"
      ],
      "text/plain": [
       "   FID GW_NUMMER                                         NAME  RECHTSWERT  \\\n",
       "0    0   1/022-9                 QSS HERTINGERQU.1+2, KANDERN   3395475.0   \n",
       "1    1   1/117-3                 QF KREBSBRUNNENQ., ETTENHEIM   3419400.0   \n",
       "2    2   1/119-9                   TB SCHLAGBR.4, VOERSTETTEN   3414860.0   \n",
       "3    3   1/120-8                   QF2 KLEISLEWALDQ., ZASTLER   3423200.0   \n",
       "4    4   1/121-0  Q STOLLENQUELLE HINTERES ELEND, MÃNSTERTAL   3413785.0   \n",
       "\n",
       "    HOCHWERT  GEMEINDE_K  AQUIFER_KZ    EINZUGSGEB  HYDROGEOLE  HYDROGEOL2  \\\n",
       "0  5288420.0   8336104.0        31.0  2.333220e+09        11.0         2.0   \n",
       "1  5345550.0   8317026.0        81.0  2.338940e+09        45.0        69.0   \n",
       "2  5325450.0   8316045.0         4.0  2.338892e+09         3.0         8.0   \n",
       "3  5309100.0   8315084.0        91.0  2.338830e+09        50.0        18.0   \n",
       "4  5303338.0   8315130.0        91.0  2.336410e+09        50.0        18.0   \n",
       "\n",
       "  MESSNETZ1_ MESSNETZ2_                  GEMEINDE  \\\n",
       "0                                MALSBURG-MARZELL   \n",
       "1                                ETTENHEIM, STADT   \n",
       "2                                     VÃRSTETTEN   \n",
       "3                                        OBERRIED   \n",
       "4                        MÃNSTERTAL/ SCHWARZWALD   \n",
       "\n",
       "                                           AQUIFER  \\\n",
       "0                MALM WEIÃJURA (SCHWÃBISCHE ALB)   \n",
       "1                                    BUNTSANDSTEIN   \n",
       "2  QUARTÃR EISZEITL.KIESE+SANDE (OBERRHEINGRABEN)   \n",
       "3                         KRISTALLIN (SCHWARZWALD)   \n",
       "4                         KRISTALLIN (SCHWARZWALD)   \n",
       "\n",
       "                                     EINZUGSGE2  \\\n",
       "0                                      Engebach   \n",
       "1                                     Ettenbach   \n",
       "2                                     Schobbach   \n",
       "3  Dreisam unterh. Wagensteigbach oberh. Brugga   \n",
       "4                 Neumagen oberhalb von Talbach   \n",
       "\n",
       "                                  HYDROGEOL3      MESSNETZ1      MESSNETZ2  \\\n",
       "0        Oberjura (Raurasische Fazies) (GWL)  #800000000010  #800000000002   \n",
       "1  Unterer und Mittlerer Buntsandstein (GWL)  #800000000010  #800000000002   \n",
       "2            QuartÃ¤re Kiese und Sande (GWL)  #800000000012                  \n",
       "3             PalÃ¤ozoikum, Kristallin (GWG)  #800000000010  #800000000002   \n",
       "4             PalÃ¤ozoikum, Kristallin (GWG)  #800000000010  #800000000002   \n",
       "\n",
       "   RASTERVALU  \n",
       "0         311  \n",
       "1         311  \n",
       "2         211  \n",
       "3         312  \n",
       "4         231  "
      ]
     },
     "execution_count": 5,
     "metadata": {},
     "output_type": "execute_result"
    }
   ],
   "source": [
    "data2.head()"
   ]
  },
  {
   "cell_type": "code",
   "execution_count": 6,
   "id": "f75193e7",
   "metadata": {},
   "outputs": [
    {
     "data": {
      "text/plain": [
       "FID             int64\n",
       "GW_NUMMER      object\n",
       "NAME           object\n",
       "RECHTSWERT    float64\n",
       "HOCHWERT      float64\n",
       "GEMEINDE_K    float64\n",
       "AQUIFER_KZ    float64\n",
       "EINZUGSGEB    float64\n",
       "HYDROGEOLE    float64\n",
       "HYDROGEOL2    float64\n",
       "MESSNETZ1_     object\n",
       "MESSNETZ2_     object\n",
       "GEMEINDE       object\n",
       "AQUIFER        object\n",
       "EINZUGSGE2     object\n",
       "HYDROGEOL3     object\n",
       "MESSNETZ1      object\n",
       "MESSNETZ2      object\n",
       "RASTERVALU      int64\n",
       "dtype: object"
      ]
     },
     "execution_count": 6,
     "metadata": {},
     "output_type": "execute_result"
    }
   ],
   "source": [
    "data2.dtypes"
   ]
  },
  {
   "cell_type": "markdown",
   "id": "81f5238b",
   "metadata": {},
   "source": [
    "### Zusammenführen von Datensätzen"
   ]
  },
  {
   "cell_type": "markdown",
   "id": "5346c830",
   "metadata": {},
   "source": [
    "Zusammenführen der beiden Datensätze mit Hilfe des .merge-Befehls für Pandas Dataframes.\n",
    "\n",
    "Gemeinsame Spalte für das Zusammenführen ist die Grundwassernummer.\n",
    "\n",
    "Von dem zweiten Datensatz benötigen wir lediglich die Spalte \"RASTERVALU\", diese enthält Daten zur Landnutzung von der Corine Landuse."
   ]
  },
  {
   "cell_type": "code",
   "execution_count": 7,
   "id": "8cf02a21",
   "metadata": {},
   "outputs": [],
   "source": [
    "joined_data = data1.merge(data2[['GW_NUMMER','RASTERVALU']], left_on='GW-Nummer', right_on='GW_NUMMER')"
   ]
  },
  {
   "cell_type": "code",
   "execution_count": 8,
   "id": "3955be57",
   "metadata": {},
   "outputs": [
    {
     "data": {
      "text/plain": [
       "Index(['Unnamed: 0', 'GW-Nummer', 'Messstelle', 'Datum', 'NO3 [mg/l]',\n",
       "       'pH [ -]', 'O2 [mg/l]', 'O2-SÃ¤tt [%]', 'T [Â°C]', 'RECHTSWERT',\n",
       "       'HOCHWERT', 'HYDROGEOLE', 'AQUIFER', 'HYDROGEOL3', 'GW_NUMMER',\n",
       "       'RASTERVALU'],\n",
       "      dtype='object')"
      ]
     },
     "execution_count": 8,
     "metadata": {},
     "output_type": "execute_result"
    }
   ],
   "source": [
    "joined_data.columns"
   ]
  },
  {
   "cell_type": "markdown",
   "id": "62f019b2",
   "metadata": {},
   "source": [
    "Für die weitere Verarbeitung benötigen wir nur noch die folgenden Spalten:\n",
    "- Messstelle\n",
    "- GW-Nummer \n",
    "- Datum\n",
    "- NO3\n",
    "- O2\n",
    "- Rastervalu = Corine Landcover\n",
    "- Hydrogeologie"
   ]
  },
  {
   "cell_type": "code",
   "execution_count": 9,
   "id": "6bbdac50",
   "metadata": {},
   "outputs": [],
   "source": [
    "data = joined_data[['Messstelle','GW-Nummer','Datum', 'NO3 [mg/l]','O2 [mg/l]','RASTERVALU', 'HYDROGEOL3']]\n",
    "data = data.assign(Datum=pd.to_datetime(data['Datum'], format='%d.%m.%Y %H:%M'))"
   ]
  },
  {
   "cell_type": "markdown",
   "id": "e224cbe4",
   "metadata": {},
   "source": [
    "## Werte unter NWG"
   ]
  },
  {
   "cell_type": "markdown",
   "id": "8a37eb51",
   "metadata": {},
   "source": [
    "Die folgende Funktion ersetzt Werte unter der NWG, die im Format \"< NWG\" vorliegen durch 0.5*NWG:"
   ]
  },
  {
   "cell_type": "code",
   "execution_count": 10,
   "id": "a503f996",
   "metadata": {
    "code_folding": [
     0
    ]
   },
   "outputs": [],
   "source": [
    "# Funktion um Werte unter der NWG durch 0.5*NWG zu ersetzen\n",
    "def u_NWG(X):\n",
    "    if type(X) == str:\n",
    "        if '<' in X:\n",
    "            Y = float(X.split('<')[1].replace(',', '.'))/2\n",
    "        else:\n",
    "            Y = float(X.replace(',','.'))\n",
    "    else:\n",
    "        Y = X\n",
    "    return float(Y)"
   ]
  },
  {
   "cell_type": "code",
   "execution_count": 11,
   "id": "ea070475",
   "metadata": {},
   "outputs": [
    {
     "name": "stdout",
     "output_type": "stream",
     "text": [
      "0.11602890458203317 0.17326326161931352\n"
     ]
    }
   ],
   "source": [
    "print(data['O2 [mg/l]'].str.contains('<').sum()/len(data),\n",
    "      data['NO3 [mg/l]'].str.contains('<').sum()/len(data))"
   ]
  },
  {
   "cell_type": "markdown",
   "id": "1e23ad3a",
   "metadata": {},
   "source": [
    "Anwenden der Funktion auf die Spalten 'NO3 [mg/l]' und 'O2 [mg/l]', um die neuen Spalten 'NO3' und 'O2' zu erstellen.\n",
    "\n",
    "Anschließendes Entfernen der ehemaligen Spalten."
   ]
  },
  {
   "cell_type": "code",
   "execution_count": 12,
   "id": "4c2f5433",
   "metadata": {},
   "outputs": [],
   "source": [
    "data = data.assign(O2= data['O2 [mg/l]'].apply(u_NWG),\n",
    "           NO3 = data['NO3 [mg/l]'].apply(u_NWG))\n",
    "data.drop(columns=['NO3 [mg/l]','O2 [mg/l]'], inplace=True)"
   ]
  },
  {
   "cell_type": "markdown",
   "id": "0a3690cb",
   "metadata": {},
   "source": [
    "## NULL-Values"
   ]
  },
  {
   "cell_type": "markdown",
   "id": "d325c1f9",
   "metadata": {},
   "source": [
    "Kontrolle der NULL-Values:"
   ]
  },
  {
   "cell_type": "code",
   "execution_count": 13,
   "id": "719db85d",
   "metadata": {},
   "outputs": [
    {
     "data": {
      "text/plain": [
       "Messstelle      0\n",
       "GW-Nummer       0\n",
       "Datum           0\n",
       "RASTERVALU      0\n",
       "HYDROGEOL3     56\n",
       "O2            475\n",
       "NO3             0\n",
       "dtype: int64"
      ]
     },
     "execution_count": 13,
     "metadata": {},
     "output_type": "execute_result"
    }
   ],
   "source": [
    "data.isnull().sum()"
   ]
  },
  {
   "cell_type": "markdown",
   "id": "246e9890",
   "metadata": {},
   "source": [
    "### Numerische Spalten"
   ]
  },
  {
   "cell_type": "markdown",
   "id": "bfc45cc1",
   "metadata": {},
   "source": [
    "Für die numerische Spalte 'O2' werden die fehlenden Werte durch den Mittelwert ersetzt.\n",
    "\n",
    "Dies passiert mit dem \"fillna()\"-Befehl für Pandas-Dataframes.\n",
    "\n",
    "Falls fehlende Werte durch bspw. \"-999\" gegeben sind, können Sie mit dem Befehl \".replace('alter_Wert', 'neuer_Wert')\" ersetzt werden. "
   ]
  },
  {
   "cell_type": "code",
   "execution_count": 14,
   "id": "08e69896",
   "metadata": {},
   "outputs": [],
   "source": [
    "data['O2'].fillna(data.O2.mean(), inplace=True)"
   ]
  },
  {
   "cell_type": "markdown",
   "id": "18e68a2c",
   "metadata": {},
   "source": [
    "### Für kategorische Spalten"
   ]
  },
  {
   "cell_type": "code",
   "execution_count": 15,
   "id": "9fa29ffb",
   "metadata": {},
   "outputs": [
    {
     "name": "stdout",
     "output_type": "stream",
     "text": [
      "QuartÃ¤re Kiese und Sande (GWL)        11955\n",
      "PalÃ¤ozoikum, Kristallin (GWG)            50\n",
      "TertiÃ¤r im Oberrheingraben (GWG)         37\n",
      "Oberjura (Raurasische Fazies) (GWL)       35\n",
      "Oberer Muschelkalk (GWL)                  26\n",
      "Unterjura und Mitteljura (GWG)            19\n",
      "Name: HYDROGEOL3, dtype: int64 \n",
      "\n",
      " Modus: QuartÃ¤re Kiese und Sande (GWL)\n"
     ]
    }
   ],
   "source": [
    "hy_mode = data.HYDROGEOL3.mode()[0]\n",
    "print(data.HYDROGEOL3.value_counts(),'\\n\\n',\n",
    "      'Modus:',\n",
    "      hy_mode)"
   ]
  },
  {
   "cell_type": "code",
   "execution_count": 16,
   "id": "fcf8d6c4",
   "metadata": {},
   "outputs": [],
   "source": [
    "data = data.assign(Hydrogeologie = data.loc[:,'HYDROGEOL3'].fillna(hy_mode))\n",
    "data.drop(columns='HYDROGEOL3', inplace=True)"
   ]
  },
  {
   "cell_type": "markdown",
   "id": "f30e4a05",
   "metadata": {},
   "source": [
    "### Kontrolle"
   ]
  },
  {
   "cell_type": "code",
   "execution_count": 17,
   "id": "d8310323",
   "metadata": {},
   "outputs": [
    {
     "data": {
      "text/plain": [
       "Messstelle       0\n",
       "GW-Nummer        0\n",
       "Datum            0\n",
       "RASTERVALU       0\n",
       "O2               0\n",
       "NO3              0\n",
       "Hydrogeologie    0\n",
       "dtype: int64"
      ]
     },
     "execution_count": 17,
     "metadata": {},
     "output_type": "execute_result"
    }
   ],
   "source": [
    "data.isnull().sum()"
   ]
  },
  {
   "cell_type": "markdown",
   "id": "9517db86",
   "metadata": {},
   "source": [
    "## Feature Aggregation"
   ]
  },
  {
   "cell_type": "markdown",
   "id": "d8c6cc0e",
   "metadata": {},
   "source": [
    "Einen mittleren Wert für jede Messstelle.\n",
    "\n",
    "Für die numerischen Features (NO3, O2) wird für jede Messstelle der Mittelwert verwendet, während für die kategorischen Variablen der Modus (häufigst auftretender Wert) verwendet wird.\n",
    "\n",
    "Für dieses Zusammenfassen wird die Funktion \".groupby()\" verwendet.\n",
    "\n",
    "Nach dem Zusammenfassen wird er Index resetet weil sonst die Messstellen der Index sind.\n",
    "\n",
    "Die beiden entstandenen Datensätze werden dann wieder zusammengeführt."
   ]
  },
  {
   "cell_type": "code",
   "execution_count": 18,
   "id": "0276b539",
   "metadata": {},
   "outputs": [],
   "source": [
    "messstellen1 = data[['Messstelle','NO3','O2']].groupby('Messstelle').mean()\n",
    "messstellen2 = data[['Messstelle','Hydrogeologie','RASTERVALU']].groupby('Messstelle').agg(pd.Series.mode)\n",
    "\n",
    "messstellen1.reset_index(inplace=True)\n",
    "messstellen2.reset_index(inplace=True)"
   ]
  },
  {
   "cell_type": "code",
   "execution_count": 19,
   "id": "3b4b37ee",
   "metadata": {},
   "outputs": [],
   "source": [
    "Messstellen  = messstellen1.merge(messstellen2, on='Messstelle')"
   ]
  },
  {
   "cell_type": "code",
   "execution_count": 20,
   "id": "2389a1e8",
   "metadata": {},
   "outputs": [
    {
     "data": {
      "text/html": [
       "<div>\n",
       "<style scoped>\n",
       "    .dataframe tbody tr th:only-of-type {\n",
       "        vertical-align: middle;\n",
       "    }\n",
       "\n",
       "    .dataframe tbody tr th {\n",
       "        vertical-align: top;\n",
       "    }\n",
       "\n",
       "    .dataframe thead th {\n",
       "        text-align: right;\n",
       "    }\n",
       "</style>\n",
       "<table border=\"1\" class=\"dataframe\">\n",
       "  <thead>\n",
       "    <tr style=\"text-align: right;\">\n",
       "      <th></th>\n",
       "      <th>Messstelle</th>\n",
       "      <th>NO3</th>\n",
       "      <th>O2</th>\n",
       "      <th>Hydrogeologie</th>\n",
       "      <th>RASTERVALU</th>\n",
       "    </tr>\n",
       "  </thead>\n",
       "  <tbody>\n",
       "    <tr>\n",
       "      <th>0</th>\n",
       "      <td>BBR 1 Firma Schultis, Riegel</td>\n",
       "      <td>6.259259</td>\n",
       "      <td>1.315473</td>\n",
       "      <td>QuartÃ¤re Kiese und Sande (GWL)</td>\n",
       "      <td>121</td>\n",
       "    </tr>\n",
       "    <tr>\n",
       "      <th>1</th>\n",
       "      <td>BBR 2 Firma Thieme, Teningen</td>\n",
       "      <td>1.452941</td>\n",
       "      <td>0.823723</td>\n",
       "      <td>QuartÃ¤re Kiese und Sande (GWL)</td>\n",
       "      <td>121</td>\n",
       "    </tr>\n",
       "    <tr>\n",
       "      <th>2</th>\n",
       "      <td>BBR 2 Kronenwiese Firma Burda Werk 1, Offenburg</td>\n",
       "      <td>5.600000</td>\n",
       "      <td>1.984615</td>\n",
       "      <td>QuartÃ¤re Kiese und Sande (GWL)</td>\n",
       "      <td>121</td>\n",
       "    </tr>\n",
       "    <tr>\n",
       "      <th>3</th>\n",
       "      <td>BBR 3186 im Garten der alten Schule, Langhurst</td>\n",
       "      <td>6.968750</td>\n",
       "      <td>0.730346</td>\n",
       "      <td>QuartÃ¤re Kiese und Sande (GWL)</td>\n",
       "      <td>112</td>\n",
       "    </tr>\n",
       "    <tr>\n",
       "      <th>4</th>\n",
       "      <td>BBR 998 A KehlerstraÃe, Neuried-Auenheim</td>\n",
       "      <td>56.164286</td>\n",
       "      <td>1.116071</td>\n",
       "      <td>QuartÃ¤re Kiese und Sande (GWL)</td>\n",
       "      <td>112</td>\n",
       "    </tr>\n",
       "    <tr>\n",
       "      <th>...</th>\n",
       "      <td>...</td>\n",
       "      <td>...</td>\n",
       "      <td>...</td>\n",
       "      <td>...</td>\n",
       "      <td>...</td>\n",
       "    </tr>\n",
       "    <tr>\n",
       "      <th>502</th>\n",
       "      <td>TB Winzergenossenschaft, Sasbach am Kaiserstuhl</td>\n",
       "      <td>23.231034</td>\n",
       "      <td>2.691992</td>\n",
       "      <td>QuartÃ¤re Kiese und Sande (GWL)</td>\n",
       "      <td>112</td>\n",
       "    </tr>\n",
       "    <tr>\n",
       "      <th>503</th>\n",
       "      <td>TB WÃ¤ldeleacker Feldkirch, Hartheim am Rhein</td>\n",
       "      <td>84.274074</td>\n",
       "      <td>7.785307</td>\n",
       "      <td>QuartÃ¤re Kiese und Sande (GWL)</td>\n",
       "      <td>211</td>\n",
       "    </tr>\n",
       "    <tr>\n",
       "      <th>504</th>\n",
       "      <td>TB1 Glockenackern, Buggingen</td>\n",
       "      <td>59.056667</td>\n",
       "      <td>7.399035</td>\n",
       "      <td>QuartÃ¤re Kiese und Sande (GWL)</td>\n",
       "      <td>211</td>\n",
       "    </tr>\n",
       "    <tr>\n",
       "      <th>505</th>\n",
       "      <td>TB1 WeingartenhÃ¶fe, Forchheim</td>\n",
       "      <td>69.444000</td>\n",
       "      <td>4.908000</td>\n",
       "      <td>QuartÃ¤re Kiese und Sande (GWL)</td>\n",
       "      <td>211</td>\n",
       "    </tr>\n",
       "    <tr>\n",
       "      <th>506</th>\n",
       "      <td>TB2 Kieswerk Sattler, Steinenstadt</td>\n",
       "      <td>16.624138</td>\n",
       "      <td>3.890836</td>\n",
       "      <td>QuartÃ¤re Kiese und Sande (GWL)</td>\n",
       "      <td>211</td>\n",
       "    </tr>\n",
       "  </tbody>\n",
       "</table>\n",
       "<p>507 rows × 5 columns</p>\n",
       "</div>"
      ],
      "text/plain": [
       "                                          Messstelle        NO3        O2  \\\n",
       "0                       BBR 1 Firma Schultis, Riegel   6.259259  1.315473   \n",
       "1                       BBR 2 Firma Thieme, Teningen   1.452941  0.823723   \n",
       "2    BBR 2 Kronenwiese Firma Burda Werk 1, Offenburg   5.600000  1.984615   \n",
       "3     BBR 3186 im Garten der alten Schule, Langhurst   6.968750  0.730346   \n",
       "4          BBR 998 A KehlerstraÃe, Neuried-Auenheim  56.164286  1.116071   \n",
       "..                                               ...        ...       ...   \n",
       "502  TB Winzergenossenschaft, Sasbach am Kaiserstuhl  23.231034  2.691992   \n",
       "503    TB WÃ¤ldeleacker Feldkirch, Hartheim am Rhein  84.274074  7.785307   \n",
       "504                     TB1 Glockenackern, Buggingen  59.056667  7.399035   \n",
       "505                   TB1 WeingartenhÃ¶fe, Forchheim  69.444000  4.908000   \n",
       "506               TB2 Kieswerk Sattler, Steinenstadt  16.624138  3.890836   \n",
       "\n",
       "                       Hydrogeologie  RASTERVALU  \n",
       "0    QuartÃ¤re Kiese und Sande (GWL)         121  \n",
       "1    QuartÃ¤re Kiese und Sande (GWL)         121  \n",
       "2    QuartÃ¤re Kiese und Sande (GWL)         121  \n",
       "3    QuartÃ¤re Kiese und Sande (GWL)         112  \n",
       "4    QuartÃ¤re Kiese und Sande (GWL)         112  \n",
       "..                               ...         ...  \n",
       "502  QuartÃ¤re Kiese und Sande (GWL)         112  \n",
       "503  QuartÃ¤re Kiese und Sande (GWL)         211  \n",
       "504  QuartÃ¤re Kiese und Sande (GWL)         211  \n",
       "505  QuartÃ¤re Kiese und Sande (GWL)         211  \n",
       "506  QuartÃ¤re Kiese und Sande (GWL)         211  \n",
       "\n",
       "[507 rows x 5 columns]"
      ]
     },
     "execution_count": 20,
     "metadata": {},
     "output_type": "execute_result"
    }
   ],
   "source": [
    "Messstellen"
   ]
  },
  {
   "cell_type": "markdown",
   "id": "545ed8ae",
   "metadata": {},
   "source": [
    "## Splitten"
   ]
  },
  {
   "cell_type": "markdown",
   "id": "be700c37",
   "metadata": {},
   "source": [
    "Das Aufteilen des Datensatzes erfolgt mit der Funktion \"train_test_split\" des Packages sklearn.\n",
    "\n",
    "Hier kann mit dem Parameter \"test_size\" das Verhältnis festgelegt werden und mit dem Parameter \"random_state\" die Reproduzierbarkeit garantiert werden. "
   ]
  },
  {
   "cell_type": "code",
   "execution_count": 23,
   "id": "0bca70da",
   "metadata": {},
   "outputs": [],
   "source": [
    "from sklearn.model_selection import train_test_split"
   ]
  },
  {
   "cell_type": "code",
   "execution_count": 24,
   "id": "c514ef6d",
   "metadata": {},
   "outputs": [],
   "source": [
    "train, test = train_test_split(Messstellen, test_size=0.2, random_state=43)"
   ]
  },
  {
   "cell_type": "code",
   "execution_count": 25,
   "id": "c885c3b4",
   "metadata": {},
   "outputs": [
    {
     "name": "stdout",
     "output_type": "stream",
     "text": [
      "Größe Trainingsdaten:  (405, 5)\n",
      "Größe Testdaten:  (102, 5)\n"
     ]
    }
   ],
   "source": [
    "print('Größe Trainingsdaten: ', train.shape)\n",
    "print('Größe Testdaten: ', test.shape)"
   ]
  },
  {
   "cell_type": "markdown",
   "id": "02a5c045",
   "metadata": {},
   "source": [
    "## Skalieren"
   ]
  },
  {
   "cell_type": "markdown",
   "id": "f0604f4e",
   "metadata": {},
   "source": [
    "### Normieren"
   ]
  },
  {
   "cell_type": "markdown",
   "id": "bb3d6b32",
   "metadata": {},
   "source": [
    "Händisches Skalieren mit Hilfe der Formel:\n",
    "$X_{norm} = \\frac{X - X_{min}}{X_{max} - X_{min}}$"
   ]
  },
  {
   "cell_type": "code",
   "execution_count": 26,
   "id": "2c978e86",
   "metadata": {},
   "outputs": [],
   "source": [
    "X_min = train.NO3.min()\n",
    "X_range = train.NO3.max() - train.NO3.min()\n",
    "train = train.assign(NO3_norm = (train['NO3']-X_min)/X_range)\n",
    "test = test.assign(NO3_norm = (test['NO3']-X_min)/X_range)"
   ]
  },
  {
   "cell_type": "code",
   "execution_count": 27,
   "id": "44b2617b",
   "metadata": {},
   "outputs": [
    {
     "name": "stdout",
     "output_type": "stream",
     "text": [
      "X_min:  0.0\n",
      "X_max:  1.0\n"
     ]
    }
   ],
   "source": [
    "print('X_min: ', train.NO3_norm.min())\n",
    "print('X_max: ', train.NO3_norm.max())"
   ]
  },
  {
   "cell_type": "markdown",
   "id": "36f854e8",
   "metadata": {},
   "source": [
    "Vorhandene Funktion von sklearn \"MinMaxScaler\"\n",
    "\n",
    "Die Scaler werden zuerst als eingenes Objekt erstellt und müssen dann an Daten gefittet werden.\n",
    "\n",
    "Anschließend können sie Daten auf Grundlage der Fit-Daten transformieren, hier sklieren."
   ]
  },
  {
   "cell_type": "code",
   "execution_count": 28,
   "id": "32bc905b",
   "metadata": {},
   "outputs": [],
   "source": [
    "from sklearn.preprocessing import MinMaxScaler"
   ]
  },
  {
   "cell_type": "code",
   "execution_count": 29,
   "id": "92d87724",
   "metadata": {},
   "outputs": [
    {
     "data": {
      "text/plain": [
       "MinMaxScaler()"
      ]
     },
     "execution_count": 29,
     "metadata": {},
     "output_type": "execute_result"
    }
   ],
   "source": [
    "scaler = MinMaxScaler()\n",
    "scaler.fit(train[['NO3']])"
   ]
  },
  {
   "cell_type": "code",
   "execution_count": 30,
   "id": "1748c2be",
   "metadata": {},
   "outputs": [],
   "source": [
    "train['NO3_norm']= scaler.transform(train[['NO3']])\n",
    "test['NO3_norm'] = scaler.transform(test[['NO3']])"
   ]
  },
  {
   "cell_type": "code",
   "execution_count": 31,
   "id": "c6878778",
   "metadata": {},
   "outputs": [
    {
     "name": "stdout",
     "output_type": "stream",
     "text": [
      "X_min:  0.0\n",
      "X_max:  1.0000000000000002\n"
     ]
    }
   ],
   "source": [
    "print('X_min: ', train.NO3_norm.min())\n",
    "print('X_max: ', train.NO3_norm.max())"
   ]
  },
  {
   "cell_type": "markdown",
   "id": "247ce089",
   "metadata": {},
   "source": [
    "### Standardisieren"
   ]
  },
  {
   "cell_type": "markdown",
   "id": "217450f3",
   "metadata": {},
   "source": [
    "Händisches Skalieren mit Hilfe der Formel:\n",
    "$X_{std} = \\frac{X - mean(X)}{stdw(X)}$"
   ]
  },
  {
   "cell_type": "code",
   "execution_count": 32,
   "id": "0756fa81",
   "metadata": {},
   "outputs": [],
   "source": [
    "X_mean = train.NO3.mean()\n",
    "X_std = train.NO3.std()\n",
    "train = train.assign(NO3_std = (train['NO3']-X_mean)/X_std)\n",
    "test = test.assign(NO3_std = (test['NO3']-X_mean)/X_std)"
   ]
  },
  {
   "cell_type": "code",
   "execution_count": 33,
   "id": "2f369c0a",
   "metadata": {},
   "outputs": [
    {
     "name": "stdout",
     "output_type": "stream",
     "text": [
      "mean(X):  -1.798287170750871e-16\n",
      "std(X):  0.9999999999999999\n"
     ]
    }
   ],
   "source": [
    "print('mean(X): ', train.NO3_std.mean())\n",
    "print('std(X): ', train.NO3_std.std())"
   ]
  },
  {
   "cell_type": "markdown",
   "id": "bd19dfd3",
   "metadata": {},
   "source": [
    "Vorhandene Funktion von sklearn \"StandardScaler\""
   ]
  },
  {
   "cell_type": "code",
   "execution_count": 34,
   "id": "4a385718",
   "metadata": {},
   "outputs": [],
   "source": [
    "from sklearn.preprocessing import StandardScaler"
   ]
  },
  {
   "cell_type": "code",
   "execution_count": 35,
   "id": "fd5167cd",
   "metadata": {},
   "outputs": [
    {
     "data": {
      "text/plain": [
       "StandardScaler()"
      ]
     },
     "execution_count": 35,
     "metadata": {},
     "output_type": "execute_result"
    }
   ],
   "source": [
    "scaler = StandardScaler()\n",
    "scaler.fit(train[['NO3']])"
   ]
  },
  {
   "cell_type": "code",
   "execution_count": 36,
   "id": "638323fb",
   "metadata": {},
   "outputs": [],
   "source": [
    "train['NO3_std']= scaler.transform(train[['NO3']])\n",
    "test['NO3_std'] = scaler.transform(test[['NO3']])"
   ]
  },
  {
   "cell_type": "code",
   "execution_count": 37,
   "id": "7fa80846",
   "metadata": {},
   "outputs": [
    {
     "name": "stdout",
     "output_type": "stream",
     "text": [
      "mean(X):  -1.8860084961533524e-16\n",
      "std(X):  1.0012368588524656\n"
     ]
    }
   ],
   "source": [
    "print('mean(X): ', train.NO3_std.mean())\n",
    "print('std(X): ', train.NO3_std.std())"
   ]
  },
  {
   "cell_type": "code",
   "execution_count": 38,
   "id": "1bff391d",
   "metadata": {},
   "outputs": [
    {
     "data": {
      "text/html": [
       "<div>\n",
       "<style scoped>\n",
       "    .dataframe tbody tr th:only-of-type {\n",
       "        vertical-align: middle;\n",
       "    }\n",
       "\n",
       "    .dataframe tbody tr th {\n",
       "        vertical-align: top;\n",
       "    }\n",
       "\n",
       "    .dataframe thead th {\n",
       "        text-align: right;\n",
       "    }\n",
       "</style>\n",
       "<table border=\"1\" class=\"dataframe\">\n",
       "  <thead>\n",
       "    <tr style=\"text-align: right;\">\n",
       "      <th></th>\n",
       "      <th>Messstelle</th>\n",
       "      <th>NO3</th>\n",
       "      <th>O2</th>\n",
       "      <th>Hydrogeologie</th>\n",
       "      <th>RASTERVALU</th>\n",
       "      <th>NO3_norm</th>\n",
       "      <th>NO3_std</th>\n",
       "    </tr>\n",
       "  </thead>\n",
       "  <tbody>\n",
       "    <tr>\n",
       "      <th>59</th>\n",
       "      <td>BR Erdbeerland E., Durmersheim</td>\n",
       "      <td>36.376923</td>\n",
       "      <td>7.192308</td>\n",
       "      <td>QuartÃ¤re Kiese und Sande (GWL)</td>\n",
       "      <td>211</td>\n",
       "      <td>0.292256</td>\n",
       "      <td>0.544047</td>\n",
       "    </tr>\n",
       "    <tr>\n",
       "      <th>157</th>\n",
       "      <td>GWM 10, Kahlenberg, Ringsheim</td>\n",
       "      <td>31.021053</td>\n",
       "      <td>6.684384</td>\n",
       "      <td>Unterjura und Mitteljura (GWG)</td>\n",
       "      <td>211</td>\n",
       "      <td>0.248962</td>\n",
       "      <td>0.327006</td>\n",
       "    </tr>\n",
       "    <tr>\n",
       "      <th>179</th>\n",
       "      <td>GWM 17 Stuttgarter StraÃe STWKA, KA</td>\n",
       "      <td>0.247222</td>\n",
       "      <td>0.767654</td>\n",
       "      <td>QuartÃ¤re Kiese und Sande (GWL)</td>\n",
       "      <td>111</td>\n",
       "      <td>0.000208</td>\n",
       "      <td>-0.920074</td>\n",
       "    </tr>\n",
       "    <tr>\n",
       "      <th>342</th>\n",
       "      <td>GWM P 2, Sankt Leon</td>\n",
       "      <td>39.053125</td>\n",
       "      <td>4.098993</td>\n",
       "      <td>QuartÃ¤re Kiese und Sande (GWL)</td>\n",
       "      <td>211</td>\n",
       "      <td>0.313888</td>\n",
       "      <td>0.652497</td>\n",
       "    </tr>\n",
       "    <tr>\n",
       "      <th>12</th>\n",
       "      <td>BBR1 EVC GmbH, Staufen im Breisgau</td>\n",
       "      <td>7.218519</td>\n",
       "      <td>8.322222</td>\n",
       "      <td>QuartÃ¤re Kiese und Sande (GWL)</td>\n",
       "      <td>112</td>\n",
       "      <td>0.056560</td>\n",
       "      <td>-0.637569</td>\n",
       "    </tr>\n",
       "  </tbody>\n",
       "</table>\n",
       "</div>"
      ],
      "text/plain": [
       "                               Messstelle        NO3        O2  \\\n",
       "59         BR Erdbeerland E., Durmersheim  36.376923  7.192308   \n",
       "157         GWM 10, Kahlenberg, Ringsheim  31.021053  6.684384   \n",
       "179  GWM 17 Stuttgarter StraÃe STWKA, KA   0.247222  0.767654   \n",
       "342                   GWM P 2, Sankt Leon  39.053125  4.098993   \n",
       "12     BBR1 EVC GmbH, Staufen im Breisgau   7.218519  8.322222   \n",
       "\n",
       "                       Hydrogeologie  RASTERVALU  NO3_norm   NO3_std  \n",
       "59   QuartÃ¤re Kiese und Sande (GWL)         211  0.292256  0.544047  \n",
       "157   Unterjura und Mitteljura (GWG)         211  0.248962  0.327006  \n",
       "179  QuartÃ¤re Kiese und Sande (GWL)         111  0.000208 -0.920074  \n",
       "342  QuartÃ¤re Kiese und Sande (GWL)         211  0.313888  0.652497  \n",
       "12   QuartÃ¤re Kiese und Sande (GWL)         112  0.056560 -0.637569  "
      ]
     },
     "execution_count": 38,
     "metadata": {},
     "output_type": "execute_result"
    }
   ],
   "source": [
    "train.head()"
   ]
  },
  {
   "cell_type": "code",
   "execution_count": 39,
   "id": "8b93205e",
   "metadata": {},
   "outputs": [
    {
     "data": {
      "text/html": [
       "<div>\n",
       "<style scoped>\n",
       "    .dataframe tbody tr th:only-of-type {\n",
       "        vertical-align: middle;\n",
       "    }\n",
       "\n",
       "    .dataframe tbody tr th {\n",
       "        vertical-align: top;\n",
       "    }\n",
       "\n",
       "    .dataframe thead th {\n",
       "        text-align: right;\n",
       "    }\n",
       "</style>\n",
       "<table border=\"1\" class=\"dataframe\">\n",
       "  <thead>\n",
       "    <tr style=\"text-align: right;\">\n",
       "      <th></th>\n",
       "      <th>Messstelle</th>\n",
       "      <th>NO3</th>\n",
       "      <th>O2</th>\n",
       "      <th>Hydrogeologie</th>\n",
       "      <th>RASTERVALU</th>\n",
       "      <th>NO3_norm</th>\n",
       "      <th>NO3_std</th>\n",
       "    </tr>\n",
       "  </thead>\n",
       "  <tbody>\n",
       "    <tr>\n",
       "      <th>498</th>\n",
       "      <td>TB WW Neuburgweier, Rheinstetten</td>\n",
       "      <td>0.664062</td>\n",
       "      <td>1.625000</td>\n",
       "      <td>QuartÃ¤re Kiese und Sande (GWL)</td>\n",
       "      <td>231</td>\n",
       "      <td>0.003578</td>\n",
       "      <td>-0.903182</td>\n",
       "    </tr>\n",
       "    <tr>\n",
       "      <th>328</th>\n",
       "      <td>GWM K 20 Kehl, Goldscheuer</td>\n",
       "      <td>0.227778</td>\n",
       "      <td>0.255556</td>\n",
       "      <td>QuartÃ¤re Kiese und Sande (GWL)</td>\n",
       "      <td>231</td>\n",
       "      <td>0.000051</td>\n",
       "      <td>-0.920862</td>\n",
       "    </tr>\n",
       "    <tr>\n",
       "      <th>321</th>\n",
       "      <td>GWM G0/1 KIT, Leopoldshafen</td>\n",
       "      <td>6.945455</td>\n",
       "      <td>3.259091</td>\n",
       "      <td>QuartÃ¤re Kiese und Sande (GWL)</td>\n",
       "      <td>313</td>\n",
       "      <td>0.054352</td>\n",
       "      <td>-0.648635</td>\n",
       "    </tr>\n",
       "    <tr>\n",
       "      <th>170</th>\n",
       "      <td>GWM 1279 A, Oberhausen</td>\n",
       "      <td>14.138462</td>\n",
       "      <td>7.215385</td>\n",
       "      <td>QuartÃ¤re Kiese und Sande (GWL)</td>\n",
       "      <td>231</td>\n",
       "      <td>0.112496</td>\n",
       "      <td>-0.357145</td>\n",
       "    </tr>\n",
       "    <tr>\n",
       "      <th>432</th>\n",
       "      <td>TB 116 UniversitÃ¤t AlbertstraÃe, Freiburg</td>\n",
       "      <td>14.133333</td>\n",
       "      <td>7.412369</td>\n",
       "      <td>QuartÃ¤re Kiese und Sande (GWL)</td>\n",
       "      <td>121</td>\n",
       "      <td>0.112454</td>\n",
       "      <td>-0.357353</td>\n",
       "    </tr>\n",
       "  </tbody>\n",
       "</table>\n",
       "</div>"
      ],
      "text/plain": [
       "                                      Messstelle        NO3        O2  \\\n",
       "498             TB WW Neuburgweier, Rheinstetten   0.664062  1.625000   \n",
       "328                   GWM K 20 Kehl, Goldscheuer   0.227778  0.255556   \n",
       "321                  GWM G0/1 KIT, Leopoldshafen   6.945455  3.259091   \n",
       "170                       GWM 1279 A, Oberhausen  14.138462  7.215385   \n",
       "432  TB 116 UniversitÃ¤t AlbertstraÃe, Freiburg  14.133333  7.412369   \n",
       "\n",
       "                       Hydrogeologie  RASTERVALU  NO3_norm   NO3_std  \n",
       "498  QuartÃ¤re Kiese und Sande (GWL)         231  0.003578 -0.903182  \n",
       "328  QuartÃ¤re Kiese und Sande (GWL)         231  0.000051 -0.920862  \n",
       "321  QuartÃ¤re Kiese und Sande (GWL)         313  0.054352 -0.648635  \n",
       "170  QuartÃ¤re Kiese und Sande (GWL)         231  0.112496 -0.357145  \n",
       "432  QuartÃ¤re Kiese und Sande (GWL)         121  0.112454 -0.357353  "
      ]
     },
     "execution_count": 39,
     "metadata": {},
     "output_type": "execute_result"
    }
   ],
   "source": [
    "test.head()"
   ]
  },
  {
   "cell_type": "markdown",
   "id": "7e047a7e",
   "metadata": {},
   "source": [
    "## Encodieren"
   ]
  },
  {
   "cell_type": "markdown",
   "id": "b5184cef",
   "metadata": {},
   "source": [
    "### Binär"
   ]
  },
  {
   "cell_type": "markdown",
   "id": "eaa878df",
   "metadata": {},
   "source": [
    "Der 3-stellige Corine Code ist eine Stufenweise Beschreibung der Landnutzung, wobei die erste Ziffer die gröbste Einordnung darstellt.\n",
    "- 1XX = Artificial Surfaces \n",
    "- 2XX = Agricultural areas \n",
    "- 3XX = Forest and seminatural areas\n",
    "- 4XX = Wetlands \n",
    "- 5XX = Water bodies \n",
    "\n",
    "Im folgende erfolgt ein binäres Encoding nach der Klasse 1.\n",
    "Dafür wird zuerst eine neue Spalte erstellt, die nur die erste Ziffer enthät und anschließend in Abhängigkeit davon ein binäres Encoding."
   ]
  },
  {
   "cell_type": "code",
   "execution_count": 40,
   "id": "ebcfebf9",
   "metadata": {},
   "outputs": [],
   "source": [
    "train['Corine'] = train['RASTERVALU'].apply(lambda x: int(str(x)[0]))\n",
    "train['Artificial_Surface'] = train['Corine'].apply(lambda x: 1 if x == 1  else 0)\n",
    "\n",
    "test['Corine'] = test['RASTERVALU'].apply(lambda x: int(str(x)[0]))\n",
    "test['Artificial_Surface'] = test['Corine'].apply(lambda x: 1 if x == 1  else 0)"
   ]
  },
  {
   "cell_type": "code",
   "execution_count": 41,
   "id": "5b243573",
   "metadata": {},
   "outputs": [
    {
     "data": {
      "text/html": [
       "<div>\n",
       "<style scoped>\n",
       "    .dataframe tbody tr th:only-of-type {\n",
       "        vertical-align: middle;\n",
       "    }\n",
       "\n",
       "    .dataframe tbody tr th {\n",
       "        vertical-align: top;\n",
       "    }\n",
       "\n",
       "    .dataframe thead th {\n",
       "        text-align: right;\n",
       "    }\n",
       "</style>\n",
       "<table border=\"1\" class=\"dataframe\">\n",
       "  <thead>\n",
       "    <tr style=\"text-align: right;\">\n",
       "      <th></th>\n",
       "      <th>Messstelle</th>\n",
       "      <th>NO3</th>\n",
       "      <th>O2</th>\n",
       "      <th>Hydrogeologie</th>\n",
       "      <th>RASTERVALU</th>\n",
       "      <th>NO3_norm</th>\n",
       "      <th>NO3_std</th>\n",
       "      <th>Corine</th>\n",
       "      <th>Artificial_Surface</th>\n",
       "    </tr>\n",
       "  </thead>\n",
       "  <tbody>\n",
       "    <tr>\n",
       "      <th>59</th>\n",
       "      <td>BR Erdbeerland E., Durmersheim</td>\n",
       "      <td>36.376923</td>\n",
       "      <td>7.192308</td>\n",
       "      <td>QuartÃ¤re Kiese und Sande (GWL)</td>\n",
       "      <td>211</td>\n",
       "      <td>0.292256</td>\n",
       "      <td>0.544047</td>\n",
       "      <td>2</td>\n",
       "      <td>0</td>\n",
       "    </tr>\n",
       "    <tr>\n",
       "      <th>157</th>\n",
       "      <td>GWM 10, Kahlenberg, Ringsheim</td>\n",
       "      <td>31.021053</td>\n",
       "      <td>6.684384</td>\n",
       "      <td>Unterjura und Mitteljura (GWG)</td>\n",
       "      <td>211</td>\n",
       "      <td>0.248962</td>\n",
       "      <td>0.327006</td>\n",
       "      <td>2</td>\n",
       "      <td>0</td>\n",
       "    </tr>\n",
       "    <tr>\n",
       "      <th>179</th>\n",
       "      <td>GWM 17 Stuttgarter StraÃe STWKA, KA</td>\n",
       "      <td>0.247222</td>\n",
       "      <td>0.767654</td>\n",
       "      <td>QuartÃ¤re Kiese und Sande (GWL)</td>\n",
       "      <td>111</td>\n",
       "      <td>0.000208</td>\n",
       "      <td>-0.920074</td>\n",
       "      <td>1</td>\n",
       "      <td>1</td>\n",
       "    </tr>\n",
       "    <tr>\n",
       "      <th>342</th>\n",
       "      <td>GWM P 2, Sankt Leon</td>\n",
       "      <td>39.053125</td>\n",
       "      <td>4.098993</td>\n",
       "      <td>QuartÃ¤re Kiese und Sande (GWL)</td>\n",
       "      <td>211</td>\n",
       "      <td>0.313888</td>\n",
       "      <td>0.652497</td>\n",
       "      <td>2</td>\n",
       "      <td>0</td>\n",
       "    </tr>\n",
       "    <tr>\n",
       "      <th>12</th>\n",
       "      <td>BBR1 EVC GmbH, Staufen im Breisgau</td>\n",
       "      <td>7.218519</td>\n",
       "      <td>8.322222</td>\n",
       "      <td>QuartÃ¤re Kiese und Sande (GWL)</td>\n",
       "      <td>112</td>\n",
       "      <td>0.056560</td>\n",
       "      <td>-0.637569</td>\n",
       "      <td>1</td>\n",
       "      <td>1</td>\n",
       "    </tr>\n",
       "    <tr>\n",
       "      <th>...</th>\n",
       "      <td>...</td>\n",
       "      <td>...</td>\n",
       "      <td>...</td>\n",
       "      <td>...</td>\n",
       "      <td>...</td>\n",
       "      <td>...</td>\n",
       "      <td>...</td>\n",
       "      <td>...</td>\n",
       "      <td>...</td>\n",
       "    </tr>\n",
       "    <tr>\n",
       "      <th>277</th>\n",
       "      <td>GWM B2 Tief Kieswerk Peter, Honau</td>\n",
       "      <td>0.958333</td>\n",
       "      <td>1.008333</td>\n",
       "      <td>QuartÃ¤re Kiese und Sande (GWL)</td>\n",
       "      <td>512</td>\n",
       "      <td>0.005957</td>\n",
       "      <td>-0.891257</td>\n",
       "      <td>5</td>\n",
       "      <td>0</td>\n",
       "    </tr>\n",
       "    <tr>\n",
       "      <th>305</th>\n",
       "      <td>GWM F Sportzentrum, Schriesheim</td>\n",
       "      <td>5.061667</td>\n",
       "      <td>5.246667</td>\n",
       "      <td>QuartÃ¤re Kiese und Sande (GWL)</td>\n",
       "      <td>112</td>\n",
       "      <td>0.039125</td>\n",
       "      <td>-0.724973</td>\n",
       "      <td>1</td>\n",
       "      <td>1</td>\n",
       "    </tr>\n",
       "    <tr>\n",
       "      <th>255</th>\n",
       "      <td>GWM 6, Neuried Dundenheim</td>\n",
       "      <td>74.896429</td>\n",
       "      <td>3.650118</td>\n",
       "      <td>QuartÃ¤re Kiese und Sande (GWL)</td>\n",
       "      <td>211</td>\n",
       "      <td>0.603620</td>\n",
       "      <td>2.105012</td>\n",
       "      <td>2</td>\n",
       "      <td>0</td>\n",
       "    </tr>\n",
       "    <tr>\n",
       "      <th>320</th>\n",
       "      <td>GWM Friedrichstal, Friedrichstal</td>\n",
       "      <td>4.788462</td>\n",
       "      <td>1.014271</td>\n",
       "      <td>QuartÃ¤re Kiese und Sande (GWL)</td>\n",
       "      <td>211</td>\n",
       "      <td>0.036917</td>\n",
       "      <td>-0.736045</td>\n",
       "      <td>2</td>\n",
       "      <td>0</td>\n",
       "    </tr>\n",
       "    <tr>\n",
       "      <th>324</th>\n",
       "      <td>GWM II, Goldscheuer-Marlen</td>\n",
       "      <td>4.564286</td>\n",
       "      <td>0.816824</td>\n",
       "      <td>QuartÃ¤re Kiese und Sande (GWL)</td>\n",
       "      <td>231</td>\n",
       "      <td>0.035105</td>\n",
       "      <td>-0.745129</td>\n",
       "      <td>2</td>\n",
       "      <td>0</td>\n",
       "    </tr>\n",
       "  </tbody>\n",
       "</table>\n",
       "<p>405 rows × 9 columns</p>\n",
       "</div>"
      ],
      "text/plain": [
       "                               Messstelle        NO3        O2  \\\n",
       "59         BR Erdbeerland E., Durmersheim  36.376923  7.192308   \n",
       "157         GWM 10, Kahlenberg, Ringsheim  31.021053  6.684384   \n",
       "179  GWM 17 Stuttgarter StraÃe STWKA, KA   0.247222  0.767654   \n",
       "342                   GWM P 2, Sankt Leon  39.053125  4.098993   \n",
       "12     BBR1 EVC GmbH, Staufen im Breisgau   7.218519  8.322222   \n",
       "..                                    ...        ...       ...   \n",
       "277     GWM B2 Tief Kieswerk Peter, Honau   0.958333  1.008333   \n",
       "305       GWM F Sportzentrum, Schriesheim   5.061667  5.246667   \n",
       "255             GWM 6, Neuried Dundenheim  74.896429  3.650118   \n",
       "320      GWM Friedrichstal, Friedrichstal   4.788462  1.014271   \n",
       "324            GWM II, Goldscheuer-Marlen   4.564286  0.816824   \n",
       "\n",
       "                       Hydrogeologie  RASTERVALU  NO3_norm   NO3_std  Corine  \\\n",
       "59   QuartÃ¤re Kiese und Sande (GWL)         211  0.292256  0.544047       2   \n",
       "157   Unterjura und Mitteljura (GWG)         211  0.248962  0.327006       2   \n",
       "179  QuartÃ¤re Kiese und Sande (GWL)         111  0.000208 -0.920074       1   \n",
       "342  QuartÃ¤re Kiese und Sande (GWL)         211  0.313888  0.652497       2   \n",
       "12   QuartÃ¤re Kiese und Sande (GWL)         112  0.056560 -0.637569       1   \n",
       "..                               ...         ...       ...       ...     ...   \n",
       "277  QuartÃ¤re Kiese und Sande (GWL)         512  0.005957 -0.891257       5   \n",
       "305  QuartÃ¤re Kiese und Sande (GWL)         112  0.039125 -0.724973       1   \n",
       "255  QuartÃ¤re Kiese und Sande (GWL)         211  0.603620  2.105012       2   \n",
       "320  QuartÃ¤re Kiese und Sande (GWL)         211  0.036917 -0.736045       2   \n",
       "324  QuartÃ¤re Kiese und Sande (GWL)         231  0.035105 -0.745129       2   \n",
       "\n",
       "     Artificial_Surface  \n",
       "59                    0  \n",
       "157                   0  \n",
       "179                   1  \n",
       "342                   0  \n",
       "12                    1  \n",
       "..                  ...  \n",
       "277                   0  \n",
       "305                   1  \n",
       "255                   0  \n",
       "320                   0  \n",
       "324                   0  \n",
       "\n",
       "[405 rows x 9 columns]"
      ]
     },
     "execution_count": 41,
     "metadata": {},
     "output_type": "execute_result"
    }
   ],
   "source": [
    "train"
   ]
  },
  {
   "cell_type": "code",
   "execution_count": 42,
   "id": "af94209b",
   "metadata": {},
   "outputs": [],
   "source": [
    "train.drop(columns='RASTERVALU', inplace=True)\n",
    "test.drop(columns='RASTERVALU', inplace=True)"
   ]
  },
  {
   "cell_type": "markdown",
   "id": "25f79dee",
   "metadata": {},
   "source": [
    "### One-Hot"
   ]
  },
  {
   "cell_type": "code",
   "execution_count": 43,
   "id": "80316886",
   "metadata": {},
   "outputs": [],
   "source": [
    "from sklearn.preprocessing import OneHotEncoder"
   ]
  },
  {
   "cell_type": "code",
   "execution_count": 44,
   "id": "b7c28929",
   "metadata": {},
   "outputs": [
    {
     "data": {
      "text/plain": [
       "array(['x0_1', 'x0_2', 'x0_3', 'x0_5'], dtype=object)"
      ]
     },
     "execution_count": 44,
     "metadata": {},
     "output_type": "execute_result"
    }
   ],
   "source": [
    "encoder = OneHotEncoder(sparse=False)\n",
    "encoder.fit(train[['Corine']])\n",
    "encoder.get_feature_names()"
   ]
  },
  {
   "cell_type": "markdown",
   "id": "70cd8d79",
   "metadata": {},
   "source": [
    "Beispiel für One-Hot Encoding:"
   ]
  },
  {
   "cell_type": "code",
   "execution_count": 45,
   "id": "061b9a63",
   "metadata": {},
   "outputs": [],
   "source": [
    "example_oh = encoder.transform(test[['Corine']]) \n",
    "#encoder.transform(train[['Corine']]) # genauso auch für die train-Daten möglich\n",
    "example_oh = pd.DataFrame(example_oh, columns=encoder.get_feature_names())"
   ]
  },
  {
   "cell_type": "code",
   "execution_count": 46,
   "id": "52829d15",
   "metadata": {},
   "outputs": [
    {
     "data": {
      "text/html": [
       "<div>\n",
       "<style scoped>\n",
       "    .dataframe tbody tr th:only-of-type {\n",
       "        vertical-align: middle;\n",
       "    }\n",
       "\n",
       "    .dataframe tbody tr th {\n",
       "        vertical-align: top;\n",
       "    }\n",
       "\n",
       "    .dataframe thead th {\n",
       "        text-align: right;\n",
       "    }\n",
       "</style>\n",
       "<table border=\"1\" class=\"dataframe\">\n",
       "  <thead>\n",
       "    <tr style=\"text-align: right;\">\n",
       "      <th></th>\n",
       "      <th>x0_1</th>\n",
       "      <th>x0_2</th>\n",
       "      <th>x0_3</th>\n",
       "      <th>x0_5</th>\n",
       "    </tr>\n",
       "  </thead>\n",
       "  <tbody>\n",
       "    <tr>\n",
       "      <th>0</th>\n",
       "      <td>0.0</td>\n",
       "      <td>1.0</td>\n",
       "      <td>0.0</td>\n",
       "      <td>0.0</td>\n",
       "    </tr>\n",
       "    <tr>\n",
       "      <th>1</th>\n",
       "      <td>0.0</td>\n",
       "      <td>1.0</td>\n",
       "      <td>0.0</td>\n",
       "      <td>0.0</td>\n",
       "    </tr>\n",
       "    <tr>\n",
       "      <th>2</th>\n",
       "      <td>0.0</td>\n",
       "      <td>0.0</td>\n",
       "      <td>1.0</td>\n",
       "      <td>0.0</td>\n",
       "    </tr>\n",
       "    <tr>\n",
       "      <th>3</th>\n",
       "      <td>0.0</td>\n",
       "      <td>1.0</td>\n",
       "      <td>0.0</td>\n",
       "      <td>0.0</td>\n",
       "    </tr>\n",
       "    <tr>\n",
       "      <th>4</th>\n",
       "      <td>1.0</td>\n",
       "      <td>0.0</td>\n",
       "      <td>0.0</td>\n",
       "      <td>0.0</td>\n",
       "    </tr>\n",
       "    <tr>\n",
       "      <th>...</th>\n",
       "      <td>...</td>\n",
       "      <td>...</td>\n",
       "      <td>...</td>\n",
       "      <td>...</td>\n",
       "    </tr>\n",
       "    <tr>\n",
       "      <th>97</th>\n",
       "      <td>0.0</td>\n",
       "      <td>0.0</td>\n",
       "      <td>1.0</td>\n",
       "      <td>0.0</td>\n",
       "    </tr>\n",
       "    <tr>\n",
       "      <th>98</th>\n",
       "      <td>1.0</td>\n",
       "      <td>0.0</td>\n",
       "      <td>0.0</td>\n",
       "      <td>0.0</td>\n",
       "    </tr>\n",
       "    <tr>\n",
       "      <th>99</th>\n",
       "      <td>1.0</td>\n",
       "      <td>0.0</td>\n",
       "      <td>0.0</td>\n",
       "      <td>0.0</td>\n",
       "    </tr>\n",
       "    <tr>\n",
       "      <th>100</th>\n",
       "      <td>1.0</td>\n",
       "      <td>0.0</td>\n",
       "      <td>0.0</td>\n",
       "      <td>0.0</td>\n",
       "    </tr>\n",
       "    <tr>\n",
       "      <th>101</th>\n",
       "      <td>0.0</td>\n",
       "      <td>1.0</td>\n",
       "      <td>0.0</td>\n",
       "      <td>0.0</td>\n",
       "    </tr>\n",
       "  </tbody>\n",
       "</table>\n",
       "<p>102 rows × 4 columns</p>\n",
       "</div>"
      ],
      "text/plain": [
       "     x0_1  x0_2  x0_3  x0_5\n",
       "0     0.0   1.0   0.0   0.0\n",
       "1     0.0   1.0   0.0   0.0\n",
       "2     0.0   0.0   1.0   0.0\n",
       "3     0.0   1.0   0.0   0.0\n",
       "4     1.0   0.0   0.0   0.0\n",
       "..    ...   ...   ...   ...\n",
       "97    0.0   0.0   1.0   0.0\n",
       "98    1.0   0.0   0.0   0.0\n",
       "99    1.0   0.0   0.0   0.0\n",
       "100   1.0   0.0   0.0   0.0\n",
       "101   0.0   1.0   0.0   0.0\n",
       "\n",
       "[102 rows x 4 columns]"
      ]
     },
     "execution_count": 46,
     "metadata": {},
     "output_type": "execute_result"
    }
   ],
   "source": [
    "example_oh"
   ]
  },
  {
   "cell_type": "markdown",
   "id": "5af17a26",
   "metadata": {},
   "source": [
    "### Target"
   ]
  },
  {
   "cell_type": "code",
   "execution_count": 47,
   "id": "cf5b6640",
   "metadata": {},
   "outputs": [],
   "source": [
    "from category_encoders.target_encoder import TargetEncoder"
   ]
  },
  {
   "cell_type": "code",
   "execution_count": 48,
   "id": "450bc36e",
   "metadata": {},
   "outputs": [
    {
     "name": "stderr",
     "output_type": "stream",
     "text": [
      "C:\\Users\\Jonas\\miniconda3\\envs\\gda\\lib\\site-packages\\category_encoders\\utils.py:21: FutureWarning: is_categorical is deprecated and will be removed in a future version.  Use is_categorical_dtype instead\n",
      "  elif pd.api.types.is_categorical(cols):\n"
     ]
    }
   ],
   "source": [
    "encoder = TargetEncoder()\n",
    "train['Target_Hy'] = encoder.fit_transform(train['Hydrogeologie'],train['NO3'])\n",
    "test['Target_Hy'] = encoder.transform(test['Hydrogeologie'])"
   ]
  },
  {
   "cell_type": "code",
   "execution_count": 49,
   "id": "44a4a7ea",
   "metadata": {},
   "outputs": [
    {
     "data": {
      "text/html": [
       "<div>\n",
       "<style scoped>\n",
       "    .dataframe tbody tr th:only-of-type {\n",
       "        vertical-align: middle;\n",
       "    }\n",
       "\n",
       "    .dataframe tbody tr th {\n",
       "        vertical-align: top;\n",
       "    }\n",
       "\n",
       "    .dataframe thead th {\n",
       "        text-align: right;\n",
       "    }\n",
       "</style>\n",
       "<table border=\"1\" class=\"dataframe\">\n",
       "  <thead>\n",
       "    <tr style=\"text-align: right;\">\n",
       "      <th></th>\n",
       "      <th>Messstelle</th>\n",
       "      <th>NO3</th>\n",
       "      <th>O2</th>\n",
       "      <th>Hydrogeologie</th>\n",
       "      <th>NO3_norm</th>\n",
       "      <th>NO3_std</th>\n",
       "      <th>Corine</th>\n",
       "      <th>Artificial_Surface</th>\n",
       "      <th>Target_Hy</th>\n",
       "    </tr>\n",
       "  </thead>\n",
       "  <tbody>\n",
       "    <tr>\n",
       "      <th>498</th>\n",
       "      <td>TB WW Neuburgweier, Rheinstetten</td>\n",
       "      <td>0.664062</td>\n",
       "      <td>1.625000</td>\n",
       "      <td>QuartÃ¤re Kiese und Sande (GWL)</td>\n",
       "      <td>0.003578</td>\n",
       "      <td>-0.903182</td>\n",
       "      <td>2</td>\n",
       "      <td>0</td>\n",
       "      <td>23.058092</td>\n",
       "    </tr>\n",
       "    <tr>\n",
       "      <th>328</th>\n",
       "      <td>GWM K 20 Kehl, Goldscheuer</td>\n",
       "      <td>0.227778</td>\n",
       "      <td>0.255556</td>\n",
       "      <td>QuartÃ¤re Kiese und Sande (GWL)</td>\n",
       "      <td>0.000051</td>\n",
       "      <td>-0.920862</td>\n",
       "      <td>2</td>\n",
       "      <td>0</td>\n",
       "      <td>23.058092</td>\n",
       "    </tr>\n",
       "    <tr>\n",
       "      <th>321</th>\n",
       "      <td>GWM G0/1 KIT, Leopoldshafen</td>\n",
       "      <td>6.945455</td>\n",
       "      <td>3.259091</td>\n",
       "      <td>QuartÃ¤re Kiese und Sande (GWL)</td>\n",
       "      <td>0.054352</td>\n",
       "      <td>-0.648635</td>\n",
       "      <td>3</td>\n",
       "      <td>0</td>\n",
       "      <td>23.058092</td>\n",
       "    </tr>\n",
       "    <tr>\n",
       "      <th>170</th>\n",
       "      <td>GWM 1279 A, Oberhausen</td>\n",
       "      <td>14.138462</td>\n",
       "      <td>7.215385</td>\n",
       "      <td>QuartÃ¤re Kiese und Sande (GWL)</td>\n",
       "      <td>0.112496</td>\n",
       "      <td>-0.357145</td>\n",
       "      <td>2</td>\n",
       "      <td>0</td>\n",
       "      <td>23.058092</td>\n",
       "    </tr>\n",
       "    <tr>\n",
       "      <th>432</th>\n",
       "      <td>TB 116 UniversitÃ¤t AlbertstraÃe, Freiburg</td>\n",
       "      <td>14.133333</td>\n",
       "      <td>7.412369</td>\n",
       "      <td>QuartÃ¤re Kiese und Sande (GWL)</td>\n",
       "      <td>0.112454</td>\n",
       "      <td>-0.357353</td>\n",
       "      <td>1</td>\n",
       "      <td>1</td>\n",
       "      <td>23.058092</td>\n",
       "    </tr>\n",
       "  </tbody>\n",
       "</table>\n",
       "</div>"
      ],
      "text/plain": [
       "                                      Messstelle        NO3        O2  \\\n",
       "498             TB WW Neuburgweier, Rheinstetten   0.664062  1.625000   \n",
       "328                   GWM K 20 Kehl, Goldscheuer   0.227778  0.255556   \n",
       "321                  GWM G0/1 KIT, Leopoldshafen   6.945455  3.259091   \n",
       "170                       GWM 1279 A, Oberhausen  14.138462  7.215385   \n",
       "432  TB 116 UniversitÃ¤t AlbertstraÃe, Freiburg  14.133333  7.412369   \n",
       "\n",
       "                       Hydrogeologie  NO3_norm   NO3_std  Corine  \\\n",
       "498  QuartÃ¤re Kiese und Sande (GWL)  0.003578 -0.903182       2   \n",
       "328  QuartÃ¤re Kiese und Sande (GWL)  0.000051 -0.920862       2   \n",
       "321  QuartÃ¤re Kiese und Sande (GWL)  0.054352 -0.648635       3   \n",
       "170  QuartÃ¤re Kiese und Sande (GWL)  0.112496 -0.357145       2   \n",
       "432  QuartÃ¤re Kiese und Sande (GWL)  0.112454 -0.357353       1   \n",
       "\n",
       "     Artificial_Surface  Target_Hy  \n",
       "498                   0  23.058092  \n",
       "328                   0  23.058092  \n",
       "321                   0  23.058092  \n",
       "170                   0  23.058092  \n",
       "432                   1  23.058092  "
      ]
     },
     "execution_count": 49,
     "metadata": {},
     "output_type": "execute_result"
    }
   ],
   "source": [
    "test.head()"
   ]
  },
  {
   "cell_type": "markdown",
   "id": "23516173",
   "metadata": {},
   "source": [
    "## Speichern der Ergebnisse"
   ]
  },
  {
   "cell_type": "markdown",
   "id": "ee013f3b",
   "metadata": {},
   "source": [
    "Um einen Datensatz zu speichern,ist es sinnvoll diesen als csv.Datei zu exportieren.\n",
    "\n",
    "Das Exportieren erfolgt über den Befehl \".to_csv\" für Dataframes.\n",
    "\n",
    "https://pandas.pydata.org/docs/reference/api/pandas.DataFrame.to_csv.html"
   ]
  },
  {
   "cell_type": "code",
   "execution_count": 50,
   "id": "2fa48208",
   "metadata": {},
   "outputs": [],
   "source": [
    "#train.to_csv('res.csv')"
   ]
  },
  {
   "cell_type": "markdown",
   "id": "724660d6",
   "metadata": {},
   "source": [
    "## Übung"
   ]
  },
  {
   "cell_type": "markdown",
   "id": "e985dfe3",
   "metadata": {},
   "source": [
    "Bereite jetzt selbst den Datensatz \"data.csv\" auf:\n",
    "1. Ersetze die Werte unter der NWG \n",
    "2. Ersetze alle NULL-Values\n",
    "3. Aggregiere die Daten für jede Messstelle\n",
    "4. Splitte die Date (85:15)\n",
    "5. Standardisiere die numerischen Variablen\n",
    "6. Encode die Landnutzung binär nach der Landwirtschaft (Corine = 2XX) --> vorhanden = 1, nicht vorhanden = 0\n",
    "7. Taret-Encode die Hyrogeologie auf Basis der Nitratkonzentration\n",
    "8. Speichere deine Ergebnisse\n",
    "9. Fertig! :)\n",
    "\n",
    "Tipps:\n",
    "- für die Features der Sauerstoff-Konzentration und der Hydrogeologie liegen die NULL-Values nicht als diese direkt vor, hier ist es hilfreich mal die Features mit \".describe()\" bzw. \".unique()\" zu betrachten"
   ]
  },
  {
   "cell_type": "code",
   "execution_count": null,
   "id": "1cef7010",
   "metadata": {},
   "outputs": [],
   "source": []
  }
 ],
 "metadata": {
  "hide_input": false,
  "kernelspec": {
   "display_name": "Python 3",
   "language": "python",
   "name": "python3"
  },
  "language_info": {
   "codemirror_mode": {
    "name": "ipython",
    "version": 3
   },
   "file_extension": ".py",
   "mimetype": "text/x-python",
   "name": "python",
   "nbconvert_exporter": "python",
   "pygments_lexer": "ipython3",
   "version": "3.8.8"
  },
  "toc": {
   "base_numbering": 1,
   "nav_menu": {},
   "number_sections": false,
   "sideBar": true,
   "skip_h1_title": true,
   "title_cell": "Table of Contents",
   "title_sidebar": "Contents",
   "toc_cell": false,
   "toc_position": {
    "height": "calc(100% - 180px)",
    "left": "10px",
    "top": "150px",
    "width": "384px"
   },
   "toc_section_display": true,
   "toc_window_display": true
  },
  "varInspector": {
   "cols": {
    "lenName": 16,
    "lenType": 16,
    "lenVar": 40
   },
   "kernels_config": {
    "python": {
     "delete_cmd_postfix": "",
     "delete_cmd_prefix": "del ",
     "library": "var_list.py",
     "varRefreshCmd": "print(var_dic_list())"
    },
    "r": {
     "delete_cmd_postfix": ") ",
     "delete_cmd_prefix": "rm(",
     "library": "var_list.r",
     "varRefreshCmd": "cat(var_dic_list()) "
    }
   },
   "types_to_exclude": [
    "module",
    "function",
    "builtin_function_or_method",
    "instance",
    "_Feature"
   ],
   "window_display": false
  }
 },
 "nbformat": 4,
 "nbformat_minor": 5
}
