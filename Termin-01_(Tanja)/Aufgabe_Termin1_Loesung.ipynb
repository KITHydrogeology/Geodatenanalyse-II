{
 "cells": [
  {
   "cell_type": "markdown",
   "id": "f37eaffd",
   "metadata": {},
   "source": [
    "# Geodatenanalyse 2: Termin 2 - Datenaufbereitung\n",
    "# Aufgabe"
   ]
  },
  {
   "cell_type": "markdown",
   "id": "75090b68",
   "metadata": {},
   "source": [
    "Bereite jetzt selbst den Datensatz \"Nitratmessungen_aufgabe.csv\" auf:\n",
    "- [x] Ersetze die Werte unter der NWG \n",
    "- [x] Ersetze alle NULL-Values (bzw. Platzhalter für NaN)\n",
    "- [x] Aggregiere die Daten für jede Messstelle\n",
    "- [x] Splitte die Date (85:15)\n",
    "- [x] Standardisiere die numerischen Variablen\n",
    "- [x] Encode die Landnutzung binär nach der Landwirtschaft (Corine = 2XX) --> vorhanden = 1, nicht vorhanden = 0\n",
    "- [x] Target-Encode die Hyrogeologie auf Basis der Nitratkonzentration\n",
    "- [x] Speichere deine Ergebnisse\n",
    "- [x] Fertig! :)\n",
    "\n",
    "Tipps:\n",
    "- für die Features der Sauerstoff-Konzentration und der Hydrogeologie liegen die NULL-Values nicht als diese direkt vor, hier ist es hilfreich mal die Features mit \".describe()\" bzw. \".unique()\" zu betrachten"
   ]
  },
  {
   "cell_type": "markdown",
   "id": "95091cd3",
   "metadata": {},
   "source": [
    "#### Laden der Bibliotheken"
   ]
  },
  {
   "cell_type": "code",
   "execution_count": 1,
   "id": "d3cc034e",
   "metadata": {},
   "outputs": [],
   "source": [
    "import pandas as pd\n",
    "import numpy as np\n",
    "import matplotlib.pyplot as plt"
   ]
  },
  {
   "cell_type": "markdown",
   "id": "bceb7ac7",
   "metadata": {},
   "source": [
    "\n",
    "#### Nitratdatensatz:"
   ]
  },
  {
   "cell_type": "code",
   "execution_count": 2,
   "id": "91f2e7cf",
   "metadata": {},
   "outputs": [
    {
     "data": {
      "text/html": [
       "<div>\n",
       "<style scoped>\n",
       "    .dataframe tbody tr th:only-of-type {\n",
       "        vertical-align: middle;\n",
       "    }\n",
       "\n",
       "    .dataframe tbody tr th {\n",
       "        vertical-align: top;\n",
       "    }\n",
       "\n",
       "    .dataframe thead th {\n",
       "        text-align: right;\n",
       "    }\n",
       "</style>\n",
       "<table border=\"1\" class=\"dataframe\">\n",
       "  <thead>\n",
       "    <tr style=\"text-align: right;\">\n",
       "      <th></th>\n",
       "      <th>Messstelle</th>\n",
       "      <th>GW-Nummer</th>\n",
       "      <th>Datum</th>\n",
       "      <th>NO3 [mg/l]</th>\n",
       "      <th>O2 [mg/l]</th>\n",
       "      <th>RASTERVALU</th>\n",
       "      <th>HYDROGEOL3</th>\n",
       "    </tr>\n",
       "  </thead>\n",
       "  <tbody>\n",
       "    <tr>\n",
       "      <th>0</th>\n",
       "      <td>BBR Betonwerk, Umkirch</td>\n",
       "      <td>918/069-2</td>\n",
       "      <td>11.10.2006 15:20</td>\n",
       "      <td>9,4</td>\n",
       "      <td>2,4</td>\n",
       "      <td>121</td>\n",
       "      <td>Quartäre Kiese und Sande (GWL)</td>\n",
       "    </tr>\n",
       "    <tr>\n",
       "      <th>1</th>\n",
       "      <td>BBR Betonwerk, Umkirch</td>\n",
       "      <td>918/069-2</td>\n",
       "      <td>17.09.2007 14:20</td>\n",
       "      <td>12</td>\n",
       "      <td>2,1</td>\n",
       "      <td>121</td>\n",
       "      <td>Quartäre Kiese und Sande (GWL)</td>\n",
       "    </tr>\n",
       "    <tr>\n",
       "      <th>2</th>\n",
       "      <td>BBR Betonwerk, Umkirch</td>\n",
       "      <td>918/069-2</td>\n",
       "      <td>23.09.2008 08:05</td>\n",
       "      <td>7,6</td>\n",
       "      <td>2,5</td>\n",
       "      <td>121</td>\n",
       "      <td>Quartäre Kiese und Sande (GWL)</td>\n",
       "    </tr>\n",
       "    <tr>\n",
       "      <th>3</th>\n",
       "      <td>BBR Betonwerk, Umkirch</td>\n",
       "      <td>918/069-2</td>\n",
       "      <td>10.11.2008 09:10</td>\n",
       "      <td>12,2</td>\n",
       "      <td>1,2</td>\n",
       "      <td>121</td>\n",
       "      <td>Quartäre Kiese und Sande (GWL)</td>\n",
       "    </tr>\n",
       "    <tr>\n",
       "      <th>4</th>\n",
       "      <td>BBR Betonwerk, Umkirch</td>\n",
       "      <td>918/069-2</td>\n",
       "      <td>09.09.2009 14:08</td>\n",
       "      <td>12</td>\n",
       "      <td>1,3</td>\n",
       "      <td>121</td>\n",
       "      <td>Quartäre Kiese und Sande (GWL)</td>\n",
       "    </tr>\n",
       "  </tbody>\n",
       "</table>\n",
       "</div>"
      ],
      "text/plain": [
       "               Messstelle  GW-Nummer             Datum NO3 [mg/l] O2 [mg/l]  \\\n",
       "0  BBR Betonwerk, Umkirch  918/069-2  11.10.2006 15:20        9,4       2,4   \n",
       "1  BBR Betonwerk, Umkirch  918/069-2  17.09.2007 14:20         12       2,1   \n",
       "2  BBR Betonwerk, Umkirch  918/069-2  23.09.2008 08:05        7,6       2,5   \n",
       "3  BBR Betonwerk, Umkirch  918/069-2  10.11.2008 09:10       12,2       1,2   \n",
       "4  BBR Betonwerk, Umkirch  918/069-2  09.09.2009 14:08         12       1,3   \n",
       "\n",
       "   RASTERVALU                      HYDROGEOL3  \n",
       "0         121  Quartäre Kiese und Sande (GWL)  \n",
       "1         121  Quartäre Kiese und Sande (GWL)  \n",
       "2         121  Quartäre Kiese und Sande (GWL)  \n",
       "3         121  Quartäre Kiese und Sande (GWL)  \n",
       "4         121  Quartäre Kiese und Sande (GWL)  "
      ]
     },
     "execution_count": 2,
     "metadata": {},
     "output_type": "execute_result"
    }
   ],
   "source": [
    "#Mögliche Fehler: encoding falsch, sep falsch, index_columns falsch gewählt \n",
    "data1 = pd.read_csv('Nitratmessungen_aufgabe.csv', sep=';', encoding=\"latin1\")\n",
    "data1.head()"
   ]
  },
  {
   "cell_type": "markdown",
   "id": "315e813d",
   "metadata": {},
   "source": [
    "#### Filtern des Datensatzes"
   ]
  },
  {
   "cell_type": "code",
   "execution_count": 3,
   "id": "6bbdac50",
   "metadata": {},
   "outputs": [
    {
     "data": {
      "text/html": [
       "<div>\n",
       "<style scoped>\n",
       "    .dataframe tbody tr th:only-of-type {\n",
       "        vertical-align: middle;\n",
       "    }\n",
       "\n",
       "    .dataframe tbody tr th {\n",
       "        vertical-align: top;\n",
       "    }\n",
       "\n",
       "    .dataframe thead th {\n",
       "        text-align: right;\n",
       "    }\n",
       "</style>\n",
       "<table border=\"1\" class=\"dataframe\">\n",
       "  <thead>\n",
       "    <tr style=\"text-align: right;\">\n",
       "      <th></th>\n",
       "      <th>Messstelle</th>\n",
       "      <th>GW-Nummer</th>\n",
       "      <th>Datum</th>\n",
       "      <th>NO3 [mg/l]</th>\n",
       "      <th>O2 [mg/l]</th>\n",
       "      <th>RASTERVALU</th>\n",
       "      <th>HYDROGEOL3</th>\n",
       "    </tr>\n",
       "  </thead>\n",
       "  <tbody>\n",
       "    <tr>\n",
       "      <th>0</th>\n",
       "      <td>BBR Betonwerk, Umkirch</td>\n",
       "      <td>918/069-2</td>\n",
       "      <td>2006-10-11 15:20:00</td>\n",
       "      <td>9,4</td>\n",
       "      <td>2,4</td>\n",
       "      <td>121</td>\n",
       "      <td>Quartäre Kiese und Sande (GWL)</td>\n",
       "    </tr>\n",
       "    <tr>\n",
       "      <th>1</th>\n",
       "      <td>BBR Betonwerk, Umkirch</td>\n",
       "      <td>918/069-2</td>\n",
       "      <td>2007-09-17 14:20:00</td>\n",
       "      <td>12</td>\n",
       "      <td>2,1</td>\n",
       "      <td>121</td>\n",
       "      <td>Quartäre Kiese und Sande (GWL)</td>\n",
       "    </tr>\n",
       "    <tr>\n",
       "      <th>2</th>\n",
       "      <td>BBR Betonwerk, Umkirch</td>\n",
       "      <td>918/069-2</td>\n",
       "      <td>2008-09-23 08:05:00</td>\n",
       "      <td>7,6</td>\n",
       "      <td>2,5</td>\n",
       "      <td>121</td>\n",
       "      <td>Quartäre Kiese und Sande (GWL)</td>\n",
       "    </tr>\n",
       "    <tr>\n",
       "      <th>3</th>\n",
       "      <td>BBR Betonwerk, Umkirch</td>\n",
       "      <td>918/069-2</td>\n",
       "      <td>2008-11-10 09:10:00</td>\n",
       "      <td>12,2</td>\n",
       "      <td>1,2</td>\n",
       "      <td>121</td>\n",
       "      <td>Quartäre Kiese und Sande (GWL)</td>\n",
       "    </tr>\n",
       "    <tr>\n",
       "      <th>4</th>\n",
       "      <td>BBR Betonwerk, Umkirch</td>\n",
       "      <td>918/069-2</td>\n",
       "      <td>2009-09-09 14:08:00</td>\n",
       "      <td>12</td>\n",
       "      <td>1,3</td>\n",
       "      <td>121</td>\n",
       "      <td>Quartäre Kiese und Sande (GWL)</td>\n",
       "    </tr>\n",
       "  </tbody>\n",
       "</table>\n",
       "</div>"
      ],
      "text/plain": [
       "               Messstelle  GW-Nummer               Datum NO3 [mg/l] O2 [mg/l]  \\\n",
       "0  BBR Betonwerk, Umkirch  918/069-2 2006-10-11 15:20:00        9,4       2,4   \n",
       "1  BBR Betonwerk, Umkirch  918/069-2 2007-09-17 14:20:00         12       2,1   \n",
       "2  BBR Betonwerk, Umkirch  918/069-2 2008-09-23 08:05:00        7,6       2,5   \n",
       "3  BBR Betonwerk, Umkirch  918/069-2 2008-11-10 09:10:00       12,2       1,2   \n",
       "4  BBR Betonwerk, Umkirch  918/069-2 2009-09-09 14:08:00         12       1,3   \n",
       "\n",
       "   RASTERVALU                      HYDROGEOL3  \n",
       "0         121  Quartäre Kiese und Sande (GWL)  \n",
       "1         121  Quartäre Kiese und Sande (GWL)  \n",
       "2         121  Quartäre Kiese und Sande (GWL)  \n",
       "3         121  Quartäre Kiese und Sande (GWL)  \n",
       "4         121  Quartäre Kiese und Sande (GWL)  "
      ]
     },
     "execution_count": 3,
     "metadata": {},
     "output_type": "execute_result"
    }
   ],
   "source": [
    "data = data1[['Messstelle','GW-Nummer','Datum', 'NO3 [mg/l]','O2 [mg/l]','RASTERVALU', 'HYDROGEOL3']]\n",
    "data = data.assign(Datum=pd.to_datetime(data['Datum'], format='%d.%m.%Y %H:%M'))\n",
    "data.head()"
   ]
  },
  {
   "cell_type": "markdown",
   "id": "b81e05bf",
   "metadata": {},
   "source": [
    "## 1. Ersetze die Werte unter der NWG "
   ]
  },
  {
   "cell_type": "code",
   "execution_count": 4,
   "id": "a503f996",
   "metadata": {
    "code_folding": [
     0
    ]
   },
   "outputs": [],
   "source": [
    "# Funktion definieren um Werte unter der NWG durch 0.5*NWG zu ersetzen\n",
    "def u_NWG(X):\n",
    "    if type(X) == str:\n",
    "        if '<' in X:\n",
    "            Y = float(X.split('<')[1].replace(',', '.'))/2\n",
    "        else:\n",
    "            Y = float(X.replace(',','.'))\n",
    "    else:\n",
    "        Y = X\n",
    "    return float(Y)"
   ]
  },
  {
   "cell_type": "code",
   "execution_count": 5,
   "id": "4c2f5433",
   "metadata": {},
   "outputs": [
    {
     "data": {
      "text/html": [
       "<div>\n",
       "<style scoped>\n",
       "    .dataframe tbody tr th:only-of-type {\n",
       "        vertical-align: middle;\n",
       "    }\n",
       "\n",
       "    .dataframe tbody tr th {\n",
       "        vertical-align: top;\n",
       "    }\n",
       "\n",
       "    .dataframe thead th {\n",
       "        text-align: right;\n",
       "    }\n",
       "</style>\n",
       "<table border=\"1\" class=\"dataframe\">\n",
       "  <thead>\n",
       "    <tr style=\"text-align: right;\">\n",
       "      <th></th>\n",
       "      <th>Messstelle</th>\n",
       "      <th>GW-Nummer</th>\n",
       "      <th>Datum</th>\n",
       "      <th>RASTERVALU</th>\n",
       "      <th>HYDROGEOL3</th>\n",
       "      <th>O2</th>\n",
       "      <th>NO3</th>\n",
       "    </tr>\n",
       "  </thead>\n",
       "  <tbody>\n",
       "    <tr>\n",
       "      <th>7987</th>\n",
       "      <td>GWM 3 Firma CU Chemie Uetikon, Lahr</td>\n",
       "      <td>374/066-7</td>\n",
       "      <td>2007-09-12 11:55:00</td>\n",
       "      <td>121</td>\n",
       "      <td>Quartäre Kiese und Sande (GWL)</td>\n",
       "      <td>0.3</td>\n",
       "      <td>0.05</td>\n",
       "    </tr>\n",
       "    <tr>\n",
       "      <th>4099</th>\n",
       "      <td>GWM E21/1 ZWK Kurpfalzwalldorf, Walldorf</td>\n",
       "      <td>22/306-3</td>\n",
       "      <td>2018-03-13 15:50:00</td>\n",
       "      <td>313</td>\n",
       "      <td>Quartäre Kiese und Sande (GWL)</td>\n",
       "      <td>0.4</td>\n",
       "      <td>0.05</td>\n",
       "    </tr>\n",
       "    <tr>\n",
       "      <th>4614</th>\n",
       "      <td>GWM Flach (1960), Auenheim</td>\n",
       "      <td>2010/113-0</td>\n",
       "      <td>2007-09-14 13:10:00</td>\n",
       "      <td>211</td>\n",
       "      <td>Quartäre Kiese und Sande (GWL)</td>\n",
       "      <td>0.3</td>\n",
       "      <td>0.05</td>\n",
       "    </tr>\n",
       "    <tr>\n",
       "      <th>3792</th>\n",
       "      <td>GWM B2 Flach, Neumühl</td>\n",
       "      <td>2006/114-9</td>\n",
       "      <td>2007-09-14 10:45:00</td>\n",
       "      <td>211</td>\n",
       "      <td>Quartäre Kiese und Sande (GWL)</td>\n",
       "      <td>0.3</td>\n",
       "      <td>0.05</td>\n",
       "    </tr>\n",
       "    <tr>\n",
       "      <th>2852</th>\n",
       "      <td>BR 5 Südzucker, Waghäusel</td>\n",
       "      <td>244/307-5</td>\n",
       "      <td>2007-09-20 16:03:00</td>\n",
       "      <td>121</td>\n",
       "      <td>Quartäre Kiese und Sande (GWL)</td>\n",
       "      <td>0.1</td>\n",
       "      <td>0.05</td>\n",
       "    </tr>\n",
       "  </tbody>\n",
       "</table>\n",
       "</div>"
      ],
      "text/plain": [
       "                                    Messstelle   GW-Nummer  \\\n",
       "7987       GWM 3 Firma CU Chemie Uetikon, Lahr   374/066-7   \n",
       "4099  GWM E21/1 ZWK Kurpfalzwalldorf, Walldorf    22/306-3   \n",
       "4614                GWM Flach (1960), Auenheim  2010/113-0   \n",
       "3792                     GWM B2 Flach, Neumühl  2006/114-9   \n",
       "2852                 BR 5 Südzucker, Waghäusel   244/307-5   \n",
       "\n",
       "                   Datum  RASTERVALU                      HYDROGEOL3   O2  \\\n",
       "7987 2007-09-12 11:55:00         121  Quartäre Kiese und Sande (GWL)  0.3   \n",
       "4099 2018-03-13 15:50:00         313  Quartäre Kiese und Sande (GWL)  0.4   \n",
       "4614 2007-09-14 13:10:00         211  Quartäre Kiese und Sande (GWL)  0.3   \n",
       "3792 2007-09-14 10:45:00         211  Quartäre Kiese und Sande (GWL)  0.3   \n",
       "2852 2007-09-20 16:03:00         121  Quartäre Kiese und Sande (GWL)  0.1   \n",
       "\n",
       "       NO3  \n",
       "7987  0.05  \n",
       "4099  0.05  \n",
       "4614  0.05  \n",
       "3792  0.05  \n",
       "2852  0.05  "
      ]
     },
     "execution_count": 5,
     "metadata": {},
     "output_type": "execute_result"
    }
   ],
   "source": [
    "# Neue Spalte mit korrigierten 02 und NO3 einfügen und alte Spalten löschen\n",
    "data = data.assign(O2= data['O2 [mg/l]'].apply(u_NWG),\n",
    "           NO3 = data['NO3 [mg/l]'].apply(u_NWG))\n",
    "data.drop(columns=['NO3 [mg/l]','O2 [mg/l]'], inplace=True)\n",
    "data.sort_values(\"NO3\", ascending=True).head()"
   ]
  },
  {
   "cell_type": "markdown",
   "id": "61881cea",
   "metadata": {},
   "source": [
    "## 2. Ersetze alle NULL-Values (bzw. Platzhalter für NaN)"
   ]
  },
  {
   "cell_type": "markdown",
   "id": "52390a2f",
   "metadata": {},
   "source": [
    "Platzhalter zuerst durch Nan ersetzen und anschließend NaN durch Mittelwert ersetzen.\n",
    "\n",
    "Ansonsten wird der Mittelwert falsch berechnet.\n",
    "\n",
    "Platzhalter ist hier -999. Es gibt unterschiedliche Funktionen wie diese Werte identifiziert werden können"
   ]
  },
  {
   "cell_type": "code",
   "execution_count": 38,
   "id": "dd3371f6",
   "metadata": {},
   "outputs": [
    {
     "data": {
      "text/html": [
       "<div>\n",
       "<style scoped>\n",
       "    .dataframe tbody tr th:only-of-type {\n",
       "        vertical-align: middle;\n",
       "    }\n",
       "\n",
       "    .dataframe tbody tr th {\n",
       "        vertical-align: top;\n",
       "    }\n",
       "\n",
       "    .dataframe thead th {\n",
       "        text-align: right;\n",
       "    }\n",
       "</style>\n",
       "<table border=\"1\" class=\"dataframe\">\n",
       "  <thead>\n",
       "    <tr style=\"text-align: right;\">\n",
       "      <th></th>\n",
       "      <th>RASTERVALU</th>\n",
       "      <th>O2</th>\n",
       "      <th>NO3</th>\n",
       "    </tr>\n",
       "  </thead>\n",
       "  <tbody>\n",
       "    <tr>\n",
       "      <th>count</th>\n",
       "      <td>12178.000000</td>\n",
       "      <td>12178.000000</td>\n",
       "      <td>12178.000000</td>\n",
       "    </tr>\n",
       "    <tr>\n",
       "      <th>mean</th>\n",
       "      <td>205.882165</td>\n",
       "      <td>3.367765</td>\n",
       "      <td>25.870776</td>\n",
       "    </tr>\n",
       "    <tr>\n",
       "      <th>std</th>\n",
       "      <td>71.897127</td>\n",
       "      <td>2.858819</td>\n",
       "      <td>26.777008</td>\n",
       "    </tr>\n",
       "    <tr>\n",
       "      <th>min</th>\n",
       "      <td>111.000000</td>\n",
       "      <td>0.050000</td>\n",
       "      <td>0.050000</td>\n",
       "    </tr>\n",
       "    <tr>\n",
       "      <th>25%</th>\n",
       "      <td>121.000000</td>\n",
       "      <td>0.500000</td>\n",
       "      <td>3.200000</td>\n",
       "    </tr>\n",
       "    <tr>\n",
       "      <th>50%</th>\n",
       "      <td>211.000000</td>\n",
       "      <td>2.950000</td>\n",
       "      <td>17.300000</td>\n",
       "    </tr>\n",
       "    <tr>\n",
       "      <th>75%</th>\n",
       "      <td>231.000000</td>\n",
       "      <td>5.900000</td>\n",
       "      <td>42.000000</td>\n",
       "    </tr>\n",
       "    <tr>\n",
       "      <th>max</th>\n",
       "      <td>512.000000</td>\n",
       "      <td>11.800000</td>\n",
       "      <td>204.300000</td>\n",
       "    </tr>\n",
       "  </tbody>\n",
       "</table>\n",
       "</div>"
      ],
      "text/plain": [
       "         RASTERVALU            O2           NO3\n",
       "count  12178.000000  12178.000000  12178.000000\n",
       "mean     205.882165      3.367765     25.870776\n",
       "std       71.897127      2.858819     26.777008\n",
       "min      111.000000      0.050000      0.050000\n",
       "25%      121.000000      0.500000      3.200000\n",
       "50%      211.000000      2.950000     17.300000\n",
       "75%      231.000000      5.900000     42.000000\n",
       "max      512.000000     11.800000    204.300000"
      ]
     },
     "execution_count": 38,
     "metadata": {},
     "output_type": "execute_result"
    }
   ],
   "source": [
    "data.describe()"
   ]
  },
  {
   "cell_type": "code",
   "execution_count": 39,
   "id": "4ed67b4c",
   "metadata": {},
   "outputs": [
    {
     "name": "stdout",
     "output_type": "stream",
     "text": [
      "3.367764675724173\n",
      "0.05\n"
     ]
    }
   ],
   "source": [
    "print(data['O2'].mean())\n",
    "print(data['O2'].min())"
   ]
  },
  {
   "cell_type": "markdown",
   "id": "b8be0d7c",
   "metadata": {},
   "source": [
    "### 2.1 Ersetze Platzhalter"
   ]
  },
  {
   "cell_type": "code",
   "execution_count": 9,
   "id": "1f9a5163",
   "metadata": {},
   "outputs": [
    {
     "data": {
      "text/plain": [
       "3.3677646757241546"
      ]
     },
     "execution_count": 9,
     "metadata": {},
     "output_type": "execute_result"
    }
   ],
   "source": [
    "# -999 mit None ersetzen\n",
    "data['O2'].replace(-999.0, None, inplace=True)\n",
    "data['O2'].mean()"
   ]
  },
  {
   "cell_type": "code",
   "execution_count": 10,
   "id": "4e809ac3",
   "metadata": {},
   "outputs": [
    {
     "data": {
      "text/plain": [
       "array(['Quartäre Kiese und Sande (GWL)', 'Oberer Muschelkalk (GWL)',\n",
       "       'Paläozoikum, Kristallin (GWG)', '-',\n",
       "       'Unterjura und Mitteljura (GWG)',\n",
       "       'Tertiär im Oberrheingraben (GWG)',\n",
       "       'Oberjura (Raurasische Fazies) (GWL)'], dtype=object)"
      ]
     },
     "execution_count": 10,
     "metadata": {},
     "output_type": "execute_result"
    }
   ],
   "source": [
    "data['HYDROGEOL3'].unique()"
   ]
  },
  {
   "cell_type": "code",
   "execution_count": 11,
   "id": "589b9342",
   "metadata": {},
   "outputs": [
    {
     "data": {
      "text/plain": [
       "array(['Quartäre Kiese und Sande (GWL)', 'Oberer Muschelkalk (GWL)',\n",
       "       'Paläozoikum, Kristallin (GWG)', None,\n",
       "       'Unterjura und Mitteljura (GWG)',\n",
       "       'Tertiär im Oberrheingraben (GWG)',\n",
       "       'Oberjura (Raurasische Fazies) (GWL)'], dtype=object)"
      ]
     },
     "execution_count": 11,
     "metadata": {},
     "output_type": "execute_result"
    }
   ],
   "source": [
    "# - mit None ersetzen\n",
    "data['HYDROGEOL3'].replace(\"-\", None, inplace=True)\n",
    "data['HYDROGEOL3'].unique()"
   ]
  },
  {
   "cell_type": "markdown",
   "id": "66866129",
   "metadata": {},
   "source": [
    "### 2.2 Ersetzen von fehlenden Werte (NULL-Values)\n"
   ]
  },
  {
   "cell_type": "markdown",
   "id": "d325c1f9",
   "metadata": {},
   "source": [
    "Kontrolle der NULL-Values:"
   ]
  },
  {
   "cell_type": "code",
   "execution_count": 12,
   "id": "719db85d",
   "metadata": {},
   "outputs": [
    {
     "data": {
      "text/plain": [
       "Messstelle      0\n",
       "GW-Nummer       0\n",
       "Datum           0\n",
       "RASTERVALU      0\n",
       "HYDROGEOL3     56\n",
       "O2            475\n",
       "NO3            20\n",
       "dtype: int64"
      ]
     },
     "execution_count": 12,
     "metadata": {},
     "output_type": "execute_result"
    }
   ],
   "source": [
    "data.isnull().sum()"
   ]
  },
  {
   "cell_type": "markdown",
   "id": "246e9890",
   "metadata": {},
   "source": [
    "#### 2.2.1 Nan in numerische Spalten"
   ]
  },
  {
   "cell_type": "code",
   "execution_count": 13,
   "id": "08e69896",
   "metadata": {},
   "outputs": [
    {
     "data": {
      "text/html": [
       "<div>\n",
       "<style scoped>\n",
       "    .dataframe tbody tr th:only-of-type {\n",
       "        vertical-align: middle;\n",
       "    }\n",
       "\n",
       "    .dataframe tbody tr th {\n",
       "        vertical-align: top;\n",
       "    }\n",
       "\n",
       "    .dataframe thead th {\n",
       "        text-align: right;\n",
       "    }\n",
       "</style>\n",
       "<table border=\"1\" class=\"dataframe\">\n",
       "  <thead>\n",
       "    <tr style=\"text-align: right;\">\n",
       "      <th></th>\n",
       "      <th>Messstelle</th>\n",
       "      <th>GW-Nummer</th>\n",
       "      <th>Datum</th>\n",
       "      <th>RASTERVALU</th>\n",
       "      <th>HYDROGEOL3</th>\n",
       "      <th>O2</th>\n",
       "      <th>NO3</th>\n",
       "    </tr>\n",
       "  </thead>\n",
       "  <tbody>\n",
       "    <tr>\n",
       "      <th>0</th>\n",
       "      <td>BBR Betonwerk, Umkirch</td>\n",
       "      <td>918/069-2</td>\n",
       "      <td>2006-10-11 15:20:00</td>\n",
       "      <td>121</td>\n",
       "      <td>Quartäre Kiese und Sande (GWL)</td>\n",
       "      <td>2.4</td>\n",
       "      <td>9.4</td>\n",
       "    </tr>\n",
       "    <tr>\n",
       "      <th>1</th>\n",
       "      <td>BBR Betonwerk, Umkirch</td>\n",
       "      <td>918/069-2</td>\n",
       "      <td>2007-09-17 14:20:00</td>\n",
       "      <td>121</td>\n",
       "      <td>Quartäre Kiese und Sande (GWL)</td>\n",
       "      <td>2.1</td>\n",
       "      <td>12.0</td>\n",
       "    </tr>\n",
       "    <tr>\n",
       "      <th>2</th>\n",
       "      <td>BBR Betonwerk, Umkirch</td>\n",
       "      <td>918/069-2</td>\n",
       "      <td>2008-09-23 08:05:00</td>\n",
       "      <td>121</td>\n",
       "      <td>Quartäre Kiese und Sande (GWL)</td>\n",
       "      <td>2.5</td>\n",
       "      <td>7.6</td>\n",
       "    </tr>\n",
       "    <tr>\n",
       "      <th>3</th>\n",
       "      <td>BBR Betonwerk, Umkirch</td>\n",
       "      <td>918/069-2</td>\n",
       "      <td>2008-11-10 09:10:00</td>\n",
       "      <td>121</td>\n",
       "      <td>Quartäre Kiese und Sande (GWL)</td>\n",
       "      <td>1.2</td>\n",
       "      <td>12.2</td>\n",
       "    </tr>\n",
       "    <tr>\n",
       "      <th>4</th>\n",
       "      <td>BBR Betonwerk, Umkirch</td>\n",
       "      <td>918/069-2</td>\n",
       "      <td>2009-09-09 14:08:00</td>\n",
       "      <td>121</td>\n",
       "      <td>Quartäre Kiese und Sande (GWL)</td>\n",
       "      <td>1.3</td>\n",
       "      <td>12.0</td>\n",
       "    </tr>\n",
       "  </tbody>\n",
       "</table>\n",
       "</div>"
      ],
      "text/plain": [
       "               Messstelle  GW-Nummer               Datum  RASTERVALU  \\\n",
       "0  BBR Betonwerk, Umkirch  918/069-2 2006-10-11 15:20:00         121   \n",
       "1  BBR Betonwerk, Umkirch  918/069-2 2007-09-17 14:20:00         121   \n",
       "2  BBR Betonwerk, Umkirch  918/069-2 2008-09-23 08:05:00         121   \n",
       "3  BBR Betonwerk, Umkirch  918/069-2 2008-11-10 09:10:00         121   \n",
       "4  BBR Betonwerk, Umkirch  918/069-2 2009-09-09 14:08:00         121   \n",
       "\n",
       "                       HYDROGEOL3   O2   NO3  \n",
       "0  Quartäre Kiese und Sande (GWL)  2.4   9.4  \n",
       "1  Quartäre Kiese und Sande (GWL)  2.1  12.0  \n",
       "2  Quartäre Kiese und Sande (GWL)  2.5   7.6  \n",
       "3  Quartäre Kiese und Sande (GWL)  1.2  12.2  \n",
       "4  Quartäre Kiese und Sande (GWL)  1.3  12.0  "
      ]
     },
     "execution_count": 13,
     "metadata": {},
     "output_type": "execute_result"
    }
   ],
   "source": [
    "# NaNs mit Mittelwerten ersetzen\n",
    "data['O2'].fillna(data.O2.mean(), inplace=True)\n",
    "data['NO3'].fillna(data.NO3.mean(), inplace=True)\n",
    "data.head()"
   ]
  },
  {
   "cell_type": "markdown",
   "id": "18e68a2c",
   "metadata": {},
   "source": [
    "#### 2.2.1 NAN in kategorische Spalten\n"
   ]
  },
  {
   "cell_type": "code",
   "execution_count": 14,
   "id": "9fa29ffb",
   "metadata": {},
   "outputs": [
    {
     "name": "stdout",
     "output_type": "stream",
     "text": [
      "Quartäre Kiese und Sande (GWL)         11955\n",
      "Paläozoikum, Kristallin (GWG)             50\n",
      "Tertiär im Oberrheingraben (GWG)          37\n",
      "Oberjura (Raurasische Fazies) (GWL)       35\n",
      "Oberer Muschelkalk (GWL)                  26\n",
      "Unterjura und Mitteljura (GWG)            19\n",
      "Name: HYDROGEOL3, dtype: int64 \n",
      "\n",
      " Modus: Quartäre Kiese und Sande (GWL)\n"
     ]
    }
   ],
   "source": [
    "# NaNs mit Mode ersetzen\n",
    "hy_mode = data.HYDROGEOL3.mode()[0]\n",
    "print(data.HYDROGEOL3.value_counts(),'\\n\\n',\n",
    "      'Modus:',\n",
    "      hy_mode)"
   ]
  },
  {
   "cell_type": "code",
   "execution_count": 15,
   "id": "fcf8d6c4",
   "metadata": {},
   "outputs": [],
   "source": [
    "data = data.assign(Hydrogeologie = data.loc[:,'HYDROGEOL3'].fillna(hy_mode))\n",
    "data.drop(columns='HYDROGEOL3', inplace=True)"
   ]
  },
  {
   "cell_type": "markdown",
   "id": "f30e4a05",
   "metadata": {},
   "source": [
    "#### Kontrolle"
   ]
  },
  {
   "cell_type": "code",
   "execution_count": 16,
   "id": "d8310323",
   "metadata": {},
   "outputs": [
    {
     "data": {
      "text/plain": [
       "Messstelle       0\n",
       "GW-Nummer        0\n",
       "Datum            0\n",
       "RASTERVALU       0\n",
       "O2               0\n",
       "NO3              0\n",
       "Hydrogeologie    0\n",
       "dtype: int64"
      ]
     },
     "execution_count": 16,
     "metadata": {},
     "output_type": "execute_result"
    }
   ],
   "source": [
    "data.isnull().sum()"
   ]
  },
  {
   "cell_type": "markdown",
   "id": "9517db86",
   "metadata": {},
   "source": [
    "## 3. Aggregiere die Daten für jede Messstelle"
   ]
  },
  {
   "cell_type": "code",
   "execution_count": 17,
   "id": "0276b539",
   "metadata": {},
   "outputs": [],
   "source": [
    "# Nach Messstellen Gruppieren und Mittelwerte bzw. Modes berechnen\n",
    "messstellen1 = data[['Messstelle','NO3','O2']].groupby('Messstelle').mean()\n",
    "messstellen2 = data[['Messstelle','Hydrogeologie','RASTERVALU']].groupby('Messstelle').agg(pd.Series.mode)\n",
    "\n",
    "messstellen1.reset_index(inplace=True)\n",
    "messstellen2.reset_index(inplace=True)"
   ]
  },
  {
   "cell_type": "code",
   "execution_count": 18,
   "id": "3b4b37ee",
   "metadata": {},
   "outputs": [
    {
     "data": {
      "text/html": [
       "<div>\n",
       "<style scoped>\n",
       "    .dataframe tbody tr th:only-of-type {\n",
       "        vertical-align: middle;\n",
       "    }\n",
       "\n",
       "    .dataframe tbody tr th {\n",
       "        vertical-align: top;\n",
       "    }\n",
       "\n",
       "    .dataframe thead th {\n",
       "        text-align: right;\n",
       "    }\n",
       "</style>\n",
       "<table border=\"1\" class=\"dataframe\">\n",
       "  <thead>\n",
       "    <tr style=\"text-align: right;\">\n",
       "      <th></th>\n",
       "      <th>Messstelle</th>\n",
       "      <th>NO3</th>\n",
       "      <th>O2</th>\n",
       "      <th>Hydrogeologie</th>\n",
       "      <th>RASTERVALU</th>\n",
       "    </tr>\n",
       "  </thead>\n",
       "  <tbody>\n",
       "    <tr>\n",
       "      <th>0</th>\n",
       "      <td>BBR 1 Firma Schultis, Riegel</td>\n",
       "      <td>6.259259</td>\n",
       "      <td>1.315473</td>\n",
       "      <td>Quartäre Kiese und Sande (GWL)</td>\n",
       "      <td>121</td>\n",
       "    </tr>\n",
       "    <tr>\n",
       "      <th>1</th>\n",
       "      <td>BBR 2 Firma Thieme, Teningen</td>\n",
       "      <td>1.452941</td>\n",
       "      <td>0.823723</td>\n",
       "      <td>Quartäre Kiese und Sande (GWL)</td>\n",
       "      <td>121</td>\n",
       "    </tr>\n",
       "    <tr>\n",
       "      <th>2</th>\n",
       "      <td>BBR 2 Kronenwiese Firma Burda Werk 1, Offenburg</td>\n",
       "      <td>5.600000</td>\n",
       "      <td>1.984615</td>\n",
       "      <td>Quartäre Kiese und Sande (GWL)</td>\n",
       "      <td>121</td>\n",
       "    </tr>\n",
       "    <tr>\n",
       "      <th>3</th>\n",
       "      <td>BBR 3186 im Garten der alten Schule, Langhurst</td>\n",
       "      <td>6.968750</td>\n",
       "      <td>0.730346</td>\n",
       "      <td>Quartäre Kiese und Sande (GWL)</td>\n",
       "      <td>112</td>\n",
       "    </tr>\n",
       "    <tr>\n",
       "      <th>4</th>\n",
       "      <td>BBR 998 A Kehlerstrasse, Neuried-Auenheim</td>\n",
       "      <td>56.164286</td>\n",
       "      <td>1.116071</td>\n",
       "      <td>Quartäre Kiese und Sande (GWL)</td>\n",
       "      <td>112</td>\n",
       "    </tr>\n",
       "  </tbody>\n",
       "</table>\n",
       "</div>"
      ],
      "text/plain": [
       "                                        Messstelle        NO3        O2  \\\n",
       "0                     BBR 1 Firma Schultis, Riegel   6.259259  1.315473   \n",
       "1                     BBR 2 Firma Thieme, Teningen   1.452941  0.823723   \n",
       "2  BBR 2 Kronenwiese Firma Burda Werk 1, Offenburg   5.600000  1.984615   \n",
       "3   BBR 3186 im Garten der alten Schule, Langhurst   6.968750  0.730346   \n",
       "4        BBR 998 A Kehlerstrasse, Neuried-Auenheim  56.164286  1.116071   \n",
       "\n",
       "                    Hydrogeologie  RASTERVALU  \n",
       "0  Quartäre Kiese und Sande (GWL)         121  \n",
       "1  Quartäre Kiese und Sande (GWL)         121  \n",
       "2  Quartäre Kiese und Sande (GWL)         121  \n",
       "3  Quartäre Kiese und Sande (GWL)         112  \n",
       "4  Quartäre Kiese und Sande (GWL)         112  "
      ]
     },
     "execution_count": 18,
     "metadata": {},
     "output_type": "execute_result"
    }
   ],
   "source": [
    "# Datframe zusammenfügen\n",
    "Messstellen  = messstellen1.merge(messstellen2, on='Messstelle')\n",
    "Messstellen.head()"
   ]
  },
  {
   "cell_type": "markdown",
   "id": "545ed8ae",
   "metadata": {},
   "source": [
    "## 4. Splitte die Date (85:15)"
   ]
  },
  {
   "cell_type": "code",
   "execution_count": 19,
   "id": "0bca70da",
   "metadata": {},
   "outputs": [],
   "source": [
    "from sklearn.model_selection import train_test_split"
   ]
  },
  {
   "cell_type": "code",
   "execution_count": 20,
   "id": "c514ef6d",
   "metadata": {},
   "outputs": [],
   "source": [
    "# Train Test Split 85/15\n",
    "train, test = train_test_split(Messstellen, test_size=0.15, random_state=43)"
   ]
  },
  {
   "cell_type": "code",
   "execution_count": 42,
   "id": "c885c3b4",
   "metadata": {},
   "outputs": [
    {
     "name": "stdout",
     "output_type": "stream",
     "text": [
      "Größe Trainingsdaten:  (430, 9)\n",
      "Größe Testdaten:  (77, 9)\n",
      "Größe Testdaten in %:  17.906976744186046\n"
     ]
    }
   ],
   "source": [
    "print('Größe Trainingsdaten: ', train.shape)\n",
    "print('Größe Testdaten: ', test.shape)\n",
    "print('Größe Testdaten in %: ',(len(test)/len(train)*100))"
   ]
  },
  {
   "cell_type": "markdown",
   "id": "02a5c045",
   "metadata": {},
   "source": [
    "## 5. Standardisiere die numerischen Variablen"
   ]
  },
  {
   "cell_type": "markdown",
   "id": "247ce089",
   "metadata": {},
   "source": [
    "### 5.1 Standardisieren"
   ]
  },
  {
   "cell_type": "code",
   "execution_count": 26,
   "id": "4a385718",
   "metadata": {},
   "outputs": [],
   "source": [
    "from sklearn.preprocessing import StandardScaler"
   ]
  },
  {
   "cell_type": "code",
   "execution_count": 27,
   "id": "fd5167cd",
   "metadata": {},
   "outputs": [
    {
     "data": {
      "text/plain": [
       "StandardScaler()"
      ]
     },
     "execution_count": 27,
     "metadata": {},
     "output_type": "execute_result"
    }
   ],
   "source": [
    "# scaler Objekt definieren und an train NO3 anwenden\n",
    "scaler = StandardScaler()\n",
    "scaler.fit(train[['NO3']])"
   ]
  },
  {
   "cell_type": "code",
   "execution_count": 28,
   "id": "638323fb",
   "metadata": {},
   "outputs": [],
   "source": [
    "# Train und Test set standardisieren\n",
    "train['NO3_std']= scaler.transform(train[['NO3']])\n",
    "test['NO3_std'] = scaler.transform(test[['NO3']])"
   ]
  },
  {
   "cell_type": "code",
   "execution_count": 44,
   "id": "7fa80846",
   "metadata": {},
   "outputs": [
    {
     "name": "stdout",
     "output_type": "stream",
     "text": [
      "mean(X):  0.0\n",
      "std(X):  1.0\n"
     ]
    }
   ],
   "source": [
    "print('mean(X): ', train.NO3_std.mean().round(2))\n",
    "print('std(X): ', train.NO3_std.std().round(2))"
   ]
  },
  {
   "cell_type": "code",
   "execution_count": 30,
   "id": "1bff391d",
   "metadata": {},
   "outputs": [
    {
     "data": {
      "text/html": [
       "<div>\n",
       "<style scoped>\n",
       "    .dataframe tbody tr th:only-of-type {\n",
       "        vertical-align: middle;\n",
       "    }\n",
       "\n",
       "    .dataframe tbody tr th {\n",
       "        vertical-align: top;\n",
       "    }\n",
       "\n",
       "    .dataframe thead th {\n",
       "        text-align: right;\n",
       "    }\n",
       "</style>\n",
       "<table border=\"1\" class=\"dataframe\">\n",
       "  <thead>\n",
       "    <tr style=\"text-align: right;\">\n",
       "      <th></th>\n",
       "      <th>Messstelle</th>\n",
       "      <th>NO3</th>\n",
       "      <th>O2</th>\n",
       "      <th>Hydrogeologie</th>\n",
       "      <th>RASTERVALU</th>\n",
       "      <th>NO3_norm</th>\n",
       "      <th>NO3_std</th>\n",
       "    </tr>\n",
       "  </thead>\n",
       "  <tbody>\n",
       "    <tr>\n",
       "      <th>238</th>\n",
       "      <td>GWM 3661 Friedhof, Wiesental</td>\n",
       "      <td>60.560000</td>\n",
       "      <td>0.980000</td>\n",
       "      <td>Quartäre Kiese und Sande (GWL)</td>\n",
       "      <td>111</td>\n",
       "      <td>0.487735</td>\n",
       "      <td>1.537763</td>\n",
       "    </tr>\n",
       "    <tr>\n",
       "      <th>102</th>\n",
       "      <td>BR NB 38 Main/Feldbergstrasse, KA-Weiherfeld</td>\n",
       "      <td>24.163636</td>\n",
       "      <td>0.678888</td>\n",
       "      <td>Quartäre Kiese und Sande (GWL)</td>\n",
       "      <td>112</td>\n",
       "      <td>0.193532</td>\n",
       "      <td>0.048512</td>\n",
       "    </tr>\n",
       "    <tr>\n",
       "      <th>463</th>\n",
       "      <td>TB Firma Fischerwerke GmbH, Emmendingen</td>\n",
       "      <td>19.300000</td>\n",
       "      <td>4.252961</td>\n",
       "      <td>Quartäre Kiese und Sande (GWL)</td>\n",
       "      <td>121</td>\n",
       "      <td>0.154218</td>\n",
       "      <td>-0.150496</td>\n",
       "    </tr>\n",
       "    <tr>\n",
       "      <th>165</th>\n",
       "      <td>GWM 1138 A, Mahlberg</td>\n",
       "      <td>7.272000</td>\n",
       "      <td>3.692711</td>\n",
       "      <td>Quartäre Kiese und Sande (GWL)</td>\n",
       "      <td>211</td>\n",
       "      <td>0.056992</td>\n",
       "      <td>-0.642652</td>\n",
       "    </tr>\n",
       "    <tr>\n",
       "      <th>440</th>\n",
       "      <td>TB 2 neu, Auggen</td>\n",
       "      <td>34.003448</td>\n",
       "      <td>6.668467</td>\n",
       "      <td>Tertiär im Oberrheingraben (GWG)</td>\n",
       "      <td>211</td>\n",
       "      <td>0.273070</td>\n",
       "      <td>0.451134</td>\n",
       "    </tr>\n",
       "  </tbody>\n",
       "</table>\n",
       "</div>"
      ],
      "text/plain": [
       "                                       Messstelle        NO3        O2  \\\n",
       "238                  GWM 3661 Friedhof, Wiesental  60.560000  0.980000   \n",
       "102  BR NB 38 Main/Feldbergstrasse, KA-Weiherfeld  24.163636  0.678888   \n",
       "463       TB Firma Fischerwerke GmbH, Emmendingen  19.300000  4.252961   \n",
       "165                          GWM 1138 A, Mahlberg   7.272000  3.692711   \n",
       "440                              TB 2 neu, Auggen  34.003448  6.668467   \n",
       "\n",
       "                        Hydrogeologie  RASTERVALU  NO3_norm   NO3_std  \n",
       "238    Quartäre Kiese und Sande (GWL)         111  0.487735  1.537763  \n",
       "102    Quartäre Kiese und Sande (GWL)         112  0.193532  0.048512  \n",
       "463    Quartäre Kiese und Sande (GWL)         121  0.154218 -0.150496  \n",
       "165    Quartäre Kiese und Sande (GWL)         211  0.056992 -0.642652  \n",
       "440  Tertiär im Oberrheingraben (GWG)         211  0.273070  0.451134  "
      ]
     },
     "execution_count": 30,
     "metadata": {},
     "output_type": "execute_result"
    }
   ],
   "source": [
    "train.head()"
   ]
  },
  {
   "cell_type": "code",
   "execution_count": 31,
   "id": "8b93205e",
   "metadata": {},
   "outputs": [
    {
     "data": {
      "text/html": [
       "<div>\n",
       "<style scoped>\n",
       "    .dataframe tbody tr th:only-of-type {\n",
       "        vertical-align: middle;\n",
       "    }\n",
       "\n",
       "    .dataframe tbody tr th {\n",
       "        vertical-align: top;\n",
       "    }\n",
       "\n",
       "    .dataframe thead th {\n",
       "        text-align: right;\n",
       "    }\n",
       "</style>\n",
       "<table border=\"1\" class=\"dataframe\">\n",
       "  <thead>\n",
       "    <tr style=\"text-align: right;\">\n",
       "      <th></th>\n",
       "      <th>Messstelle</th>\n",
       "      <th>NO3</th>\n",
       "      <th>O2</th>\n",
       "      <th>Hydrogeologie</th>\n",
       "      <th>RASTERVALU</th>\n",
       "      <th>NO3_norm</th>\n",
       "      <th>NO3_std</th>\n",
       "    </tr>\n",
       "  </thead>\n",
       "  <tbody>\n",
       "    <tr>\n",
       "      <th>498</th>\n",
       "      <td>TB WW Neuburgweier, Rheinstetten</td>\n",
       "      <td>0.664062</td>\n",
       "      <td>1.625000</td>\n",
       "      <td>Quartäre Kiese und Sande (GWL)</td>\n",
       "      <td>231</td>\n",
       "      <td>0.003578</td>\n",
       "      <td>-0.913033</td>\n",
       "    </tr>\n",
       "    <tr>\n",
       "      <th>328</th>\n",
       "      <td>GWM K 20 Kehl, Goldscheuer</td>\n",
       "      <td>0.227778</td>\n",
       "      <td>0.255556</td>\n",
       "      <td>Quartäre Kiese und Sande (GWL)</td>\n",
       "      <td>231</td>\n",
       "      <td>0.000051</td>\n",
       "      <td>-0.930885</td>\n",
       "    </tr>\n",
       "    <tr>\n",
       "      <th>321</th>\n",
       "      <td>GWM G0/1 KIT, Leopoldshafen</td>\n",
       "      <td>6.945455</td>\n",
       "      <td>3.259091</td>\n",
       "      <td>Quartäre Kiese und Sande (GWL)</td>\n",
       "      <td>313</td>\n",
       "      <td>0.054352</td>\n",
       "      <td>-0.656014</td>\n",
       "    </tr>\n",
       "    <tr>\n",
       "      <th>170</th>\n",
       "      <td>GWM 1279 A, Oberhausen</td>\n",
       "      <td>14.138462</td>\n",
       "      <td>7.215385</td>\n",
       "      <td>Quartäre Kiese und Sande (GWL)</td>\n",
       "      <td>231</td>\n",
       "      <td>0.112496</td>\n",
       "      <td>-0.361694</td>\n",
       "    </tr>\n",
       "    <tr>\n",
       "      <th>432</th>\n",
       "      <td>TB 116 Universität Albertstrasse, Freiburg</td>\n",
       "      <td>14.133333</td>\n",
       "      <td>7.412369</td>\n",
       "      <td>Quartäre Kiese und Sande (GWL)</td>\n",
       "      <td>121</td>\n",
       "      <td>0.112454</td>\n",
       "      <td>-0.361903</td>\n",
       "    </tr>\n",
       "  </tbody>\n",
       "</table>\n",
       "</div>"
      ],
      "text/plain": [
       "                                     Messstelle        NO3        O2  \\\n",
       "498            TB WW Neuburgweier, Rheinstetten   0.664062  1.625000   \n",
       "328                  GWM K 20 Kehl, Goldscheuer   0.227778  0.255556   \n",
       "321                 GWM G0/1 KIT, Leopoldshafen   6.945455  3.259091   \n",
       "170                      GWM 1279 A, Oberhausen  14.138462  7.215385   \n",
       "432  TB 116 Universität Albertstrasse, Freiburg  14.133333  7.412369   \n",
       "\n",
       "                      Hydrogeologie  RASTERVALU  NO3_norm   NO3_std  \n",
       "498  Quartäre Kiese und Sande (GWL)         231  0.003578 -0.913033  \n",
       "328  Quartäre Kiese und Sande (GWL)         231  0.000051 -0.930885  \n",
       "321  Quartäre Kiese und Sande (GWL)         313  0.054352 -0.656014  \n",
       "170  Quartäre Kiese und Sande (GWL)         231  0.112496 -0.361694  \n",
       "432  Quartäre Kiese und Sande (GWL)         121  0.112454 -0.361903  "
      ]
     },
     "execution_count": 31,
     "metadata": {},
     "output_type": "execute_result"
    }
   ],
   "source": [
    "test.head()"
   ]
  },
  {
   "cell_type": "markdown",
   "id": "7e047a7e",
   "metadata": {},
   "source": [
    "## 6. Encode die Landnutzung binär nach der Landwirtschaft (Corine = 2XX) &rarr; vorhanden = 1, nicht vorhanden = 0"
   ]
  },
  {
   "cell_type": "code",
   "execution_count": 32,
   "id": "ebcfebf9",
   "metadata": {},
   "outputs": [],
   "source": [
    "# Encodieren\n",
    "train['Corine'] = train['RASTERVALU'].apply(lambda x: int(str(x)[0]))\n",
    "train['Artificial_Surface'] = train['Corine'].apply(lambda x: 1 if x == 2  else 0)\n",
    "\n",
    "test['Corine'] = test['RASTERVALU'].apply(lambda x: int(str(x)[0]))\n",
    "test['Artificial_Surface'] = test['Corine'].apply(lambda x: 1 if x == 2  else 0)"
   ]
  },
  {
   "cell_type": "code",
   "execution_count": 33,
   "id": "af94209b",
   "metadata": {},
   "outputs": [],
   "source": [
    "# Nicht mehr benötigte Spalte entfernen\n",
    "train.drop(columns='RASTERVALU', inplace=True)\n",
    "test.drop(columns='RASTERVALU', inplace=True)"
   ]
  },
  {
   "cell_type": "code",
   "execution_count": 34,
   "id": "5ffbd362",
   "metadata": {},
   "outputs": [
    {
     "data": {
      "text/html": [
       "<div>\n",
       "<style scoped>\n",
       "    .dataframe tbody tr th:only-of-type {\n",
       "        vertical-align: middle;\n",
       "    }\n",
       "\n",
       "    .dataframe tbody tr th {\n",
       "        vertical-align: top;\n",
       "    }\n",
       "\n",
       "    .dataframe thead th {\n",
       "        text-align: right;\n",
       "    }\n",
       "</style>\n",
       "<table border=\"1\" class=\"dataframe\">\n",
       "  <thead>\n",
       "    <tr style=\"text-align: right;\">\n",
       "      <th></th>\n",
       "      <th>Messstelle</th>\n",
       "      <th>NO3</th>\n",
       "      <th>O2</th>\n",
       "      <th>Hydrogeologie</th>\n",
       "      <th>NO3_norm</th>\n",
       "      <th>NO3_std</th>\n",
       "      <th>Corine</th>\n",
       "      <th>Artificial_Surface</th>\n",
       "    </tr>\n",
       "  </thead>\n",
       "  <tbody>\n",
       "    <tr>\n",
       "      <th>238</th>\n",
       "      <td>GWM 3661 Friedhof, Wiesental</td>\n",
       "      <td>60.560000</td>\n",
       "      <td>0.980000</td>\n",
       "      <td>Quartäre Kiese und Sande (GWL)</td>\n",
       "      <td>0.487735</td>\n",
       "      <td>1.537763</td>\n",
       "      <td>1</td>\n",
       "      <td>0</td>\n",
       "    </tr>\n",
       "    <tr>\n",
       "      <th>102</th>\n",
       "      <td>BR NB 38 Main/Feldbergstrasse, KA-Weiherfeld</td>\n",
       "      <td>24.163636</td>\n",
       "      <td>0.678888</td>\n",
       "      <td>Quartäre Kiese und Sande (GWL)</td>\n",
       "      <td>0.193532</td>\n",
       "      <td>0.048512</td>\n",
       "      <td>1</td>\n",
       "      <td>0</td>\n",
       "    </tr>\n",
       "    <tr>\n",
       "      <th>463</th>\n",
       "      <td>TB Firma Fischerwerke GmbH, Emmendingen</td>\n",
       "      <td>19.300000</td>\n",
       "      <td>4.252961</td>\n",
       "      <td>Quartäre Kiese und Sande (GWL)</td>\n",
       "      <td>0.154218</td>\n",
       "      <td>-0.150496</td>\n",
       "      <td>1</td>\n",
       "      <td>0</td>\n",
       "    </tr>\n",
       "    <tr>\n",
       "      <th>165</th>\n",
       "      <td>GWM 1138 A, Mahlberg</td>\n",
       "      <td>7.272000</td>\n",
       "      <td>3.692711</td>\n",
       "      <td>Quartäre Kiese und Sande (GWL)</td>\n",
       "      <td>0.056992</td>\n",
       "      <td>-0.642652</td>\n",
       "      <td>2</td>\n",
       "      <td>1</td>\n",
       "    </tr>\n",
       "    <tr>\n",
       "      <th>440</th>\n",
       "      <td>TB 2 neu, Auggen</td>\n",
       "      <td>34.003448</td>\n",
       "      <td>6.668467</td>\n",
       "      <td>Tertiär im Oberrheingraben (GWG)</td>\n",
       "      <td>0.273070</td>\n",
       "      <td>0.451134</td>\n",
       "      <td>2</td>\n",
       "      <td>1</td>\n",
       "    </tr>\n",
       "    <tr>\n",
       "      <th>...</th>\n",
       "      <td>...</td>\n",
       "      <td>...</td>\n",
       "      <td>...</td>\n",
       "      <td>...</td>\n",
       "      <td>...</td>\n",
       "      <td>...</td>\n",
       "      <td>...</td>\n",
       "      <td>...</td>\n",
       "    </tr>\n",
       "    <tr>\n",
       "      <th>277</th>\n",
       "      <td>GWM B2 Tief Kieswerk Peter, Honau</td>\n",
       "      <td>0.958333</td>\n",
       "      <td>1.008333</td>\n",
       "      <td>Quartäre Kiese und Sande (GWL)</td>\n",
       "      <td>0.005957</td>\n",
       "      <td>-0.900992</td>\n",
       "      <td>5</td>\n",
       "      <td>0</td>\n",
       "    </tr>\n",
       "    <tr>\n",
       "      <th>305</th>\n",
       "      <td>GWM F Sportzentrum, Schriesheim</td>\n",
       "      <td>5.061667</td>\n",
       "      <td>5.246667</td>\n",
       "      <td>Quartäre Kiese und Sande (GWL)</td>\n",
       "      <td>0.039125</td>\n",
       "      <td>-0.733094</td>\n",
       "      <td>1</td>\n",
       "      <td>0</td>\n",
       "    </tr>\n",
       "    <tr>\n",
       "      <th>255</th>\n",
       "      <td>GWM 6, Neuried Dundenheim</td>\n",
       "      <td>74.896429</td>\n",
       "      <td>3.650118</td>\n",
       "      <td>Quartäre Kiese und Sande (GWL)</td>\n",
       "      <td>0.603620</td>\n",
       "      <td>2.124375</td>\n",
       "      <td>2</td>\n",
       "      <td>1</td>\n",
       "    </tr>\n",
       "    <tr>\n",
       "      <th>320</th>\n",
       "      <td>GWM Friedrichstal, Friedrichstal</td>\n",
       "      <td>4.788462</td>\n",
       "      <td>1.014271</td>\n",
       "      <td>Quartäre Kiese und Sande (GWL)</td>\n",
       "      <td>0.036917</td>\n",
       "      <td>-0.744273</td>\n",
       "      <td>2</td>\n",
       "      <td>1</td>\n",
       "    </tr>\n",
       "    <tr>\n",
       "      <th>324</th>\n",
       "      <td>GWM II, Goldscheuer-Marlen</td>\n",
       "      <td>4.564286</td>\n",
       "      <td>0.816824</td>\n",
       "      <td>Quartäre Kiese und Sande (GWL)</td>\n",
       "      <td>0.035105</td>\n",
       "      <td>-0.753446</td>\n",
       "      <td>2</td>\n",
       "      <td>1</td>\n",
       "    </tr>\n",
       "  </tbody>\n",
       "</table>\n",
       "<p>430 rows × 8 columns</p>\n",
       "</div>"
      ],
      "text/plain": [
       "                                       Messstelle        NO3        O2  \\\n",
       "238                  GWM 3661 Friedhof, Wiesental  60.560000  0.980000   \n",
       "102  BR NB 38 Main/Feldbergstrasse, KA-Weiherfeld  24.163636  0.678888   \n",
       "463       TB Firma Fischerwerke GmbH, Emmendingen  19.300000  4.252961   \n",
       "165                          GWM 1138 A, Mahlberg   7.272000  3.692711   \n",
       "440                              TB 2 neu, Auggen  34.003448  6.668467   \n",
       "..                                            ...        ...       ...   \n",
       "277             GWM B2 Tief Kieswerk Peter, Honau   0.958333  1.008333   \n",
       "305               GWM F Sportzentrum, Schriesheim   5.061667  5.246667   \n",
       "255                     GWM 6, Neuried Dundenheim  74.896429  3.650118   \n",
       "320              GWM Friedrichstal, Friedrichstal   4.788462  1.014271   \n",
       "324                    GWM II, Goldscheuer-Marlen   4.564286  0.816824   \n",
       "\n",
       "                        Hydrogeologie  NO3_norm   NO3_std  Corine  \\\n",
       "238    Quartäre Kiese und Sande (GWL)  0.487735  1.537763       1   \n",
       "102    Quartäre Kiese und Sande (GWL)  0.193532  0.048512       1   \n",
       "463    Quartäre Kiese und Sande (GWL)  0.154218 -0.150496       1   \n",
       "165    Quartäre Kiese und Sande (GWL)  0.056992 -0.642652       2   \n",
       "440  Tertiär im Oberrheingraben (GWG)  0.273070  0.451134       2   \n",
       "..                                ...       ...       ...     ...   \n",
       "277    Quartäre Kiese und Sande (GWL)  0.005957 -0.900992       5   \n",
       "305    Quartäre Kiese und Sande (GWL)  0.039125 -0.733094       1   \n",
       "255    Quartäre Kiese und Sande (GWL)  0.603620  2.124375       2   \n",
       "320    Quartäre Kiese und Sande (GWL)  0.036917 -0.744273       2   \n",
       "324    Quartäre Kiese und Sande (GWL)  0.035105 -0.753446       2   \n",
       "\n",
       "     Artificial_Surface  \n",
       "238                   0  \n",
       "102                   0  \n",
       "463                   0  \n",
       "165                   1  \n",
       "440                   1  \n",
       "..                  ...  \n",
       "277                   0  \n",
       "305                   0  \n",
       "255                   1  \n",
       "320                   1  \n",
       "324                   1  \n",
       "\n",
       "[430 rows x 8 columns]"
      ]
     },
     "execution_count": 34,
     "metadata": {},
     "output_type": "execute_result"
    }
   ],
   "source": [
    "train"
   ]
  },
  {
   "cell_type": "markdown",
   "id": "5af17a26",
   "metadata": {},
   "source": [
    "## 7. Target-Encode die Hyrogeologie auf Basis der Nitratkonzentration"
   ]
  },
  {
   "cell_type": "code",
   "execution_count": 35,
   "id": "cf5b6640",
   "metadata": {},
   "outputs": [],
   "source": [
    "from category_encoders.target_encoder import TargetEncoder"
   ]
  },
  {
   "cell_type": "code",
   "execution_count": 36,
   "id": "450bc36e",
   "metadata": {},
   "outputs": [
    {
     "data": {
      "text/html": [
       "<div>\n",
       "<style scoped>\n",
       "    .dataframe tbody tr th:only-of-type {\n",
       "        vertical-align: middle;\n",
       "    }\n",
       "\n",
       "    .dataframe tbody tr th {\n",
       "        vertical-align: top;\n",
       "    }\n",
       "\n",
       "    .dataframe thead th {\n",
       "        text-align: right;\n",
       "    }\n",
       "</style>\n",
       "<table border=\"1\" class=\"dataframe\">\n",
       "  <thead>\n",
       "    <tr style=\"text-align: right;\">\n",
       "      <th></th>\n",
       "      <th>Messstelle</th>\n",
       "      <th>NO3</th>\n",
       "      <th>O2</th>\n",
       "      <th>Hydrogeologie</th>\n",
       "      <th>NO3_norm</th>\n",
       "      <th>NO3_std</th>\n",
       "      <th>Corine</th>\n",
       "      <th>Artificial_Surface</th>\n",
       "      <th>Target_Hy</th>\n",
       "    </tr>\n",
       "  </thead>\n",
       "  <tbody>\n",
       "    <tr>\n",
       "      <th>238</th>\n",
       "      <td>GWM 3661 Friedhof, Wiesental</td>\n",
       "      <td>60.560000</td>\n",
       "      <td>0.980000</td>\n",
       "      <td>Quartäre Kiese und Sande (GWL)</td>\n",
       "      <td>0.487735</td>\n",
       "      <td>1.537763</td>\n",
       "      <td>1</td>\n",
       "      <td>0</td>\n",
       "      <td>23.047591</td>\n",
       "    </tr>\n",
       "    <tr>\n",
       "      <th>102</th>\n",
       "      <td>BR NB 38 Main/Feldbergstrasse, KA-Weiherfeld</td>\n",
       "      <td>24.163636</td>\n",
       "      <td>0.678888</td>\n",
       "      <td>Quartäre Kiese und Sande (GWL)</td>\n",
       "      <td>0.193532</td>\n",
       "      <td>0.048512</td>\n",
       "      <td>1</td>\n",
       "      <td>0</td>\n",
       "      <td>23.047591</td>\n",
       "    </tr>\n",
       "    <tr>\n",
       "      <th>463</th>\n",
       "      <td>TB Firma Fischerwerke GmbH, Emmendingen</td>\n",
       "      <td>19.300000</td>\n",
       "      <td>4.252961</td>\n",
       "      <td>Quartäre Kiese und Sande (GWL)</td>\n",
       "      <td>0.154218</td>\n",
       "      <td>-0.150496</td>\n",
       "      <td>1</td>\n",
       "      <td>0</td>\n",
       "      <td>23.047591</td>\n",
       "    </tr>\n",
       "    <tr>\n",
       "      <th>165</th>\n",
       "      <td>GWM 1138 A, Mahlberg</td>\n",
       "      <td>7.272000</td>\n",
       "      <td>3.692711</td>\n",
       "      <td>Quartäre Kiese und Sande (GWL)</td>\n",
       "      <td>0.056992</td>\n",
       "      <td>-0.642652</td>\n",
       "      <td>2</td>\n",
       "      <td>1</td>\n",
       "      <td>23.047591</td>\n",
       "    </tr>\n",
       "    <tr>\n",
       "      <th>440</th>\n",
       "      <td>TB 2 neu, Auggen</td>\n",
       "      <td>34.003448</td>\n",
       "      <td>6.668467</td>\n",
       "      <td>Tertiär im Oberrheingraben (GWG)</td>\n",
       "      <td>0.273070</td>\n",
       "      <td>0.451134</td>\n",
       "      <td>2</td>\n",
       "      <td>1</td>\n",
       "      <td>19.705587</td>\n",
       "    </tr>\n",
       "  </tbody>\n",
       "</table>\n",
       "</div>"
      ],
      "text/plain": [
       "                                       Messstelle        NO3        O2  \\\n",
       "238                  GWM 3661 Friedhof, Wiesental  60.560000  0.980000   \n",
       "102  BR NB 38 Main/Feldbergstrasse, KA-Weiherfeld  24.163636  0.678888   \n",
       "463       TB Firma Fischerwerke GmbH, Emmendingen  19.300000  4.252961   \n",
       "165                          GWM 1138 A, Mahlberg   7.272000  3.692711   \n",
       "440                              TB 2 neu, Auggen  34.003448  6.668467   \n",
       "\n",
       "                        Hydrogeologie  NO3_norm   NO3_std  Corine  \\\n",
       "238    Quartäre Kiese und Sande (GWL)  0.487735  1.537763       1   \n",
       "102    Quartäre Kiese und Sande (GWL)  0.193532  0.048512       1   \n",
       "463    Quartäre Kiese und Sande (GWL)  0.154218 -0.150496       1   \n",
       "165    Quartäre Kiese und Sande (GWL)  0.056992 -0.642652       2   \n",
       "440  Tertiär im Oberrheingraben (GWG)  0.273070  0.451134       2   \n",
       "\n",
       "     Artificial_Surface  Target_Hy  \n",
       "238                   0  23.047591  \n",
       "102                   0  23.047591  \n",
       "463                   0  23.047591  \n",
       "165                   1  23.047591  \n",
       "440                   1  19.705587  "
      ]
     },
     "execution_count": 36,
     "metadata": {},
     "output_type": "execute_result"
    }
   ],
   "source": [
    "# Target (Mittelwert)- Encoding\n",
    "encoder = TargetEncoder()\n",
    "train['Target_Hy'] = encoder.fit_transform(train['Hydrogeologie'],train['NO3'])\n",
    "test['Target_Hy'] = encoder.transform(test['Hydrogeologie'])\n",
    "train.head()"
   ]
  },
  {
   "cell_type": "markdown",
   "id": "23516173",
   "metadata": {},
   "source": [
    "## 8. Speichere deine Ergebnisse"
   ]
  },
  {
   "cell_type": "code",
   "execution_count": 37,
   "id": "2fa48208",
   "metadata": {},
   "outputs": [],
   "source": [
    "#train.to_csv('Aufg_1_train.csv')\n",
    "#test.to_csv('Aufg_1_test.csv')"
   ]
  },
  {
   "cell_type": "markdown",
   "id": "724660d6",
   "metadata": {},
   "source": [
    "## Fertig"
   ]
  }
 ],
 "metadata": {
  "hide_input": false,
  "kernelspec": {
   "display_name": "Python 3 (ipykernel)",
   "language": "python",
   "name": "python3"
  },
  "language_info": {
   "codemirror_mode": {
    "name": "ipython",
    "version": 3
   },
   "file_extension": ".py",
   "mimetype": "text/x-python",
   "name": "python",
   "nbconvert_exporter": "python",
   "pygments_lexer": "ipython3",
   "version": "3.8.13"
  },
  "toc": {
   "base_numbering": 1,
   "nav_menu": {},
   "number_sections": false,
   "sideBar": true,
   "skip_h1_title": true,
   "title_cell": "Table of Contents",
   "title_sidebar": "Contents",
   "toc_cell": false,
   "toc_position": {
    "height": "calc(100% - 180px)",
    "left": "10px",
    "top": "150px",
    "width": "384px"
   },
   "toc_section_display": true,
   "toc_window_display": true
  },
  "varInspector": {
   "cols": {
    "lenName": 16,
    "lenType": 16,
    "lenVar": 40
   },
   "kernels_config": {
    "python": {
     "delete_cmd_postfix": "",
     "delete_cmd_prefix": "del ",
     "library": "var_list.py",
     "varRefreshCmd": "print(var_dic_list())"
    },
    "r": {
     "delete_cmd_postfix": ") ",
     "delete_cmd_prefix": "rm(",
     "library": "var_list.r",
     "varRefreshCmd": "cat(var_dic_list()) "
    }
   },
   "types_to_exclude": [
    "module",
    "function",
    "builtin_function_or_method",
    "instance",
    "_Feature"
   ],
   "window_display": false
  }
 },
 "nbformat": 4,
 "nbformat_minor": 5
}
