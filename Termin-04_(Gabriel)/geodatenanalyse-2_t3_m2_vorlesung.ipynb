{
 "cells": [
  {
   "cell_type": "markdown",
   "metadata": {
    "slideshow": {
     "slide_type": "slide"
    }
   },
   "source": [
    "# Geodatenanalyse 2\n",
    "\n",
    "\n",
    "## Termin 3 - Modul 2\n",
    "\n",
    "## Frequenzanalyse von Zeitreihen: Wichtige Eigenschaften der Fourier Analyse\n",
    "\n",
    "Ca. 20-30 Minuten"
   ]
  },
  {
   "cell_type": "markdown",
   "metadata": {
    "slideshow": {
     "slide_type": "slide"
    }
   },
   "source": [
    "## Inhalt\n",
    "- Zusammenhang zwischen Zeitdauer und Frequenzauflösung\n",
    "- Maximale Frequenzauflösung\n",
    "- Der Leck-Effekt\n",
    "- Fensterfunktionen\n",
    "- Anwendung des Von-Hann Fensters auf die Meeresspiegel-Zeitreihe\n",
    "- Weitere Methden der Frequenzanalyse"
   ]
  },
  {
   "cell_type": "code",
   "execution_count": 4,
   "metadata": {
    "slideshow": {
     "slide_type": "slide"
    }
   },
   "outputs": [],
   "source": [
    "import numpy as np\n",
    "import matplotlib.pyplot as plt\n",
    "import pandas as pd"
   ]
  },
  {
   "cell_type": "markdown",
   "metadata": {},
   "source": [
    "## Zusammenhang zwischen Zeitdauer und Frequenzauflösung\n",
    "\n",
    "- Die Frequenzauflösung der FFT ist ein sehr wichtiges Kriterium\n",
    "\n",
    "- Sie bestimmt, wie genau man Frequenzkomponenten identifizieren kann"
   ]
  },
  {
   "cell_type": "markdown",
   "metadata": {},
   "source": [
    "### Frequenzauflösung\n",
    "\n",
    "$\\Delta F_t = \\frac{f_{t}}{N} = \\frac{1}{\\Delta f_t N} = \\frac{1}{T}$\n",
    "\n",
    "\n",
    "$\\Delta F_t$: Periode in der Frequenzdomaine\n",
    "\n",
    "$f_{t}$: Sampling-Frequenz in der Zeitdomäne\n",
    "\n",
    "$N$: Anzahl der Werte in der Zeitdomäne\n",
    "\n",
    "$\\Delta f_t$: Periode in der Zeitdomäne\n",
    "\n",
    "$T$: Dauer der Zeitreihe  in der Zeitdomäne"
   ]
  },
  {
   "cell_type": "markdown",
   "metadata": {},
   "source": [
    "**Wichtig**: Die Frequenzauflösung ist nur von der Zeitdauer in der Zeitdomäne abhängig und nicht von der Abtastfrequenz in der Zeitdomäne"
   ]
  },
  {
   "cell_type": "markdown",
   "metadata": {},
   "source": [
    "### Beispiel\n",
    "\n",
    "Im Folgenden wird der Einfluss der Länge einer Zeitreiheauf die Frequenzauflösung illustriert:"
   ]
  },
  {
   "cell_type": "code",
   "execution_count": 5,
   "metadata": {},
   "outputs": [],
   "source": [
    "time = np.linspace(0, 5, 5*96, endpoint=True)\n",
    "freq1 = 1\n",
    "amp1 = 1\n",
    "comp1 = amp1 * np.cos(time*2*np.pi*freq1)\n",
    "freq2 = 0.5\n",
    "amp2 = 3\n",
    "comp2 = amp2 * np.cos(time*2*np.pi*freq2)\n",
    "freq3 = 2\n",
    "amp3 = 2\n",
    "comp3 = amp3 * np.cos(time*2*np.pi*freq3)\n",
    "comp_sum1 = comp1 + comp2 + comp3"
   ]
  },
  {
   "cell_type": "code",
   "execution_count": 6,
   "metadata": {},
   "outputs": [],
   "source": [
    "N = len(comp_sum1)\n",
    "T = 96\n",
    "data_fft1 = np.fft.fft(comp_sum1)[0:int(N/2)]\n",
    "freq1 = np.fft.fftfreq(N, d=1/T)[0:int(N/2)]\n",
    "amplitude1 = (2/N)*np.abs(data_fft1)"
   ]
  },
  {
   "cell_type": "code",
   "execution_count": 7,
   "metadata": {},
   "outputs": [],
   "source": [
    "time = np.linspace(0, 10, 10*96, endpoint=True)\n",
    "freq1 = 1\n",
    "amp1 = 1\n",
    "comp1 = amp1 * np.cos(time*2*np.pi*freq1)\n",
    "freq2 = 0.5\n",
    "amp2 = 3\n",
    "comp2 = amp2 * np.cos(time*2*np.pi*freq2)\n",
    "freq3 = 2\n",
    "amp3 = 2\n",
    "comp3 = amp3 * np.cos(time*2*np.pi*freq3)\n",
    "comp_sum2 = comp1 + comp2 + comp3"
   ]
  },
  {
   "cell_type": "code",
   "execution_count": 8,
   "metadata": {},
   "outputs": [],
   "source": [
    "N = len(comp_sum2)\n",
    "T = 96\n",
    "data_fft2 = np.fft.fft(comp_sum2)[0:int(N/2)]\n",
    "freq2 = np.fft.fftfreq(N, d=1/T)[0:int(N/2)]\n",
    "amplitude2 = (2/N)*np.abs(data_fft2)"
   ]
  },
  {
   "cell_type": "code",
   "execution_count": 9,
   "metadata": {
    "scrolled": true
   },
   "outputs": [
    {
     "ename": "ValueError",
     "evalue": "x and y must have same first dimension, but have shapes (1,) and (240,)",
     "output_type": "error",
     "traceback": [
      "\u001b[1;31m---------------------------------------------------------------------------\u001b[0m",
      "\u001b[1;31mValueError\u001b[0m                                Traceback (most recent call last)",
      "\u001b[1;32m<ipython-input-9-33e87f1d5ab5>\u001b[0m in \u001b[0;36m<module>\u001b[1;34m\u001b[0m\n\u001b[1;32m----> 1\u001b[1;33m \u001b[0mplt\u001b[0m\u001b[1;33m.\u001b[0m\u001b[0mplot\u001b[0m\u001b[1;33m(\u001b[0m\u001b[0mfreq1\u001b[0m\u001b[1;33m,\u001b[0m \u001b[0mamplitude1\u001b[0m\u001b[1;33m,\u001b[0m \u001b[1;34m'r.'\u001b[0m\u001b[1;33m,\u001b[0m \u001b[0mlabel\u001b[0m\u001b[1;33m=\u001b[0m\u001b[1;34m'Zeitdauer 5 Tage'\u001b[0m\u001b[1;33m)\u001b[0m\u001b[1;33m\u001b[0m\u001b[1;33m\u001b[0m\u001b[0m\n\u001b[0m\u001b[0;32m      2\u001b[0m \u001b[0mplt\u001b[0m\u001b[1;33m.\u001b[0m\u001b[0mplot\u001b[0m\u001b[1;33m(\u001b[0m\u001b[0mfreq2\u001b[0m\u001b[1;33m,\u001b[0m \u001b[0mamplitude2\u001b[0m\u001b[1;33m,\u001b[0m \u001b[1;34m'b.'\u001b[0m\u001b[1;33m,\u001b[0m \u001b[0mlabel\u001b[0m\u001b[1;33m=\u001b[0m\u001b[1;34m'Zeitdauer 10 Tage'\u001b[0m\u001b[1;33m)\u001b[0m\u001b[1;33m\u001b[0m\u001b[1;33m\u001b[0m\u001b[0m\n\u001b[0;32m      3\u001b[0m \u001b[1;33m\u001b[0m\u001b[0m\n\u001b[0;32m      4\u001b[0m \u001b[0mplt\u001b[0m\u001b[1;33m.\u001b[0m\u001b[0mxlabel\u001b[0m\u001b[1;33m(\u001b[0m\u001b[1;34m'Frequenz (cpd)'\u001b[0m\u001b[1;33m)\u001b[0m\u001b[1;33m\u001b[0m\u001b[1;33m\u001b[0m\u001b[0m\n\u001b[0;32m      5\u001b[0m \u001b[0mplt\u001b[0m\u001b[1;33m.\u001b[0m\u001b[0mylabel\u001b[0m\u001b[1;33m(\u001b[0m\u001b[1;34m'Amplitude [Einheit]'\u001b[0m\u001b[1;33m)\u001b[0m\u001b[1;33m\u001b[0m\u001b[1;33m\u001b[0m\u001b[0m\n",
      "\u001b[1;32m~\\anaconda3\\envs\\geo\\lib\\site-packages\\matplotlib\\pyplot.py\u001b[0m in \u001b[0;36mplot\u001b[1;34m(scalex, scaley, data, *args, **kwargs)\u001b[0m\n\u001b[0;32m   2988\u001b[0m     return gca().plot(\n\u001b[0;32m   2989\u001b[0m         \u001b[1;33m*\u001b[0m\u001b[0margs\u001b[0m\u001b[1;33m,\u001b[0m \u001b[0mscalex\u001b[0m\u001b[1;33m=\u001b[0m\u001b[0mscalex\u001b[0m\u001b[1;33m,\u001b[0m \u001b[0mscaley\u001b[0m\u001b[1;33m=\u001b[0m\u001b[0mscaley\u001b[0m\u001b[1;33m,\u001b[0m\u001b[1;33m\u001b[0m\u001b[1;33m\u001b[0m\u001b[0m\n\u001b[1;32m-> 2990\u001b[1;33m         **({\"data\": data} if data is not None else {}), **kwargs)\n\u001b[0m\u001b[0;32m   2991\u001b[0m \u001b[1;33m\u001b[0m\u001b[0m\n\u001b[0;32m   2992\u001b[0m \u001b[1;33m\u001b[0m\u001b[0m\n",
      "\u001b[1;32m~\\anaconda3\\envs\\geo\\lib\\site-packages\\matplotlib\\axes\\_axes.py\u001b[0m in \u001b[0;36mplot\u001b[1;34m(self, scalex, scaley, data, *args, **kwargs)\u001b[0m\n\u001b[0;32m   1603\u001b[0m         \"\"\"\n\u001b[0;32m   1604\u001b[0m         \u001b[0mkwargs\u001b[0m \u001b[1;33m=\u001b[0m \u001b[0mcbook\u001b[0m\u001b[1;33m.\u001b[0m\u001b[0mnormalize_kwargs\u001b[0m\u001b[1;33m(\u001b[0m\u001b[0mkwargs\u001b[0m\u001b[1;33m,\u001b[0m \u001b[0mmlines\u001b[0m\u001b[1;33m.\u001b[0m\u001b[0mLine2D\u001b[0m\u001b[1;33m)\u001b[0m\u001b[1;33m\u001b[0m\u001b[1;33m\u001b[0m\u001b[0m\n\u001b[1;32m-> 1605\u001b[1;33m         \u001b[0mlines\u001b[0m \u001b[1;33m=\u001b[0m \u001b[1;33m[\u001b[0m\u001b[1;33m*\u001b[0m\u001b[0mself\u001b[0m\u001b[1;33m.\u001b[0m\u001b[0m_get_lines\u001b[0m\u001b[1;33m(\u001b[0m\u001b[1;33m*\u001b[0m\u001b[0margs\u001b[0m\u001b[1;33m,\u001b[0m \u001b[0mdata\u001b[0m\u001b[1;33m=\u001b[0m\u001b[0mdata\u001b[0m\u001b[1;33m,\u001b[0m \u001b[1;33m**\u001b[0m\u001b[0mkwargs\u001b[0m\u001b[1;33m)\u001b[0m\u001b[1;33m]\u001b[0m\u001b[1;33m\u001b[0m\u001b[1;33m\u001b[0m\u001b[0m\n\u001b[0m\u001b[0;32m   1606\u001b[0m         \u001b[1;32mfor\u001b[0m \u001b[0mline\u001b[0m \u001b[1;32min\u001b[0m \u001b[0mlines\u001b[0m\u001b[1;33m:\u001b[0m\u001b[1;33m\u001b[0m\u001b[1;33m\u001b[0m\u001b[0m\n\u001b[0;32m   1607\u001b[0m             \u001b[0mself\u001b[0m\u001b[1;33m.\u001b[0m\u001b[0madd_line\u001b[0m\u001b[1;33m(\u001b[0m\u001b[0mline\u001b[0m\u001b[1;33m)\u001b[0m\u001b[1;33m\u001b[0m\u001b[1;33m\u001b[0m\u001b[0m\n",
      "\u001b[1;32m~\\anaconda3\\envs\\geo\\lib\\site-packages\\matplotlib\\axes\\_base.py\u001b[0m in \u001b[0;36m__call__\u001b[1;34m(self, data, *args, **kwargs)\u001b[0m\n\u001b[0;32m    313\u001b[0m                 \u001b[0mthis\u001b[0m \u001b[1;33m+=\u001b[0m \u001b[0margs\u001b[0m\u001b[1;33m[\u001b[0m\u001b[1;36m0\u001b[0m\u001b[1;33m]\u001b[0m\u001b[1;33m,\u001b[0m\u001b[1;33m\u001b[0m\u001b[1;33m\u001b[0m\u001b[0m\n\u001b[0;32m    314\u001b[0m                 \u001b[0margs\u001b[0m \u001b[1;33m=\u001b[0m \u001b[0margs\u001b[0m\u001b[1;33m[\u001b[0m\u001b[1;36m1\u001b[0m\u001b[1;33m:\u001b[0m\u001b[1;33m]\u001b[0m\u001b[1;33m\u001b[0m\u001b[1;33m\u001b[0m\u001b[0m\n\u001b[1;32m--> 315\u001b[1;33m             \u001b[1;32myield\u001b[0m \u001b[1;32mfrom\u001b[0m \u001b[0mself\u001b[0m\u001b[1;33m.\u001b[0m\u001b[0m_plot_args\u001b[0m\u001b[1;33m(\u001b[0m\u001b[0mthis\u001b[0m\u001b[1;33m,\u001b[0m \u001b[0mkwargs\u001b[0m\u001b[1;33m)\u001b[0m\u001b[1;33m\u001b[0m\u001b[1;33m\u001b[0m\u001b[0m\n\u001b[0m\u001b[0;32m    316\u001b[0m \u001b[1;33m\u001b[0m\u001b[0m\n\u001b[0;32m    317\u001b[0m     \u001b[1;32mdef\u001b[0m \u001b[0mget_next_color\u001b[0m\u001b[1;33m(\u001b[0m\u001b[0mself\u001b[0m\u001b[1;33m)\u001b[0m\u001b[1;33m:\u001b[0m\u001b[1;33m\u001b[0m\u001b[1;33m\u001b[0m\u001b[0m\n",
      "\u001b[1;32m~\\anaconda3\\envs\\geo\\lib\\site-packages\\matplotlib\\axes\\_base.py\u001b[0m in \u001b[0;36m_plot_args\u001b[1;34m(self, tup, kwargs, return_kwargs)\u001b[0m\n\u001b[0;32m    499\u001b[0m \u001b[1;33m\u001b[0m\u001b[0m\n\u001b[0;32m    500\u001b[0m         \u001b[1;32mif\u001b[0m \u001b[0mx\u001b[0m\u001b[1;33m.\u001b[0m\u001b[0mshape\u001b[0m\u001b[1;33m[\u001b[0m\u001b[1;36m0\u001b[0m\u001b[1;33m]\u001b[0m \u001b[1;33m!=\u001b[0m \u001b[0my\u001b[0m\u001b[1;33m.\u001b[0m\u001b[0mshape\u001b[0m\u001b[1;33m[\u001b[0m\u001b[1;36m0\u001b[0m\u001b[1;33m]\u001b[0m\u001b[1;33m:\u001b[0m\u001b[1;33m\u001b[0m\u001b[1;33m\u001b[0m\u001b[0m\n\u001b[1;32m--> 501\u001b[1;33m             raise ValueError(f\"x and y must have same first dimension, but \"\n\u001b[0m\u001b[0;32m    502\u001b[0m                              f\"have shapes {x.shape} and {y.shape}\")\n\u001b[0;32m    503\u001b[0m         \u001b[1;32mif\u001b[0m \u001b[0mx\u001b[0m\u001b[1;33m.\u001b[0m\u001b[0mndim\u001b[0m \u001b[1;33m>\u001b[0m \u001b[1;36m2\u001b[0m \u001b[1;32mor\u001b[0m \u001b[0my\u001b[0m\u001b[1;33m.\u001b[0m\u001b[0mndim\u001b[0m \u001b[1;33m>\u001b[0m \u001b[1;36m2\u001b[0m\u001b[1;33m:\u001b[0m\u001b[1;33m\u001b[0m\u001b[1;33m\u001b[0m\u001b[0m\n",
      "\u001b[1;31mValueError\u001b[0m: x and y must have same first dimension, but have shapes (1,) and (240,)"
     ]
    },
    {
     "data": {
      "image/png": "[encoded data removed]",
      "text/plain": [
       "<Figure size 432x288 with 1 Axes>"
      ]
     },
     "metadata": {
      "needs_background": "light"
     },
     "output_type": "display_data"
    }
   ],
   "source": [
    "plt.plot(freq1, amplitude1, 'r.', label='Zeitdauer 5 Tage')\n",
    "plt.plot(freq2, amplitude2, 'b.', label='Zeitdauer 10 Tage')\n",
    "\n",
    "plt.xlabel('Frequenz (cpd)')\n",
    "plt.ylabel('Amplitude [Einheit]')\n",
    "plt.xlim(0,2.5)\n",
    "plt.legend()\n",
    "plt.show()"
   ]
  },
  {
   "cell_type": "markdown",
   "metadata": {},
   "source": [
    "**FAZIT**: Je länger die Zeitreihe, desto besser die Auflösung von einzelnen Frequenzkomponenten!"
   ]
  },
  {
   "cell_type": "markdown",
   "metadata": {},
   "source": [
    "## Maximale Frequenzauflösung\n",
    "\n",
    "Das obere Frequenzlimit der FFT bestimmt die Obergrenze von detektierbaren Frequenzen"
   ]
  },
  {
   "cell_type": "markdown",
   "metadata": {},
   "source": [
    "### Die Nyquist-Frequenz\n",
    "\n",
    "Die Obergrenze von detektierbaren Frequenzen ist die sogenannte Nyquist-Frequenz:\n",
    "\n",
    "$F_{Nyquist} = \\frac{f_t}{2}$\n",
    "\n",
    "$f_{t}$: Sampling-Frequenz in der Zeitdomäne"
   ]
  },
  {
   "cell_type": "markdown",
   "metadata": {},
   "source": [
    "Quelle: [Wikipedia](https://de.wikipedia.org/wiki/Komplexe_Zahl)\n",
    "\n",
    "<img src=\"figures\\nyquist.png\" alt=\"alt text\" width=\"400\" align=\"left\"/>"
   ]
  },
  {
   "cell_type": "markdown",
   "metadata": {},
   "source": [
    "**Beispiel**: Siehe [Passing the Nyquist Limit by Jack Schaedler](https://jackschaedler.github.io/circles-sines-signals/sampling2.html)"
   ]
  },
  {
   "cell_type": "markdown",
   "metadata": {},
   "source": [
    "**FAZIT**: Für die Bestimmung von Frequenzen muss die Samplingrate in der Zeitdomäne beachtet werden!"
   ]
  },
  {
   "cell_type": "markdown",
   "metadata": {},
   "source": [
    "## Der Leck-Effekt\n",
    "\n",
    "- Die DFT nimmt an, das Frequenzkomponenten zeitlich kontinuierlich (d.h., unendlich lang) sind\n",
    "\n",
    "- Das bedeutet, dass Frequenzen, welche nicht genau in die Zeitdauer passen eine Diskontinuität hervorrufen\n",
    "\n",
    "- Diese Diskontinuität führt zum sogenannten **Leck-Effekt**\n"
   ]
  },
  {
   "cell_type": "markdown",
   "metadata": {},
   "source": [
    "### Beispiel zum Leck-Effekt"
   ]
  },
  {
   "cell_type": "code",
   "execution_count": null,
   "metadata": {},
   "outputs": [],
   "source": [
    "time = np.linspace(0, 10, 10*96, endpoint=True)\n",
    "freq1 = 1\n",
    "amp1 = 1\n",
    "comp1 = amp1 * np.cos(time*2*np.pi*freq1)\n",
    "freq2 = 0.45\n",
    "amp2 = 2\n",
    "comp2 = amp2 * np.cos(time*2*np.pi*freq2)\n",
    "comp_sum = comp1 + comp2"
   ]
  },
  {
   "cell_type": "code",
   "execution_count": null,
   "metadata": {},
   "outputs": [],
   "source": [
    "N = len(comp_sum)\n",
    "T = 96\n",
    "data_fft = np.fft.fft(comp_sum)[0:int(N/2)]\n",
    "freq = np.fft.fftfreq(N, d=1/T)[0:int(N/2)]\n",
    "amplitude = (2/N)*np.abs(data_fft)"
   ]
  },
  {
   "cell_type": "code",
   "execution_count": null,
   "metadata": {
    "scrolled": true
   },
   "outputs": [],
   "source": [
    "fig, ax = plt.subplots(2, 1, figsize=(16, 4))\n",
    "\n",
    "ax[0].plot(time, comp1, 'r', lw=1, label='Component 1')\n",
    "ax[0].plot(time, comp2, 'b', lw=1, label='Component 2')\n",
    "ax[0].plot(time, comp_sum, 'k', lw=2, label='Component 2')\n",
    "ax[0].set_xlabel('Time [days]')\n",
    "ax[0].set_ylabel('Signal')\n",
    "\n",
    "ax[1].axvline(0.45)\n",
    "ax[1].axvline(1)\n",
    "ax[1].plot(freq, amplitude, 'k.', label='Zeitdauer 10 Tage')\n",
    "ax[1].set_xlim(0.2, 1.3)\n",
    "ax[1].set_xlabel('Frequency [cpd]')\n",
    "ax[1].set_ylabel('Amplitude')\n",
    "\n",
    "plt.show()"
   ]
  },
  {
   "cell_type": "markdown",
   "metadata": {},
   "source": [
    "Quelle: [Wikipedia](https://de.wikipedia.org/wiki/Leck-Effekt)\n",
    "\n",
    "<img src=\"figures\\FFT_leck.png\" alt=\"alt text\" width=\"600\" align=\"left\"/>"
   ]
  },
  {
   "cell_type": "markdown",
   "metadata": {},
   "source": [
    "**Beispiel**: Siehe [The Phenomenon of Leakage](https://jackschaedler.github.io/circles-sines-signals/dft_leakage.html)"
   ]
  },
  {
   "cell_type": "markdown",
   "metadata": {},
   "source": [
    "**FAZIT**: Der Leck-Effekt kann minimiert werden durch:\n",
    "- eine Anpassung der Datenlänge in der Zeitdomäne, \n",
    "- durch die Verwendung einer Fensterfunktion"
   ]
  },
  {
   "cell_type": "markdown",
   "metadata": {},
   "source": [
    "## Fensterfunktionen\n",
    "\n",
    "- Die Berechnung der DFT für eine Zeitreihe entspricht immer einem Rechteckfenster\n",
    "\n",
    "- Das Rechteckfenster ist genauso lang wie die Dauer der Zeitreihe \n",
    "\n",
    "- Es können auch andere Fensterfunktionen verwendet werden\n",
    "\n",
    "- Diese können auf bestimmte Kriterien ausgerichtet werden\n",
    "\n",
    "- Zum Beispiel kann man Diskontinuitäten vermeiden"
   ]
  },
  {
   "cell_type": "markdown",
   "metadata": {},
   "source": [
    "### Beispiel: Vergleich von Rechteck und Hanning Fenster"
   ]
  },
  {
   "cell_type": "markdown",
   "metadata": {},
   "source": [
    "Das **Von-Hann** (oder auch **Hanning**) Fenster ist sehr beliebt:\n",
    "    \n",
    "$w(n) = \\frac{1}{2} \\left[ 1 + cos \\left( \\frac{2 \\pi n}{M - 1} \\right) \\right]$\n",
    "\n",
    "$w(n)$ ist das Gewicht für den Wert $n$\n",
    "\n",
    "$M$ ist die Anzahl der Werte"
   ]
  },
  {
   "cell_type": "markdown",
   "metadata": {},
   "source": [
    "<img src=\"figures\\windowing.png\" alt=\"alt text\" width=\"800\" align=\"left\"/>"
   ]
  },
  {
   "cell_type": "markdown",
   "metadata": {},
   "source": [
    "**FAZIT**\n",
    "\n",
    "Ein Fenster:\n",
    "        \n",
    "- ... kann den Leck-Effekt verringern, aber niemals ganz beheben\n",
    "\n",
    "- ... beeinflusst das Signal, und das Spektrum muss deshalb kompensiert werden (Amplitudenfaktor für Hanning ~ 2)\n",
    "\n",
    "- ... muss auf die individuellen Umstände agepasst werden\n",
    "\n",
    "**Hinweis**: Es gibt sehr viele Fenster mit unterschiedlichen Eigenschaften, siehe auch [Fensterfunktion auf Wikipedia](https://de.wikipedia.org/wiki/Fensterfunktion)\n",
    "\n"
   ]
  },
  {
   "cell_type": "markdown",
   "metadata": {},
   "source": [
    "## Anwendung des *Von-Hann* Fensters auf die Meeresspiegel Zeitreihe"
   ]
  },
  {
   "cell_type": "code",
   "execution_count": null,
   "metadata": {
    "scrolled": true
   },
   "outputs": [],
   "source": [
    "sea_level = pd.read_csv('data/Palau_sea-level.csv', parse_dates=True, index_col='Datetime[GMT]')\n",
    "sea_level"
   ]
  },
  {
   "cell_type": "code",
   "execution_count": null,
   "metadata": {},
   "outputs": [],
   "source": [
    "# the rectangular window\n",
    "N = len(sea_level)\n",
    "T = 24\n",
    "\n",
    "data_fft = np.fft.fft(sea_level['Sea level [mm]'])\n",
    "data_fft = data_fft[0:int(N/2)]\n",
    "\n",
    "freq = np.fft.fftfreq(N, d=1/T)\n",
    "freq = freq[0:int(N/2)]\n",
    "\n",
    "amp_rect = (2/N)*np.abs(data_fft)"
   ]
  },
  {
   "cell_type": "code",
   "execution_count": null,
   "metadata": {},
   "outputs": [],
   "source": [
    "# the Hanning window\n",
    "N = len(sea_level)\n",
    "T = 24\n",
    "\n",
    "# generate the window\n",
    "hanning_data = np.hanning(N)*sea_level['Sea level [mm]']\n",
    "\n",
    "data_fft = np.fft.fft(hanning_data)\n",
    "data_fft = data_fft[0:int(N/2)]\n",
    "\n",
    "freq = np.fft.fftfreq(N, d=1/T)\n",
    "freq = freq[0:int(N/2)]\n",
    "\n",
    "amp_hann = 2*(2/N)*np.abs(data_fft)"
   ]
  },
  {
   "cell_type": "code",
   "execution_count": null,
   "metadata": {},
   "outputs": [],
   "source": [
    "fig, ax = plt.subplots(figsize=(16,4))\n",
    "ax.plot(freq[1:], amp_rect[1:], 'b.', label='Rectangular window')\n",
    "ax.plot(freq[1:], amp_hann[1:], 'r.', label='Hanning window')\n",
    "ax.set_xlabel('Frequenz (cpd)')\n",
    "ax.set_ylabel('Amplitude [mm]')\n",
    "ax.set_xlim(1.85, 2.05)\n",
    "ax.set_ylim(-10, 600)"
   ]
  },
  {
   "cell_type": "markdown",
   "metadata": {},
   "source": [
    "## Weitere Methoden der Frequenanalyse\n",
    "\n",
    "- Frequenzanalyse ist ein eigenes Feld der Signalverarbeitung\n",
    "\n",
    "- Dies erfordert ein eigenes Lehrmodul\n",
    "\n",
    "- DFT ist sehr gut etabliert und beliebt\n",
    "\n",
    "- Die DFT ist aber nur eine von vielen Möglichkeiten zur Frequenzanalyse von Zeitreihen\n",
    "\n",
    "- Neuere Methoden sind mathematisch komplizierter\n",
    "\n"
   ]
  },
  {
   "cell_type": "markdown",
   "metadata": {
    "slideshow": {
     "slide_type": "slide"
    }
   },
   "source": [
    "## ENDE"
   ]
  }
 ],
 "metadata": {
  "celltoolbar": "Slideshow",
  "kernelspec": {
   "display_name": "Python 3",
   "language": "python",
   "name": "python3"
  },
  "language_info": {
   "codemirror_mode": {
    "name": "ipython",
    "version": 3
   },
   "file_extension": ".py",
   "mimetype": "text/x-python",
   "name": "python",
   "nbconvert_exporter": "python",
   "pygments_lexer": "ipython3",
   "version": "3.7.10"
  },
  "toc": {
   "base_numbering": 1,
   "nav_menu": {},
   "number_sections": false,
   "sideBar": true,
   "skip_h1_title": false,
   "title_cell": "Table of Contents",
   "title_sidebar": "Contents",
   "toc_cell": false,
   "toc_position": {},
   "toc_section_display": true,
   "toc_window_display": true
  }
 },
 "nbformat": 4,
 "nbformat_minor": 4
}
