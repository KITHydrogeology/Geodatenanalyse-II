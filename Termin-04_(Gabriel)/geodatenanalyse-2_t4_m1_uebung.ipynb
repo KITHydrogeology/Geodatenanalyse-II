{
 "cells": [
  {
   "cell_type": "markdown",
   "id": "economic-writer",
   "metadata": {},
   "source": [
    "# Geodatenanalyse 2\n",
    "\n",
    "\n",
    "## Termin 4 - Modul 1\n",
    "\n",
    "## Frequenzanalyse von Zeitreihen: Motivation und Grundlage"
   ]
  },
  {
   "cell_type": "code",
   "execution_count": 4,
   "id": "green-graham",
   "metadata": {},
   "outputs": [],
   "source": [
    "import numpy as np\n",
    "import matplotlib.pyplot as plt"
   ]
  },
  {
   "cell_type": "markdown",
   "id": "commercial-wealth",
   "metadata": {},
   "source": [
    "## Übung 1\n",
    "\n",
    "Erstelle einen Datensatz mit Gesamtlänge von 5 Tagen und einer Abtastfrequenz von 100 Werte pro Tag. Dieser besteht aus 2 harmonischen Komponenten. Beide Komponenten haben eine Amplitude von 1 und dieselbe Frequenz von 1 Zyklus pro Tag.\n",
    "\n",
    "**Aufgabe 1**: Was passiert, wenn man beide zusammenzählt? Bilde das Ergebnis in einer Grafik ab.\n",
    "\n",
    "**Aufgabe 2**: Was passiert, wenn eine der beiden Komponenten mit der Phase $\\pi$ verschoben ist? Bilde das Ergebnis in einer Grafik ab."
   ]
  },
  {
   "cell_type": "code",
   "execution_count": 5,
   "id": "legal-volunteer",
   "metadata": {
    "scrolled": true
   },
   "outputs": [],
   "source": [
    "# Aufgabe 1"
   ]
  },
  {
   "cell_type": "code",
   "execution_count": 1,
   "id": "comparable-shanghai",
   "metadata": {
    "scrolled": true
   },
   "outputs": [],
   "source": [
    "# Aufgabe 2"
   ]
  },
  {
   "cell_type": "markdown",
   "id": "naughty-ukraine",
   "metadata": {},
   "source": [
    "## Übung 2\n",
    "\n",
    "\n",
    "**Aufgabe 1**: Erstelle einen Datensatz welcher aus weißem Rauschen besteht. Weißes Rauschen ist äquivalent zu einer Gauss-Verteilung.  Der Datensatz soll 100 Tage lang sein und eine Abtastrate von 100 Werten pro Tag haben. Wie sieht das Amplitudenspektrum aus?\n",
    "\n",
    "**Aufgabe 2**: Füge zwei neue Frequenzen hinzu, eine mit 10 Zyklen pro Tag, und eine andere mit 3.333 Zyklen pro Tag. Bilde das Amplitudenspektrum ab. Sind beide Amplituden im Spektrum gleich hoch? Wenn nein, warum nicht?"
   ]
  },
  {
   "cell_type": "code",
   "execution_count": 7,
   "id": "transparent-watershed",
   "metadata": {
    "scrolled": true
   },
   "outputs": [],
   "source": [
    "# Aufgabe 1"
   ]
  },
  {
   "cell_type": "code",
   "execution_count": 8,
   "id": "american-rating",
   "metadata": {},
   "outputs": [],
   "source": [
    "# Aufgabe 2"
   ]
  },
  {
   "cell_type": "markdown",
   "id": "verified-mitchell",
   "metadata": {},
   "source": [
    "## ENDE"
   ]
  }
 ],
 "metadata": {
  "kernelspec": {
   "display_name": "Python 3 (ipykernel)",
   "language": "python",
   "name": "python3"
  },
  "language_info": {
   "codemirror_mode": {
    "name": "ipython",
    "version": 3
   },
   "file_extension": ".py",
   "mimetype": "text/x-python",
   "name": "python",
   "nbconvert_exporter": "python",
   "pygments_lexer": "ipython3",
   "version": "3.7.13"
  },
  "toc": {
   "base_numbering": 1,
   "nav_menu": {},
   "number_sections": false,
   "sideBar": true,
   "skip_h1_title": false,
   "title_cell": "Table of Contents",
   "title_sidebar": "Contents",
   "toc_cell": false,
   "toc_position": {},
   "toc_section_display": true,
   "toc_window_display": true
  }
 },
 "nbformat": 4,
 "nbformat_minor": 5
}
