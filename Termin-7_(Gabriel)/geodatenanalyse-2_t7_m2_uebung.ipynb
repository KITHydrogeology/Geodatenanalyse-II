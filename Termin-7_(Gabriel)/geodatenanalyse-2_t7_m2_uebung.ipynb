{
 "cells": [
  {
   "cell_type": "markdown",
   "id": "complimentary-unknown",
   "metadata": {},
   "source": [
    "# Geodatenanalyse 2\n",
    "\n",
    "\n",
    "## Termin 7 - Modul 2\n",
    "\n",
    "## Weiterführender Umgang mit Datenbanken"
   ]
  },
  {
   "cell_type": "code",
   "execution_count": 1,
   "id": "resistant-corporation",
   "metadata": {},
   "outputs": [],
   "source": [
    "import sqlite3\n",
    "import pandas as pd"
   ]
  },
  {
   "cell_type": "markdown",
   "id": "emerging-webmaster",
   "metadata": {},
   "source": [
    "## Übung 1\n",
    "\n",
    "Eine Datenbank mit allen Städten dieser Welt wird bereit gestellt unter *data/WorldCities.sqlite3* (Quelle: [GitHub](https://github.com/teo029/World-countries-states-and-cities)). In dieser Übung geht es um den Umgang mit SQL Abfragen:\n",
    "\n",
    "\n",
    "- **Aufgabe 1**: Finde heraus, welche Beziehung zwischen den Tabellen besteht. Notiere diese Beziehungen für den weiteren Verlauf der Übung.\n",
    "\n",
    "- **Aufgabe 2**: Finde alle *states*, welche mit dem *countries* eintrag *name*=\"Germany\" verbunden sind. Was ist hier das Problem?\n",
    "\n",
    "- **Aufgabe 3**: Wiederhole diese Abfrage für Städte. Es handelt sich hier um eine verschachtelte Abfrage.\n",
    "\n",
    "- **Aufgabe 4**: Exportiere alle Städte in *csv*-Datei."
   ]
  },
  {
   "cell_type": "code",
   "execution_count": 2,
   "id": "technological-finland",
   "metadata": {},
   "outputs": [],
   "source": [
    "# AUFGABE 1"
   ]
  },
  {
   "cell_type": "code",
   "execution_count": 3,
   "id": "color-daniel",
   "metadata": {},
   "outputs": [],
   "source": [
    "# AUFGABE 2"
   ]
  },
  {
   "cell_type": "code",
   "execution_count": 4,
   "id": "tired-reducing",
   "metadata": {},
   "outputs": [],
   "source": [
    "# AUFGABE 3"
   ]
  },
  {
   "cell_type": "code",
   "execution_count": 5,
   "id": "silent-secondary",
   "metadata": {},
   "outputs": [],
   "source": [
    "# AUFGABE 4"
   ]
  }
 ],
 "metadata": {
  "kernelspec": {
   "display_name": "Python 3",
   "language": "python",
   "name": "python3"
  },
  "language_info": {
   "codemirror_mode": {
    "name": "ipython",
    "version": 3
   },
   "file_extension": ".py",
   "mimetype": "text/x-python",
   "name": "python",
   "nbconvert_exporter": "python",
   "pygments_lexer": "ipython3",
   "version": "3.7.10"
  },
  "toc": {
   "base_numbering": 1,
   "nav_menu": {},
   "number_sections": false,
   "sideBar": true,
   "skip_h1_title": false,
   "title_cell": "Table of Contents",
   "title_sidebar": "Contents",
   "toc_cell": false,
   "toc_position": {},
   "toc_section_display": true,
   "toc_window_display": true
  }
 },
 "nbformat": 4,
 "nbformat_minor": 5
}
