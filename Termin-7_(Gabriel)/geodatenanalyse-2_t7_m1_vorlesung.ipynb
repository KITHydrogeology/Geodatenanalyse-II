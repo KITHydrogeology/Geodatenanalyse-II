{
 "cells": [
  {
   "cell_type": "markdown",
   "metadata": {
    "slideshow": {
     "slide_type": "slide"
    }
   },
   "source": [
    "# Geodatenanalyse 2\n",
    "\n",
    "\n",
    "## Termin 7 - Modul 1\n",
    "\n",
    "## Datenbanken und *Structured Query Language* (SQL)\n",
    "\n",
    "Ca. 20-30 Minuten"
   ]
  },
  {
   "cell_type": "markdown",
   "metadata": {
    "slideshow": {
     "slide_type": "slide"
    }
   },
   "source": [
    "## Inhalt\n",
    "\n",
    "- Was ist eine Datenbank?\n",
    "- Verwendung von Datenbanken\n",
    "- *Structured Query Language* (*SQL*)\n",
    "- SQLite in Python\n",
    "- Übersicht über die Arten von Abfragen\n"
   ]
  },
  {
   "cell_type": "markdown",
   "metadata": {},
   "source": [
    "## SQLite3 Installation\n",
    "\n",
    "Für dieses Modul brauchen wir [SQLite3](https://anaconda.org/blaze/sqlite3). Zur Installation bitte:\n",
    "\n",
    "1 - *Anaconda Prompt* öffnen und folgendes eingeben:\n",
    "\n",
    "2 - ``conda activate geo`` ENTER\n",
    "\n",
    "3 - ``conda install -c blaze sqlite3`` ENTER\n"
   ]
  },
  {
   "cell_type": "code",
   "execution_count": 1,
   "metadata": {},
   "outputs": [],
   "source": [
    "import sqlite3"
   ]
  },
  {
   "cell_type": "markdown",
   "metadata": {},
   "source": [
    "## Was ist eine Datenbank?\n",
    "\n",
    "- Eine Datenbank enthält elektronisch gespeicherte Daten\n",
    "\n",
    "- Diese können **strukturiert** und **unstrukturiert** sein\n",
    "\n",
    "- Zugriff auf diese Daten erfolgt immer über ein Interface"
   ]
  },
  {
   "cell_type": "markdown",
   "metadata": {},
   "source": [
    "### Beispiel Microsoft Excel\n",
    "\n",
    "Eine *xlsx*-Datei enthält Daten und die Excel-Software erlaubt Zufriff und Manipulation\n",
    "\n",
    "<img width=500 style=\"float: left;\" src=\"images\\database_excel.png\">"
   ]
  },
  {
   "cell_type": "markdown",
   "metadata": {},
   "source": [
    "### Wichtige Fragen ...\n",
    "\n",
    "- Was passiert, wenn Daten zu groß werden?\n",
    "\n",
    "- Was ist, wenn man mehrere Tabellen hat, welche zusammen gehören?\n",
    "\n",
    "- Wie geht man mit mehrdimensionalen Daten um?"
   ]
  },
  {
   "cell_type": "markdown",
   "metadata": {},
   "source": [
    "## Verwendung von Datenbanken\n",
    "\n",
    "- Eine Datenbank ist ein elektronisches Speicher- und Verwaltungssystem für strukturierte Daten\n",
    "\n",
    "- Durch den Einsatz von *Structured Query Language* (SQL) wird eine Unabhängigkeit der Anwendungen vom eingesetzten Datenbankmanagementsystem erzielt\n",
    "\n",
    "- SQL ist eine Sprache zur Manipulation (Abruf, Veränderung, Hinzufügung, etc.) von Daten aus einer Datenbank"
   ]
  },
  {
   "cell_type": "markdown",
   "metadata": {},
   "source": [
    "### Beispiel Software Schnittstelle\n",
    "\n",
    "Eine Binärdatei enthält Daten und eine Software fungiert als Schnittstelle für Zufriff und Manipulation\n",
    "\n",
    "<img width=500 style=\"float: left;\" src=\"images\\database_sql.png\">"
   ]
  },
  {
   "cell_type": "markdown",
   "metadata": {},
   "source": [
    "### Relationale Datenbank\n",
    "\n",
    "\"*Eine relationale Datenbank ist eine digitale Datenbank, die zur elektronischen Datenverwaltung in Computersystemen dient und auf einem tabellenbasierten relationalen Datenbankmodell beruht. Grundlage des Konzeptes relationaler Datenbanken ist die Relation.*\"\n",
    "\n",
    "Quelle: [Wikipedia](https://de.wikipedia.org/wiki/Relationale_Datenbank)"
   ]
  },
  {
   "cell_type": "markdown",
   "metadata": {},
   "source": [
    "### Wozu braucht man das?\n",
    "\n",
    "Für die Speicherung von **diversen Daten**, welche eine **Beziehung zeinander** haben\n",
    "\n",
    "<img width=500 style=\"float: left;\" src=\"images\\relational_database.png\">"
   ]
  },
  {
   "cell_type": "markdown",
   "metadata": {},
   "source": [
    "## *Structured Query Language* (SQL)\n",
    "\n",
    "\n",
    "Die SQL-Sprache gliedert sich in mehrere Sprachelemente:\n",
    "\n",
    "- **Klauseln**, die konstituierende Bestandteile von Anweisungen und Abfragen sind\n",
    "\n",
    "- **Ausdrücke**, die entweder skalare Werte oder Tabellen, die aus Spalten und Zeilen von Daten bestehen, erzeugen können\n",
    "\n",
    "- **Prädikate**, die Bedingungen spezifizieren, die nach der dreiwertigen Logik (3VL) von SQL (wahr/falsch/unbekannt) oder booleschen Wahrheitswerten ausgewertet werden können, und die verwendet werden, um die Auswirkungen von Anweisungen und Abfragen zu begrenzen oder den Programmablauf zu ändern\n",
    "\n",
    "- **Abfragen**, die die Daten anhand bestimmter Kriterien abrufen. Anweisungen, die eine dauerhafte Auswirkung auf Schemata und Daten haben oder Transaktionen, den Programmablauf, Verbindungen, Sitzungen oder Diagnosen steuern."
   ]
  },
  {
   "cell_type": "markdown",
   "metadata": {},
   "source": [
    "Quelle: [Wikipedia](https://en.wikipedia.org/wiki/SQL_syntax)\n",
    "\n",
    "\n",
    "<img width=500 style=\"float: left;\" src=\"images\\sql_overview.svg\">"
   ]
  },
  {
   "cell_type": "markdown",
   "metadata": {},
   "source": [
    "## SQLite in Python\n",
    "\n",
    "Als Beispiel verwenden wir eine [Lehrdatenbank aus der Ökologie](https://github.com/weecology/portal-teachingdb)"
   ]
  },
  {
   "cell_type": "code",
   "execution_count": 2,
   "metadata": {},
   "outputs": [],
   "source": [
    "# Erstelle eine SQL Verbindung zur SQLite Datenbank her\n",
    "con = sqlite3.connect(\"data/portal_mammals.sqlite\")\n",
    "cur = con.cursor()"
   ]
  },
  {
   "cell_type": "markdown",
   "metadata": {},
   "source": [
    "### Übersicht über *SELECT* Abfragen\n",
    "\n",
    "<img width=300 style=\"float: left;\" src=\"images\\sqlite_select.png\">"
   ]
  },
  {
   "cell_type": "markdown",
   "metadata": {},
   "source": [
    "#### Welche Tabellen gibt es?\n",
    "\n",
    "Es gibt immer einen Phantom-Eintrag **sqlite_master**, welcher eine Liste der Tabellen enthält.\n",
    "\n",
    "Eine Liste aller existierender Tabellen in der Datenbank:"
   ]
  },
  {
   "cell_type": "code",
   "execution_count": 3,
   "metadata": {
    "scrolled": false
   },
   "outputs": [
    {
     "name": "stdout",
     "output_type": "stream",
     "text": [
      "('surveys',)\n",
      "('species',)\n",
      "('plots',)\n"
     ]
    }
   ],
   "source": [
    "for row in cur.execute(\"SELECT name FROM sqlite_master WHERE type='table';\"):\n",
    "    print(row)"
   ]
  },
  {
   "cell_type": "markdown",
   "metadata": {},
   "source": [
    "Eine detaillierte Übersicht übder die Tabellenstruktur von *species*:"
   ]
  },
  {
   "cell_type": "code",
   "execution_count": 4,
   "metadata": {},
   "outputs": [
    {
     "name": "stdout",
     "output_type": "stream",
     "text": [
      "(0, 'species_id', 'TEXT', 0, None, 0)\n",
      "(1, 'genus', 'TEXT', 0, None, 0)\n",
      "(2, 'species', 'TEXT', 0, None, 0)\n",
      "(3, 'taxa', 'TEXT', 0, None, 0)\n"
     ]
    }
   ],
   "source": [
    "for row in cur.execute(\"PRAGMA TABLE_INFO(species);\"):\n",
    "    print(row)"
   ]
  },
  {
   "cell_type": "markdown",
   "metadata": {},
   "source": [
    "#### Was steht in der Tabelle *species*?\n",
    "\n",
    "Frage alle Informationen ab:"
   ]
  },
  {
   "cell_type": "code",
   "execution_count": 5,
   "metadata": {
    "scrolled": true
   },
   "outputs": [
    {
     "name": "stdout",
     "output_type": "stream",
     "text": [
      "('AB', 'Amphispiza', 'bilineata', 'Bird')\n",
      "('AH', 'Ammospermophilus', 'harrisi', 'Rodent')\n",
      "('AS', 'Ammodramus', 'savannarum', 'Bird')\n",
      "('BA', 'Baiomys', 'taylori', 'Rodent')\n",
      "('CB', 'Campylorhynchus', 'brunneicapillus', 'Bird')\n",
      "('CM', 'Calamospiza', 'melanocorys', 'Bird')\n",
      "('CQ', 'Callipepla', 'squamata', 'Bird')\n",
      "('CS', 'Crotalus', 'scutalatus', 'Reptile')\n",
      "('CT', 'Cnemidophorus', 'tigris', 'Reptile')\n",
      "('CU', 'Cnemidophorus', 'uniparens', 'Reptile')\n",
      "('CV', 'Crotalus', 'viridis', 'Reptile')\n",
      "('DM', 'Dipodomys', 'merriami', 'Rodent')\n",
      "('DO', 'Dipodomys', 'ordii', 'Rodent')\n",
      "('DS', 'Dipodomys', 'spectabilis', 'Rodent')\n",
      "('DX', 'Dipodomys', 'sp.', 'Rodent')\n",
      "('EO', 'Eumeces', 'obsoletus', 'Reptile')\n",
      "('GS', 'Gambelia', 'silus', 'Reptile')\n",
      "('NL', 'Neotoma', 'albigula', 'Rodent')\n",
      "('NX', 'Neotoma', 'sp.', 'Rodent')\n",
      "('OL', 'Onychomys', 'leucogaster', 'Rodent')\n",
      "('OT', 'Onychomys', 'torridus', 'Rodent')\n",
      "('OX', 'Onychomys', 'sp.', 'Rodent')\n",
      "('PB', 'Chaetodipus', 'baileyi', 'Rodent')\n",
      "('PC', 'Pipilo', 'chlorurus', 'Bird')\n",
      "('PE', 'Peromyscus', 'eremicus', 'Rodent')\n",
      "('PF', 'Perognathus', 'flavus', 'Rodent')\n",
      "('PG', 'Pooecetes', 'gramineus', 'Bird')\n",
      "('PH', 'Perognathus', 'hispidus', 'Rodent')\n",
      "('PI', 'Chaetodipus', 'intermedius', 'Rodent')\n",
      "('PL', 'Peromyscus', 'leucopus', 'Rodent')\n",
      "('PM', 'Peromyscus', 'maniculatus', 'Rodent')\n",
      "('PP', 'Chaetodipus', 'penicillatus', 'Rodent')\n",
      "('PU', 'Pipilo', 'fuscus', 'Bird')\n",
      "('PX', 'Chaetodipus', 'sp.', 'Rodent')\n",
      "('RF', 'Reithrodontomys', 'fulvescens', 'Rodent')\n",
      "('RM', 'Reithrodontomys', 'megalotis', 'Rodent')\n",
      "('RO', 'Reithrodontomys', 'montanus', 'Rodent')\n",
      "('RX', 'Reithrodontomys', 'sp.', 'Rodent')\n",
      "('SA', 'Sylvilagus', 'audubonii', 'Rabbit')\n",
      "('SB', 'Spizella', 'breweri', 'Bird')\n",
      "('SC', 'Sceloporus', 'clarki', 'Reptile')\n",
      "('SF', 'Sigmodon', 'fulviventer', 'Rodent')\n",
      "('SH', 'Sigmodon', 'hispidus', 'Rodent')\n",
      "('SO', 'Sigmodon', 'ochrognathus', 'Rodent')\n",
      "('SS', 'Spermophilus', 'spilosoma', 'Rodent')\n",
      "('ST', 'Spermophilus', 'tereticaudus', 'Rodent')\n",
      "('SU', 'Sceloporus', 'undulatus', 'Reptile')\n",
      "('SX', 'Sigmodon', 'sp.', 'Rodent')\n",
      "('UL', 'Lizard', 'sp.', 'Reptile')\n",
      "('UP', 'Pipilo', 'sp.', 'Bird')\n",
      "('UR', 'Rodent', 'sp.', 'Rodent')\n",
      "('US', 'Sparrow', 'sp.', 'Bird')\n",
      "('ZL', 'Zonotrichia', 'leucophrys', 'Bird')\n",
      "('ZM', 'Zenaida', 'macroura', 'Bird')\n"
     ]
    }
   ],
   "source": [
    "# The result of a \"cursor.execute\" can be iterated over by row\n",
    "for row in cur.execute('SELECT * FROM species;'):\n",
    "    print(row)"
   ]
  },
  {
   "cell_type": "markdown",
   "metadata": {},
   "source": [
    "Frage selektiv Informationen ab:"
   ]
  },
  {
   "cell_type": "code",
   "execution_count": 6,
   "metadata": {
    "scrolled": true
   },
   "outputs": [
    {
     "name": "stdout",
     "output_type": "stream",
     "text": [
      "('AB', 'Amphispiza', 'bilineata', 'Bird')\n",
      "('AS', 'Ammodramus', 'savannarum', 'Bird')\n",
      "('CB', 'Campylorhynchus', 'brunneicapillus', 'Bird')\n",
      "('CM', 'Calamospiza', 'melanocorys', 'Bird')\n",
      "('CQ', 'Callipepla', 'squamata', 'Bird')\n"
     ]
    }
   ],
   "source": [
    "# The result of a \"cursor.execute\" can be iterated over by row\n",
    "for row in cur.execute('SELECT * FROM species WHERE taxa=\"Bird\" LIMIT 5;'):\n",
    "    print(row)"
   ]
  },
  {
   "cell_type": "markdown",
   "metadata": {},
   "source": [
    "### Übersicht über INSERT Abfragen\n",
    "\n",
    "<img width=400 style=\"float: left;\" src=\"images\\sqlite_insert.png\">"
   ]
  },
  {
   "cell_type": "markdown",
   "metadata": {},
   "source": [
    "Daten hinzufügen:"
   ]
  },
  {
   "cell_type": "code",
   "execution_count": 7,
   "metadata": {},
   "outputs": [
    {
     "data": {
      "text/plain": [
       "<sqlite3.Cursor at 0x1a5ffcc0f80>"
      ]
     },
     "execution_count": 7,
     "metadata": {},
     "output_type": "execute_result"
    }
   ],
   "source": [
    "cur.execute('INSERT INTO species (genus, species, taxa) VALUES(\"Crocodile\", \"sp.\", \"Reptile\");')"
   ]
  },
  {
   "cell_type": "code",
   "execution_count": 8,
   "metadata": {
    "scrolled": true
   },
   "outputs": [
    {
     "name": "stdout",
     "output_type": "stream",
     "text": [
      "('CS', 'Crotalus', 'scutalatus', 'Reptile')\n",
      "('CT', 'Cnemidophorus', 'tigris', 'Reptile')\n",
      "('CU', 'Cnemidophorus', 'uniparens', 'Reptile')\n",
      "('CV', 'Crotalus', 'viridis', 'Reptile')\n",
      "('EO', 'Eumeces', 'obsoletus', 'Reptile')\n",
      "('GS', 'Gambelia', 'silus', 'Reptile')\n",
      "('SC', 'Sceloporus', 'clarki', 'Reptile')\n",
      "('SU', 'Sceloporus', 'undulatus', 'Reptile')\n",
      "('UL', 'Lizard', 'sp.', 'Reptile')\n",
      "(None, 'Crocodile', 'sp.', 'Reptile')\n"
     ]
    }
   ],
   "source": [
    "# The result of a \"cursor.execute\" can be iterated over by row\n",
    "for row in cur.execute('SELECT * FROM species WHERE taxa=\"Reptile\";'):\n",
    "    print(row)"
   ]
  },
  {
   "cell_type": "markdown",
   "metadata": {},
   "source": [
    "### Übersicht über UPDATE Abfragen\n",
    "\n",
    "<img width=400 style=\"float: left;\" src=\"images\\sqlite_update.png\">"
   ]
  },
  {
   "cell_type": "code",
   "execution_count": 9,
   "metadata": {},
   "outputs": [
    {
     "data": {
      "text/plain": [
       "<sqlite3.Cursor at 0x1a5ffcc0f80>"
      ]
     },
     "execution_count": 9,
     "metadata": {},
     "output_type": "execute_result"
    }
   ],
   "source": [
    "cur.execute('UPDATE species SET species_id=\"UL\" WHERE taxa=\"Reptile\";')"
   ]
  },
  {
   "cell_type": "code",
   "execution_count": 10,
   "metadata": {
    "scrolled": false
   },
   "outputs": [
    {
     "name": "stdout",
     "output_type": "stream",
     "text": [
      "('UL', 'Crotalus', 'scutalatus', 'Reptile')\n",
      "('UL', 'Cnemidophorus', 'tigris', 'Reptile')\n",
      "('UL', 'Cnemidophorus', 'uniparens', 'Reptile')\n",
      "('UL', 'Crotalus', 'viridis', 'Reptile')\n",
      "('UL', 'Eumeces', 'obsoletus', 'Reptile')\n",
      "('UL', 'Gambelia', 'silus', 'Reptile')\n",
      "('UL', 'Sceloporus', 'clarki', 'Reptile')\n",
      "('UL', 'Sceloporus', 'undulatus', 'Reptile')\n",
      "('UL', 'Lizard', 'sp.', 'Reptile')\n",
      "('UL', 'Crocodile', 'sp.', 'Reptile')\n"
     ]
    }
   ],
   "source": [
    "# The result of a \"cursor.execute\" can be iterated over by row\n",
    "for row in cur.execute('SELECT * FROM species WHERE taxa=\"Reptile\";'):\n",
    "    print(row)"
   ]
  },
  {
   "cell_type": "markdown",
   "metadata": {},
   "source": [
    "### Übersicht über DELETE Abfragen\n",
    "\n",
    "<img width=400 style=\"float: left;\" src=\"images\\sqlite_delete.png\">"
   ]
  },
  {
   "cell_type": "code",
   "execution_count": 11,
   "metadata": {},
   "outputs": [
    {
     "data": {
      "text/plain": [
       "<sqlite3.Cursor at 0x1a5ffcc0f80>"
      ]
     },
     "execution_count": 11,
     "metadata": {},
     "output_type": "execute_result"
    }
   ],
   "source": [
    "cur.execute('DELETE FROM species WHERE genus=\"Crocodile\";')"
   ]
  },
  {
   "cell_type": "code",
   "execution_count": 12,
   "metadata": {
    "scrolled": false
   },
   "outputs": [
    {
     "name": "stdout",
     "output_type": "stream",
     "text": [
      "('UL', 'Crotalus', 'scutalatus', 'Reptile')\n",
      "('UL', 'Cnemidophorus', 'tigris', 'Reptile')\n",
      "('UL', 'Cnemidophorus', 'uniparens', 'Reptile')\n",
      "('UL', 'Crotalus', 'viridis', 'Reptile')\n",
      "('UL', 'Eumeces', 'obsoletus', 'Reptile')\n",
      "('UL', 'Gambelia', 'silus', 'Reptile')\n",
      "('UL', 'Sceloporus', 'clarki', 'Reptile')\n",
      "('UL', 'Sceloporus', 'undulatus', 'Reptile')\n",
      "('UL', 'Lizard', 'sp.', 'Reptile')\n"
     ]
    }
   ],
   "source": [
    "# The result of a \"cursor.execute\" can be iterated over by row\n",
    "for row in cur.execute('SELECT * FROM species WHERE taxa=\"Reptile\";'):\n",
    "    print(row)"
   ]
  },
  {
   "cell_type": "markdown",
   "metadata": {},
   "source": [
    "### Übersicht über CREATE TABLE Abfragen\n",
    "\n",
    "<img width=500 style=\"float: left;\" src=\"images\\sqlite_create_table.png\">"
   ]
  },
  {
   "cell_type": "markdown",
   "metadata": {},
   "source": [
    "**WICHTIG**: Ein PRIMARY KEY ist immer sinnvol, denn er erstellt automatisch eine eindeutige Nummer für jeden Eintrag. Damit wird eine Verwechslung von Einträgen verhindert."
   ]
  },
  {
   "cell_type": "code",
   "execution_count": 13,
   "metadata": {},
   "outputs": [
    {
     "data": {
      "text/plain": [
       "<sqlite3.Cursor at 0x1a5ffcc0f80>"
      ]
     },
     "execution_count": 13,
     "metadata": {},
     "output_type": "execute_result"
    }
   ],
   "source": [
    "cur.execute('CREATE TABLE occurrence \\\n",
    "            (oc_id INTEGER PRIMARY KEY, \\\n",
    "            continent TEXT);')"
   ]
  },
  {
   "cell_type": "code",
   "execution_count": 14,
   "metadata": {},
   "outputs": [
    {
     "name": "stdout",
     "output_type": "stream",
     "text": [
      "('surveys',)\n",
      "('species',)\n",
      "('plots',)\n",
      "('occurrence',)\n"
     ]
    }
   ],
   "source": [
    "for row in cur.execute(\"SELECT name FROM sqlite_master WHERE type='table';\"):\n",
    "    print(row)"
   ]
  },
  {
   "cell_type": "markdown",
   "metadata": {},
   "source": [
    "## Weitere Abfragen\n",
    "\n",
    "- Die gegebenen Beispiele waren nur ein kleiner Teil der möglichen Abfragen an eine Datenbank\n",
    "\n",
    "- Weitere Beispiele könnt ihr z.B. über [SQLITE Tutorial](https://www.sqlitetutorial.net/) anschauen und lernen"
   ]
  },
  {
   "cell_type": "markdown",
   "metadata": {},
   "source": [
    "Der Vollständigkeit halber löschen wir die vorher erstellte Tabelle wieder:"
   ]
  },
  {
   "cell_type": "code",
   "execution_count": 15,
   "metadata": {},
   "outputs": [],
   "source": [
    "for row in cur.execute(\"DROP TABLE occurrence;\"):\n",
    "    print(row)"
   ]
  },
  {
   "cell_type": "markdown",
   "metadata": {},
   "source": [
    "## Verwendung von Funktionen\n",
    "\n",
    "SQL hat viele praktische Funktionen eingebaut:\n",
    "\n",
    "- Mit ``MIN()`` oder ``MAX()`` fragt man Extremwerte ab\n",
    "\n",
    "- Mit ``COUNT()``, ``SUM()`` oder ``AVG()`` kann man die Ergebnisse direkt auswerten"
   ]
  },
  {
   "cell_type": "markdown",
   "metadata": {},
   "source": [
    "## Verbindung beenden\n",
    "\n",
    "- Eine Verbindung muss immer beendet werden! \n",
    "\n",
    "- Damit werden alle Abfragen permanent gespeichert"
   ]
  },
  {
   "cell_type": "markdown",
   "metadata": {},
   "source": [
    "## SQL Cheat Sheet\n",
    "\n",
    "**Achtung**: SQLite hat limitierte Funktionalität!\n",
    "\n",
    "Quelle: [SQL Tutorials](https://www.sqltutorial.org/sql-cheat-sheet/)\n",
    "\n",
    "<img width=500 style=\"float: left;\" src=\"images\\SQL_cheat-sheet.png\">"
   ]
  },
  {
   "cell_type": "code",
   "execution_count": 16,
   "metadata": {},
   "outputs": [],
   "source": [
    "con.close()"
   ]
  },
  {
   "cell_type": "markdown",
   "metadata": {
    "slideshow": {
     "slide_type": "slide"
    }
   },
   "source": [
    "## ENDE"
   ]
  }
 ],
 "metadata": {
  "celltoolbar": "Slideshow",
  "kernelspec": {
   "display_name": "Python 3",
   "language": "python",
   "name": "python3"
  },
  "language_info": {
   "codemirror_mode": {
    "name": "ipython",
    "version": 3
   },
   "file_extension": ".py",
   "mimetype": "text/x-python",
   "name": "python",
   "nbconvert_exporter": "python",
   "pygments_lexer": "ipython3",
   "version": "3.7.10"
  },
  "toc": {
   "base_numbering": 1,
   "nav_menu": {},
   "number_sections": false,
   "sideBar": true,
   "skip_h1_title": false,
   "title_cell": "Table of Contents",
   "title_sidebar": "Contents",
   "toc_cell": false,
   "toc_position": {
    "height": "calc(100% - 180px)",
    "left": "10px",
    "top": "150px",
    "width": "279.27px"
   },
   "toc_section_display": true,
   "toc_window_display": true
  }
 },
 "nbformat": 4,
 "nbformat_minor": 4
}
