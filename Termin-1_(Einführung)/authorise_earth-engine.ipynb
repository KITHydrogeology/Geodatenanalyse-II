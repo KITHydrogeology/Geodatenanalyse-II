{
 "cells": [
  {
   "cell_type": "markdown",
   "id": "twelve-confidentiality",
   "metadata": {},
   "source": [
    "# Google Earth Engine Autorisierung\n",
    "\n",
    "Folgende Kurzanleitung beschreibt, wie Earth Engine authorisiert werden kann.\n",
    "\n",
    "*HINWEIS*: Siehe auch [hier](https://developers.google.com/earth-engine/guides/python_install-conda)"
   ]
  },
  {
   "cell_type": "markdown",
   "id": "iraqi-layer",
   "metadata": {},
   "source": [
    "### In geo wechseln\n",
    "\n",
    "*Anaconda Prompt* öffnen und folgendes eingeben:\n",
    "\n",
    "``conda activate geo``\n",
    "\n",
    "Nun sollte *(geo)* vor dem Pfad angezeigt werden.\n",
    "\n",
    "\n",
    "### Autorisierung einmalig speichern\n",
    "\n",
    "``earthengine authenticate``\n",
    "\n",
    "Dann bitte den vorgegebenen Anweisungen folgen ...\n"
   ]
  },
  {
   "cell_type": "code",
   "execution_count": 1,
   "id": "intellectual-furniture",
   "metadata": {},
   "outputs": [],
   "source": [
    "import ee\n",
    "\n",
    "# Initialize the Earth Engine module.\n",
    "ee.Initialize()"
   ]
  },
  {
   "cell_type": "markdown",
   "id": "random-holly",
   "metadata": {},
   "source": [
    "Bei diesem Code-Block sollte keine Fehlermeldung auftauchen!"
   ]
  },
  {
   "cell_type": "code",
   "execution_count": 2,
   "id": "final-moore",
   "metadata": {
    "scrolled": true
   },
   "outputs": [
    {
     "name": "stdout",
     "output_type": "stream",
     "text": [
      "{'type': 'Image', 'bands': [{'id': 'elevation', 'data_type': {'type': 'PixelType', 'precision': 'int', 'min': -32768, 'max': 32767}, 'dimensions': [1296001, 417601], 'crs': 'EPSG:4326', 'crs_transform': [0.0002777777777777778, 0, -180.0001388888889, 0, -0.0002777777777777778, 60.00013888888889]}], 'id': 'USGS/SRTMGL1_003', 'version': 1605362602494378, 'properties': {'system:visualization_0_min': '0.0', 'type_name': 'Image', 'thumb': 'https://mw1.google.com/ges/dd/images/SRTM90_V4_thumb.png', 'description': '<p>The Shuttle Radar Topography Mission (SRTM, see <a href=\"http://onlinelibrary.wiley.com/doi/10.1029/2005RG000183/full\">Farr\\net al. 2007</a>)\\ndigital elevation data is an international research effort that\\nobtained digital elevation models on a near-global scale. This\\nSRTM V3 product (SRTM Plus) is provided by NASA JPL\\nat a resolution of 1 arc-second (approximately 30m).</p><p>This dataset has undergone a void-filling process using open-source data\\n(ASTER GDEM2, GMTED2010, and NED), as opposed to other versions that\\ncontain voids or have been void-filled with commercial sources.\\nFor more information on the different versions see the\\n<a href=\"https://lpdaac.usgs.gov/documents/13/SRTM_Quick_Guide.pdf\">SRTM Quick Guide</a>.</p><p>Documentation:</p><ul><li><p><a href=\"https://lpdaac.usgs.gov/documents/179/SRTM_User_Guide_V3.pdf\">User&#39;s Guide</a></p></li><li><p><a href=\"https://lpdaac.usgs.gov/documents/13/SRTM_Quick_Guide.pdf\">General Documentation</a></p></li><li><p><a href=\"https://doi.org/10.1029/2005RG000183\">Algorithm Theoretical Basis Document (ATBD)</a></p></li></ul><p><b>Bands</b><table class=\"eecat\"><tr><th scope=\"col\">Name</th><th scope=\"col\">Description</th></tr><tr><td>elevation</td><td><p>Elevation</p></td></tr></table><p><b>Terms of Use</b><br><p>Unless otherwise noted, images and video on JPL public web sites (public sites ending with a jpl.nasa.gov address) may be used for any purpose without prior permission. For more information and exceptions visit the <a href=\"https://www.jpl.nasa.gov/imagepolicy/\">JPL Image Use Policy site</a>.</p><p><b>Suggested citation(s)</b><ul><li><p>Farr, T.G., Rosen, P.A., Caro, E., Crippen, R., Duren, R., Hensley, S., Kobrick, M., Paller, M., Rodriguez, E., Roth, L., Seal, D., Shaffer, S., Shimada, J., Umland, J., Werner, M., Oskin, M., Burbank, D., and Alsdorf, D.E., 2007, The shuttle radar topography mission: Reviews of Geophysics, v. 45, no. 2, RG2004, at <a href=\"https://doi.org/10.1029/2005RG000183\">https://doi.org/10.1029/2005RG000183</a>.</p></li></ul><style>\\n  table.eecat {\\n  border: 1px solid black;\\n  border-collapse: collapse;\\n  font-size: 13px;\\n  }\\n  table.eecat td, tr, th {\\n  text-align: left; vertical-align: top;\\n  border: 1px solid gray; padding: 3px;\\n  }\\n  td.nobreak { white-space: nowrap; }\\n</style>', 'source_tags': ['nasa', 'usgs'], 'visualization_0_max': '6000.0', 'title': 'NASA SRTM Digital Elevation 30m', 'product_tags': ['srtm', 'elevation', 'topography', 'dem', 'geophysical'], 'provider': 'NASA / USGS / JPL-Caltech', 'visualization_0_min': '0.0', 'visualization_0_name': 'Elevation', 'date_range': [950227200000, 951177600000], 'system:visualization_0_gamma': '1.6', 'period': 0, 'system:visualization_0_bands': 'elevation', 'provider_url': 'https://cmr.earthdata.nasa.gov/search/concepts/C1000000240-LPDAAC_ECS.html', 'visualization_0_gamma': '1.6', 'sample': 'https://mw1.google.com/ges/dd/images/SRTM90_V4_sample.png', 'tags': ['nasa', 'usgs', 'srtm', 'elevation', 'topography', 'dem', 'geophysical'], 'system:visualization_0_max': '6000.0', 'system:visualization_0_name': 'Elevation', 'system:asset_size': 132792638252, 'visualization_0_bands': 'elevation'}}\n"
     ]
    }
   ],
   "source": [
    "# Print metadata for a DEM dataset.\n",
    "print(ee.Image('USGS/SRTMGL1_003').getInfo())"
   ]
  },
  {
   "cell_type": "code",
   "execution_count": 26,
   "id": "considered-liabilities",
   "metadata": {},
   "outputs": [],
   "source": [
    "import geemap\n",
    "\n",
    "try:\n",
    "    ee.Initialize()\n",
    "except Exception as e:\n",
    "    ee.Authenticate()\n",
    "    ee.Initialize()\n",
    "    \n",
    "from IPython.display import Image"
   ]
  },
  {
   "cell_type": "code",
   "execution_count": 27,
   "id": "known-bolivia",
   "metadata": {},
   "outputs": [],
   "source": [
    "# import a land cover Collection\n",
    "LC = ee.ImageCollection('MODIS/006/MCD12Q1')\n",
    " \n",
    "# import a land surface temperature Collection\n",
    "LST = ee.ImageCollection('MODIS/006/MOD11A1')\n",
    " \n",
    "# import a ground elevation Image\n",
    "ELV = ee.Image('USGS/SRTMGL1_003')"
   ]
  },
  {
   "cell_type": "code",
   "execution_count": 36,
   "id": "incident-diabetes",
   "metadata": {},
   "outputs": [
    {
     "data": {
      "text/html": [
       "<img src=\"https://earthengine.googleapis.com/v1alpha/projects/earthengine-legacy/thumbnails/b5403c75b92135d586398d2d1fb721a8-3f9ffa32bd3d7400709c3f3d5b50d439:getPixels\"/>"
      ],
      "text/plain": [
       "<IPython.core.display.Image object>"
      ]
     },
     "execution_count": 36,
     "metadata": {},
     "output_type": "execute_result"
    }
   ],
   "source": [
    "# Definition of a region of interest with a rectangle\n",
    "l_left = [0, 42] # lower left corner of the rectangle\n",
    "t_right = [20, 55] # toper right corner of the rectangle\n",
    " \n",
    "roi = ee.Geometry.Rectangle([l_left, t_right]) # region of interest\n",
    "\n",
    "# We create a filter and apply a mask to get hide oceans and seas\n",
    "url2 = ELV.updateMask(ELV.gt(0)).getThumbUrl({'min': 0, 'max': 2500, 'region' : roi,\n",
    "                                              'dimensions': 512,\n",
    "                                              'palette': ['006633', 'E5FFCC', '662A00', 'D8D8D8', 'F5F5F5']})\n",
    "Image(url = url2)"
   ]
  }
 ],
 "metadata": {
  "kernelspec": {
   "display_name": "geo",
   "language": "python",
   "name": "geo"
  },
  "language_info": {
   "codemirror_mode": {
    "name": "ipython",
    "version": 3
   },
   "file_extension": ".py",
   "mimetype": "text/x-python",
   "name": "python",
   "nbconvert_exporter": "python",
   "pygments_lexer": "ipython3",
   "version": "3.7.10"
  }
 },
 "nbformat": 4,
 "nbformat_minor": 5
}
