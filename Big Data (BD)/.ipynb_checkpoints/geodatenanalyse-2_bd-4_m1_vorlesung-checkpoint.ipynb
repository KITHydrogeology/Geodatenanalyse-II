{
 "cells": [
  {
   "cell_type": "markdown",
   "metadata": {
    "slideshow": {
     "slide_type": "slide"
    }
   },
   "source": [
    "# Geodatenanalyse 2\n",
    "\n",
    "\n",
    "## Termin Big Data 4 - Modul 1\n",
    "\n",
    "## Datenbanken und *Structured Query Language* (SQL)\n",
    "\n",
    "Ca. 20-30 Minuten"
   ]
  },
  {
   "cell_type": "markdown",
   "metadata": {
    "slideshow": {
     "slide_type": "slide"
    }
   },
   "source": [
    "## Inhalt\n",
    "\n",
    "- Was ist eine Datenbank?\n",
    "- Verwendung von Datenbanken\n",
    "- *Structured Query Language* (*SQL*)\n",
    "- SQLite in Python\n",
    "- Übersicht über die Arten von Abfragen\n"
   ]
  },
  {
   "cell_type": "markdown",
   "metadata": {},
   "source": [
    "## SQLite3 Installation\n",
    "\n",
    "Für dieses Modul brauchen wir [SQLite3](https://anaconda.org/blaze/sqlite3). Zur Installation bitte:\n",
    "\n",
    "1 - *Anaconda Prompt* öffnen und folgendes eingeben:\n",
    "\n",
    "2 - ``conda activate geo`` ENTER\n",
    "\n",
    "3 - ``conda install -c blaze sqlite3`` ENTER\n"
   ]
  },
  {
   "cell_type": "code",
   "execution_count": 1,
   "metadata": {},
   "outputs": [],
   "source": [
    "import sqlite3"
   ]
  },
  {
   "cell_type": "markdown",
   "metadata": {},
   "source": [
    "## Was ist eine Datenbank?\n",
    "\n",
    "- Eine Datenbank enthält elektronisch gespeicherte Daten\n",
    "\n",
    "- Diese können **strukturiert** und **unstrukturiert** sein\n",
    "\n",
    "- Zugriff auf diese Daten erfolgt immer über ein Interface"
   ]
  },
  {
   "cell_type": "markdown",
   "metadata": {},
   "source": [
    "### Beispiel Microsoft Excel\n",
    "\n",
    "Eine *xlsx*-Datei enthält Daten und die Excel-Software erlaubt Zufriff und Manipulation\n",
    "\n",
    "<img width=500 style=\"float: left;\" src=\"images\\database_excel.png\">"
   ]
  },
  {
   "cell_type": "markdown",
   "metadata": {},
   "source": [
    "### Wichtige Fragen ...\n",
    "\n",
    "- Was passiert, wenn Daten zu groß werden?\n",
    "\n",
    "- Was ist, wenn man mehrere Tabellen hat, welche zusammen gehören?\n",
    "\n",
    "- Wie geht man mit mehrdimensionalen Daten um?"
   ]
  },
  {
   "cell_type": "markdown",
   "metadata": {},
   "source": [
    "## Verwendung von Datenbanken\n",
    "\n",
    "- Eine Datenbank ist ein elektronisches Speicher- und Verwaltungssystem für strukturierte Daten\n",
    "\n",
    "- Durch den Einsatz von *Structured Query Language* (SQL) wird eine Unabhängigkeit der Anwendungen vom eingesetzten Datenbankmanagementsystem erzielt\n",
    "\n",
    "- SQL ist eine Sprache zur Manipulation (Abruf, Veränderung, Hinzufügung, etc.) von Daten aus einer Datenbank"
   ]
  },
  {
   "cell_type": "markdown",
   "metadata": {},
   "source": [
    "### Beispiel Software Schnittstelle\n",
    "\n",
    "Eine Binärdatei enthält Daten und eine Software fungiert als Schnittstelle für Zufriff und Manipulation\n",
    "\n",
    "<img width=500 style=\"float: left;\" src=\"images\\database_sql.png\">"
   ]
  },
  {
   "cell_type": "markdown",
   "metadata": {},
   "source": [
    "### Relationale Datenbank\n",
    "\n",
    "\"*Eine relationale Datenbank ist eine digitale Datenbank, die zur elektronischen Datenverwaltung in Computersystemen dient und auf einem tabellenbasierten relationalen Datenbankmodell beruht. Grundlage des Konzeptes relationaler Datenbanken ist die Relation.*\"\n",
    "\n",
    "Quelle: [Wikipedia](https://de.wikipedia.org/wiki/Relationale_Datenbank)"
   ]
  },
  {
   "cell_type": "markdown",
   "metadata": {},
   "source": [
    "### Wozu braucht man das?\n",
    "\n",
    "Für die Speicherung von **diversen Daten**, welche eine **Beziehung zeinander** haben\n",
    "\n",
    "<img width=500 style=\"float: left;\" src=\"images\\relational_database.png\">"
   ]
  },
  {
   "cell_type": "markdown",
   "metadata": {},
   "source": [
    "## *Structured Query Language* (SQL)\n",
    "\n",
    "\n",
    "Die SQL-Sprache gliedert sich in mehrere Sprachelemente:\n",
    "\n",
    "- **Klauseln**, die konstituierende Bestandteile von Anweisungen und Abfragen sind\n",
    "\n",
    "- **Ausdrücke**, die entweder skalare Werte oder Tabellen, die aus Spalten und Zeilen von Daten bestehen, erzeugen können\n",
    "\n",
    "- **Prädikate**, die Bedingungen spezifizieren, die nach der dreiwertigen Logik (3VL) von SQL (wahr/falsch/unbekannt) oder booleschen Wahrheitswerten ausgewertet werden können, und die verwendet werden, um die Auswirkungen von Anweisungen und Abfragen zu begrenzen oder den Programmablauf zu ändern\n",
    "\n",
    "- **Abfragen**, die die Daten anhand bestimmter Kriterien abrufen. Anweisungen, die eine dauerhafte Auswirkung auf Schemata und Daten haben oder Transaktionen, den Programmablauf, Verbindungen, Sitzungen oder Diagnosen steuern."
   ]
  },
  {
   "cell_type": "markdown",
   "metadata": {},
   "source": [
    "Quelle: [Wikipedia](https://en.wikipedia.org/wiki/SQL_syntax)\n",
    "\n",
    "\n",
    "<img width=500 style=\"float: left;\" src=\"images\\sql_overview.svg\">"
   ]
  },
  {
   "cell_type": "markdown",
   "metadata": {},
   "source": [
    "## SQLite in Python\n",
    "\n",
    "Als Beispiel verwenden wir eine [Lehrdatenbank aus der Ökologie](https://github.com/weecology/portal-teachingdb)"
   ]
  },
  {
   "cell_type": "code",
   "execution_count": 2,
   "metadata": {},
   "outputs": [
    {
     "ename": "OperationalError",
     "evalue": "unable to open database file",
     "output_type": "error",
     "traceback": [
      "\u001b[1;31m---------------------------------------------------------------------------\u001b[0m",
      "\u001b[1;31mOperationalError\u001b[0m                          Traceback (most recent call last)",
      "Cell \u001b[1;32mIn[2], line 2\u001b[0m\n\u001b[0;32m      1\u001b[0m \u001b[38;5;66;03m# Erstelle eine SQL Verbindung zur SQLite Datenbank her\u001b[39;00m\n\u001b[1;32m----> 2\u001b[0m con \u001b[38;5;241m=\u001b[39m \u001b[43msqlite3\u001b[49m\u001b[38;5;241;43m.\u001b[39;49m\u001b[43mconnect\u001b[49m\u001b[43m(\u001b[49m\u001b[38;5;124;43m\"\u001b[39;49m\u001b[38;5;124;43mdata/portal_mammals.sqlite\u001b[39;49m\u001b[38;5;124;43m\"\u001b[39;49m\u001b[43m)\u001b[49m\n\u001b[0;32m      3\u001b[0m cur \u001b[38;5;241m=\u001b[39m con\u001b[38;5;241m.\u001b[39mcursor()\n",
      "\u001b[1;31mOperationalError\u001b[0m: unable to open database file"
     ]
    }
   ],
   "source": [
    "# Erstelle eine SQL Verbindung zur SQLite Datenbank her\n",
    "con = sqlite3.connect(\"data/portal_mammals.sqlite\")\n",
    "cur = con.cursor()"
   ]
  },
  {
   "cell_type": "markdown",
   "metadata": {},
   "source": [
    "### Übersicht über *SELECT* Abfragen\n",
    "\n",
    "<img width=300 style=\"float: left;\" src=\"images\\sqlite_select.png\">"
   ]
  },
  {
   "cell_type": "markdown",
   "metadata": {},
   "source": [
    "#### Welche Tabellen gibt es?\n",
    "\n",
    "Es gibt immer einen Phantom-Eintrag **sqlite_master**, welcher eine Liste der Tabellen enthält.\n",
    "\n",
    "Eine Liste aller existierender Tabellen in der Datenbank:"
   ]
  },
  {
   "cell_type": "code",
   "execution_count": null,
   "metadata": {
    "scrolled": false
   },
   "outputs": [],
   "source": [
    "for row in cur.execute(\"SELECT name FROM sqlite_master WHERE type='table';\"):\n",
    "    print(row)"
   ]
  },
  {
   "cell_type": "markdown",
   "metadata": {},
   "source": [
    "Eine detaillierte Übersicht übder die Tabellenstruktur von *species*:"
   ]
  },
  {
   "cell_type": "code",
   "execution_count": null,
   "metadata": {},
   "outputs": [],
   "source": [
    "for row in cur.execute(\"PRAGMA TABLE_INFO(species);\"):\n",
    "    print(row)"
   ]
  },
  {
   "cell_type": "markdown",
   "metadata": {},
   "source": [
    "#### Was steht in der Tabelle *species*?\n",
    "\n",
    "Frage alle Informationen ab:"
   ]
  },
  {
   "cell_type": "code",
   "execution_count": null,
   "metadata": {
    "scrolled": true
   },
   "outputs": [],
   "source": [
    "# The result of a \"cursor.execute\" can be iterated over by row\n",
    "for row in cur.execute('SELECT * FROM species;'):\n",
    "    print(row)"
   ]
  },
  {
   "cell_type": "markdown",
   "metadata": {},
   "source": [
    "Frage selektiv Informationen ab:"
   ]
  },
  {
   "cell_type": "code",
   "execution_count": null,
   "metadata": {
    "scrolled": true
   },
   "outputs": [],
   "source": [
    "# The result of a \"cursor.execute\" can be iterated over by row\n",
    "for row in cur.execute('SELECT * FROM species WHERE taxa=\"Bird\" LIMIT 5;'):\n",
    "    print(row)"
   ]
  },
  {
   "cell_type": "markdown",
   "metadata": {},
   "source": [
    "### Übersicht über INSERT Abfragen\n",
    "\n",
    "<img width=400 style=\"float: left;\" src=\"images\\sqlite_insert.png\">"
   ]
  },
  {
   "cell_type": "markdown",
   "metadata": {},
   "source": [
    "Daten hinzufügen:"
   ]
  },
  {
   "cell_type": "code",
   "execution_count": null,
   "metadata": {},
   "outputs": [],
   "source": [
    "cur.execute('INSERT INTO species (genus, species, taxa) VALUES(\"Crocodile\", \"sp.\", \"Reptile\");')"
   ]
  },
  {
   "cell_type": "code",
   "execution_count": null,
   "metadata": {
    "scrolled": true
   },
   "outputs": [],
   "source": [
    "# The result of a \"cursor.execute\" can be iterated over by row\n",
    "for row in cur.execute('SELECT * FROM species WHERE taxa=\"Reptile\";'):\n",
    "    print(row)"
   ]
  },
  {
   "cell_type": "markdown",
   "metadata": {},
   "source": [
    "### Übersicht über UPDATE Abfragen\n",
    "\n",
    "<img width=400 style=\"float: left;\" src=\"images\\sqlite_update.png\">"
   ]
  },
  {
   "cell_type": "code",
   "execution_count": null,
   "metadata": {},
   "outputs": [],
   "source": [
    "cur.execute('UPDATE species SET species_id=\"UL\" WHERE taxa=\"Reptile\";')"
   ]
  },
  {
   "cell_type": "code",
   "execution_count": null,
   "metadata": {
    "scrolled": false
   },
   "outputs": [],
   "source": [
    "# The result of a \"cursor.execute\" can be iterated over by row\n",
    "for row in cur.execute('SELECT * FROM species WHERE taxa=\"Reptile\";'):\n",
    "    print(row)"
   ]
  },
  {
   "cell_type": "markdown",
   "metadata": {},
   "source": [
    "### Übersicht über DELETE Abfragen\n",
    "\n",
    "<img width=400 style=\"float: left;\" src=\"images\\sqlite_delete.png\">"
   ]
  },
  {
   "cell_type": "code",
   "execution_count": null,
   "metadata": {},
   "outputs": [],
   "source": [
    "cur.execute('DELETE FROM species WHERE genus=\"Crocodile\";')"
   ]
  },
  {
   "cell_type": "code",
   "execution_count": null,
   "metadata": {
    "scrolled": false
   },
   "outputs": [],
   "source": [
    "# The result of a \"cursor.execute\" can be iterated over by row\n",
    "for row in cur.execute('SELECT * FROM species WHERE taxa=\"Reptile\";'):\n",
    "    print(row)"
   ]
  },
  {
   "cell_type": "markdown",
   "metadata": {},
   "source": [
    "### Übersicht über CREATE TABLE Abfragen\n",
    "\n",
    "<img width=500 style=\"float: left;\" src=\"images\\sqlite_create_table.png\">"
   ]
  },
  {
   "cell_type": "markdown",
   "metadata": {},
   "source": [
    "**WICHTIG**: Ein PRIMARY KEY ist immer sinnvol, denn er erstellt automatisch eine eindeutige Nummer für jeden Eintrag. Damit wird eine Verwechslung von Einträgen verhindert."
   ]
  },
  {
   "cell_type": "code",
   "execution_count": null,
   "metadata": {},
   "outputs": [],
   "source": [
    "cur.execute('CREATE TABLE occurrence \\\n",
    "            (oc_id INTEGER PRIMARY KEY, \\\n",
    "            continent TEXT);')"
   ]
  },
  {
   "cell_type": "code",
   "execution_count": null,
   "metadata": {},
   "outputs": [],
   "source": [
    "for row in cur.execute(\"SELECT name FROM sqlite_master WHERE type='table';\"):\n",
    "    print(row)"
   ]
  },
  {
   "cell_type": "markdown",
   "metadata": {},
   "source": [
    "## Weitere Abfragen\n",
    "\n",
    "- Die gegebenen Beispiele waren nur ein kleiner Teil der möglichen Abfragen an eine Datenbank\n",
    "\n",
    "- Weitere Beispiele könnt ihr z.B. über [SQLITE Tutorial](https://www.sqlitetutorial.net/) anschauen und lernen"
   ]
  },
  {
   "cell_type": "markdown",
   "metadata": {},
   "source": [
    "Der Vollständigkeit halber löschen wir die vorher erstellte Tabelle wieder:"
   ]
  },
  {
   "cell_type": "code",
   "execution_count": null,
   "metadata": {},
   "outputs": [],
   "source": [
    "for row in cur.execute(\"DROP TABLE occurrence;\"):\n",
    "    print(row)"
   ]
  },
  {
   "cell_type": "code",
   "execution_count": null,
   "metadata": {},
   "outputs": [],
   "source": [
    "for row in cur.execute(\"SELECT name FROM sqlite_master WHERE type='table';\"):\n",
    "    print(row)"
   ]
  },
  {
   "cell_type": "markdown",
   "metadata": {},
   "source": [
    "## Verwendung von Funktionen\n",
    "\n",
    "SQL hat viele praktische Funktionen eingebaut:\n",
    "\n",
    "- Mit ``MIN()`` oder ``MAX()`` fragt man Extremwerte ab\n",
    "\n",
    "- Mit ``COUNT()``, ``SUM()`` oder ``AVG()`` kann man die Ergebnisse direkt auswerten"
   ]
  },
  {
   "cell_type": "markdown",
   "metadata": {},
   "source": [
    "## Verbindung beenden\n",
    "\n",
    "- Eine Verbindung muss immer beendet werden! \n",
    "\n",
    "- Damit werden alle Abfragen permanent gespeichert"
   ]
  },
  {
   "cell_type": "code",
   "execution_count": null,
   "metadata": {},
   "outputs": [],
   "source": [
    "con.close()"
   ]
  },
  {
   "cell_type": "markdown",
   "metadata": {},
   "source": [
    "## SQL Cheat Sheet\n",
    "\n",
    "**Achtung**: SQLite hat limitierte Funktionalität!\n",
    "\n",
    "Quelle: [SQL Tutorials](https://www.sqltutorial.org/sql-cheat-sheet/)\n",
    "\n",
    "<img width=500 style=\"float: left;\" src=\"images\\SQL_cheat-sheet.png\">"
   ]
  },
  {
   "cell_type": "markdown",
   "metadata": {
    "slideshow": {
     "slide_type": "slide"
    }
   },
   "source": [
    "## ENDE"
   ]
  }
 ],
 "metadata": {
  "celltoolbar": "Slideshow",
  "kernelspec": {
   "display_name": "Python 3 (ipykernel)",
   "language": "python",
   "name": "python3"
  },
  "language_info": {
   "codemirror_mode": {
    "name": "ipython",
    "version": 3
   },
   "file_extension": ".py",
   "mimetype": "text/x-python",
   "name": "python",
   "nbconvert_exporter": "python",
   "pygments_lexer": "ipython3",
   "version": "3.9.16"
  },
  "toc": {
   "base_numbering": 1,
   "nav_menu": {},
   "number_sections": false,
   "sideBar": true,
   "skip_h1_title": false,
   "title_cell": "Table of Contents",
   "title_sidebar": "Contents",
   "toc_cell": false,
   "toc_position": {
    "height": "calc(100% - 180px)",
    "left": "10px",
    "top": "150px",
    "width": "238.267px"
   },
   "toc_section_display": true,
   "toc_window_display": true
  }
 },
 "nbformat": 4,
 "nbformat_minor": 4
}
