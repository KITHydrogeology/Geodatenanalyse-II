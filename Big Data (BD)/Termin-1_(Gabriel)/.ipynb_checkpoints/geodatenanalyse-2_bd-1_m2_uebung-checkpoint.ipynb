{
 "cells": [
  {
   "cell_type": "markdown",
   "id": "economic-writer",
   "metadata": {},
   "source": [
    "# Geodatenanalyse 2\n",
    "\n",
    "\n",
    "## Termin: Big Data 1 - Teil 1\n",
    "\n",
    "## Umgang mit Datum und Zeit"
   ]
  },
  {
   "cell_type": "code",
   "execution_count": 1,
   "id": "green-graham",
   "metadata": {},
   "outputs": [],
   "source": [
    "import datetime as dt\n",
    "import numpy as np\n",
    "import pandas as pd"
   ]
  },
  {
   "cell_type": "markdown",
   "id": "introductory-brother",
   "metadata": {},
   "source": [
    "## Übung 1\n",
    "\n",
    "Über einen langen Zeitraum wurde ein Datensatz gemessen (siehe: \"*data/datetime_unsorted.csv*\"), bei welchem Jahr, Monat, Tag, Stunde, und Minute winzeln gespeichert wurden.\n",
    "\n",
    "- **Aufgabe 1**: Lade den Datensatz und konvertiere die Spalten in ein Datums- und Zeitobjekt.\n",
    "- **Aufgabe 2**: Sortiere die Daten nach Datum und Zeit und konvertiere Datum und Zeit in das deutsche Format.\n",
    "- **Aufgabe 3**: Berechne die Zeitdifferenz zwischen zwei Einträgen in Tagen und speichere das Ergebnis als Excel-Datei.\n"
   ]
  },
  {
   "cell_type": "code",
   "execution_count": null,
   "id": "organic-hearing",
   "metadata": {},
   "outputs": [],
   "source": []
  },
  {
   "cell_type": "markdown",
   "id": "commercial-wealth",
   "metadata": {},
   "source": [
    "## Übung 2\n",
    "\n",
    "Ein Datensatz soll regelmäßige Einträge haben:\n",
    "\n",
    "- **Aufgabe 1**: Lade den Datensatz in der Datei \"*data/missing_values.csv*\". Ist dieser regelmäßig?\n",
    "\n",
    "- **Aufgabe 2**: Finde die fehlenden Datums- und Zeitobjekte. Wieviele Einträge fehlen?\n",
    "\n",
    "- **Aufgabe 3**: Wieviele knontinuierliche Datenlücken gibt es? *Hinweis*: Diese Aufgabe ist etwas schwierig, denn man muss sich eine Logik überlegen."
   ]
  },
  {
   "cell_type": "code",
   "execution_count": null,
   "id": "breeding-microphone",
   "metadata": {},
   "outputs": [],
   "source": []
  },
  {
   "cell_type": "markdown",
   "id": "verified-mitchell",
   "metadata": {},
   "source": [
    "## ENDE"
   ]
  }
 ],
 "metadata": {
  "kernelspec": {
   "display_name": "Python 3 (ipykernel)",
   "language": "python",
   "name": "python3"
  },
  "language_info": {
   "codemirror_mode": {
    "name": "ipython",
    "version": 3
   },
   "file_extension": ".py",
   "mimetype": "text/x-python",
   "name": "python",
   "nbconvert_exporter": "python",
   "pygments_lexer": "ipython3",
   "version": "3.7.10"
  },
  "toc": {
   "base_numbering": 1,
   "nav_menu": {},
   "number_sections": true,
   "sideBar": true,
   "skip_h1_title": false,
   "title_cell": "Table of Contents",
   "title_sidebar": "Contents",
   "toc_cell": false,
   "toc_position": {},
   "toc_section_display": true,
   "toc_window_display": false
  }
 },
 "nbformat": 4,
 "nbformat_minor": 5
}
