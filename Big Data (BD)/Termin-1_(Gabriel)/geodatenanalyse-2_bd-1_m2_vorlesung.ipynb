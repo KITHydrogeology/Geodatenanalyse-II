{
 "cells": [
  {
   "cell_type": "markdown",
   "metadata": {
    "slideshow": {
     "slide_type": "slide"
    }
   },
   "source": [
    "# Geodatenanalyse 2\n",
    "\n",
    "\n",
    "## Termin: Big Data 1 - Modul 2\n",
    "\n",
    "## Einlesen und Analyse von Zeitreihen\n",
    "\n",
    "Ca. 20-30 Minuten"
   ]
  },
  {
   "cell_type": "markdown",
   "metadata": {
    "slideshow": {
     "slide_type": "slide"
    }
   },
   "source": [
    "## Inhalt\n",
    "- Vektorisierung von Zeitreihen\n",
    "- Erstellung von Zeitreihen\n",
    "- Einlesen von Zeitreihen\n",
    "- Indizierung von Datum und Zeit\n",
    "- Rechnen mit Datum und Zeit\n",
    "- Konvertierung in einen Index\n",
    "- Konvertierung von Datum und Zeit in Fließkommazahlen"
   ]
  },
  {
   "cell_type": "code",
   "execution_count": 1,
   "metadata": {
    "slideshow": {
     "slide_type": "fragment"
    }
   },
   "outputs": [],
   "source": [
    "import datetime as dt\n",
    "import numpy as np\n",
    "import pandas as pd"
   ]
  },
  {
   "cell_type": "markdown",
   "metadata": {},
   "source": [
    "## Vektorisierung? *Pandas* to the rescue ...\n",
    "\n",
    "- Die vorigen Beispiele sind nicht vektororientiert\n",
    "- Für Zeitreihen muss man Schleifen verwenden\n",
    "- Dieses Problem wurde von *Pandas* gelöst\n"
   ]
  },
  {
   "cell_type": "markdown",
   "metadata": {},
   "source": [
    "## Erstellung von Zeitreihen"
   ]
  },
  {
   "cell_type": "code",
   "execution_count": 2,
   "metadata": {},
   "outputs": [
    {
     "data": {
      "text/plain": [
       "DatetimeIndex(['2021-04-01', '2021-04-02', '2021-04-03', '2021-04-04',\n",
       "               '2021-04-05', '2021-04-06', '2021-04-07', '2021-04-08',\n",
       "               '2021-04-09', '2021-04-10', '2021-04-11', '2021-04-12',\n",
       "               '2021-04-13', '2021-04-14', '2021-04-15', '2021-04-16',\n",
       "               '2021-04-17', '2021-04-18', '2021-04-19', '2021-04-20',\n",
       "               '2021-04-21', '2021-04-22', '2021-04-23', '2021-04-24',\n",
       "               '2021-04-25', '2021-04-26', '2021-04-27', '2021-04-28',\n",
       "               '2021-04-29', '2021-04-30'],\n",
       "              dtype='datetime64[ns]', freq='D')"
      ]
     },
     "execution_count": 2,
     "metadata": {},
     "output_type": "execute_result"
    }
   ],
   "source": [
    "datetimes = pd.date_range(start='2021-04-01', end='2021-04-30', freq='D')\n",
    "datetimes"
   ]
  },
  {
   "cell_type": "markdown",
   "metadata": {},
   "source": [
    "### Erstellung über Start und Anzahl der Einträge"
   ]
  },
  {
   "cell_type": "code",
   "execution_count": 3,
   "metadata": {
    "scrolled": true
   },
   "outputs": [
    {
     "data": {
      "text/plain": [
       "DatetimeIndex(['2021-04-01', '2021-04-04', '2021-04-07', '2021-04-10',\n",
       "               '2021-04-13', '2021-04-16', '2021-04-19', '2021-04-22',\n",
       "               '2021-04-25', '2021-04-28', '2021-05-01', '2021-05-04',\n",
       "               '2021-05-07', '2021-05-10', '2021-05-13', '2021-05-16',\n",
       "               '2021-05-19', '2021-05-22', '2021-05-25', '2021-05-28',\n",
       "               '2021-05-31', '2021-06-03', '2021-06-06', '2021-06-09',\n",
       "               '2021-06-12', '2021-06-15', '2021-06-18', '2021-06-21',\n",
       "               '2021-06-24', '2021-06-27', '2021-06-30', '2021-07-03',\n",
       "               '2021-07-06', '2021-07-09', '2021-07-12', '2021-07-15',\n",
       "               '2021-07-18', '2021-07-21', '2021-07-24', '2021-07-27',\n",
       "               '2021-07-30', '2021-08-02', '2021-08-05', '2021-08-08',\n",
       "               '2021-08-11', '2021-08-14', '2021-08-17', '2021-08-20',\n",
       "               '2021-08-23', '2021-08-26', '2021-08-29', '2021-09-01',\n",
       "               '2021-09-04', '2021-09-07', '2021-09-10', '2021-09-13',\n",
       "               '2021-09-16', '2021-09-19', '2021-09-22', '2021-09-25',\n",
       "               '2021-09-28', '2021-10-01', '2021-10-04', '2021-10-07',\n",
       "               '2021-10-10', '2021-10-13', '2021-10-16', '2021-10-19',\n",
       "               '2021-10-22', '2021-10-25', '2021-10-28', '2021-10-31',\n",
       "               '2021-11-03', '2021-11-06', '2021-11-09', '2021-11-12',\n",
       "               '2021-11-15', '2021-11-18', '2021-11-21', '2021-11-24',\n",
       "               '2021-11-27', '2021-11-30', '2021-12-03', '2021-12-06',\n",
       "               '2021-12-09', '2021-12-12', '2021-12-15', '2021-12-18',\n",
       "               '2021-12-21', '2021-12-24', '2021-12-27', '2021-12-30',\n",
       "               '2022-01-02', '2022-01-05', '2022-01-08', '2022-01-11',\n",
       "               '2022-01-14', '2022-01-17', '2022-01-20', '2022-01-23'],\n",
       "              dtype='datetime64[ns]', freq='3D')"
      ]
     },
     "execution_count": 3,
     "metadata": {},
     "output_type": "execute_result"
    }
   ],
   "source": [
    "datetimes = pd.date_range(start='2021-04-01', periods=100, freq='3D')\n",
    "datetimes"
   ]
  },
  {
   "cell_type": "markdown",
   "metadata": {},
   "source": [
    "Wichtig hier ist die Syntax für das Schlüsselwort [*freq*](https://pandas.pydata.org/docs/user_guide/timeseries.html#timeseries-offset-aliases):\n",
    "\n",
    "<img src=\"figures\\date_range_freq.png\" alt=\"alt text\" width=\"400\" align=\"left\"/>\n",
    "\n"
   ]
  },
  {
   "cell_type": "markdown",
   "metadata": {},
   "source": [
    "> Siehe auch die [Referenz für Pandas date_range()](https://pandas.pydata.org/docs/reference/api/pandas.date_range.html)"
   ]
  },
  {
   "cell_type": "markdown",
   "metadata": {},
   "source": [
    "## Das Einlesen von Zeitreihen\n",
    "\n",
    "- Meistens liegen Datum und Zeit in einem Datencontainer (z.B. Excel oder CSV) vor\n",
    "- Diese sind entweder als Zeichenkette oder Fließkommazahl abgespeichert\n",
    "- Hier muss eine richtige Umwandlung erfolgen"
   ]
  },
  {
   "cell_type": "markdown",
   "metadata": {},
   "source": [
    "### Automatisch erkennbare Formate\n",
    "\n",
    "Beispiel: Datum\n",
    "\n",
    "<img src=\"figures\\datetime_int.png\" alt=\"alt text\" width=\"200\" align=\"left\"/>"
   ]
  },
  {
   "cell_type": "code",
   "execution_count": 4,
   "metadata": {
    "scrolled": true
   },
   "outputs": [
    {
     "data": {
      "text/plain": [
       "array(['1/01/2021', '2/01/2021', '3/01/2021', '4/01/2021', '5/01/2021',\n",
       "       '6/01/2021', '7/01/2021', '8/01/2021', '9/01/2021', '10/01/2021',\n",
       "       '11/01/2021', '12/01/2021', '13/01/2021', '14/01/2021',\n",
       "       '15/01/2021', '16/01/2021', '17/01/2021', '18/01/2021',\n",
       "       '19/01/2021', '20/01/2021', '21/01/2021', '22/01/2021',\n",
       "       '23/01/2021', '24/01/2021', '25/01/2021', '26/01/2021',\n",
       "       '27/01/2021', '28/01/2021', '29/01/2021', '30/01/2021'],\n",
       "      dtype=object)"
      ]
     },
     "execution_count": 4,
     "metadata": {},
     "output_type": "execute_result"
    }
   ],
   "source": [
    "data = pd.read_csv(\"data/date_int.csv\")\n",
    "data.loc[:, 'Date'].values"
   ]
  },
  {
   "cell_type": "code",
   "execution_count": 5,
   "metadata": {},
   "outputs": [
    {
     "data": {
      "text/plain": [
       "array(['2021-01-01T00:00:00.000000000', '2021-01-02T00:00:00.000000000',\n",
       "       '2021-01-03T00:00:00.000000000', '2021-01-04T00:00:00.000000000',\n",
       "       '2021-01-05T00:00:00.000000000', '2021-01-06T00:00:00.000000000',\n",
       "       '2021-01-07T00:00:00.000000000', '2021-01-08T00:00:00.000000000',\n",
       "       '2021-01-09T00:00:00.000000000', '2021-01-10T00:00:00.000000000',\n",
       "       '2021-01-11T00:00:00.000000000', '2021-01-12T00:00:00.000000000',\n",
       "       '2021-01-13T00:00:00.000000000', '2021-01-14T00:00:00.000000000',\n",
       "       '2021-01-15T00:00:00.000000000', '2021-01-16T00:00:00.000000000',\n",
       "       '2021-01-17T00:00:00.000000000', '2021-01-18T00:00:00.000000000',\n",
       "       '2021-01-19T00:00:00.000000000', '2021-01-20T00:00:00.000000000',\n",
       "       '2021-01-21T00:00:00.000000000', '2021-01-22T00:00:00.000000000',\n",
       "       '2021-01-23T00:00:00.000000000', '2021-01-24T00:00:00.000000000',\n",
       "       '2021-01-25T00:00:00.000000000', '2021-01-26T00:00:00.000000000',\n",
       "       '2021-01-27T00:00:00.000000000', '2021-01-28T00:00:00.000000000',\n",
       "       '2021-01-29T00:00:00.000000000', '2021-01-30T00:00:00.000000000'],\n",
       "      dtype='datetime64[ns]')"
      ]
     },
     "execution_count": 5,
     "metadata": {},
     "output_type": "execute_result"
    }
   ],
   "source": [
    "data['New'] = pd.to_datetime(data['Date'], dayfirst=True)\n",
    "data.loc[:, 'New'].values"
   ]
  },
  {
   "cell_type": "code",
   "execution_count": 6,
   "metadata": {
    "scrolled": true
   },
   "outputs": [
    {
     "data": {
      "text/plain": [
       "array(['1/01/2021', '2/01/2021', '3/01/2021', '4/01/2021', '5/01/2021',\n",
       "       '6/01/2021', '7/01/2021', '8/01/2021', '9/01/2021', '10/01/2021',\n",
       "       '11/01/2021', '12/01/2021', '13/01/2021', '14/01/2021',\n",
       "       '15/01/2021', '16/01/2021', '17/01/2021', '18/01/2021',\n",
       "       '19/01/2021', '20/01/2021', '21/01/2021', '22/01/2021',\n",
       "       '23/01/2021', '24/01/2021', '25/01/2021', '26/01/2021',\n",
       "       '27/01/2021', '28/01/2021', '29/01/2021', '30/01/2021'],\n",
       "      dtype=object)"
      ]
     },
     "execution_count": 6,
     "metadata": {},
     "output_type": "execute_result"
    }
   ],
   "source": [
    "data = pd.read_csv(\"data/date_int.csv\", parse_dates=[0])\n",
    "data.loc[:, 'Date'].values"
   ]
  },
  {
   "cell_type": "markdown",
   "metadata": {},
   "source": [
    "**Achtung Formatfalle**: Amerikaner haben das Datumsformat MM/DD/YYYY anstelle von DD/MM/YYYY. Das führt manchmal zu schwierig erkennbaren Einlesefehlern! Hier gibt es das Schlüsselwort ```dayfirst=True```"
   ]
  },
  {
   "cell_type": "markdown",
   "metadata": {},
   "source": [
    "Beispiel: Getrennte Datum und Zeit\n",
    "\n",
    "<img src=\"figures\\date-time_int.png\" alt=\"alt text\" width=\"250\" align=\"left\"/>"
   ]
  },
  {
   "cell_type": "code",
   "execution_count": 7,
   "metadata": {
    "scrolled": true
   },
   "outputs": [
    {
     "data": {
      "text/plain": [
       "array(['2021-01-01T00:00:00.000000000', '2021-01-01T00:10:00.000000000',\n",
       "       '2021-01-01T00:20:00.000000000', '2021-01-01T00:30:00.000000000',\n",
       "       '2021-01-01T00:40:00.000000000', '2021-01-01T00:50:00.000000000',\n",
       "       '2021-01-01T01:00:00.000000000', '2021-01-01T01:10:00.000000000',\n",
       "       '2021-01-01T01:20:00.000000000', '2021-01-01T01:30:00.000000000',\n",
       "       '2021-01-01T01:40:00.000000000', '2021-01-01T01:50:00.000000000',\n",
       "       '2021-01-01T02:00:00.000000000', '2021-01-01T02:10:00.000000000',\n",
       "       '2021-01-01T02:20:00.000000000', '2021-01-01T02:30:00.000000000',\n",
       "       '2021-01-01T02:40:00.000000000', '2021-01-01T02:50:00.000000000',\n",
       "       '2021-01-01T03:00:00.000000000', '2021-01-01T03:10:00.000000000',\n",
       "       '2021-01-01T03:20:00.000000000', '2021-01-01T03:30:00.000000000',\n",
       "       '2021-01-01T03:40:00.000000000', '2021-01-01T03:50:00.000000000',\n",
       "       '2021-01-01T04:00:00.000000000', '2021-01-01T04:10:00.000000000',\n",
       "       '2021-01-01T04:20:00.000000000', '2021-01-01T04:30:00.000000000',\n",
       "       '2021-01-01T04:40:00.000000000', '2021-01-01T04:50:00.000000000'],\n",
       "      dtype='datetime64[ns]')"
      ]
     },
     "execution_count": 7,
     "metadata": {},
     "output_type": "execute_result"
    }
   ],
   "source": [
    "data = pd.read_csv(\"data/date-time_int.csv\", parse_dates=[[0,1]])\n",
    "data.loc[:, 'Date_Time'].values"
   ]
  },
  {
   "cell_type": "markdown",
   "metadata": {},
   "source": [
    "### Beliebige Formate (z.B. deutsches Format)\n",
    "\n",
    "Beispiel: Datum und Zeit\n",
    "\n",
    "<img src=\"figures\\datetime_de.png\" alt=\"alt text\" width=\"250\" align=\"left\"/>"
   ]
  },
  {
   "cell_type": "markdown",
   "metadata": {},
   "source": [
    "### Erste Möglichkeit\n",
    "\n",
    "Mit einer Hilfsfunktion ..."
   ]
  },
  {
   "cell_type": "code",
   "execution_count": 8,
   "metadata": {},
   "outputs": [
    {
     "data": {
      "text/plain": [
       "array(['2021-01-01T00:00:00.000000000', '2021-01-01T00:10:00.000000000',\n",
       "       '2021-01-01T00:20:00.000000000', '2021-01-01T00:30:00.000000000',\n",
       "       '2021-01-01T00:40:00.000000000', '2021-01-01T00:50:00.000000000',\n",
       "       '2021-01-01T01:00:00.000000000', '2021-01-01T01:10:00.000000000',\n",
       "       '2021-01-01T01:20:00.000000000', '2021-01-01T01:30:00.000000000',\n",
       "       '2021-01-01T01:40:00.000000000', '2021-01-01T01:50:00.000000000',\n",
       "       '2021-01-01T02:00:00.000000000', '2021-01-01T02:10:00.000000000',\n",
       "       '2021-01-01T02:20:00.000000000', '2021-01-01T02:30:00.000000000',\n",
       "       '2021-01-01T02:40:00.000000000', '2021-01-01T02:50:00.000000000',\n",
       "       '2021-01-01T03:00:00.000000000', '2021-01-01T03:10:00.000000000',\n",
       "       '2021-01-01T03:20:00.000000000', '2021-01-01T03:30:00.000000000',\n",
       "       '2021-01-01T03:40:00.000000000', '2021-01-01T03:50:00.000000000',\n",
       "       '2021-01-01T04:00:00.000000000', '2021-01-01T04:10:00.000000000',\n",
       "       '2021-01-01T04:20:00.000000000', '2021-01-01T04:30:00.000000000',\n",
       "       '2021-01-01T04:40:00.000000000', '2021-01-01T04:50:00.000000000'],\n",
       "      dtype='datetime64[ns]')"
      ]
     },
     "execution_count": 8,
     "metadata": {},
     "output_type": "execute_result"
    }
   ],
   "source": [
    "# need to construct a helper function ...\n",
    "from datetime import datetime\n",
    "\n",
    "data = pd.read_csv(\"data/date-time_de.csv\", parse_dates=[0], date_format=\"%d.%m.%Y %H:%M\")\n",
    "data.loc[:, 'Datum & Zeit'].values"
   ]
  },
  {
   "cell_type": "markdown",
   "metadata": {},
   "source": [
    "### Zweite Möglichkeit\n",
    "\n",
    "In zwei Schritten ..."
   ]
  },
  {
   "cell_type": "code",
   "execution_count": 9,
   "metadata": {
    "scrolled": true
   },
   "outputs": [
    {
     "data": {
      "text/plain": [
       "array(['2021-01-01T00:00:00.000000000', '2021-01-01T00:10:00.000000000',\n",
       "       '2021-01-01T00:20:00.000000000', '2021-01-01T00:30:00.000000000',\n",
       "       '2021-01-01T00:40:00.000000000', '2021-01-01T00:50:00.000000000',\n",
       "       '2021-01-01T01:00:00.000000000', '2021-01-01T01:10:00.000000000',\n",
       "       '2021-01-01T01:20:00.000000000', '2021-01-01T01:30:00.000000000',\n",
       "       '2021-01-01T01:40:00.000000000', '2021-01-01T01:50:00.000000000',\n",
       "       '2021-01-01T02:00:00.000000000', '2021-01-01T02:10:00.000000000',\n",
       "       '2021-01-01T02:20:00.000000000', '2021-01-01T02:30:00.000000000',\n",
       "       '2021-01-01T02:40:00.000000000', '2021-01-01T02:50:00.000000000',\n",
       "       '2021-01-01T03:00:00.000000000', '2021-01-01T03:10:00.000000000',\n",
       "       '2021-01-01T03:20:00.000000000', '2021-01-01T03:30:00.000000000',\n",
       "       '2021-01-01T03:40:00.000000000', '2021-01-01T03:50:00.000000000',\n",
       "       '2021-01-01T04:00:00.000000000', '2021-01-01T04:10:00.000000000',\n",
       "       '2021-01-01T04:20:00.000000000', '2021-01-01T04:30:00.000000000',\n",
       "       '2021-01-01T04:40:00.000000000', '2021-01-01T04:50:00.000000000'],\n",
       "      dtype='datetime64[ns]')"
      ]
     },
     "execution_count": 9,
     "metadata": {},
     "output_type": "execute_result"
    }
   ],
   "source": [
    "datum = pd.read_csv(\"data/date-time_de.csv\")\n",
    "datum['DE'] = pd.to_datetime(datum['Datum & Zeit'], format='%d.%m.%Y %H:%M')\n",
    "datum['DE'].values"
   ]
  },
  {
   "cell_type": "markdown",
   "metadata": {},
   "source": [
    "## Indizierung von Datum und Zeit\n",
    "\n",
    "Die Indizierung funktioniert genauso wie mit *label* oder *location*\n",
    "\n",
    "Man beachte hier die einfache Verwendung von *strings* in der Vorgabe!"
   ]
  },
  {
   "cell_type": "code",
   "execution_count": 10,
   "metadata": {},
   "outputs": [
    {
     "data": {
      "text/html": [
       "<div>\n",
       "<style scoped>\n",
       "    .dataframe tbody tr th:only-of-type {\n",
       "        vertical-align: middle;\n",
       "    }\n",
       "\n",
       "    .dataframe tbody tr th {\n",
       "        vertical-align: top;\n",
       "    }\n",
       "\n",
       "    .dataframe thead th {\n",
       "        text-align: right;\n",
       "    }\n",
       "</style>\n",
       "<table border=\"1\" class=\"dataframe\">\n",
       "  <thead>\n",
       "    <tr style=\"text-align: right;\">\n",
       "      <th></th>\n",
       "      <th>Date</th>\n",
       "      <th>Values</th>\n",
       "      <th>Datetime</th>\n",
       "    </tr>\n",
       "  </thead>\n",
       "  <tbody>\n",
       "    <tr>\n",
       "      <th>13</th>\n",
       "      <td>14/01/2021</td>\n",
       "      <td>0.198333</td>\n",
       "      <td>2021-01-14</td>\n",
       "    </tr>\n",
       "    <tr>\n",
       "      <th>14</th>\n",
       "      <td>15/01/2021</td>\n",
       "      <td>0.900442</td>\n",
       "      <td>2021-01-15</td>\n",
       "    </tr>\n",
       "    <tr>\n",
       "      <th>15</th>\n",
       "      <td>16/01/2021</td>\n",
       "      <td>0.610314</td>\n",
       "      <td>2021-01-16</td>\n",
       "    </tr>\n",
       "    <tr>\n",
       "      <th>16</th>\n",
       "      <td>17/01/2021</td>\n",
       "      <td>0.815259</td>\n",
       "      <td>2021-01-17</td>\n",
       "    </tr>\n",
       "    <tr>\n",
       "      <th>17</th>\n",
       "      <td>18/01/2021</td>\n",
       "      <td>0.896095</td>\n",
       "      <td>2021-01-18</td>\n",
       "    </tr>\n",
       "    <tr>\n",
       "      <th>18</th>\n",
       "      <td>19/01/2021</td>\n",
       "      <td>0.917005</td>\n",
       "      <td>2021-01-19</td>\n",
       "    </tr>\n",
       "    <tr>\n",
       "      <th>19</th>\n",
       "      <td>20/01/2021</td>\n",
       "      <td>0.683041</td>\n",
       "      <td>2021-01-20</td>\n",
       "    </tr>\n",
       "    <tr>\n",
       "      <th>20</th>\n",
       "      <td>21/01/2021</td>\n",
       "      <td>0.002168</td>\n",
       "      <td>2021-01-21</td>\n",
       "    </tr>\n",
       "    <tr>\n",
       "      <th>21</th>\n",
       "      <td>22/01/2021</td>\n",
       "      <td>0.973884</td>\n",
       "      <td>2021-01-22</td>\n",
       "    </tr>\n",
       "    <tr>\n",
       "      <th>22</th>\n",
       "      <td>23/01/2021</td>\n",
       "      <td>0.712743</td>\n",
       "      <td>2021-01-23</td>\n",
       "    </tr>\n",
       "    <tr>\n",
       "      <th>23</th>\n",
       "      <td>24/01/2021</td>\n",
       "      <td>0.638000</td>\n",
       "      <td>2021-01-24</td>\n",
       "    </tr>\n",
       "    <tr>\n",
       "      <th>24</th>\n",
       "      <td>25/01/2021</td>\n",
       "      <td>0.055603</td>\n",
       "      <td>2021-01-25</td>\n",
       "    </tr>\n",
       "    <tr>\n",
       "      <th>25</th>\n",
       "      <td>26/01/2021</td>\n",
       "      <td>0.054632</td>\n",
       "      <td>2021-01-26</td>\n",
       "    </tr>\n",
       "    <tr>\n",
       "      <th>26</th>\n",
       "      <td>27/01/2021</td>\n",
       "      <td>0.198249</td>\n",
       "      <td>2021-01-27</td>\n",
       "    </tr>\n",
       "    <tr>\n",
       "      <th>27</th>\n",
       "      <td>28/01/2021</td>\n",
       "      <td>0.355729</td>\n",
       "      <td>2021-01-28</td>\n",
       "    </tr>\n",
       "    <tr>\n",
       "      <th>28</th>\n",
       "      <td>29/01/2021</td>\n",
       "      <td>0.534810</td>\n",
       "      <td>2021-01-29</td>\n",
       "    </tr>\n",
       "    <tr>\n",
       "      <th>29</th>\n",
       "      <td>30/01/2021</td>\n",
       "      <td>0.647931</td>\n",
       "      <td>2021-01-30</td>\n",
       "    </tr>\n",
       "  </tbody>\n",
       "</table>\n",
       "</div>"
      ],
      "text/plain": [
       "          Date    Values   Datetime\n",
       "13  14/01/2021  0.198333 2021-01-14\n",
       "14  15/01/2021  0.900442 2021-01-15\n",
       "15  16/01/2021  0.610314 2021-01-16\n",
       "16  17/01/2021  0.815259 2021-01-17\n",
       "17  18/01/2021  0.896095 2021-01-18\n",
       "18  19/01/2021  0.917005 2021-01-19\n",
       "19  20/01/2021  0.683041 2021-01-20\n",
       "20  21/01/2021  0.002168 2021-01-21\n",
       "21  22/01/2021  0.973884 2021-01-22\n",
       "22  23/01/2021  0.712743 2021-01-23\n",
       "23  24/01/2021  0.638000 2021-01-24\n",
       "24  25/01/2021  0.055603 2021-01-25\n",
       "25  26/01/2021  0.054632 2021-01-26\n",
       "26  27/01/2021  0.198249 2021-01-27\n",
       "27  28/01/2021  0.355729 2021-01-28\n",
       "28  29/01/2021  0.534810 2021-01-29\n",
       "29  30/01/2021  0.647931 2021-01-30"
      ]
     },
     "execution_count": 10,
     "metadata": {},
     "output_type": "execute_result"
    }
   ],
   "source": [
    "data = pd.read_csv(\"data/date_int.csv\")\n",
    "data['Datetime'] = pd.to_datetime(data.loc[:, 'Date'], dayfirst=True)\n",
    "\n",
    "index = data['Datetime'] > '2021-01-13'\n",
    "data[index]"
   ]
  },
  {
   "cell_type": "markdown",
   "metadata": {},
   "source": [
    "Natürlich kann man auch andere Datums- und Zeitobjekte verwenden ..."
   ]
  },
  {
   "cell_type": "code",
   "execution_count": 11,
   "metadata": {},
   "outputs": [
    {
     "data": {
      "text/html": [
       "<div>\n",
       "<style scoped>\n",
       "    .dataframe tbody tr th:only-of-type {\n",
       "        vertical-align: middle;\n",
       "    }\n",
       "\n",
       "    .dataframe tbody tr th {\n",
       "        vertical-align: top;\n",
       "    }\n",
       "\n",
       "    .dataframe thead th {\n",
       "        text-align: right;\n",
       "    }\n",
       "</style>\n",
       "<table border=\"1\" class=\"dataframe\">\n",
       "  <thead>\n",
       "    <tr style=\"text-align: right;\">\n",
       "      <th></th>\n",
       "      <th>Date</th>\n",
       "      <th>Values</th>\n",
       "      <th>Datetime</th>\n",
       "    </tr>\n",
       "  </thead>\n",
       "  <tbody>\n",
       "    <tr>\n",
       "      <th>14</th>\n",
       "      <td>15/01/2021</td>\n",
       "      <td>0.900442</td>\n",
       "      <td>2021-01-15</td>\n",
       "    </tr>\n",
       "  </tbody>\n",
       "</table>\n",
       "</div>"
      ],
      "text/plain": [
       "          Date    Values   Datetime\n",
       "14  15/01/2021  0.900442 2021-01-15"
      ]
     },
     "execution_count": 11,
     "metadata": {},
     "output_type": "execute_result"
    }
   ],
   "source": [
    "data[data['Datetime'] == np.datetime64('2021-01-15')]"
   ]
  },
  {
   "cell_type": "markdown",
   "metadata": {},
   "source": [
    "## Konversion von Datum und Zeit in Zeitreihen\n",
    "\n",
    "Eingelesene Zeitreihen können in beliebige Datums- und Zeitformate konvertiert werden"
   ]
  },
  {
   "cell_type": "code",
   "execution_count": 12,
   "metadata": {
    "scrolled": true
   },
   "outputs": [
    {
     "data": {
      "text/plain": [
       "array(['01 January 2021', '02 January 2021', '03 January 2021',\n",
       "       '04 January 2021', '05 January 2021', '06 January 2021',\n",
       "       '07 January 2021', '08 January 2021', '09 January 2021',\n",
       "       '10 January 2021', '11 January 2021', '12 January 2021',\n",
       "       '13 January 2021', '14 January 2021', '15 January 2021',\n",
       "       '16 January 2021', '17 January 2021', '18 January 2021',\n",
       "       '19 January 2021', '20 January 2021', '21 January 2021',\n",
       "       '22 January 2021', '23 January 2021', '24 January 2021',\n",
       "       '25 January 2021', '26 January 2021', '27 January 2021',\n",
       "       '28 January 2021', '29 January 2021', '30 January 2021'],\n",
       "      dtype=object)"
      ]
     },
     "execution_count": 12,
     "metadata": {},
     "output_type": "execute_result"
    }
   ],
   "source": [
    "data['new_format'] = data.loc[:, 'Datetime'].dt.strftime('%d %B %Y')\n",
    "data['new_format'].values"
   ]
  },
  {
   "cell_type": "markdown",
   "metadata": {},
   "source": [
    "Diese können dann auch wieder exportiert werden (siehe auch Geodatenanalyse 1):"
   ]
  },
  {
   "cell_type": "code",
   "execution_count": 13,
   "metadata": {},
   "outputs": [],
   "source": [
    "data.to_csv(\"data/new_format.csv\", index=False)"
   ]
  },
  {
   "cell_type": "markdown",
   "metadata": {},
   "source": [
    "## Rechnung mit Datum und Zeit\n",
    "\n",
    "oftmals muss mit Datum und Zeit gerechnet werden, z.B. um eine Zeitdifferenz ausrechnen zu können"
   ]
  },
  {
   "cell_type": "code",
   "execution_count": 14,
   "metadata": {},
   "outputs": [
    {
     "data": {
      "text/plain": [
       "array([-6000000000000, -5400000000000, -4800000000000, -4200000000000,\n",
       "       -3600000000000, -3000000000000, -2400000000000, -1800000000000,\n",
       "       -1200000000000,  -600000000000,              0,   600000000000,\n",
       "        1200000000000,  1800000000000,  2400000000000,  3000000000000,\n",
       "        3600000000000,  4200000000000,  4800000000000,  5400000000000,\n",
       "        6000000000000,  6600000000000,  7200000000000,  7800000000000,\n",
       "        8400000000000,  9000000000000,  9600000000000, 10200000000000,\n",
       "       10800000000000, 11400000000000], dtype='timedelta64[ns]')"
      ]
     },
     "execution_count": 14,
     "metadata": {},
     "output_type": "execute_result"
    }
   ],
   "source": [
    "datum['Differenz'] = datum['DE'] - datum.loc[10, 'DE']\n",
    "datum['Differenz'].values"
   ]
  },
  {
   "cell_type": "code",
   "execution_count": 15,
   "metadata": {
    "scrolled": true
   },
   "outputs": [
    {
     "data": {
      "text/plain": [
       "array([-6000., -5400., -4800., -4200., -3600., -3000., -2400., -1800.,\n",
       "       -1200.,  -600.,     0.,   600.,  1200.,  1800.,  2400.,  3000.,\n",
       "        3600.,  4200.,  4800.,  5400.,  6000.,  6600.,  7200.,  7800.,\n",
       "        8400.,  9000.,  9600., 10200., 10800., 11400.])"
      ]
     },
     "execution_count": 15,
     "metadata": {},
     "output_type": "execute_result"
    }
   ],
   "source": [
    "datum['Differenz'].dt.total_seconds().values"
   ]
  },
  {
   "cell_type": "markdown",
   "metadata": {},
   "source": [
    "## Konvertierung in einen Index\n",
    "\n",
    "- Eine Datums- und Zeitreihe kann auch in einen Index verwandelt werden\n",
    "\n",
    "- Das hilft bei Datenmanipulationen"
   ]
  },
  {
   "cell_type": "code",
   "execution_count": 16,
   "metadata": {},
   "outputs": [
    {
     "data": {
      "text/plain": [
       "DatetimeIndex(['2021-01-01', '2021-01-02', '2021-01-03', '2021-01-04',\n",
       "               '2021-01-05', '2021-01-06', '2021-01-07', '2021-01-08',\n",
       "               '2021-01-09', '2021-01-10', '2021-01-11', '2021-01-12',\n",
       "               '2021-01-13', '2021-01-14', '2021-01-15', '2021-01-16',\n",
       "               '2021-01-17', '2021-01-18', '2021-01-19', '2021-01-20',\n",
       "               '2021-01-21', '2021-01-22', '2021-01-23', '2021-01-24',\n",
       "               '2021-01-25', '2021-01-26', '2021-01-27', '2021-01-28',\n",
       "               '2021-01-29', '2021-01-30'],\n",
       "              dtype='datetime64[ns]', name='Datetime', freq=None)"
      ]
     },
     "execution_count": 16,
     "metadata": {},
     "output_type": "execute_result"
    }
   ],
   "source": [
    "data.set_index('Datetime', inplace=True)\n",
    "data.index"
   ]
  },
  {
   "cell_type": "markdown",
   "metadata": {},
   "source": [
    "## Konvertierung von Datum und Zeit in Fließkommazahlen\n",
    "\n",
    "Für einige Berechnungen ist es sinnvoll oder nützlich eine Datums- und Zeitreihe in eine Fließkommazahl zu überführen.\n",
    "\n",
    "Im Folgenden ist ein einfaches Rezept für die Umwandlung in die Excel-basierte Fließkommazahl:"
   ]
  },
  {
   "cell_type": "code",
   "execution_count": 17,
   "metadata": {},
   "outputs": [
    {
     "data": {
      "text/plain": [
       "array([44195.        , 44195.00694444, 44195.01388889, 44195.02083333,\n",
       "       44195.02777778, 44195.03472222, 44195.04166667, 44195.04861111,\n",
       "       44195.05555556, 44195.0625    , 44195.06944444, 44195.07638889,\n",
       "       44195.08333333, 44195.09027778, 44195.09722222, 44195.10416667,\n",
       "       44195.11111111, 44195.11805556, 44195.125     , 44195.13194444,\n",
       "       44195.13888889, 44195.14583333, 44195.15277778, 44195.15972222,\n",
       "       44195.16666667, 44195.17361111, 44195.18055556, 44195.1875    ,\n",
       "       44195.19444444, 44195.20138889])"
      ]
     },
     "execution_count": 17,
     "metadata": {},
     "output_type": "execute_result"
    }
   ],
   "source": [
    "td = (datum['DE'] - dt.datetime(1900,1,1)).dt\n",
    "datum['Numerisch'] = td.days + td.seconds/86400\n",
    "datum['Numerisch'].values"
   ]
  },
  {
   "cell_type": "markdown",
   "metadata": {
    "slideshow": {
     "slide_type": "slide"
    }
   },
   "source": [
    "## ENDE"
   ]
  }
 ],
 "metadata": {
  "celltoolbar": "Slideshow",
  "kernelspec": {
   "display_name": "Python 3 (ipykernel)",
   "language": "python",
   "name": "python3"
  },
  "language_info": {
   "codemirror_mode": {
    "name": "ipython",
    "version": 3
   },
   "file_extension": ".py",
   "mimetype": "text/x-python",
   "name": "python",
   "nbconvert_exporter": "python",
   "pygments_lexer": "ipython3",
   "version": "3.9.19"
  },
  "toc": {
   "base_numbering": 1,
   "nav_menu": {},
   "number_sections": true,
   "sideBar": true,
   "skip_h1_title": false,
   "title_cell": "Table of Contents",
   "title_sidebar": "Contents",
   "toc_cell": false,
   "toc_position": {},
   "toc_section_display": true,
   "toc_window_display": false
  }
 },
 "nbformat": 4,
 "nbformat_minor": 4
}
