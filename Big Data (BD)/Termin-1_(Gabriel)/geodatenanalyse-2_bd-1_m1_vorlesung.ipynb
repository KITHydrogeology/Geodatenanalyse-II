{
 "cells": [
  {
   "cell_type": "markdown",
   "metadata": {
    "slideshow": {
     "slide_type": "slide"
    }
   },
   "source": [
    "# Geodatenanalyse 2\n",
    "\n",
    "\n",
    "## Termin 2 - Teil 1\n",
    "\n",
    "## Umgang mit Datum und Zeit\n",
    "\n",
    "Ca. 20-30 Minuten"
   ]
  },
  {
   "cell_type": "markdown",
   "metadata": {
    "slideshow": {
     "slide_type": "slide"
    }
   },
   "source": [
    "## Inhalt\n",
    "- Das Problem mit Zeitreihen\n",
    "- Datums- und Zeitformate\n",
    "- Python's eingebaute Datums- und Zeitfunktionalität\n",
    "- Der Datums-/Zeit Datentyp in *NumPy*\n",
    "- Operationen mit Datum oder Zeit\n",
    "- Abbildungen mit Datum/Zeit-Achsen"
   ]
  },
  {
   "cell_type": "code",
   "execution_count": 1,
   "metadata": {
    "slideshow": {
     "slide_type": "fragment"
    }
   },
   "outputs": [],
   "source": [
    "import datetime as dt\n",
    "import numpy as np\n",
    "import matplotlib.pyplot as plt"
   ]
  },
  {
   "cell_type": "markdown",
   "metadata": {
    "slideshow": {
     "slide_type": "slide"
    }
   },
   "source": [
    "## Was ist das Problem mit Zeitreihen?\n",
    "\n",
    "### Die Zahlensysteme des Datums\n",
    "\n",
    "- Ein Datum besteht aus einem komplizierten System: \n",
    "\n",
    "    - das Jahr hat 365 Tage, mit Schaltjahr 366 (alle 4 Jahre)\n",
    "    \n",
    "    - Die Tage variieren (28-31 Tage pro Monat)\n",
    "    \n",
    "    - Wochentage folgen dem 7-er System\n",
    "    \n",
    "    - Monate basieren auf der Basis von 12"
   ]
  },
  {
   "cell_type": "markdown",
   "metadata": {
    "slideshow": {
     "slide_type": "slide"
    }
   },
   "source": [
    "### Die Zahlensysteme der Zeit\n",
    "\n",
    "- Die Zeit besteht aus einem gemischten System:\n",
    "\n",
    "    - Sekunden und Minuten auf der Basis von 60\n",
    "    - Stunden auf der Basis von 24"
   ]
  },
  {
   "cell_type": "markdown",
   "metadata": {
    "slideshow": {
     "slide_type": "slide"
    }
   },
   "source": [
    "### Welcher Speichertyp?\n",
    "\n",
    "- Normale Datentypen wie z.B. *integer* oder *floats* werden generell für Berechnungen verwendet\n",
    "\n",
    "- Man kann ein Datum und eine Zeit als *string* darstellen (z.B., \"12.04.2021 12:33:44\")\n",
    "\n",
    "- Aber: Mit strings kann man keine Operationen (z.B. größer/kleiner Vergleiche) oder Berechnungen (z.B. Zeitdifferenz) durchführen\n",
    "\n",
    "**Fazit**: Für die Zeitreihenanalyse brauchen wir einen eigenen Datentyp für Datum und Zeit!"
   ]
  },
  {
   "cell_type": "code",
   "execution_count": 2,
   "metadata": {},
   "outputs": [
    {
     "data": {
      "text/plain": [
       "str"
      ]
     },
     "execution_count": 2,
     "metadata": {},
     "output_type": "execute_result"
    }
   ],
   "source": [
    "datetime = \"19.04.2021 14:10:10\"\n",
    "type(datetime)"
   ]
  },
  {
   "cell_type": "markdown",
   "metadata": {},
   "source": [
    "### Was macht *Excel*?\n",
    "\n",
    "Interne Umwandlung in eine Fließkommazahl (*float*):\n",
    "\n",
    "<img src=\"figures\\excel.png\" alt=\"alt text\" width=\"400\" align=\"left\"/>"
   ]
  },
  {
   "cell_type": "markdown",
   "metadata": {},
   "source": [
    "- Die Ganzzahl ergibt die Tage (seit 1. Januar 1900)\n",
    "\n",
    "- Die Fliesskommazahl ergibt die Zeiteinheit innerhalb des Tages\n",
    "\n",
    "**Fazit**: Diese Strategie macht es etwas einfacher, aber nimmt nicht die Schwierigkeit aus dem Kalender!"
   ]
  },
  {
   "cell_type": "markdown",
   "metadata": {},
   "source": [
    "## Datum/Zeit-Formate"
   ]
  },
  {
   "cell_type": "markdown",
   "metadata": {},
   "source": [
    "### Das  ISO 8601 Datums- und Zeitformat\n",
    "\n",
    "Quelle: [Wikipedia](https://de.wikipedia.org/wiki/ISO_8601)\n",
    "\n",
    "<img src=\"figures\\iso-8601.png\" alt=\"alt text\" width=\"600\" align=\"left\"/>"
   ]
  },
  {
   "cell_type": "markdown",
   "metadata": {},
   "source": [
    "Mehr dazu in auf der [ISO Webseite](https://www.iso.org/iso-8601-date-and-time-format.html)"
   ]
  },
  {
   "cell_type": "markdown",
   "metadata": {},
   "source": [
    "### Weitere wichtige Datum/Zeit-Formate"
   ]
  },
  {
   "cell_type": "markdown",
   "metadata": {},
   "source": [
    "- Das internationale Format (Jahr zuerst): ``YYYY-mm-dd HH:MM:SS``\n",
    "\n",
    "- Das internationale Format (Tag zuerst): ``dd/mm/YYYY HH:MM:SS``\n",
    "\n",
    "- Das USA Format (Monat zuerst): ``mm/dd/YYYY HH:MM:SS`` (ACHTUNG: Verwechslungsgefahr!)\n",
    "\n",
    "- Das deutsche Format: ``dd.mm.YYYY HH:MM:SS``\n",
    "\n",
    "\n",
    "**ACHTUNG**: Daten haben oft ganz unterschiedliche und zum Teil auch vermischte Formate!\n"
   ]
  },
  {
   "cell_type": "markdown",
   "metadata": {},
   "source": [
    "## Python's eingebaute Datums- und Zeitfunktionalität\n",
    "\n",
    "- Das *datetime*-Modul liefert Klassen zur Manipulation von Datums- und Zeitangaben.\n",
    "\n",
    "- Während die Datums- und Zeitarithmetik unterstützt wird, liegt der Schwerpunkt der Implementierung auf der effizienten Attributextraktion für die Ausgabeformatierung und -manipulation.\n",
    "\n",
    "\n",
    "> Mehr Informationen im [Python Handbuch](https://docs.python.org/3/library/datetime.html)"
   ]
  },
  {
   "cell_type": "markdown",
   "metadata": {},
   "source": [
    "### Eigenschaften des *date*-Objekts:\n",
    "\n",
    "``datetime.date(year, month, day)``"
   ]
  },
  {
   "cell_type": "code",
   "execution_count": 3,
   "metadata": {},
   "outputs": [
    {
     "data": {
      "text/plain": [
       "datetime.date(2022, 5, 9)"
      ]
     },
     "execution_count": 3,
     "metadata": {},
     "output_type": "execute_result"
    }
   ],
   "source": [
    "date = dt.date.today()\n",
    "date"
   ]
  },
  {
   "cell_type": "code",
   "execution_count": 4,
   "metadata": {},
   "outputs": [
    {
     "data": {
      "text/plain": [
       "datetime.time(14, 15, 16)"
      ]
     },
     "execution_count": 4,
     "metadata": {},
     "output_type": "execute_result"
    }
   ],
   "source": [
    "time = dt.time(hour=14, minute=15, second=16)\n",
    "time"
   ]
  },
  {
   "cell_type": "markdown",
   "metadata": {},
   "source": [
    "### Syntax des *datetime*-Objekts:\n",
    "\n",
    "``datetime.datetime(year, month, day, hour=0, minute=0, second=0, microsecond=0, tzinfo=None)``"
   ]
  },
  {
   "cell_type": "code",
   "execution_count": 15,
   "metadata": {},
   "outputs": [
    {
     "data": {
      "text/plain": [
       "datetime.datetime(2022, 5, 9, 22, 28, 10, 850845)"
      ]
     },
     "execution_count": 15,
     "metadata": {},
     "output_type": "execute_result"
    }
   ],
   "source": [
    "date = dt.datetime.today()\n",
    "date"
   ]
  },
  {
   "cell_type": "markdown",
   "metadata": {},
   "source": [
    "### Import von vorformatierten Daten\n",
    "\n",
    "- Oftmals müssen vorformatierte Daten in Python importiert werden\n",
    "\n",
    "- Dafür gibt es die Funktion *strptime()* (p steht für *parsing*)"
   ]
  },
  {
   "cell_type": "code",
   "execution_count": 17,
   "metadata": {},
   "outputs": [
    {
     "name": "stdout",
     "output_type": "stream",
     "text": [
      "<class 'str'>\n"
     ]
    },
    {
     "data": {
      "text/plain": [
       "datetime.datetime(2021, 4, 19, 14, 33, 12)"
      ]
     },
     "execution_count": 17,
     "metadata": {},
     "output_type": "execute_result"
    }
   ],
   "source": [
    "datum = \"19.04.2021 14:33:12\"\n",
    "print(type(datum))\n",
    "\n",
    "dt.datetime.strptime(datum, \"%d.%m.%Y %H:%M:%S\")"
   ]
  },
  {
   "cell_type": "markdown",
   "metadata": {},
   "source": [
    "Hier werden Schlüsselzeichen benötigt, welche den Zahlen ihren Platz zuweisen:\n",
    "\n",
    "\n",
    "<img src=\"figures\\datetime.png\" alt=\"alt text\" width=\"700\" align=\"left\"/>"
   ]
  },
  {
   "cell_type": "markdown",
   "metadata": {},
   "source": [
    "### Export in ein formatiertes Format\n",
    "\n",
    "\n",
    "- Andersrum müssen Daten aus Python exportiert werden\n",
    "\n",
    "- Dafür gibt es die Funktion *strftime()* (f steht für *formatting*)"
   ]
  },
  {
   "cell_type": "code",
   "execution_count": 20,
   "metadata": {},
   "outputs": [
    {
     "name": "stdout",
     "output_type": "stream",
     "text": [
      "2022-05-09 22:31:21\n",
      "<class 'str'>\n"
     ]
    }
   ],
   "source": [
    "date = dt.datetime.now()\n",
    "string = date.strftime(\"%Y-%m-%d %H:%M:%S\")\n",
    "print(string)\n",
    "print(type(string))"
   ]
  },
  {
   "cell_type": "markdown",
   "metadata": {},
   "source": [
    "## Datums- und/oder Zeitrechnungen\n",
    "\n",
    "- Manchmal muss ein Datum und/oder eine Zeit auch berechnet werden\n",
    "\n",
    "- Dazu benötigt es ein eigenes Objekt"
   ]
  },
  {
   "cell_type": "markdown",
   "metadata": {},
   "source": [
    "### Eigenschaften des *timedelta*-Objekts:\n",
    "\n",
    "``datetime.timedelta(days=0, seconds=0, microseconds=0, milliseconds=0, minutes=0, hours=0, weeks=0)¶``"
   ]
  },
  {
   "cell_type": "code",
   "execution_count": 22,
   "metadata": {
    "slideshow": {
     "slide_type": "slide"
    }
   },
   "outputs": [
    {
     "data": {
      "text/plain": [
       "datetime.datetime(2022, 7, 1, 22, 31, 21, 534447)"
      ]
     },
     "execution_count": 22,
     "metadata": {},
     "output_type": "execute_result"
    }
   ],
   "source": [
    "new_date = date + dt.timedelta(days=53)\n",
    "new_date"
   ]
  },
  {
   "cell_type": "markdown",
   "metadata": {
    "slideshow": {
     "slide_type": "slide"
    }
   },
   "source": [
    "### Beispiel: Countdown bis zum nächsten Neujahr"
   ]
  },
  {
   "cell_type": "code",
   "execution_count": 23,
   "metadata": {
    "slideshow": {
     "slide_type": "slide"
    }
   },
   "outputs": [
    {
     "data": {
      "text/plain": [
       "datetime.timedelta(days=236, seconds=5243, microseconds=983012)"
      ]
     },
     "execution_count": 23,
     "metadata": {},
     "output_type": "execute_result"
    }
   ],
   "source": [
    "countdown = dt.datetime(2023, 1, 1, hour=0, minute=0, second=0) - dt.datetime.now()\n",
    "countdown"
   ]
  },
  {
   "cell_type": "markdown",
   "metadata": {
    "slideshow": {
     "slide_type": "slide"
    }
   },
   "source": [
    "### *Frage*: Was ist mit Zeitreihen ...?\n",
    "\n",
    "Dafür brauchen wir wieder einen anderen Datentyp!"
   ]
  },
  {
   "cell_type": "markdown",
   "metadata": {
    "slideshow": {
     "slide_type": "slide"
    }
   },
   "source": [
    "## Der *datetime64[ns]* Datentyp in *NumPy*\n",
    "\n",
    "- Das Datums-/Zeitobjekt von *NumPy* ist speziell für Zeitreihen entwickelt\n",
    "\n",
    "- Damit lassen sich Vektoren bearbeiten\n",
    "\n",
    "> Mehr Informationen im [*NumPy* Handbuch](https://numpy.org/doc/stable/reference/arrays.datetime.html)"
   ]
  },
  {
   "cell_type": "code",
   "execution_count": 25,
   "metadata": {
    "scrolled": true,
    "slideshow": {
     "slide_type": "slide"
    }
   },
   "outputs": [
    {
     "name": "stdout",
     "output_type": "stream",
     "text": [
      "2021-04-12\n",
      "['2007-07-13' '2006-01-13' '2010-08-13']\n"
     ]
    }
   ],
   "source": [
    "date = np.datetime64('2021-04-12')\n",
    "print(date)\n",
    "\n",
    "dates = np.array(['2007-07-13', '2006-01-13', '2010-08-13'], dtype='datetime64')\n",
    "print(dates)"
   ]
  },
  {
   "cell_type": "markdown",
   "metadata": {
    "slideshow": {
     "slide_type": "slide"
    }
   },
   "source": [
    "### Rechnen mit Datum und Zeit"
   ]
  },
  {
   "cell_type": "code",
   "execution_count": 26,
   "metadata": {
    "slideshow": {
     "slide_type": "slide"
    }
   },
   "outputs": [
    {
     "data": {
      "text/plain": [
       "numpy.timedelta64(91,'D')"
      ]
     },
     "execution_count": 26,
     "metadata": {},
     "output_type": "execute_result"
    }
   ],
   "source": [
    "np.datetime64('2021-07-19') - np.datetime64('2021-04-19')"
   ]
  },
  {
   "cell_type": "markdown",
   "metadata": {
    "slideshow": {
     "slide_type": "slide"
    }
   },
   "source": [
    "#### Was ist *timedelta64*?\n",
    "\n",
    "Ein Datenobjekt für Datums- und Zeitdifferenzen!\n",
    "\n",
    "Beispielrechnung:"
   ]
  },
  {
   "cell_type": "code",
   "execution_count": 27,
   "metadata": {
    "slideshow": {
     "slide_type": "slide"
    }
   },
   "outputs": [
    {
     "data": {
      "text/plain": [
       "numpy.datetime64('2021-09-02T13','h')"
      ]
     },
     "execution_count": 27,
     "metadata": {},
     "output_type": "execute_result"
    }
   ],
   "source": [
    "np.datetime64('2021-07-19') + np.timedelta64(45, 'D') + np.timedelta64(13, 'h')"
   ]
  },
  {
   "cell_type": "code",
   "execution_count": 28,
   "metadata": {
    "slideshow": {
     "slide_type": "slide"
    }
   },
   "outputs": [
    {
     "data": {
      "text/plain": [
       "numpy.datetime64('2021-07-19T12:33:35.456')"
      ]
     },
     "execution_count": 28,
     "metadata": {},
     "output_type": "execute_result"
    }
   ],
   "source": [
    "datetime = np.datetime64('2021-07-19T12:33:35.456')\n",
    "datetime"
   ]
  },
  {
   "cell_type": "code",
   "execution_count": 29,
   "metadata": {
    "slideshow": {
     "slide_type": "slide"
    }
   },
   "outputs": [
    {
     "data": {
      "text/plain": [
       "numpy.datetime64('2021-06-26T22:59:35.456')"
      ]
     },
     "execution_count": 29,
     "metadata": {},
     "output_type": "execute_result"
    }
   ],
   "source": [
    "datetime - np.timedelta64(23, 'D') + np.timedelta64(11, 'h') - np.timedelta64(34, 'm')"
   ]
  },
  {
   "cell_type": "markdown",
   "metadata": {
    "slideshow": {
     "slide_type": "slide"
    }
   },
   "source": [
    "### Zeitreihen erstellen\n",
    "\n",
    "- Leider bietet *datetime* und *NumPy* nur begrenzte Funktionalität für das Erstellen von Zeitreihen\n",
    "\n",
    "- Dazu braucht man dann Schleifen oder Iteratoren"
   ]
  },
  {
   "cell_type": "code",
   "execution_count": 41,
   "metadata": {
    "slideshow": {
     "slide_type": "slide"
    }
   },
   "outputs": [
    {
     "data": {
      "text/plain": [
       "array(['2021-01-01', '2021-01-02', '2021-01-03', '2021-01-04',\n",
       "       '2021-01-05', '2021-01-06', '2021-01-07', '2021-01-08',\n",
       "       '2021-01-09', '2021-01-10', '2021-01-11', '2021-01-12',\n",
       "       '2021-01-13', '2021-01-14', '2021-01-15', '2021-01-16',\n",
       "       '2021-01-17', '2021-01-18', '2021-01-19', '2021-01-20',\n",
       "       '2021-01-21', '2021-01-22', '2021-01-23', '2021-01-24',\n",
       "       '2021-01-25', '2021-01-26', '2021-01-27', '2021-01-28',\n",
       "       '2021-01-29', '2021-01-30', '2021-01-31', '2021-02-01',\n",
       "       '2021-02-02', '2021-02-03', '2021-02-04', '2021-02-05',\n",
       "       '2021-02-06', '2021-02-07', '2021-02-08', '2021-02-09',\n",
       "       '2021-02-10', '2021-02-11', '2021-02-12', '2021-02-13',\n",
       "       '2021-02-14', '2021-02-15', '2021-02-16', '2021-02-17',\n",
       "       '2021-02-18', '2021-02-19', '2021-02-20', '2021-02-21',\n",
       "       '2021-02-22', '2021-02-23', '2021-02-24', '2021-02-25',\n",
       "       '2021-02-26', '2021-02-27', '2021-02-28', '2021-03-01',\n",
       "       '2021-03-02', '2021-03-03', '2021-03-04', '2021-03-05',\n",
       "       '2021-03-06', '2021-03-07', '2021-03-08', '2021-03-09',\n",
       "       '2021-03-10', '2021-03-11', '2021-03-12', '2021-03-13',\n",
       "       '2021-03-14', '2021-03-15', '2021-03-16', '2021-03-17',\n",
       "       '2021-03-18', '2021-03-19', '2021-03-20', '2021-03-21',\n",
       "       '2021-03-22', '2021-03-23', '2021-03-24', '2021-03-25',\n",
       "       '2021-03-26', '2021-03-27', '2021-03-28', '2021-03-29',\n",
       "       '2021-03-30', '2021-03-31', '2021-04-01', '2021-04-02',\n",
       "       '2021-04-03', '2021-04-04', '2021-04-05', '2021-04-06',\n",
       "       '2021-04-07', '2021-04-08', '2021-04-09', '2021-04-10',\n",
       "       '2021-04-11', '2021-04-12', '2021-04-13', '2021-04-14',\n",
       "       '2021-04-15', '2021-04-16', '2021-04-17', '2021-04-18',\n",
       "       '2021-04-19', '2021-04-20', '2021-04-21', '2021-04-22',\n",
       "       '2021-04-23', '2021-04-24', '2021-04-25', '2021-04-26',\n",
       "       '2021-04-27', '2021-04-28', '2021-04-29', '2021-04-30',\n",
       "       '2021-05-01', '2021-05-02', '2021-05-03', '2021-05-04',\n",
       "       '2021-05-05', '2021-05-06', '2021-05-07', '2021-05-08',\n",
       "       '2021-05-09', '2021-05-10', '2021-05-11', '2021-05-12',\n",
       "       '2021-05-13', '2021-05-14', '2021-05-15', '2021-05-16',\n",
       "       '2021-05-17', '2021-05-18', '2021-05-19', '2021-05-20',\n",
       "       '2021-05-21', '2021-05-22', '2021-05-23', '2021-05-24',\n",
       "       '2021-05-25', '2021-05-26', '2021-05-27', '2021-05-28',\n",
       "       '2021-05-29', '2021-05-30', '2021-05-31', '2021-06-01',\n",
       "       '2021-06-02', '2021-06-03', '2021-06-04', '2021-06-05',\n",
       "       '2021-06-06', '2021-06-07', '2021-06-08', '2021-06-09',\n",
       "       '2021-06-10', '2021-06-11', '2021-06-12', '2021-06-13',\n",
       "       '2021-06-14', '2021-06-15', '2021-06-16', '2021-06-17',\n",
       "       '2021-06-18', '2021-06-19', '2021-06-20', '2021-06-21',\n",
       "       '2021-06-22', '2021-06-23', '2021-06-24', '2021-06-25',\n",
       "       '2021-06-26', '2021-06-27', '2021-06-28', '2021-06-29',\n",
       "       '2021-06-30', '2021-07-01', '2021-07-02', '2021-07-03',\n",
       "       '2021-07-04', '2021-07-05', '2021-07-06', '2021-07-07',\n",
       "       '2021-07-08', '2021-07-09', '2021-07-10', '2021-07-11',\n",
       "       '2021-07-12', '2021-07-13', '2021-07-14', '2021-07-15',\n",
       "       '2021-07-16', '2021-07-17', '2021-07-18', '2021-07-19',\n",
       "       '2021-07-20', '2021-07-21', '2021-07-22', '2021-07-23',\n",
       "       '2021-07-24', '2021-07-25', '2021-07-26', '2021-07-27',\n",
       "       '2021-07-28', '2021-07-29', '2021-07-30', '2021-07-31',\n",
       "       '2021-08-01', '2021-08-02', '2021-08-03', '2021-08-04',\n",
       "       '2021-08-05', '2021-08-06', '2021-08-07', '2021-08-08',\n",
       "       '2021-08-09', '2021-08-10', '2021-08-11', '2021-08-12',\n",
       "       '2021-08-13', '2021-08-14', '2021-08-15', '2021-08-16',\n",
       "       '2021-08-17', '2021-08-18', '2021-08-19', '2021-08-20',\n",
       "       '2021-08-21', '2021-08-22', '2021-08-23', '2021-08-24',\n",
       "       '2021-08-25', '2021-08-26', '2021-08-27', '2021-08-28',\n",
       "       '2021-08-29', '2021-08-30', '2021-08-31', '2021-09-01',\n",
       "       '2021-09-02', '2021-09-03', '2021-09-04', '2021-09-05',\n",
       "       '2021-09-06', '2021-09-07', '2021-09-08', '2021-09-09',\n",
       "       '2021-09-10', '2021-09-11', '2021-09-12', '2021-09-13',\n",
       "       '2021-09-14', '2021-09-15', '2021-09-16', '2021-09-17',\n",
       "       '2021-09-18', '2021-09-19', '2021-09-20', '2021-09-21',\n",
       "       '2021-09-22', '2021-09-23', '2021-09-24', '2021-09-25',\n",
       "       '2021-09-26', '2021-09-27', '2021-09-28', '2021-09-29',\n",
       "       '2021-09-30', '2021-10-01', '2021-10-02', '2021-10-03',\n",
       "       '2021-10-04', '2021-10-05', '2021-10-06', '2021-10-07',\n",
       "       '2021-10-08', '2021-10-09', '2021-10-10', '2021-10-11',\n",
       "       '2021-10-12', '2021-10-13', '2021-10-14', '2021-10-15',\n",
       "       '2021-10-16', '2021-10-17', '2021-10-18', '2021-10-19',\n",
       "       '2021-10-20', '2021-10-21', '2021-10-22', '2021-10-23',\n",
       "       '2021-10-24', '2021-10-25', '2021-10-26', '2021-10-27',\n",
       "       '2021-10-28', '2021-10-29', '2021-10-30', '2021-10-31',\n",
       "       '2021-11-01', '2021-11-02', '2021-11-03', '2021-11-04',\n",
       "       '2021-11-05', '2021-11-06', '2021-11-07', '2021-11-08',\n",
       "       '2021-11-09', '2021-11-10', '2021-11-11', '2021-11-12',\n",
       "       '2021-11-13', '2021-11-14', '2021-11-15', '2021-11-16',\n",
       "       '2021-11-17', '2021-11-18', '2021-11-19', '2021-11-20',\n",
       "       '2021-11-21', '2021-11-22', '2021-11-23', '2021-11-24',\n",
       "       '2021-11-25', '2021-11-26', '2021-11-27', '2021-11-28',\n",
       "       '2021-11-29', '2021-11-30', '2021-12-01', '2021-12-02',\n",
       "       '2021-12-03', '2021-12-04', '2021-12-05', '2021-12-06',\n",
       "       '2021-12-07', '2021-12-08', '2021-12-09', '2021-12-10',\n",
       "       '2021-12-11', '2021-12-12', '2021-12-13', '2021-12-14',\n",
       "       '2021-12-15', '2021-12-16', '2021-12-17', '2021-12-18',\n",
       "       '2021-12-19', '2021-12-20', '2021-12-21', '2021-12-22',\n",
       "       '2021-12-23', '2021-12-24', '2021-12-25', '2021-12-26',\n",
       "       '2021-12-27', '2021-12-28', '2021-12-29', '2021-12-30',\n",
       "       '2021-12-31', '2022-01-01'], dtype='datetime64[D]')"
      ]
     },
     "execution_count": 41,
     "metadata": {},
     "output_type": "execute_result"
    }
   ],
   "source": [
    "base = np.datetime64('2021-01-01')\n",
    "array = np.array(base)\n",
    "for i in range(365):\n",
    "    array = np.append(array, base + np.timedelta64(i + 1, 'D'))\n",
    "    \n",
    "array"
   ]
  },
  {
   "cell_type": "code",
   "execution_count": 31,
   "metadata": {},
   "outputs": [
    {
     "data": {
      "text/plain": [
       "31449600"
      ]
     },
     "execution_count": 31,
     "metadata": {},
     "output_type": "execute_result"
    }
   ],
   "source": [
    "timeseries = np.arange(np.datetime64('2021-01-01 00:00:00'), np.datetime64('2021-12-31'))\n",
    "timeseries\n",
    "len(timeseries)"
   ]
  },
  {
   "cell_type": "markdown",
   "metadata": {},
   "source": [
    "## Operationen mit Datum oder Zeit\n",
    "\n",
    "- Für Zeitreihenanalysen benötigt man oft Logik-Operationen\n",
    "\n",
    "- z.B. Vergleich: Ist ein Datum-/Zeit größer, kleiner oder gleich?\n",
    "\n",
    "- oder, wie viele Objekte entsprechen einem Kriterium?"
   ]
  },
  {
   "cell_type": "markdown",
   "metadata": {},
   "source": [
    "### Vergleiche"
   ]
  },
  {
   "cell_type": "code",
   "execution_count": 32,
   "metadata": {},
   "outputs": [
    {
     "data": {
      "text/plain": [
       "22678019"
      ]
     },
     "execution_count": 32,
     "metadata": {},
     "output_type": "execute_result"
    }
   ],
   "source": [
    "reference = np.datetime64('2021-04-12 12:33:00')\n",
    "\n",
    "boolean = timeseries > reference\n",
    "\n",
    "new_ts = timeseries[boolean]\n",
    "len(new_ts)"
   ]
  },
  {
   "cell_type": "code",
   "execution_count": 33,
   "metadata": {},
   "outputs": [
    {
     "data": {
      "text/plain": [
       "(array([8771580], dtype=int64),)"
      ]
     },
     "execution_count": 33,
     "metadata": {},
     "output_type": "execute_result"
    }
   ],
   "source": [
    "reference = np.datetime64('2021-04-12 12:33:00')\n",
    "\n",
    "idx = np.where(timeseries == reference)\n",
    "idx"
   ]
  },
  {
   "cell_type": "markdown",
   "metadata": {},
   "source": [
    "## Abbildungen mit Datum/Zeit\n",
    "\n",
    "- Abbildungen mit *matplotlib* erkennen automatisch, ob ein Datum/Zeit-Objekt übergeben wurde\n",
    "- Die Achsenbeschriftung wird auch automatisch übernommen"
   ]
  },
  {
   "cell_type": "code",
   "execution_count": 34,
   "metadata": {
    "scrolled": false
   },
   "outputs": [
    {
     "data": {
      "image/png": "[encoded data removed]",
      "text/plain": [
       "<Figure size 432x288 with 1 Axes>"
      ]
     },
     "metadata": {
      "needs_background": "light"
     },
     "output_type": "display_data"
    }
   ],
   "source": [
    "timeseries = np.arange(np.datetime64('2021-01-01'), np.datetime64('2021-06-30'))\n",
    "data = np.random.rand(len(timeseries))\n",
    "\n",
    "plt.plot(timeseries, data)\n",
    "plt.xlabel('Datetime')\n",
    "plt.ylabel('Some data [unit]')\n",
    "\n",
    "plt.show()"
   ]
  },
  {
   "cell_type": "markdown",
   "metadata": {},
   "source": [
    "### Beispiel: Bei der Achsenbeschriftung muss oder möchte man oft eingreifen"
   ]
  },
  {
   "cell_type": "code",
   "execution_count": 36,
   "metadata": {},
   "outputs": [],
   "source": [
    "import matplotlib.dates as mdates"
   ]
  },
  {
   "cell_type": "code",
   "execution_count": 37,
   "metadata": {},
   "outputs": [
    {
     "data": {
      "image/png": "[encoded data removed]",
      "text/plain": [
       "<Figure size 432x288 with 1 Axes>"
      ]
     },
     "metadata": {
      "needs_background": "light"
     },
     "output_type": "display_data"
    }
   ],
   "source": [
    "fig, ax = plt.subplots(1)\n",
    "ax.plot(timeseries, data)\n",
    "ax.set_xlabel('Year 2021')\n",
    "ax.set_ylabel('Some data [unit]')\n",
    "\n",
    "# custom formatting\n",
    "ax.xaxis.set_major_formatter(mdates.DateFormatter('%b'))\n",
    "\n",
    "plt.show()"
   ]
  },
  {
   "cell_type": "markdown",
   "metadata": {
    "slideshow": {
     "slide_type": "slide"
    }
   },
   "source": [
    "## ENDE"
   ]
  }
 ],
 "metadata": {
  "celltoolbar": "Slideshow",
  "kernelspec": {
   "display_name": "Python 3",
   "language": "python",
   "name": "python3"
  },
  "language_info": {
   "codemirror_mode": {
    "name": "ipython",
    "version": 3
   },
   "file_extension": ".py",
   "mimetype": "text/x-python",
   "name": "python",
   "nbconvert_exporter": "python",
   "pygments_lexer": "ipython3",
   "version": "3.7.10"
  },
  "toc": {
   "base_numbering": 1,
   "nav_menu": {},
   "number_sections": true,
   "sideBar": true,
   "skip_h1_title": false,
   "title_cell": "Table of Contents",
   "title_sidebar": "Contents",
   "toc_cell": false,
   "toc_position": {},
   "toc_section_display": true,
   "toc_window_display": false
  }
 },
 "nbformat": 4,
 "nbformat_minor": 4
}
