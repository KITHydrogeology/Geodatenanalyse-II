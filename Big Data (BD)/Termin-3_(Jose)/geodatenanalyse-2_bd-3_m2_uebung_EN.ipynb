{
 "cells": [
  {
   "cell_type": "markdown",
   "id": "complimentary-unknown",
   "metadata": {},
   "source": [
    "# Geodatenanalyse 2\n",
    "\n",
    "\n",
    "## Termin: Big Data 3 - Modul 2 - English language\n",
    "\n",
    "## Data analysis with *xarray*\n",
    "\n",
    "Exercise approx. 40 minutes\n",
    "\n",
    "*Note*: The data processed here has been reduced in size to avoid consuming memory unnecessarily."
   ]
  },
  {
   "cell_type": "code",
   "execution_count": 1,
   "id": "resistant-corporation",
   "metadata": {},
   "outputs": [],
   "source": [
    "import xarray as xr\n",
    "import numpy as np\n",
    "import cartopy.crs as ccrs\n",
    "import matplotlib.pyplot as plt"
   ]
  },
  {
   "cell_type": "markdown",
   "id": "patient-croatia",
   "metadata": {},
   "source": [
    "## Exercise 1\n",
    "\n",
    "These questions are all based on the 2019 sea surface temperature data set (file: *data/HadISST1_SST_update.nc*).\n",
    "\n",
    "- **Task 1**: What is the global maximum and minimum sea surface temperature for 2019?\n",
    "\n",
    "- **Task 2**: Show the annual sea surface temperature line for a geoposition that is close to Hawaii (USA). What was the average sea surface temperature there for 2019?\n"
   ]
  },
  {
   "cell_type": "code",
   "execution_count": 1,
   "id": "southeast-wholesale",
   "metadata": {
    "scrolled": true
   },
   "outputs": [],
   "source": [
    "# Task 1"
   ]
  },
  {
   "cell_type": "code",
   "execution_count": 2,
   "id": "posted-california",
   "metadata": {
    "scrolled": false
   },
   "outputs": [],
   "source": [
    "# Task 2"
   ]
  },
  {
   "cell_type": "markdown",
   "id": "graphic-testing",
   "metadata": {},
   "source": [
    "## Exercise 2\n",
    "\n",
    "This exercise uses a soil moisture dataset [dataset ESSMRA](https://cds.climate.copernicus.eu/cdsapp#!/dataset/satellite-soil-moisture?tab=form). For 2013, the files are stored in a subfolder (e.g., *data/SSMT/SSMT_yyymmdd.nc*).\n",
    "\n",
    "\n",
    "- **Task 1**: Map the global difference in soil moisture between April and October 2013.\n",
    "\n",
    "- **Task 2**: Calculate the average over all values in longitude and map this average over latitude for both months.\n",
    "\n",
    "- **Task 3**: Merge the data from all 12 months of 2013, and save this as one file."
   ]
  },
  {
   "cell_type": "code",
   "execution_count": 3,
   "id": "marked-binding",
   "metadata": {},
   "outputs": [],
   "source": [
    "# Task 1"
   ]
  },
  {
   "cell_type": "code",
   "execution_count": 4,
   "id": "assisted-lightweight",
   "metadata": {
    "scrolled": true
   },
   "outputs": [],
   "source": [
    "# Task 2"
   ]
  },
  {
   "cell_type": "code",
   "execution_count": 5,
   "id": "peripheral-mailing",
   "metadata": {},
   "outputs": [],
   "source": [
    "# Task 3"
   ]
  }
 ],
 "metadata": {
  "kernelspec": {
   "display_name": "Python 3 (ipykernel)",
   "language": "python",
   "name": "python3"
  },
  "language_info": {
   "codemirror_mode": {
    "name": "ipython",
    "version": 3
   },
   "file_extension": ".py",
   "mimetype": "text/x-python",
   "name": "python",
   "nbconvert_exporter": "python",
   "pygments_lexer": "ipython3",
   "version": "3.8.16"
  },
  "toc": {
   "base_numbering": 1,
   "nav_menu": {},
   "number_sections": false,
   "sideBar": true,
   "skip_h1_title": false,
   "title_cell": "Table of Contents",
   "title_sidebar": "Contents",
   "toc_cell": false,
   "toc_position": {},
   "toc_section_display": true,
   "toc_window_display": true
  }
 },
 "nbformat": 4,
 "nbformat_minor": 5
}
