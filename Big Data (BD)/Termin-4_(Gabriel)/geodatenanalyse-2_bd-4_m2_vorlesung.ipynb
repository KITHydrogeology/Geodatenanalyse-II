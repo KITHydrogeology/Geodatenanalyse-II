{
 "cells": [
  {
   "cell_type": "markdown",
   "metadata": {
    "slideshow": {
     "slide_type": "slide"
    }
   },
   "source": [
    "# Geodatenanalyse 2\n",
    "\n",
    "\n",
    "## Termin Big Data 4 - Modul 2\n",
    "\n",
    "## Weiterführender Umgang mit Datenbanken\n",
    "\n",
    "Ca. 20-30 Minuten"
   ]
  },
  {
   "cell_type": "code",
   "execution_count": 30,
   "metadata": {},
   "outputs": [],
   "source": [
    "import sqlite3"
   ]
  },
  {
   "cell_type": "markdown",
   "metadata": {
    "slideshow": {
     "slide_type": "slide"
    }
   },
   "source": [
    "## Inhalt\n",
    "\n",
    "- Erweiterte Funktionalität\n",
    "- Beziehungen zwischen Tabellen\n",
    "- Konvertierung in andere Datenformate\n"
   ]
  },
  {
   "cell_type": "code",
   "execution_count": 31,
   "metadata": {},
   "outputs": [],
   "source": [
    "# Erstelle eine SQL Verbindung zur SQLite Datenbank her\n",
    "con = sqlite3.connect(\"data/portal_mammals.sqlite\")\n",
    "cur = con.cursor()"
   ]
  },
  {
   "cell_type": "markdown",
   "metadata": {},
   "source": [
    "## Erweiterte Funktionalität\n",
    "\n",
    "- Bei genauerer Betrachtung können die Abfragen sehr komplex ausgelegt werden\n",
    "\n",
    "- Dabei gibt es viele Details, welche sehr gut eingestellt werden können\n",
    "\n",
    "- Im Folgenden gibt es einen kleinen Überblick über die Feinheiten von Abfragen"
   ]
  },
  {
   "cell_type": "markdown",
   "metadata": {},
   "source": [
    "### LIMIT und OFFSET\n",
    "\n",
    "- Mit Hilfe von LIMIT begrenzt man die Ergebnisse auf eine bestimmte Anzahl\n",
    "\n",
    "- Mit Hilfe von OFFSET erhält man bestimmte Ergebnisse nach Reihenfolge\n",
    "\n",
    "- OFFSET kann nur in Kombination mit LIMIT verwendet werden"
   ]
  },
  {
   "cell_type": "code",
   "execution_count": 32,
   "metadata": {
    "scrolled": true
   },
   "outputs": [
    {
     "name": "stdout",
     "output_type": "stream",
     "text": [
      "(1, 7, 16, 1977, 2, 'NL', 'M', 32.0, None)\n",
      "(2, 7, 16, 1977, 3, 'NL', 'M', 33.0, None)\n",
      "(3, 7, 16, 1977, 2, 'DM', 'F', 37.0, None)\n",
      "(4, 7, 16, 1977, 7, 'DM', 'M', 36.0, None)\n",
      "(5, 7, 16, 1977, 3, 'DM', 'M', 35.0, None)\n",
      "(6, 7, 16, 1977, 1, 'PF', 'M', 14.0, None)\n",
      "(7, 7, 16, 1977, 2, 'PE', 'F', None, None)\n",
      "(8, 7, 16, 1977, 1, 'DM', 'M', 37.0, None)\n",
      "(9, 7, 16, 1977, 1, 'DM', 'F', 34.0, None)\n",
      "(10, 7, 16, 1977, 6, 'PF', 'F', 20.0, None)\n"
     ]
    }
   ],
   "source": [
    "# The result of a \"cursor.execute\" can be iterated over by row\n",
    "for row in cur.execute('SELECT * FROM surveys LIMIT 10;'):\n",
    "    print(row)"
   ]
  },
  {
   "cell_type": "code",
   "execution_count": 34,
   "metadata": {},
   "outputs": [
    {
     "name": "stdout",
     "output_type": "stream",
     "text": [
      "(6, 7, 16, 1977, 1, 'PF', 'M', 14.0, None)\n",
      "(7, 7, 16, 1977, 2, 'PE', 'F', None, None)\n",
      "(8, 7, 16, 1977, 1, 'DM', 'M', 37.0, None)\n",
      "(9, 7, 16, 1977, 1, 'DM', 'F', 34.0, None)\n",
      "(10, 7, 16, 1977, 6, 'PF', 'F', 20.0, None)\n",
      "(11, 7, 16, 1977, 5, 'DS', 'F', 53.0, None)\n",
      "(12, 7, 16, 1977, 7, 'DM', 'M', 38.0, None)\n",
      "(13, 7, 16, 1977, 3, 'DM', 'M', 35.0, None)\n",
      "(14, 7, 16, 1977, 8, 'DM', None, None, None)\n",
      "(15, 7, 16, 1977, 6, 'DM', 'F', 36.0, None)\n"
     ]
    }
   ],
   "source": [
    "# The result of a \"cursor.execute\" can be iterated over by row\n",
    "for row in cur.execute('SELECT * FROM surveys LIMIT 10 OFFSET 5;'):\n",
    "    print(row)"
   ]
  },
  {
   "cell_type": "markdown",
   "metadata": {},
   "source": [
    "### ORDER BY\n",
    "\n",
    "- Mit der ORDER BY Klausel können die Ergebnisse sortiert werden\n",
    "\n",
    "- Dies kann aufwärts (ASC für 'ascending') oder abwärts (DESC für 'descending') erfolgen\n",
    "\n",
    "- Zur Sortierung können auch mehrere Felder hintereinander verwendet werden (Engl. *multisort*)"
   ]
  },
  {
   "cell_type": "code",
   "execution_count": 35,
   "metadata": {},
   "outputs": [
    {
     "name": "stdout",
     "output_type": "stream",
     "text": [
      "(0, 'record_id', 'BIGINT', 0, None, 0)\n",
      "(1, 'month', 'BIGINT', 0, None, 0)\n",
      "(2, 'day', 'BIGINT', 0, None, 0)\n",
      "(3, 'year', 'BIGINT', 0, None, 0)\n",
      "(4, 'plot_id', 'BIGINT', 0, None, 0)\n",
      "(5, 'species_id', 'TEXT', 0, None, 0)\n",
      "(6, 'sex', 'TEXT', 0, None, 0)\n",
      "(7, 'hindfoot_length', 'FLOAT', 0, None, 0)\n",
      "(8, 'weight', 'FLOAT', 0, None, 0)\n"
     ]
    }
   ],
   "source": [
    "for row in cur.execute(\"PRAGMA TABLE_INFO(surveys);\"):\n",
    "    print(row)"
   ]
  },
  {
   "cell_type": "code",
   "execution_count": 38,
   "metadata": {},
   "outputs": [
    {
     "name": "stdout",
     "output_type": "stream",
     "text": [
      "(33049, 11, 17, 2001, 12, 'NL', 'M', 33.0, 280.0)\n",
      "(12871, 5, 28, 1987, 2, 'NL', 'M', 32.0, 278.0)\n",
      "(15459, 1, 11, 1989, 9, 'NL', 'M', 36.0, 275.0)\n",
      "(2133, 10, 25, 1979, 2, 'NL', 'F', 33.0, 274.0)\n",
      "(12729, 4, 26, 1987, 2, 'NL', 'M', 32.0, 270.0)\n",
      "(13114, 7, 26, 1987, 2, 'NL', 'M', None, 269.0)\n",
      "(30175, 1, 8, 2000, 2, 'NL', 'M', 34.0, 265.0)\n",
      "(4962, 11, 22, 1981, 12, 'NL', 'F', None, 264.0)\n",
      "(12602, 4, 6, 1987, 2, 'NL', 'M', 34.0, 260.0)\n",
      "(13025, 7, 1, 1987, 2, 'NL', 'M', 33.0, 260.0)\n",
      "(8869, 2, 5, 1984, 15, 'NL', 'M', 33.0, 259.0)\n",
      "(12458, 3, 2, 1987, 2, 'NL', 'M', 33.0, 259.0)\n",
      "(8427, 10, 15, 1983, 18, 'NL', 'M', 34.0, 256.0)\n",
      "(12299, 2, 1, 1987, 2, 'NL', 'M', 32.0, 253.0)\n",
      "(5846, 5, 21, 1982, 12, 'NL', 'M', 34.0, 252.0)\n",
      "(31862, 3, 24, 2001, 2, 'NL', 'F', 32.0, 252.0)\n",
      "(4373, 5, 3, 1981, 24, 'NL', 'F', 33.0, 251.0)\n",
      "(9031, 4, 10, 1984, 3, 'NL', 'M', 34.0, 250.0)\n",
      "(15686, 3, 12, 1989, 12, 'NL', 'M', 34.0, 249.0)\n",
      "(5400, 2, 23, 1982, 5, 'NL', 'F', 32.0, 248.0)\n"
     ]
    }
   ],
   "source": [
    "# Ergebnisse nach Gewicht sortiert\n",
    "for row in cur.execute('SELECT * FROM surveys ORDER BY weight DESC LIMIT 20;'):\n",
    "    print(row)"
   ]
  },
  {
   "cell_type": "markdown",
   "metadata": {},
   "source": [
    "### GROUP BY\n",
    "\n",
    "- Hiermit können identische Daten mit Hilfe einiger Funktionen in Gruppen geordnet werden\n",
    "\n",
    "- Wenn eine bestimmte Spalte gleiche Werte in verschiedenen Zeilen hat, werden diese Zeilen in einer Gruppe angeordnet"
   ]
  },
  {
   "cell_type": "code",
   "execution_count": 41,
   "metadata": {},
   "outputs": [
    {
     "name": "stdout",
     "output_type": "stream",
     "text": [
      "(1977, 503)\n",
      "(1978, 1048)\n",
      "(1979, 719)\n",
      "(1980, 1415)\n",
      "(1981, 1472)\n",
      "(1982, 1978)\n",
      "(1983, 1673)\n",
      "(1984, 981)\n",
      "(1985, 1438)\n",
      "(1986, 942)\n",
      "(1987, 1671)\n",
      "(1988, 1469)\n",
      "(1989, 1569)\n",
      "(1990, 1311)\n",
      "(1991, 1347)\n",
      "(1992, 1038)\n",
      "(1993, 750)\n",
      "(1994, 668)\n",
      "(1995, 1222)\n",
      "(1996, 1706)\n",
      "(1997, 2493)\n",
      "(1998, 1610)\n",
      "(1999, 1135)\n",
      "(2000, 1552)\n",
      "(2001, 1610)\n",
      "(2002, 2229)\n"
     ]
    }
   ],
   "source": [
    "# Anzahl der 'surveys' pro Jahr\n",
    "for row in cur.execute('SELECT year, COUNT(year) FROM surveys GROUP BY year'):\n",
    "    print(row)"
   ]
  },
  {
   "cell_type": "markdown",
   "metadata": {},
   "source": [
    "## Beziehungen zwischen Tabellen\n",
    "\n",
    "- Tabellen können untereinander eine Beziehung haben (Engl. *relational database*)\n",
    "\n",
    "- Diese wird meistens über eine einzigartige Bezeichnung (Engl. *unique identifier*) gekennzeichnet\n",
    "\n",
    "- Abfragen können tabellenübergreifend gemacht werden, wobei die Beziehung berücksichtigt werden kann"
   ]
  },
  {
   "cell_type": "code",
   "execution_count": 42,
   "metadata": {
    "scrolled": true
   },
   "outputs": [
    {
     "name": "stdout",
     "output_type": "stream",
     "text": [
      "('surveys',)\n",
      "('species',)\n",
      "('plots',)\n"
     ]
    }
   ],
   "source": [
    "for row in cur.execute(\"SELECT name FROM sqlite_master WHERE type='table';\"):\n",
    "    print(row)"
   ]
  },
  {
   "cell_type": "code",
   "execution_count": 43,
   "metadata": {},
   "outputs": [
    {
     "name": "stdout",
     "output_type": "stream",
     "text": [
      "(0, 'record_id', 'BIGINT', 0, None, 0)\n",
      "(1, 'month', 'BIGINT', 0, None, 0)\n",
      "(2, 'day', 'BIGINT', 0, None, 0)\n",
      "(3, 'year', 'BIGINT', 0, None, 0)\n",
      "(4, 'plot_id', 'BIGINT', 0, None, 0)\n",
      "(5, 'species_id', 'TEXT', 0, None, 0)\n",
      "(6, 'sex', 'TEXT', 0, None, 0)\n",
      "(7, 'hindfoot_length', 'FLOAT', 0, None, 0)\n",
      "(8, 'weight', 'FLOAT', 0, None, 0)\n"
     ]
    }
   ],
   "source": [
    "for row in cur.execute(\"PRAGMA TABLE_INFO(surveys);\"):\n",
    "    print(row)"
   ]
  },
  {
   "cell_type": "markdown",
   "metadata": {},
   "source": [
    "**Zusammenfassung**: Übersicht über die Datenbank *data/portal_mammals.sqlite*:\n",
    "\n",
    "<img width=500 style=\"float: left;\" src=\"images\\db_relations.png\">"
   ]
  },
  {
   "cell_type": "markdown",
   "metadata": {},
   "source": [
    "### CROSS JOIN\n",
    "\n",
    "- Gleicht jede Zeile der ersten Tabelle mit jeder Zeile der zweiten Tabelle ab\n",
    "\n",
    "- Wenn die Eingabetabellen jeweils x und y Zeilen haben, hat die Ergebnistabelle x*y Zeilen\n",
    "\n",
    "- Sollte vorsichtig verwendet werden, denn es erzeugt extrem große Tabellen\n",
    "\n",
    "**ACHTUNG**: Desweiteren wird hier immer ein Limit verwendet zwecks besserer Übersicht"
   ]
  },
  {
   "cell_type": "code",
   "execution_count": 44,
   "metadata": {
    "scrolled": true
   },
   "outputs": [
    {
     "name": "stdout",
     "output_type": "stream",
     "text": [
      "(1, 7, 16, 1977, 2, 'NL', 'M', 32.0, None, 1, 'Spectab exclosure')\n",
      "(1, 7, 16, 1977, 2, 'NL', 'M', 32.0, None, 2, 'Control')\n",
      "(1, 7, 16, 1977, 2, 'NL', 'M', 32.0, None, 3, 'Long-term Krat Exclosure')\n",
      "(1, 7, 16, 1977, 2, 'NL', 'M', 32.0, None, 4, 'Control')\n",
      "(1, 7, 16, 1977, 2, 'NL', 'M', 32.0, None, 5, 'Rodent Exclosure')\n",
      "(1, 7, 16, 1977, 2, 'NL', 'M', 32.0, None, 6, 'Short-term Krat Exclosure')\n",
      "(1, 7, 16, 1977, 2, 'NL', 'M', 32.0, None, 7, 'Rodent Exclosure')\n",
      "(1, 7, 16, 1977, 2, 'NL', 'M', 32.0, None, 8, 'Control')\n",
      "(1, 7, 16, 1977, 2, 'NL', 'M', 32.0, None, 9, 'Spectab exclosure')\n",
      "(1, 7, 16, 1977, 2, 'NL', 'M', 32.0, None, 10, 'Rodent Exclosure')\n"
     ]
    }
   ],
   "source": [
    "# Beispiel für einen CROSS JOIN\n",
    "for row in cur.execute('SELECT * FROM surveys CROSS JOIN plots LIMIT 10;'):\n",
    "    print(row)"
   ]
  },
  {
   "cell_type": "markdown",
   "metadata": {},
   "source": [
    "### INNER JOIN\n",
    "\n",
    "- Erzeugt eine neue Ergebnistabelle durch die Kombination von Spaltenwerten zweier Tabellen (**table1** und **table2**) basierend auf dem Join-Prädikat\n",
    "\n",
    "- Die Abfrage vergleicht jede Zeile von **table1** mit jeder Zeile von **table2**, um alle Zeilenpaare zu finden, die das Join-Prädikat erfüllen\n",
    "\n",
    "- Wenn das Join-Prädikat erfüllt ist, werden die Spaltenwerte für jedes übereinstimmende Paar von Zeilen von A und B in einer Ergebniszeile kombiniert"
   ]
  },
  {
   "cell_type": "code",
   "execution_count": 45,
   "metadata": {
    "scrolled": true
   },
   "outputs": [
    {
     "name": "stdout",
     "output_type": "stream",
     "text": [
      "(1, 7, 16, 1977, 2, 'NL', 'M', 32.0, None, 2, 'Control')\n",
      "(2, 7, 16, 1977, 3, 'NL', 'M', 33.0, None, 3, 'Long-term Krat Exclosure')\n",
      "(3, 7, 16, 1977, 2, 'DM', 'F', 37.0, None, 2, 'Control')\n",
      "(4, 7, 16, 1977, 7, 'DM', 'M', 36.0, None, 7, 'Rodent Exclosure')\n",
      "(5, 7, 16, 1977, 3, 'DM', 'M', 35.0, None, 3, 'Long-term Krat Exclosure')\n",
      "(6, 7, 16, 1977, 1, 'PF', 'M', 14.0, None, 1, 'Spectab exclosure')\n",
      "(7, 7, 16, 1977, 2, 'PE', 'F', None, None, 2, 'Control')\n",
      "(8, 7, 16, 1977, 1, 'DM', 'M', 37.0, None, 1, 'Spectab exclosure')\n",
      "(9, 7, 16, 1977, 1, 'DM', 'F', 34.0, None, 1, 'Spectab exclosure')\n",
      "(10, 7, 16, 1977, 6, 'PF', 'F', 20.0, None, 6, 'Short-term Krat Exclosure')\n"
     ]
    }
   ],
   "source": [
    "# Beispiel für einen INNER JOIN\n",
    "for row in cur.execute('SELECT * FROM surveys INNER JOIN plots ON surveys.plot_id=plots.plot_id LIMIT 10;'):\n",
    "    print(row)"
   ]
  },
  {
   "cell_type": "markdown",
   "metadata": {},
   "source": [
    "### LEFT JOIN\n",
    "\n",
    "- Die Abfrage vergleicht jede Zeile von table1 mit jeder Zeile von table2, um alle Zeilenpaare zu finden, die das Join-Prädikat erfüllen\n",
    "\n",
    "- Wenn das Join-Prädikat erfüllt ist, werden die Spaltenwerte für jedes Paar von Zeilen von A welche einen übereinstimmenden Wert in B hat, in einer Ergebniszeile kombiniert"
   ]
  },
  {
   "cell_type": "code",
   "execution_count": 46,
   "metadata": {},
   "outputs": [
    {
     "name": "stdout",
     "output_type": "stream",
     "text": [
      "(1, 7, 16, 1977, 2, 'NL', 'M', 32.0, None, 'AB', 'Amphispiza', 'bilineata', 'Bird')\n",
      "(1, 7, 16, 1977, 2, 'NL', 'M', 32.0, None, 'AH', 'Ammospermophilus', 'harrisi', 'Rodent')\n",
      "(1, 7, 16, 1977, 2, 'NL', 'M', 32.0, None, 'AS', 'Ammodramus', 'savannarum', 'Bird')\n",
      "(1, 7, 16, 1977, 2, 'NL', 'M', 32.0, None, 'BA', 'Baiomys', 'taylori', 'Rodent')\n",
      "(1, 7, 16, 1977, 2, 'NL', 'M', 32.0, None, 'CB', 'Campylorhynchus', 'brunneicapillus', 'Bird')\n",
      "(1, 7, 16, 1977, 2, 'NL', 'M', 32.0, None, 'CM', 'Calamospiza', 'melanocorys', 'Bird')\n",
      "(1, 7, 16, 1977, 2, 'NL', 'M', 32.0, None, 'CQ', 'Callipepla', 'squamata', 'Bird')\n",
      "(1, 7, 16, 1977, 2, 'NL', 'M', 32.0, None, 'CS', 'Crotalus', 'scutalatus', 'Reptile')\n",
      "(1, 7, 16, 1977, 2, 'NL', 'M', 32.0, None, 'CT', 'Cnemidophorus', 'tigris', 'Reptile')\n",
      "(1, 7, 16, 1977, 2, 'NL', 'M', 32.0, None, 'CU', 'Cnemidophorus', 'uniparens', 'Reptile')\n"
     ]
    }
   ],
   "source": [
    "# Beispiel für ein LEFT JOIN\n",
    "for row in cur.execute('SELECT * FROM surveys LEFT JOIN species LIMIT 10;'):\n",
    "    print(row)"
   ]
  },
  {
   "cell_type": "markdown",
   "metadata": {},
   "source": [
    "Überblick über Verbindungstypen (abgeändert von [Dataquest](https://www.dataquest.io/blog/sql-joins-tutorial/))\n",
    "\n",
    "<img width=400 style=\"float: left;\" src=\"images\\join_venn_diagram.svg\">"
   ]
  },
  {
   "cell_type": "markdown",
   "metadata": {},
   "source": [
    "## Konvertierung in andere Datenformate\n",
    "\n",
    "- Oftmals besteht die Aufgabe darin, bestimmte Daten aus einer Datenbank zu extrahieren\n",
    "\n",
    "- Dafür muss eine passende Abfrage (Engl. *query*) gemacht werden\n",
    "\n",
    "- Das Ergebnis kann dann als Tabelle gespeichert werden, z.B. im *csv*-Format"
   ]
  },
  {
   "cell_type": "markdown",
   "metadata": {},
   "source": [
    "### *Pandas* kann viele Datenformate lesen\n",
    "\n",
    "Auszug aus dem [Pandas Handbuch](https://pandas.pydata.org/pandas-docs/stable/user_guide/io.html)\n",
    "\n",
    "\n",
    "<img width=500 style=\"float: left;\" src=\"images\\pandas.png\">"
   ]
  },
  {
   "cell_type": "markdown",
   "metadata": {},
   "source": [
    "### Datenexport von SQL mit Hilfe von *Pandas*"
   ]
  },
  {
   "cell_type": "code",
   "execution_count": 47,
   "metadata": {},
   "outputs": [],
   "source": [
    "import pandas as pd"
   ]
  },
  {
   "cell_type": "code",
   "execution_count": 49,
   "metadata": {
    "scrolled": true
   },
   "outputs": [
    {
     "data": {
      "text/html": [
       "<div>\n",
       "<style scoped>\n",
       "    .dataframe tbody tr th:only-of-type {\n",
       "        vertical-align: middle;\n",
       "    }\n",
       "\n",
       "    .dataframe tbody tr th {\n",
       "        vertical-align: top;\n",
       "    }\n",
       "\n",
       "    .dataframe thead th {\n",
       "        text-align: right;\n",
       "    }\n",
       "</style>\n",
       "<table border=\"1\" class=\"dataframe\">\n",
       "  <thead>\n",
       "    <tr style=\"text-align: right;\">\n",
       "      <th></th>\n",
       "      <th>record_id</th>\n",
       "      <th>month</th>\n",
       "      <th>day</th>\n",
       "      <th>year</th>\n",
       "      <th>plot_id</th>\n",
       "      <th>species_id</th>\n",
       "      <th>sex</th>\n",
       "      <th>hindfoot_length</th>\n",
       "      <th>weight</th>\n",
       "      <th>species_id</th>\n",
       "      <th>genus</th>\n",
       "      <th>species</th>\n",
       "      <th>taxa</th>\n",
       "    </tr>\n",
       "  </thead>\n",
       "  <tbody>\n",
       "    <tr>\n",
       "      <th>0</th>\n",
       "      <td>1</td>\n",
       "      <td>7</td>\n",
       "      <td>16</td>\n",
       "      <td>1977</td>\n",
       "      <td>2</td>\n",
       "      <td>NL</td>\n",
       "      <td>M</td>\n",
       "      <td>32.0</td>\n",
       "      <td>NaN</td>\n",
       "      <td>NL</td>\n",
       "      <td>Neotoma</td>\n",
       "      <td>albigula</td>\n",
       "      <td>Rodent</td>\n",
       "    </tr>\n",
       "    <tr>\n",
       "      <th>1</th>\n",
       "      <td>2</td>\n",
       "      <td>7</td>\n",
       "      <td>16</td>\n",
       "      <td>1977</td>\n",
       "      <td>3</td>\n",
       "      <td>NL</td>\n",
       "      <td>M</td>\n",
       "      <td>33.0</td>\n",
       "      <td>NaN</td>\n",
       "      <td>NL</td>\n",
       "      <td>Neotoma</td>\n",
       "      <td>albigula</td>\n",
       "      <td>Rodent</td>\n",
       "    </tr>\n",
       "    <tr>\n",
       "      <th>2</th>\n",
       "      <td>3</td>\n",
       "      <td>7</td>\n",
       "      <td>16</td>\n",
       "      <td>1977</td>\n",
       "      <td>2</td>\n",
       "      <td>DM</td>\n",
       "      <td>F</td>\n",
       "      <td>37.0</td>\n",
       "      <td>NaN</td>\n",
       "      <td>DM</td>\n",
       "      <td>Dipodomys</td>\n",
       "      <td>merriami</td>\n",
       "      <td>Rodent</td>\n",
       "    </tr>\n",
       "    <tr>\n",
       "      <th>3</th>\n",
       "      <td>4</td>\n",
       "      <td>7</td>\n",
       "      <td>16</td>\n",
       "      <td>1977</td>\n",
       "      <td>7</td>\n",
       "      <td>DM</td>\n",
       "      <td>M</td>\n",
       "      <td>36.0</td>\n",
       "      <td>NaN</td>\n",
       "      <td>DM</td>\n",
       "      <td>Dipodomys</td>\n",
       "      <td>merriami</td>\n",
       "      <td>Rodent</td>\n",
       "    </tr>\n",
       "    <tr>\n",
       "      <th>4</th>\n",
       "      <td>5</td>\n",
       "      <td>7</td>\n",
       "      <td>16</td>\n",
       "      <td>1977</td>\n",
       "      <td>3</td>\n",
       "      <td>DM</td>\n",
       "      <td>M</td>\n",
       "      <td>35.0</td>\n",
       "      <td>NaN</td>\n",
       "      <td>DM</td>\n",
       "      <td>Dipodomys</td>\n",
       "      <td>merriami</td>\n",
       "      <td>Rodent</td>\n",
       "    </tr>\n",
       "    <tr>\n",
       "      <th>...</th>\n",
       "      <td>...</td>\n",
       "      <td>...</td>\n",
       "      <td>...</td>\n",
       "      <td>...</td>\n",
       "      <td>...</td>\n",
       "      <td>...</td>\n",
       "      <td>...</td>\n",
       "      <td>...</td>\n",
       "      <td>...</td>\n",
       "      <td>...</td>\n",
       "      <td>...</td>\n",
       "      <td>...</td>\n",
       "      <td>...</td>\n",
       "    </tr>\n",
       "    <tr>\n",
       "      <th>35544</th>\n",
       "      <td>35545</td>\n",
       "      <td>12</td>\n",
       "      <td>31</td>\n",
       "      <td>2002</td>\n",
       "      <td>15</td>\n",
       "      <td>AH</td>\n",
       "      <td>None</td>\n",
       "      <td>NaN</td>\n",
       "      <td>NaN</td>\n",
       "      <td>AH</td>\n",
       "      <td>Ammospermophilus</td>\n",
       "      <td>harrisi</td>\n",
       "      <td>Rodent</td>\n",
       "    </tr>\n",
       "    <tr>\n",
       "      <th>35545</th>\n",
       "      <td>35546</td>\n",
       "      <td>12</td>\n",
       "      <td>31</td>\n",
       "      <td>2002</td>\n",
       "      <td>15</td>\n",
       "      <td>AH</td>\n",
       "      <td>None</td>\n",
       "      <td>NaN</td>\n",
       "      <td>NaN</td>\n",
       "      <td>AH</td>\n",
       "      <td>Ammospermophilus</td>\n",
       "      <td>harrisi</td>\n",
       "      <td>Rodent</td>\n",
       "    </tr>\n",
       "    <tr>\n",
       "      <th>35546</th>\n",
       "      <td>35547</td>\n",
       "      <td>12</td>\n",
       "      <td>31</td>\n",
       "      <td>2002</td>\n",
       "      <td>10</td>\n",
       "      <td>RM</td>\n",
       "      <td>F</td>\n",
       "      <td>15.0</td>\n",
       "      <td>14.0</td>\n",
       "      <td>RM</td>\n",
       "      <td>Reithrodontomys</td>\n",
       "      <td>megalotis</td>\n",
       "      <td>Rodent</td>\n",
       "    </tr>\n",
       "    <tr>\n",
       "      <th>35547</th>\n",
       "      <td>35548</td>\n",
       "      <td>12</td>\n",
       "      <td>31</td>\n",
       "      <td>2002</td>\n",
       "      <td>7</td>\n",
       "      <td>DO</td>\n",
       "      <td>M</td>\n",
       "      <td>36.0</td>\n",
       "      <td>51.0</td>\n",
       "      <td>DO</td>\n",
       "      <td>Dipodomys</td>\n",
       "      <td>ordii</td>\n",
       "      <td>Rodent</td>\n",
       "    </tr>\n",
       "    <tr>\n",
       "      <th>35548</th>\n",
       "      <td>35549</td>\n",
       "      <td>12</td>\n",
       "      <td>31</td>\n",
       "      <td>2002</td>\n",
       "      <td>5</td>\n",
       "      <td>None</td>\n",
       "      <td>None</td>\n",
       "      <td>NaN</td>\n",
       "      <td>NaN</td>\n",
       "      <td>None</td>\n",
       "      <td>None</td>\n",
       "      <td>None</td>\n",
       "      <td>None</td>\n",
       "    </tr>\n",
       "  </tbody>\n",
       "</table>\n",
       "<p>35549 rows × 13 columns</p>\n",
       "</div>"
      ],
      "text/plain": [
       "       record_id  month  day  year  plot_id species_id   sex  hindfoot_length  \\\n",
       "0              1      7   16  1977        2         NL     M             32.0   \n",
       "1              2      7   16  1977        3         NL     M             33.0   \n",
       "2              3      7   16  1977        2         DM     F             37.0   \n",
       "3              4      7   16  1977        7         DM     M             36.0   \n",
       "4              5      7   16  1977        3         DM     M             35.0   \n",
       "...          ...    ...  ...   ...      ...        ...   ...              ...   \n",
       "35544      35545     12   31  2002       15         AH  None              NaN   \n",
       "35545      35546     12   31  2002       15         AH  None              NaN   \n",
       "35546      35547     12   31  2002       10         RM     F             15.0   \n",
       "35547      35548     12   31  2002        7         DO     M             36.0   \n",
       "35548      35549     12   31  2002        5       None  None              NaN   \n",
       "\n",
       "       weight species_id             genus    species    taxa  \n",
       "0         NaN         NL           Neotoma   albigula  Rodent  \n",
       "1         NaN         NL           Neotoma   albigula  Rodent  \n",
       "2         NaN         DM         Dipodomys   merriami  Rodent  \n",
       "3         NaN         DM         Dipodomys   merriami  Rodent  \n",
       "4         NaN         DM         Dipodomys   merriami  Rodent  \n",
       "...       ...        ...               ...        ...     ...  \n",
       "35544     NaN         AH  Ammospermophilus    harrisi  Rodent  \n",
       "35545     NaN         AH  Ammospermophilus    harrisi  Rodent  \n",
       "35546    14.0         RM   Reithrodontomys  megalotis  Rodent  \n",
       "35547    51.0         DO         Dipodomys      ordii  Rodent  \n",
       "35548     NaN       None              None       None    None  \n",
       "\n",
       "[35549 rows x 13 columns]"
      ]
     },
     "execution_count": 49,
     "metadata": {},
     "output_type": "execute_result"
    }
   ],
   "source": [
    "# eine Verbindung erstellen\n",
    "dbcon = sqlite3.connect('data/portal_mammals.sqlite')\n",
    "\n",
    "# Daten abfragen ...\n",
    "df = pd.read_sql_query(\"SELECT * FROM surveys LEFT JOIN species ON surveys.species_id=species.species_id;\", dbcon)\n",
    "\n",
    "# Daten als CSV speichern\n",
    "df.to_csv('data/sqlite_export.csv')\n",
    "\n",
    "df"
   ]
  },
  {
   "cell_type": "markdown",
   "metadata": {},
   "source": [
    "## Überblick über andere SQL-Systeme\n",
    "\n",
    "- [**MySQL**](https://www.mysql.com) ist ein relationales Datenbankmanagementsystem, das auf SQL basiert. Die Anwendung wird für eine Vielzahl von Zwecken eingesetzt, darunter Data Warehousing, E-Commerce und Protokollierungsanwendungen. Die häufigste Verwendung für mySQL ist jedoch der Zweck einer Web-Datenbank.\n",
    "\n",
    "- [**PostgreSQL**](https://www.postgresql.org) ist ein objektrelationales Datenbankmanagementsystem (ORDBMS), während MySQL ein Community-getriebenes DBMS-System ist. PostgreSQL unterstützt moderne Anwendungsfunktionen wie JSON, XML usw., während MySQL nur JSON unterstützt.\n",
    "\n",
    "- [**Microsoft SQL**](https://www.microsoft.com/en-au/sql-server/sql-server-downloads) ist ein relationales Datenbankmanagementsystem (RDBMS), das eine Vielzahl von Transaktionsverarbeitungs-, Business Intelligence- und Analyseanwendungen in IT-Umgebungen von Unternehmen unterstützt."
   ]
  },
  {
   "cell_type": "markdown",
   "metadata": {
    "slideshow": {
     "slide_type": "slide"
    }
   },
   "source": [
    "## ENDE"
   ]
  }
 ],
 "metadata": {
  "celltoolbar": "Slideshow",
  "kernelspec": {
   "display_name": "Python 3 (ipykernel)",
   "language": "python",
   "name": "python3"
  },
  "language_info": {
   "codemirror_mode": {
    "name": "ipython",
    "version": 3
   },
   "file_extension": ".py",
   "mimetype": "text/x-python",
   "name": "python",
   "nbconvert_exporter": "python",
   "pygments_lexer": "ipython3",
   "version": "3.9.19"
  },
  "toc": {
   "base_numbering": 1,
   "nav_menu": {},
   "number_sections": false,
   "sideBar": true,
   "skip_h1_title": false,
   "title_cell": "Table of Contents",
   "title_sidebar": "Contents",
   "toc_cell": false,
   "toc_position": {
    "height": "calc(100% - 180px)",
    "left": "10px",
    "top": "150px",
    "width": "279.273px"
   },
   "toc_section_display": true,
   "toc_window_display": true
  }
 },
 "nbformat": 4,
 "nbformat_minor": 4
}
