{
 "cells": [
  {
   "cell_type": "markdown",
   "id": "complimentary-unknown",
   "metadata": {},
   "source": [
    "# Geodatenanalyse 2\n",
    "\n",
    "\n",
    "## Termin Big Data 4 - Modul 1\n",
    "\n",
    "## Datenbanken und *Structured Query Language* (SQL)"
   ]
  },
  {
   "cell_type": "code",
   "execution_count": 1,
   "id": "resistant-corporation",
   "metadata": {},
   "outputs": [],
   "source": [
    "import sqlite3"
   ]
  },
  {
   "cell_type": "markdown",
   "id": "patient-croatia",
   "metadata": {},
   "source": [
    "## Übung 1\n",
    "\n",
    "Eine Datenbank mit allen Städten dieser Welt ist unter *data/WorldCities.sqlite3* abgespeichert (Quelle: [World Cities Database](https://www.vpksoft.net/2015-03-31-13-33-28/misc-products/worldcities-database)). In dieser Übung geht es um den Umgang mit einfachen SQL Abfragen:\n",
    "\n",
    "\n",
    "- **Aufgabe 1**: Welche Tabellen enthält diese Datenbank? Wie heißt die Tabelle, in welcher die Informationen gespeichert sind? Wie heißen die Spalten, welche den Stadtnamen und das Land enthalten?\n",
    "\n",
    "- **Aufgabe 2**: Wieviele Städte gibt es insgesamt? Wieviele Städte davon liegen in Deutschland?\n",
    "\n",
    "- **Aufgabe 3**: Wieviele Städte hat jedes Land in der Datenbank? Sortiere nach Anzahl abwärts.\n",
    "\n",
    "- **Aufgabe 2**: Bestimme die äußeren Geokoordinaten aller Städte in Deutschland."
   ]
  },
  {
   "cell_type": "code",
   "execution_count": 2,
   "id": "educational-intermediate",
   "metadata": {
    "scrolled": true
   },
   "outputs": [],
   "source": [
    "# AUFGABE 1"
   ]
  },
  {
   "cell_type": "code",
   "execution_count": 3,
   "id": "incredible-visiting",
   "metadata": {},
   "outputs": [],
   "source": [
    "# AUFGABE 2"
   ]
  },
  {
   "cell_type": "code",
   "execution_count": 4,
   "id": "later-humanity",
   "metadata": {
    "scrolled": true
   },
   "outputs": [],
   "source": [
    "# Aufgabe 3"
   ]
  },
  {
   "cell_type": "code",
   "execution_count": 5,
   "id": "mediterranean-clinic",
   "metadata": {},
   "outputs": [],
   "source": [
    "# AUFGABE 4"
   ]
  }
 ],
 "metadata": {
  "kernelspec": {
   "display_name": "Python 3 (ipykernel)",
   "language": "python",
   "name": "python3"
  },
  "language_info": {
   "codemirror_mode": {
    "name": "ipython",
    "version": 3
   },
   "file_extension": ".py",
   "mimetype": "text/x-python",
   "name": "python",
   "nbconvert_exporter": "python",
   "pygments_lexer": "ipython3",
   "version": "3.9.16"
  },
  "toc": {
   "base_numbering": 1,
   "nav_menu": {},
   "number_sections": false,
   "sideBar": true,
   "skip_h1_title": false,
   "title_cell": "Table of Contents",
   "title_sidebar": "Contents",
   "toc_cell": false,
   "toc_position": {},
   "toc_section_display": true,
   "toc_window_display": true
  }
 },
 "nbformat": 4,
 "nbformat_minor": 5
}
