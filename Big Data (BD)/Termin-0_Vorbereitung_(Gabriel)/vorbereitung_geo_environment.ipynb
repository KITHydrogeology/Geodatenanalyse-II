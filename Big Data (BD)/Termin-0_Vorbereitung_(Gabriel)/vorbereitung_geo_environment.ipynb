{
 "cells": [
  {
   "cell_type": "markdown",
   "metadata": {
    "slideshow": {
     "slide_type": "slide"
    }
   },
   "source": [
    "# Geodatenanalyse II - Neuinstallation der Analyseumgebung\n",
    "\n",
    "**ACHTUNG**: Diese Anleitung ist für die Neueinrichtung von Rechnern gedacht. Falls das Modul Geodatenanalyse 1 bereits gemacht wurde, dann ist Anaconda bereits installiert. In diesem Fall bitte direkt zu \"Kursmaterial herunterladen und lokal dekomprimieren\"."
   ]
  },
  {
   "cell_type": "markdown",
   "metadata": {},
   "source": [
    "## Anaconda herunterladen\n",
    "\n",
    "Bitte [Anaconda](https://www.anaconda.com/products/individual) für das jeweilige System die Installationsdatei herunterladen.\n",
    "\n",
    "<img src=\"images/download.png\" alt=\"drawing\" width=\"500\"/>\n"
   ]
  },
  {
   "cell_type": "markdown",
   "metadata": {},
   "source": [
    "## Anaconda installieren\n",
    "\n",
    "### Windows\n",
    "\n",
    "*ACHTUNG*: Bitte den von Anaconda vorgeschlagenen Installationspfad nicht verändern!\n",
    "\n",
    "<img src=\"images/install_path.png\" alt=\"drawing\" width=\"400\"/>\n",
    "\n",
    "### MacOS / Linux\n",
    "\n",
    "Bitte ganz normal installieren"
   ]
  },
  {
   "cell_type": "markdown",
   "metadata": {},
   "source": [
    "## Kursmaterial herunterladen und lokal dekomprimieren\n",
    "\n",
    "Bitte das Archiv des [Kursmaterials Geodatenanalyse 2](https://github.com/KITHydrogeology/Geodatenanalyse-II) von GitHub als ZIP-Datei herunterladen \n",
    "\n",
    "<img src=\"images/github_ZIP.png\" alt=\"drawing\" width=\"800\"/>\n",
    "\n",
    "Die herunter geladene ZIP-Datei kann jetzt lokal in einem beliebigen Order (<span style=\"color:red\">#PFAD#</span>, unter Windows z.B. C:\\Geodatenanalyse 2\\\\) dekomprimiert weren"
   ]
  },
  {
   "cell_type": "markdown",
   "metadata": {},
   "source": [
    "## Anleitung zur manuellen Erstellung der Umgebung\n",
    "\n",
    "Muss nur einmal gemacht werden. Bitte dazu folgende Schritte je nach Betriebssystem ausfuehren.\n",
    "\n",
    "Wenn dies bereits geschehen ist, dann bitte direkt zu \"Verwendung der Analyseumgebung\"."
   ]
  },
  {
   "cell_type": "markdown",
   "metadata": {},
   "source": [
    "### Windows\n",
    "\n",
    "Das Programm *Anaconda Prompt* öffnen\n",
    "\n",
    "### Linux/MacOS\n",
    "\n",
    "Ein beliebiges Terminal aufmachen\n"
   ]
  },
  {
   "cell_type": "markdown",
   "metadata": {},
   "source": [
    "### Für alle Betriebssysteme\n",
    "\n",
    "1 - Eine neue Umgebung namens \"geo\" erstellen:\n",
    "\n",
    "``conda create -n geo2 python=3.9``\n",
    "\n",
    "2 - Activate the new environment:\n",
    "\n",
    "``conda activate geo2``\n",
    "\n",
    "3a - Pakete installieren:\n",
    "\n",
    "``conda install -c anaconda xlrd openpyxl ipykernel mpmath sympy xarray netcdf4 seaborn``\n",
    "\n",
    "3b - Weitere Pakete installieren:\n",
    "\n",
    "``conda install -c conda-forge gdal shapely cartopy descartes contextily salib pykrige ruptures geopandas jupyterlab earthengine-api geemap``\n",
    "\n",
    "5 - Add the user to the kernel:\n",
    "\n",
    "``python -m ipykernel install --user``"
   ]
  },
  {
   "cell_type": "markdown",
   "metadata": {},
   "source": [
    "## Umgebung testen\n",
    "\n",
    "Ein Test, ob vor allem *GeoPandas* funktioniert:"
   ]
  },
  {
   "cell_type": "code",
   "execution_count": 1,
   "metadata": {},
   "outputs": [
    {
     "data": {
      "text/plain": [
       "'3060200'"
      ]
     },
     "execution_count": 1,
     "metadata": {},
     "output_type": "execute_result"
    }
   ],
   "source": [
    "from osgeo import gdal, ogr, osr\n",
    "from fiona.ogrext import Iterator, ItemsIterator, KeysIterator\n",
    "from geopandas import GeoDataFrame\n",
    "gdal.VersionInfo()"
   ]
  },
  {
   "cell_type": "markdown",
   "metadata": {},
   "source": [
    "Wenn dieser Test keine Fehlermeldung anzeigt, dann ist alles in Ordunug!"
   ]
  },
  {
   "cell_type": "markdown",
   "metadata": {},
   "source": [
    "\n",
    "## Verwendung der Analyseumgebung"
   ]
  },
  {
   "cell_type": "markdown",
   "metadata": {},
   "source": [
    "### Windows\n",
    "\n",
    "Das Programm *Anaconda Prompt* öffnen\n",
    "\n",
    "\n",
    "\n",
    "### Linux/MacOS\n",
    "\n",
    "Ein beliebiges Terminal aufmachen\n",
    "\n",
    "### Für alle Betriebssysteme\n",
    "\n",
    "Bitte folgendes ins Terminal/Prompt eingeben:\n",
    "\n",
    "``conda activate geo2``\n",
    "\n",
    "``cd #PFAD#``\n",
    "\n",
    "``jupyter lab``"
   ]
  },
  {
   "cell_type": "markdown",
   "metadata": {},
   "source": [
    "## Anaconda FAQ\n",
    "\n",
    "[Hier können Probleme gelöst werden](https://docs.anaconda.com/anaconda/user-guide/faq/)"
   ]
  },
  {
   "cell_type": "markdown",
   "metadata": {},
   "source": [
    "## ENDE"
   ]
  }
 ],
 "metadata": {
  "celltoolbar": "Slideshow",
  "kernelspec": {
   "display_name": "Python 3 (ipykernel)",
   "language": "python",
   "name": "python3"
  },
  "language_info": {
   "codemirror_mode": {
    "name": "ipython",
    "version": 3
   },
   "file_extension": ".py",
   "mimetype": "text/x-python",
   "name": "python",
   "nbconvert_exporter": "python",
   "pygments_lexer": "ipython3",
   "version": "3.9.19"
  },
  "toc": {
   "base_numbering": 1,
   "nav_menu": {},
   "number_sections": true,
   "sideBar": true,
   "skip_h1_title": false,
   "title_cell": "Table of Contents",
   "title_sidebar": "Contents",
   "toc_cell": false,
   "toc_position": {},
   "toc_section_display": true,
   "toc_window_display": false
  }
 },
 "nbformat": 4,
 "nbformat_minor": 4
}
