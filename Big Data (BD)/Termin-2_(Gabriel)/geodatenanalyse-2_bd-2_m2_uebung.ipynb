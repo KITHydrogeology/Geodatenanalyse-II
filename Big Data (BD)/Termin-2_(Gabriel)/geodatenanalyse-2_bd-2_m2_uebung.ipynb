{
 "cells": [
  {
   "cell_type": "markdown",
   "id": "economic-writer",
   "metadata": {},
   "source": [
    "# Geodatenanalyse 2\n",
    "\n",
    "\n",
    "## Termin: Big Data 2 - Modul 2\n",
    "\n",
    "## Frequenzanalyse von Zeitreihen: Motivation und Grundlage"
   ]
  },
  {
   "cell_type": "code",
   "execution_count": 4,
   "id": "green-graham",
   "metadata": {},
   "outputs": [],
   "source": [
    "import numpy as np\n",
    "import matplotlib.pyplot as plt\n",
    "import pandas as pd"
   ]
  },
  {
   "cell_type": "markdown",
   "id": "commercial-wealth",
   "metadata": {},
   "source": [
    "## Übung 1\n",
    "\n",
    "In einem Beobachtungsbrunnen mit der Bezeichnung BLM-1 im kalifornischen Death Valley wurde eine Zeitreihe des Atmosphäredrucks und des Grundwasserspiegels gemessen. Die Daten befinden sich in der Datei *data/BLM-1.csv*.\n",
    "\n",
    "**Aufgabe 1**: Lese die Daten ein und bilde beide Zeitreihen ab. Enthalten beide Datensätze sichtbare, zyklische Komponenten?\n",
    "\n",
    "**Aufgabe 2**: Berechne das Amplitudenspektrum für beide Messreihen. Welche Frequenzen sind dort zu finden und woher stammen sie? *Hinweis*: Das Spektrum muss auf einen Frequenzbereich begrenzt werden.\n",
    "\n",
    "> Die Daten stammen aus der Publikation von [Rau et al. (2020)](https://hess.copernicus.org/articles/24/6033/2020/)"
   ]
  },
  {
   "cell_type": "code",
   "execution_count": 5,
   "id": "packed-contribution",
   "metadata": {},
   "outputs": [],
   "source": [
    "# Aufgabe 1"
   ]
  },
  {
   "cell_type": "code",
   "execution_count": 6,
   "id": "appropriate-decrease",
   "metadata": {},
   "outputs": [],
   "source": [
    "# Aufgabe 2"
   ]
  },
  {
   "cell_type": "markdown",
   "id": "verified-mitchell",
   "metadata": {},
   "source": [
    "## ENDE"
   ]
  }
 ],
 "metadata": {
  "kernelspec": {
   "display_name": "Python 3 (ipykernel)",
   "language": "python",
   "name": "python3"
  },
  "language_info": {
   "codemirror_mode": {
    "name": "ipython",
    "version": 3
   },
   "file_extension": ".py",
   "mimetype": "text/x-python",
   "name": "python",
   "nbconvert_exporter": "python",
   "pygments_lexer": "ipython3",
   "version": "3.8.16"
  },
  "toc": {
   "base_numbering": 1,
   "nav_menu": {},
   "number_sections": false,
   "sideBar": true,
   "skip_h1_title": false,
   "title_cell": "Table of Contents",
   "title_sidebar": "Contents",
   "toc_cell": false,
   "toc_position": {},
   "toc_section_display": true,
   "toc_window_display": true
  }
 },
 "nbformat": 4,
 "nbformat_minor": 5
}
