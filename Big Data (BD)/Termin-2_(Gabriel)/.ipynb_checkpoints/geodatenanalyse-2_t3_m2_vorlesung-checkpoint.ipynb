{
 "cells": [
  {
   "cell_type": "markdown",
   "metadata": {
    "slideshow": {
     "slide_type": "slide"
    }
   },
   "source": [
    "# Geodatenanalyse 2\n",
    "\n",
    "\n",
    "## Termin 3 - Modul 2\n",
    "\n",
    "## Frequenzanalyse von Zeitreihen: Wichtige Eigenschaften der Fourier Analyse\n",
    "\n",
    "Ca. 20-30 Minuten"
   ]
  },
  {
   "cell_type": "markdown",
   "metadata": {
    "slideshow": {
     "slide_type": "slide"
    }
   },
   "source": [
    "## Inhalt\n",
    "- Zusammenhang zwischen Zeitdauer und Frequenzauflösung\n",
    "- Maximale Frequenzauflösung\n",
    "- Der Leck-Effekt\n",
    "- Fensterfunktionen\n",
    "- Anwendung des Von-Hann Fensters auf die Meeresspiegel-Zeitreihe\n",
    "- Weitere Methden der Frequenzanalyse"
   ]
  },
  {
   "cell_type": "code",
   "execution_count": 8,
   "metadata": {
    "slideshow": {
     "slide_type": "slide"
    }
   },
   "outputs": [],
   "source": [
    "import numpy as np\n",
    "import matplotlib.pyplot as plt\n",
    "import pandas as pd"
   ]
  },
  {
   "cell_type": "markdown",
   "metadata": {},
   "source": [
    "## Zusammenhang zwischen Zeitdauer und Frequenzauflösung\n",
    "\n",
    "- Die Frequenzauflösung der FFT ist ein sehr wichtiges Kriterium\n",
    "\n",
    "- Sie bestimmt, wie genau man Frequenzkomponenten identifizieren kann"
   ]
  },
  {
   "cell_type": "markdown",
   "metadata": {},
   "source": [
    "### Frequenzauflösung\n",
    "\n",
    "$\\Delta F_t = \\frac{f_{t}}{N} = \\frac{1}{\\Delta f_t N} = \\frac{1}{T}$\n",
    "\n",
    "\n",
    "$\\Delta F_t$: Periode in der Frequenzdomaine\n",
    "\n",
    "$f_{t}$: Sampling-Frequenz in der Zeitdomäne\n",
    "\n",
    "$N$: Anzahl der Werte in der Zeitdomäne\n",
    "\n",
    "$\\Delta f_t$: Periode in der Zeitdomäne\n",
    "\n",
    "$T$: Dauer der Zeitreihe  in der Zeitdomäne"
   ]
  },
  {
   "cell_type": "markdown",
   "metadata": {},
   "source": [
    "**Wichtig**: Die Frequenzauflösung ist nur von der Zeitdauer in der Zeitdomäne abhängig und nicht von der Abtastfrequenz in der Zeitdomäne"
   ]
  },
  {
   "cell_type": "markdown",
   "metadata": {},
   "source": [
    "### Beispiel\n",
    "\n",
    "Im Folgenden wird der Einfluss der Länge einer Zeitreihe auf die Frequenzauflösung illustriert:"
   ]
  },
  {
   "cell_type": "code",
   "execution_count": 9,
   "metadata": {},
   "outputs": [],
   "source": [
    "time = np.linspace(0, 5, 5*96, endpoint=True)\n",
    "freq1 = 1\n",
    "amp1 = 1\n",
    "comp1 = amp1 * np.cos(time*2*np.pi*freq1)\n",
    "freq2 = 0.5\n",
    "amp2 = 3\n",
    "comp2 = amp2 * np.cos(time*2*np.pi*freq2)\n",
    "freq3 = 2\n",
    "amp3 = 2\n",
    "comp3 = amp3 * np.cos(time*2*np.pi*freq3)\n",
    "comp_sum1 = comp1 + comp2 + comp3"
   ]
  },
  {
   "cell_type": "code",
   "execution_count": 15,
   "metadata": {},
   "outputs": [],
   "source": [
    "N = len(comp_sum1)\n",
    "T = 96\n",
    "data_fft1 = np.fft.fft(comp_sum1)[0:int(N/2)]\n",
    "freq1 = np.fft.fftfreq(N, d=1/T)[0:int(N/2)]\n",
    "amplitude1 = (2/N)*np.abs(data_fft1)"
   ]
  },
  {
   "cell_type": "code",
   "execution_count": 11,
   "metadata": {},
   "outputs": [],
   "source": [
    "time = np.linspace(0, 10, 10*96, endpoint=True)\n",
    "freq1 = 1\n",
    "amp1 = 1\n",
    "comp1 = amp1 * np.cos(time*2*np.pi*freq1)\n",
    "freq2 = 0.5\n",
    "amp2 = 3\n",
    "comp2 = amp2 * np.cos(time*2*np.pi*freq2)\n",
    "freq3 = 2\n",
    "amp3 = 2\n",
    "comp3 = amp3 * np.cos(time*2*np.pi*freq3)\n",
    "comp_sum2 = comp1 + comp2 + comp3"
   ]
  },
  {
   "cell_type": "code",
   "execution_count": 12,
   "metadata": {},
   "outputs": [],
   "source": [
    "N = len(comp_sum2)\n",
    "T = 96\n",
    "data_fft2 = np.fft.fft(comp_sum2)[0:int(N/2)]\n",
    "freq2 = np.fft.fftfreq(N, d=1/T)[0:int(N/2)]\n",
    "amplitude2 = (2/N)*np.abs(data_fft2)"
   ]
  },
  {
   "cell_type": "code",
   "execution_count": 20,
   "metadata": {
    "scrolled": false
   },
   "outputs": [
    {
     "data": {
      "image/png": "[encoded data removed]",
      "text/plain": [
       "<Figure size 432x288 with 1 Axes>"
      ]
     },
     "metadata": {
      "needs_background": "light"
     },
     "output_type": "display_data"
    }
   ],
   "source": [
    "plt.plot(freq1, amplitude1, 'r.', label='Zeitdauer 5 Tage')\n",
    "plt.plot(freq2, amplitude2, 'b.', label='Zeitdauer 10 Tage')\n",
    "\n",
    "plt.xlabel('Frequenz (cpd)')\n",
    "plt.ylabel('Amplitude [Einheit]')\n",
    "plt.xlim(0,2.5)\n",
    "plt.legend()\n",
    "\n",
    "plt.show()"
   ]
  },
  {
   "cell_type": "markdown",
   "metadata": {},
   "source": [
    "**FAZIT**: Je länger die Zeitreihe, desto besser die Auflösung von einzelnen Frequenzkomponenten!"
   ]
  },
  {
   "cell_type": "markdown",
   "metadata": {},
   "source": [
    "## Maximale Frequenzgrenze\n",
    "\n",
    "Das obere Frequenzlimit der FFT bestimmt die Obergrenze von detektierbaren Frequenzen"
   ]
  },
  {
   "cell_type": "markdown",
   "metadata": {},
   "source": [
    "### Die Nyquist-Frequenz\n",
    "\n",
    "Die Obergrenze von detektierbaren Frequenzen ist die sogenannte Nyquist-Frequenz:\n",
    "\n",
    "$F_{Nyquist} = \\frac{f_t}{2}$\n",
    "\n",
    "$f_{t}$: Sampling-Frequenz in der Zeitdomäne"
   ]
  },
  {
   "cell_type": "markdown",
   "metadata": {},
   "source": [
    "Quelle: [Wikipedia](https://de.wikipedia.org/wiki/Komplexe_Zahl)\n",
    "\n",
    "<img src=\"figures\\nyquist.png\" alt=\"alt text\" width=\"400\" align=\"left\"/>"
   ]
  },
  {
   "cell_type": "markdown",
   "metadata": {},
   "source": [
    "**Beispiel**: Siehe [Passing the Nyquist Limit by Jack Schaedler](https://jackschaedler.github.io/circles-sines-signals/sampling2.html)"
   ]
  },
  {
   "cell_type": "markdown",
   "metadata": {},
   "source": [
    "**FAZIT**: Für die Bestimmung von Frequenzen muss die Abtastrate in der Zeitdomäne beachtet werden!"
   ]
  },
  {
   "cell_type": "markdown",
   "metadata": {},
   "source": [
    "## Der Leck-Effekt\n",
    "\n",
    "- Die DFT nimmt an, das Frequenzkomponenten zeitlich kontinuierlich (d.h., unendlich lang) sind\n",
    "\n",
    "- Das bedeutet, dass Frequenzen, welche nicht genau in die Zeitdauer passen eine Diskontinuität hervorrufen\n",
    "\n",
    "- Diese Diskontinuität führt zum sogenannten **Leck-Effekt**\n"
   ]
  },
  {
   "cell_type": "markdown",
   "metadata": {},
   "source": [
    "### Beispiel zum Leck-Effekt"
   ]
  },
  {
   "cell_type": "code",
   "execution_count": 23,
   "metadata": {},
   "outputs": [],
   "source": [
    "time = np.linspace(0, 10, 10*96, endpoint=True)\n",
    "freq1 = 1\n",
    "amp1 = 1\n",
    "comp1 = amp1 * np.cos(time*2*np.pi*freq1)\n",
    "freq2 = 0.45\n",
    "amp2 = 2\n",
    "comp2 = amp2 * np.cos(time*2*np.pi*freq2)\n",
    "comp_sum = comp1 + comp2"
   ]
  },
  {
   "cell_type": "code",
   "execution_count": 24,
   "metadata": {},
   "outputs": [],
   "source": [
    "N = len(comp_sum)\n",
    "T = 96\n",
    "data_fft = np.fft.fft(comp_sum)[0:int(N/2)]\n",
    "freq = np.fft.fftfreq(N, d=1/T)[0:int(N/2)]\n",
    "amplitude = (2/N)*np.abs(data_fft)"
   ]
  },
  {
   "cell_type": "code",
   "execution_count": 25,
   "metadata": {
    "scrolled": true
   },
   "outputs": [
    {
     "data": {
      "image/png": "[encoded data removed]",
      "text/plain": [
       "<Figure size 1152x288 with 2 Axes>"
      ]
     },
     "metadata": {
      "needs_background": "light"
     },
     "output_type": "display_data"
    }
   ],
   "source": [
    "fig, ax = plt.subplots(2, 1, figsize=(16, 4))\n",
    "\n",
    "ax[0].plot(time, comp1, 'r', lw=1, label='Component 1')\n",
    "ax[0].plot(time, comp2, 'b', lw=1, label='Component 2')\n",
    "ax[0].plot(time, comp_sum, 'k', lw=2, label='Component 2')\n",
    "ax[0].set_xlabel('Time [days]')\n",
    "ax[0].set_ylabel('Signal')\n",
    "\n",
    "ax[1].axvline(0.45)\n",
    "ax[1].axvline(1)\n",
    "ax[1].plot(freq, amplitude, 'k.', label='Zeitdauer 10 Tage')\n",
    "ax[1].set_xlim(0.2, 1.3)\n",
    "ax[1].set_xlabel('Frequency [cpd]')\n",
    "ax[1].set_ylabel('Amplitude')\n",
    "\n",
    "plt.show()"
   ]
  },
  {
   "cell_type": "markdown",
   "metadata": {},
   "source": [
    "Quelle: [Wikipedia](https://de.wikipedia.org/wiki/Leck-Effekt)\n",
    "\n",
    "<img src=\"figures\\FFT_leck.png\" alt=\"alt text\" width=\"600\" align=\"left\"/>"
   ]
  },
  {
   "cell_type": "markdown",
   "metadata": {},
   "source": [
    "**Beispiel**: Siehe [The Phenomenon of Leakage](https://jackschaedler.github.io/circles-sines-signals/dft_leakage.html)"
   ]
  },
  {
   "cell_type": "markdown",
   "metadata": {},
   "source": [
    "**FAZIT**: Der Leck-Effekt kann minimiert werden durch:\n",
    "- eine Anpassung der Datenlänge in der Zeitdomäne, \n",
    "- durch die Verwendung einer Fensterfunktion"
   ]
  },
  {
   "cell_type": "markdown",
   "metadata": {},
   "source": [
    "## Fensterfunktionen\n",
    "\n",
    "- Die Berechnung der DFT für eine Zeitreihe entspricht immer einem Rechteckfenster\n",
    "\n",
    "- Das Rechteckfenster ist genauso lang wie die Dauer der Zeitreihe \n",
    "\n",
    "- Es können auch andere Fensterfunktionen verwendet werden\n",
    "\n",
    "- Diese können auf bestimmte Kriterien ausgerichtet werden\n",
    "\n",
    "- Zum Beispiel kann man Diskontinuitäten vermeiden"
   ]
  },
  {
   "cell_type": "markdown",
   "metadata": {},
   "source": [
    "### Beispiel: Vergleich von Rechteck und Hanning Fenster"
   ]
  },
  {
   "cell_type": "markdown",
   "metadata": {},
   "source": [
    "Das **Von-Hann** (oder auch **Hanning**) Fenster ist sehr beliebt:\n",
    "    \n",
    "$w(n) = \\frac{1}{2} \\left[ 1 + cos \\left( \\frac{2 \\pi n}{M - 1} \\right) \\right]$\n",
    "\n",
    "$w(n)$ ist das Gewicht für den Wert $n$\n",
    "\n",
    "$M$ ist die Anzahl der Werte"
   ]
  },
  {
   "cell_type": "markdown",
   "metadata": {},
   "source": [
    "<img src=\"figures\\windowing.png\" alt=\"alt text\" width=\"800\" align=\"left\"/>"
   ]
  },
  {
   "cell_type": "markdown",
   "metadata": {},
   "source": [
    "**FAZIT**\n",
    "\n",
    "Ein Fenster:\n",
    "        \n",
    "- ... kann den Leck-Effekt verringern, aber niemals ganz beheben\n",
    "\n",
    "- ... beeinflusst das Signal, und das Spektrum muss deshalb kompensiert werden (Amplitudenfaktor für Hanning ~ 2)\n",
    "\n",
    "- ... muss auf die individuellen Umstände agepasst werden\n",
    "\n",
    "**Hinweis**: Es gibt sehr viele Fenster mit unterschiedlichen Eigenschaften, siehe auch [Fensterfunktion auf Wikipedia](https://de.wikipedia.org/wiki/Fensterfunktion)\n",
    "\n"
   ]
  },
  {
   "cell_type": "markdown",
   "metadata": {},
   "source": [
    "## Anwendung des *Von-Hann* Fensters auf die Meeresspiegel Zeitreihe"
   ]
  },
  {
   "cell_type": "code",
   "execution_count": 26,
   "metadata": {
    "scrolled": true
   },
   "outputs": [
    {
     "data": {
      "text/html": [
       "<div>\n",
       "<style scoped>\n",
       "    .dataframe tbody tr th:only-of-type {\n",
       "        vertical-align: middle;\n",
       "    }\n",
       "\n",
       "    .dataframe tbody tr th {\n",
       "        vertical-align: top;\n",
       "    }\n",
       "\n",
       "    .dataframe thead th {\n",
       "        text-align: right;\n",
       "    }\n",
       "</style>\n",
       "<table border=\"1\" class=\"dataframe\">\n",
       "  <thead>\n",
       "    <tr style=\"text-align: right;\">\n",
       "      <th></th>\n",
       "      <th>Sea level [mm]</th>\n",
       "    </tr>\n",
       "    <tr>\n",
       "      <th>Datetime[GMT]</th>\n",
       "      <th></th>\n",
       "    </tr>\n",
       "  </thead>\n",
       "  <tbody>\n",
       "    <tr>\n",
       "      <th>2017-11-25 02:00:00</th>\n",
       "      <td>2124</td>\n",
       "    </tr>\n",
       "    <tr>\n",
       "      <th>2017-11-25 03:00:00</th>\n",
       "      <td>2127</td>\n",
       "    </tr>\n",
       "    <tr>\n",
       "      <th>2017-11-25 04:00:00</th>\n",
       "      <td>1997</td>\n",
       "    </tr>\n",
       "    <tr>\n",
       "      <th>2017-11-25 05:00:00</th>\n",
       "      <td>1886</td>\n",
       "    </tr>\n",
       "    <tr>\n",
       "      <th>2017-11-25 06:00:00</th>\n",
       "      <td>1734</td>\n",
       "    </tr>\n",
       "    <tr>\n",
       "      <th>...</th>\n",
       "      <td>...</td>\n",
       "    </tr>\n",
       "    <tr>\n",
       "      <th>2018-12-31 19:00:00</th>\n",
       "      <td>1566</td>\n",
       "    </tr>\n",
       "    <tr>\n",
       "      <th>2018-12-31 20:00:00</th>\n",
       "      <td>1496</td>\n",
       "    </tr>\n",
       "    <tr>\n",
       "      <th>2018-12-31 21:00:00</th>\n",
       "      <td>1372</td>\n",
       "    </tr>\n",
       "    <tr>\n",
       "      <th>2018-12-31 22:00:00</th>\n",
       "      <td>1218</td>\n",
       "    </tr>\n",
       "    <tr>\n",
       "      <th>2018-12-31 23:00:00</th>\n",
       "      <td>1062</td>\n",
       "    </tr>\n",
       "  </tbody>\n",
       "</table>\n",
       "<p>9646 rows × 1 columns</p>\n",
       "</div>"
      ],
      "text/plain": [
       "                     Sea level [mm]\n",
       "Datetime[GMT]                      \n",
       "2017-11-25 02:00:00            2124\n",
       "2017-11-25 03:00:00            2127\n",
       "2017-11-25 04:00:00            1997\n",
       "2017-11-25 05:00:00            1886\n",
       "2017-11-25 06:00:00            1734\n",
       "...                             ...\n",
       "2018-12-31 19:00:00            1566\n",
       "2018-12-31 20:00:00            1496\n",
       "2018-12-31 21:00:00            1372\n",
       "2018-12-31 22:00:00            1218\n",
       "2018-12-31 23:00:00            1062\n",
       "\n",
       "[9646 rows x 1 columns]"
      ]
     },
     "execution_count": 26,
     "metadata": {},
     "output_type": "execute_result"
    }
   ],
   "source": [
    "sea_level = pd.read_csv('data/Palau_sea-level.csv', parse_dates=True, index_col='Datetime[GMT]')\n",
    "sea_level"
   ]
  },
  {
   "cell_type": "code",
   "execution_count": 28,
   "metadata": {},
   "outputs": [],
   "source": [
    "# the rectangular window\n",
    "N = len(sea_level)\n",
    "T = 24\n",
    "\n",
    "data_fft = np.fft.fft(sea_level['Sea level [mm]'])\n",
    "data_fft = data_fft[0:int(N/2)]\n",
    "\n",
    "freq = np.fft.fftfreq(N, d=1/T)\n",
    "freq = freq[0:int(N/2)]\n",
    "\n",
    "amp_rect = (2/N)*np.abs(data_fft)"
   ]
  },
  {
   "cell_type": "code",
   "execution_count": 29,
   "metadata": {},
   "outputs": [],
   "source": [
    "# the Hanning window\n",
    "N = len(sea_level)\n",
    "T = 24\n",
    "\n",
    "# generate the window\n",
    "hanning_data = np.hanning(N)*sea_level['Sea level [mm]']\n",
    "\n",
    "data_fft = np.fft.fft(hanning_data)\n",
    "data_fft = data_fft[0:int(N/2)]\n",
    "\n",
    "freq = np.fft.fftfreq(N, d=1/T)\n",
    "freq = freq[0:int(N/2)]\n",
    "\n",
    "amp_hann = 2*(2/N)*np.abs(data_fft)"
   ]
  },
  {
   "cell_type": "code",
   "execution_count": 30,
   "metadata": {},
   "outputs": [
    {
     "data": {
      "text/plain": [
       "(-10.0, 600.0)"
      ]
     },
     "execution_count": 30,
     "metadata": {},
     "output_type": "execute_result"
    },
    {
     "data": {
      "image/png": "[encoded data removed]",
      "text/plain": [
       "<Figure size 1152x288 with 1 Axes>"
      ]
     },
     "metadata": {
      "needs_background": "light"
     },
     "output_type": "display_data"
    }
   ],
   "source": [
    "fig, ax = plt.subplots(figsize=(16,4))\n",
    "ax.plot(freq[1:], amp_rect[1:], 'b.', label='Rectangular window')\n",
    "ax.plot(freq[1:], amp_hann[1:], 'r.', label='Hanning window')\n",
    "ax.set_xlabel('Frequenz (cpd)')\n",
    "ax.set_ylabel('Amplitude [mm]')\n",
    "ax.set_xlim(1.85, 2.05)\n",
    "ax.set_ylim(-10, 600)"
   ]
  },
  {
   "cell_type": "markdown",
   "metadata": {},
   "source": [
    "## Weitere Methoden der Frequenanalyse\n",
    "\n",
    "- Frequenzanalyse ist ein eigenes Feld der Signalverarbeitung\n",
    "\n",
    "- Dies erfordert ein eigenes Lehrmodul\n",
    "\n",
    "- DFT ist sehr gut etabliert und beliebt\n",
    "\n",
    "- Die DFT ist aber nur eine von vielen Möglichkeiten zur Frequenzanalyse von Zeitreihen\n",
    "\n",
    "- Neuere Methoden sind mathematisch komplizierter\n",
    "\n"
   ]
  },
  {
   "cell_type": "markdown",
   "metadata": {
    "slideshow": {
     "slide_type": "slide"
    }
   },
   "source": [
    "## ENDE"
   ]
  }
 ],
 "metadata": {
  "celltoolbar": "Slideshow",
  "kernelspec": {
   "display_name": "Python 3",
   "language": "python",
   "name": "python3"
  },
  "language_info": {
   "codemirror_mode": {
    "name": "ipython",
    "version": 3
   },
   "file_extension": ".py",
   "mimetype": "text/x-python",
   "name": "python",
   "nbconvert_exporter": "python",
   "pygments_lexer": "ipython3",
   "version": "3.7.10"
  },
  "toc": {
   "base_numbering": 1,
   "nav_menu": {},
   "number_sections": false,
   "sideBar": true,
   "skip_h1_title": false,
   "title_cell": "Table of Contents",
   "title_sidebar": "Contents",
   "toc_cell": false,
   "toc_position": {},
   "toc_section_display": true,
   "toc_window_display": true
  }
 },
 "nbformat": 4,
 "nbformat_minor": 4
}
