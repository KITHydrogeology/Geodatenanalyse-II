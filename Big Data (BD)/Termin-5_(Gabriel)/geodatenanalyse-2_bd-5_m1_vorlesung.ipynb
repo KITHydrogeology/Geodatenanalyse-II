{
 "cells": [
  {
   "cell_type": "markdown",
   "metadata": {
    "slideshow": {
     "slide_type": "slide"
    }
   },
   "source": [
    "# Geodatenanalyse 2\n",
    "\n",
    "\n",
    "## Termin 10 - Modul 1\n",
    "\n",
    "## Einführung in *Google Earth Engine* (*ee*)\n",
    "\n",
    "Ca. 20-30 Minuten"
   ]
  },
  {
   "cell_type": "markdown",
   "metadata": {
    "slideshow": {
     "slide_type": "slide"
    }
   },
   "source": [
    "## Inhalt\n",
    "\n",
    "- GIS Datentypen\n",
    "- Was ist Google Earth Engine?\n",
    "- Interaktive Karten\n",
    "- Dateneigenschaften\n",
    "- Räumliche Dimensionen\n",
    "- Zeitliche Dimensionen"
   ]
  },
  {
   "cell_type": "markdown",
   "metadata": {},
   "source": [
    "## Geemap Installation\n",
    "\n",
    "Für dieses Modul brauchen wir [geemap](https://geemap.org). Zur Installation bitte:\n",
    "\n",
    "1 - *Anaconda Prompt* öffnen und folgendes eingeben:\n",
    "\n",
    "2 - ``conda activate geo`` ENTER\n",
    "\n",
    "3 - ``conda install mamba -c conda-forge`` ENTER\n",
    "\n",
    "4 - ``mamba install geemap xarray_leaflet -c conda-forge`` ENTER\n",
    "\n",
    "5 - ``jupyter nbextension enable --py --sys-prefix ipyleaflet`` ENTER"
   ]
  },
  {
   "cell_type": "code",
   "execution_count": 3,
   "metadata": {},
   "outputs": [],
   "source": [
    "import ee\n",
    "# initialize the connection to the server\n",
    "ee.Initialize()\n",
    "import geemap\n",
    "import geemap.colormaps as cm\n",
    "import datetime as dt\n",
    "import pandas as pd"
   ]
  },
  {
   "cell_type": "markdown",
   "metadata": {},
   "source": [
    "## GIS Datentypen\n",
    "\n",
    "Quelle: [CVRD Canada](https://www.cvrd.ca/3239/GIS-Downloads)\n",
    "\n",
    "<img width=500 style=\"float: left;\" src=\"images\\GIS_overview.png\">"
   ]
  },
  {
   "cell_type": "markdown",
   "metadata": {},
   "source": [
    "## Was ist *Google Earth Engine* (*ee*)?\n",
    "\n",
    "Siehe Erklärung auf der [Google Webseite](https://earthengine.google.com/)\n",
    "\n",
    "<img width=500 style=\"float: left;\" src=\"images\\gee_overview.png\">"
   ]
  },
  {
   "cell_type": "markdown",
   "metadata": {},
   "source": [
    "### Ein Blick in den Datenkatalog\n",
    "\n",
    "- *ee* bietet unglaublich viele Möglichkeiten für die Geodatenanalyse\n",
    "\n",
    "- Für verfügbare Datensätze, siehe den [Datenkatalog](https://developers.google.com/earth-engine/datasets/catalog)"
   ]
  },
  {
   "cell_type": "markdown",
   "metadata": {},
   "source": [
    "### Der *Google Earth Engine* Explorer\n",
    "\n",
    "Ein [Browser-basiertes Tool](https://explorer.earthengine.google.com/#workspace) zur Übersicht von Datensätzen\n",
    "\n",
    "<img width=800 style=\"float: left;\" src=\"images\\ee_explorer.png\">"
   ]
  },
  {
   "cell_type": "markdown",
   "metadata": {},
   "source": [
    "### Datentypen in *Google ee*\n",
    "\n",
    "- **ee.Features**, die geometrische Objekte mit einer Liste von Eigenschaften sind\n",
    "\n",
    "\n",
    "- **ee.Images**, die wie Features sind, aber mehrere Bänder enthalten können\n",
    "\n",
    "\n",
    "- **ee.Collections**, die Gruppen von Features oder Bildern sind\n",
    " - **ee.FeatureCollection** eine gebündelte Anzahl an *ee.Features*\n",
    " - **ee.ImageCollection** eine bliebige Anzahl an *ee.Images*\n",
    "\n",
    "*Hinweis*: Die [Developer Guides](https://samapriya.github.io/gee-py/projects/collection_meta/) enthalten viele hilfreiche Informationen und Rezepte für die Datenanalyse."
   ]
  },
  {
   "cell_type": "markdown",
   "metadata": {},
   "source": [
    "### Wichtige Hinweise zum Umgang mit *Earth Engine*\n",
    "\n",
    "- Die eigentlichen Daten liegen auf einem Google Server und verbrauchen sehr viel Speicherplatz\n",
    "\n",
    "- Python bietet eine Schnittstelle in die Datenbank\n",
    "\n",
    "- Python-Code innerhalb von *ee* funktioniert ähnlich wie SQL: Er führt eine Datenbankabfrage auf dem Server aus\n",
    "\n",
    "- Oftmals ist es wichtig, dass man die gewünschten Daten vor dem Download geziehlt auswählt\n",
    "\n",
    "- Ansonsten muss man lange auf die Anfrage warten oder man kriegt eine Warnung wegen Speicherbegrenzung\n",
    "\n",
    "Ein sehr guter Überblick über die Syntax gibt es im [GEE Tutorials](https://tutorials.geemap.org)"
   ]
  },
  {
   "cell_type": "markdown",
   "metadata": {},
   "source": [
    "## Ein Bild als Raster \n",
    "\n",
    "Quelle: [ArcGIS](https://desktop.arcgis.com/en/arcmap/10.3/manage-data/geodatabases/raster-basics.htm)\n",
    "\n",
    "<img width=400 style=\"float: left;\" src=\"images\\image_raster.gif\">"
   ]
  },
  {
   "cell_type": "markdown",
   "metadata": {},
   "source": [
    "## Interaktive Karten\n",
    "\n",
    "- Das *Earth Engine* *Advanced Programming Interface* (*API*) für Python lernt man am besten in Kombination mit interaktiven Karten\n",
    "\n",
    "- Mit dem Python-Paket *geemap* lassen sich ganz einfach interaktive Karten erstellen\n",
    "\n",
    "- Damit lassen sich Datensätze grafisch untersuchen, bearbeiten und exportieren\n"
   ]
  },
  {
   "cell_type": "code",
   "execution_count": 4,
   "metadata": {
    "scrolled": true
   },
   "outputs": [
    {
     "data": {
      "application/vnd.jupyter.widget-view+json": {
       "model_id": "52d1d05b072b44fc93e6ddfe7e5adcf5",
       "version_major": 2,
       "version_minor": 0
      },
      "text/plain": [
       "Map(center=[49.014, 8.405], controls=(WidgetControl(options=['position', 'transparent_bg'], widget=HBox(childr…"
      ]
     },
     "metadata": {},
     "output_type": "display_data"
    }
   ],
   "source": [
    "KA_map = geemap.Map(location=[49.014, 8.405], zoom_start=14)\n",
    "KA_map"
   ]
  },
  {
   "cell_type": "code",
   "execution_count": 5,
   "metadata": {
    "scrolled": true
   },
   "outputs": [
    {
     "data": {
      "application/vnd.jupyter.widget-view+json": {
       "model_id": "cbb8bde6efb74d649a52ad343c366408",
       "version_major": 2,
       "version_minor": 0
      },
      "text/plain": [
       "Map(center=[49.014, 8.405], controls=(WidgetControl(options=['position', 'transparent_bg'], widget=HBox(childr…"
      ]
     },
     "metadata": {},
     "output_type": "display_data"
    }
   ],
   "source": [
    "KA_map = geemap.Map(location=[49.014, 8.405], zoom_start=14, basemap='HYBRID')\n",
    "KA_map"
   ]
  },
  {
   "cell_type": "markdown",
   "metadata": {},
   "source": [
    "### *ee.Image* in die Karte laden\n",
    "\n",
    "- Als Beispiel laden wir ein digitales Höhenmodell in die Karte\n",
    "\n",
    "- Das Höhenmodell ist von der [NASA Shuttle Radar Topography Mission](https://developers.google.com/earth-engine/datasets/catalog/USGS_SRTMGL1_003)\n",
    "\n",
    "- Die horizontale Auflösung der Pixel ist ungefär 1 Arcsekunde oder 30 m auf der Erdoberfläche"
   ]
  },
  {
   "cell_type": "code",
   "execution_count": 6,
   "metadata": {
    "scrolled": true
   },
   "outputs": [
    {
     "data": {
      "application/vnd.jupyter.widget-view+json": {
       "model_id": "3b88bb4455af4d6fa4409fe4801f2c56",
       "version_major": 2,
       "version_minor": 0
      },
      "text/plain": [
       "Map(center=[49.014, 8.405], controls=(WidgetControl(options=['position', 'transparent_bg'], widget=HBox(childr…"
      ]
     },
     "metadata": {},
     "output_type": "display_data"
    }
   ],
   "source": [
    "# load an image ...\n",
    "image = ee.Image('USGS/SRTMGL1_003')\n",
    "\n",
    "# visualise the image on a dynamic map\n",
    "EU_map = geemap.Map(location=[49.014, 8.405], zoom_start=5)\n",
    "vis_params = {'min': 0, 'max': 4000, 'palette': cm.palettes.dem}\n",
    "EU_map.addLayer(image, vis_params, 'SRTM DEM', True, 0.7)\n",
    "\n",
    "EU_map"
   ]
  },
  {
   "cell_type": "markdown",
   "metadata": {},
   "source": [
    "### *ee.Feature* in die Karte laden\n",
    "\n",
    "- Als nächstes Beispiel laden wir eine Karte der Abflüsse\n",
    "\n",
    "- Dieser Datensatz bietet Polylinien, die Flussnetzwerke darstellen, abgeleitet von und konsistent mit anderen HydroSHEDS-Datensätzen\n",
    "\n",
    "- Die Daten stammen von der [HydroSHEDS Free Flowing Rivers Network v1](https://developers.google.com/earth-engine/datasets/catalog/WWF_HydroSHEDS_v1_FreeFlowingRivers)\n",
    "\n",
    "- Die Auflösung ist ungefär 15 Arcsekunden oder 500 m am Äquator"
   ]
  },
  {
   "cell_type": "code",
   "execution_count": 7,
   "metadata": {
    "scrolled": true
   },
   "outputs": [
    {
     "data": {
      "application/vnd.jupyter.widget-view+json": {
       "model_id": "25936ac7ed4648998a7b1e25788954c4",
       "version_major": 2,
       "version_minor": 0
      },
      "text/plain": [
       "Map(center=[49.014, 8.405], controls=(WidgetControl(options=['position', 'transparent_bg'], widget=HBox(childr…"
      ]
     },
     "metadata": {},
     "output_type": "display_data"
    }
   ],
   "source": [
    "feature = ee.FeatureCollection('WWF/HydroSHEDS/v1/FreeFlowingRivers')\n",
    "\n",
    "globe = geemap.Map(location=[49.014, 8.405], zoom_start=10)\n",
    "vis_params = {'color': \"024ACA\", 'width': 1.0}\n",
    "globe.addLayer(feature, vis_params, name='Rivers')\n",
    "globe"
   ]
  },
  {
   "cell_type": "markdown",
   "metadata": {},
   "source": [
    "## Dateneigenschaften\n",
    "\n",
    "Am wichtigsten sind die Metadaten eines Rasters:"
   ]
  },
  {
   "cell_type": "code",
   "execution_count": 8,
   "metadata": {},
   "outputs": [
    {
     "data": {
      "text/plain": [
       "{'type': 'Image',\n",
       " 'bands': [{'id': 'elevation',\n",
       "   'data_type': {'type': 'PixelType',\n",
       "    'precision': 'int',\n",
       "    'min': -32768,\n",
       "    'max': 32767},\n",
       "   'dimensions': [1296001, 417601],\n",
       "   'crs': 'EPSG:4326',\n",
       "   'crs_transform': [0.0002777777777777778,\n",
       "    0,\n",
       "    -180.0001388888889,\n",
       "    0,\n",
       "    -0.0002777777777777778,\n",
       "    60.00013888888889]}],\n",
       " 'id': 'USGS/SRTMGL1_003',\n",
       " 'version': 1641990767055141,\n",
       " 'properties': {'system:visualization_0_min': '0.0',\n",
       "  'type_name': 'Image',\n",
       "  'keywords': ['dem',\n",
       "   'elevation',\n",
       "   'geophysical',\n",
       "   'nasa',\n",
       "   'srtm',\n",
       "   'topography',\n",
       "   'usgs'],\n",
       "  'thumb': 'https://mw1.google.com/ges/dd/images/SRTM90_V4_thumb.png',\n",
       "  'description': '<p>The Shuttle Radar Topography Mission (SRTM, see <a href=\"https://onlinelibrary.wiley.com/doi/10.1029/2005RG000183/full\">Farr\\net al. 2007</a>)\\ndigital elevation data is an international research effort that\\nobtained digital elevation models on a near-global scale. This\\nSRTM V3 product (SRTM Plus) is provided by NASA JPL\\nat a resolution of 1 arc-second (approximately 30m).</p><p>This dataset has undergone a void-filling process using open-source data\\n(ASTER GDEM2, GMTED2010, and NED), as opposed to other versions that\\ncontain voids or have been void-filled with commercial sources.\\nFor more information on the different versions see the\\n<a href=\"https://lpdaac.usgs.gov/documents/13/SRTM_Quick_Guide.pdf\">SRTM Quick Guide</a>.</p><p>Documentation:</p><ul><li><p><a href=\"https://lpdaac.usgs.gov/documents/179/SRTM_User_Guide_V3.pdf\">User&#39;s Guide</a></p></li><li><p><a href=\"https://lpdaac.usgs.gov/documents/13/SRTM_Quick_Guide.pdf\">General Documentation</a></p></li><li><p><a href=\"https://doi.org/10.1029/2005RG000183\">Algorithm Theoretical Basis Document (ATBD)</a></p></li></ul><p><b>Provider: <a href=\"https://cmr.earthdata.nasa.gov/search/concepts/C1000000240-LPDAAC_ECS.html\">NASA / USGS / JPL-Caltech</a></b><br><p><b>Bands</b><table class=\"eecat\"><tr><th scope=\"col\">Name</th><th scope=\"col\">Description</th></tr><tr><td>elevation</td><td><p>Elevation</p></td></tr></table><p><b>Terms of Use</b><br><p>Unless otherwise noted, images and video on JPL public\\nweb sites (public sites ending with a jpl.nasa.gov address) may\\nbe used for any purpose without prior permission. For more information\\nand exceptions visit the <a href=\"https://www.jpl.nasa.gov/imagepolicy/\">JPL Image Use Policy site</a>.</p><p><b>Suggested citation(s)</b><ul><li><p>Farr, T.G., Rosen, P.A., Caro, E., Crippen, R., Duren, R., Hensley,\\nS., Kobrick, M., Paller, M., Rodriguez, E., Roth, L., Seal, D.,\\nShaffer, S., Shimada, J., Umland, J., Werner, M., Oskin, M., Burbank,\\nD., and Alsdorf, D.E., 2007, The shuttle radar topography mission:\\nReviews of Geophysics, v. 45, no. 2, RG2004, at\\n<a href=\"https://doi.org/10.1029/2005RG000183\">https://doi.org/10.1029/2005RG000183</a>.</p></li></ul><style>\\n  table.eecat {\\n  border: 1px solid black;\\n  border-collapse: collapse;\\n  font-size: 13px;\\n  }\\n  table.eecat td, tr, th {\\n  text-align: left; vertical-align: top;\\n  border: 1px solid gray; padding: 3px;\\n  }\\n  td.nobreak { white-space: nowrap; }\\n</style>',\n",
       "  'source_tags': ['nasa', 'usgs'],\n",
       "  'visualization_0_max': '6000.0',\n",
       "  'title': 'NASA SRTM Digital Elevation 30m',\n",
       "  'product_tags': ['srtm', 'elevation', 'topography', 'dem', 'geophysical'],\n",
       "  'provider': 'NASA / USGS / JPL-Caltech',\n",
       "  'visualization_0_min': '0.0',\n",
       "  'visualization_0_name': 'Elevation',\n",
       "  'date_range': [950227200000, 951177600000],\n",
       "  'system:visualization_0_gamma': '1.6',\n",
       "  'period': 0,\n",
       "  'system:visualization_0_bands': 'elevation',\n",
       "  'provider_url': 'https://cmr.earthdata.nasa.gov/search/concepts/C1000000240-LPDAAC_ECS.html',\n",
       "  'visualization_0_gamma': '1.6',\n",
       "  'sample': 'https://mw1.google.com/ges/dd/images/SRTM90_V4_sample.png',\n",
       "  'tags': ['dem',\n",
       "   'elevation',\n",
       "   'geophysical',\n",
       "   'nasa',\n",
       "   'srtm',\n",
       "   'topography',\n",
       "   'usgs'],\n",
       "  'system:visualization_0_max': '6000.0',\n",
       "  'system:visualization_0_name': 'Elevation',\n",
       "  'system:asset_size': 132792638252,\n",
       "  'visualization_0_bands': 'elevation'}}"
      ]
     },
     "execution_count": 8,
     "metadata": {},
     "output_type": "execute_result"
    }
   ],
   "source": [
    "# print the MetaData\n",
    "metadata = image.getInfo()\n",
    "metadata"
   ]
  },
  {
   "cell_type": "markdown",
   "metadata": {},
   "source": [
    "Diese sind als *dictionary* Objekt gespeichert und enthlten sämtliche Beschreibungen zum Datensatz."
   ]
  },
  {
   "cell_type": "code",
   "execution_count": 9,
   "metadata": {},
   "outputs": [
    {
     "data": {
      "text/plain": [
       "dict_keys(['type', 'bands', 'id', 'version', 'properties'])"
      ]
     },
     "execution_count": 9,
     "metadata": {},
     "output_type": "execute_result"
    }
   ],
   "source": [
    "metadata.keys()"
   ]
  },
  {
   "cell_type": "markdown",
   "metadata": {},
   "source": [
    "### Bildkanäle\n",
    "\n",
    "- *ee.Images* können sogennante *bands* (auf deutsch Kanäle) enthalten\n",
    "\n",
    "- Diese können aus unterschiedlichen Eigenschaften bestehen\n",
    "\n",
    "- Beispiel: *Red Green Blue* (RGB) für das sichtbare Spektrum"
   ]
  },
  {
   "cell_type": "markdown",
   "metadata": {},
   "source": [
    "Quelle: [Humboldt State University](https://gsp.humboldt.edu/OLM/Courses/GSP_216_Online/lesson3-1/bands.html)\n",
    "\n",
    "<img width=500 style=\"float: left;\" src=\"images\\image_bands.jpg\">"
   ]
  },
  {
   "cell_type": "code",
   "execution_count": 10,
   "metadata": {},
   "outputs": [],
   "source": [
    "# load the image ...\n",
    "landsat = ee.Image('LANDSAT/LC08/C01/T1/LC08_044034_20140318')"
   ]
  },
  {
   "cell_type": "code",
   "execution_count": 11,
   "metadata": {},
   "outputs": [
    {
     "name": "stdout",
     "output_type": "stream",
     "text": [
      "Band names: ['B1', 'B2', 'B3', 'B4', 'B5', 'B6', 'B7', 'B8', 'B9', 'B10', 'B11', 'BQA']\n"
     ]
    }
   ],
   "source": [
    "# Get information about the bands as a list\n",
    "bandNames = landsat.bandNames()\n",
    "print('Band names: ' + str(bandNames.getInfo()))"
   ]
  },
  {
   "cell_type": "markdown",
   "metadata": {},
   "source": [
    "Bildkanäle können gezielt ausgewählt werden:"
   ]
  },
  {
   "cell_type": "code",
   "execution_count": 12,
   "metadata": {},
   "outputs": [
    {
     "data": {
      "text/plain": [
       "{'type': 'Image',\n",
       " 'bands': [{'id': 'B3',\n",
       "   'data_type': {'type': 'PixelType',\n",
       "    'precision': 'int',\n",
       "    'min': 0,\n",
       "    'max': 65535},\n",
       "   'dimensions': [7661, 7801],\n",
       "   'crs': 'EPSG:32610',\n",
       "   'crs_transform': [30, 0, 460785, 0, -30, 4264215]}],\n",
       " 'id': 'LANDSAT/LC08/C01/T1/LC08_044034_20140318',\n",
       " 'version': 1497472259022000.0,\n",
       " 'properties': {'RADIANCE_MULT_BAND_5': 0.006170900072902441,\n",
       "  'RADIANCE_MULT_BAND_6': 0.001534600043669343,\n",
       "  'RADIANCE_MULT_BAND_3': 0.011958000250160694,\n",
       "  'RADIANCE_MULT_BAND_4': 0.010084000416100025,\n",
       "  'RADIANCE_MULT_BAND_1': 0.012672999873757362,\n",
       "  'RADIANCE_MULT_BAND_2': 0.012977000325918198,\n",
       "  'K2_CONSTANT_BAND_11': 1201.1441650390625,\n",
       "  'K2_CONSTANT_BAND_10': 1321.078857421875,\n",
       "  'system:footprint': {'type': 'LinearRing',\n",
       "   'coordinates': [[-121.3637119499993, 36.41016684133052],\n",
       "    [-121.35905784815819, 36.42528989660049],\n",
       "    [-121.2315833015866, 36.840374852891664],\n",
       "    [-121.09978718573184, 37.26438246506325],\n",
       "    [-121.00571062336425, 37.564795515259384],\n",
       "    [-120.98453376062118, 37.632161601008896],\n",
       "    [-120.95100979452299, 37.73864548098522],\n",
       "    [-120.90277241165228, 37.89149086576169],\n",
       "    [-120.8836409072059, 37.951976016520376],\n",
       "    [-120.85713152433351, 38.03584247073611],\n",
       "    [-120.82804345546616, 38.12789513604401],\n",
       "    [-122.38148159443172, 38.42337450676813],\n",
       "    [-122.9500220192271, 38.525813632077686],\n",
       "    [-122.95103687833704, 38.52422133103557],\n",
       "    [-122.9569591344694, 38.504384836247866],\n",
       "    [-123.43853932998316, 36.805122381748035],\n",
       "    [-123.18722447462653, 36.759167415189125],\n",
       "    [-121.5105534682754, 36.43765126135182],\n",
       "    [-121.36447385999617, 36.408418528930035],\n",
       "    [-121.3637119499993, 36.41016684133052]]},\n",
       "  'REFLECTIVE_SAMPLES': 7661,\n",
       "  'SUN_AZIMUTH': 146.2395782470703,\n",
       "  'CPF_NAME': 'LC08CPF_20140101_20140331_01.01',\n",
       "  'DATE_ACQUIRED': '2014-03-18',\n",
       "  'ELLIPSOID': 'WGS84',\n",
       "  'google:registration_offset_x': 0,\n",
       "  'google:registration_offset_y': 0,\n",
       "  'STATION_ID': 'LGN',\n",
       "  'RESAMPLING_OPTION': 'CUBIC_CONVOLUTION',\n",
       "  'ORIENTATION': 'NORTH_UP',\n",
       "  'WRS_ROW': 34,\n",
       "  'RADIANCE_MULT_BAND_9': 0.0024117000866681337,\n",
       "  'TARGET_WRS_ROW': 34,\n",
       "  'RADIANCE_MULT_BAND_7': 0.0005172499804757535,\n",
       "  'RADIANCE_MULT_BAND_8': 0.0114120002835989,\n",
       "  'IMAGE_QUALITY_TIRS': 9,\n",
       "  'TRUNCATION_OLI': 'UPPER',\n",
       "  'CLOUD_COVER': 0.05999999865889549,\n",
       "  'GEOMETRIC_RMSE_VERIFY': 3.249000072479248,\n",
       "  'COLLECTION_CATEGORY': 'T1',\n",
       "  'GRID_CELL_SIZE_REFLECTIVE': 30,\n",
       "  'CLOUD_COVER_LAND': 0.10000000149011612,\n",
       "  'GEOMETRIC_RMSE_MODEL': 6.78000020980835,\n",
       "  'COLLECTION_NUMBER': 1,\n",
       "  'IMAGE_QUALITY_OLI': 9,\n",
       "  'LANDSAT_SCENE_ID': 'LC80440342014077LGN01',\n",
       "  'WRS_PATH': 44,\n",
       "  'google:registration_count': 0,\n",
       "  'PANCHROMATIC_SAMPLES': 15321,\n",
       "  'PANCHROMATIC_LINES': 15601,\n",
       "  'GEOMETRIC_RMSE_MODEL_Y': 4.747000217437744,\n",
       "  'REFLECTIVE_LINES': 7801,\n",
       "  'TIRS_STRAY_LIGHT_CORRECTION_SOURCE': 'TIRS',\n",
       "  'GEOMETRIC_RMSE_MODEL_X': 4.841000080108643,\n",
       "  'system:asset_size': 1105511852,\n",
       "  'system:index': 'LC08_044034_20140318',\n",
       "  'REFLECTANCE_ADD_BAND_1': -0.10000000149011612,\n",
       "  'REFLECTANCE_ADD_BAND_2': -0.10000000149011612,\n",
       "  'DATUM': 'WGS84',\n",
       "  'REFLECTANCE_ADD_BAND_3': -0.10000000149011612,\n",
       "  'REFLECTANCE_ADD_BAND_4': -0.10000000149011612,\n",
       "  'RLUT_FILE_NAME': 'LC08RLUT_20130211_20150302_01_11.h5',\n",
       "  'REFLECTANCE_ADD_BAND_5': -0.10000000149011612,\n",
       "  'REFLECTANCE_ADD_BAND_6': -0.10000000149011612,\n",
       "  'REFLECTANCE_ADD_BAND_7': -0.10000000149011612,\n",
       "  'REFLECTANCE_ADD_BAND_8': -0.10000000149011612,\n",
       "  'BPF_NAME_TIRS': 'LT8BPF20140318182855_20140318190505.01',\n",
       "  'GROUND_CONTROL_POINTS_VERSION': 4,\n",
       "  'DATA_TYPE': 'L1TP',\n",
       "  'UTM_ZONE': 10,\n",
       "  'LANDSAT_PRODUCT_ID': 'LC08_L1TP_044034_20140318_20170307_01_T1',\n",
       "  'REFLECTANCE_ADD_BAND_9': -0.10000000149011612,\n",
       "  'google:registration_ratio': 0,\n",
       "  'GRID_CELL_SIZE_PANCHROMATIC': 15,\n",
       "  'RADIANCE_ADD_BAND_4': -50.419559478759766,\n",
       "  'REFLECTANCE_MULT_BAND_7': 1.9999999494757503e-05,\n",
       "  'system:time_start': 1395168392050,\n",
       "  'RADIANCE_ADD_BAND_5': -30.854249954223633,\n",
       "  'REFLECTANCE_MULT_BAND_6': 1.9999999494757503e-05,\n",
       "  'RADIANCE_ADD_BAND_6': -7.67317008972168,\n",
       "  'REFLECTANCE_MULT_BAND_9': 1.9999999494757503e-05,\n",
       "  'PROCESSING_SOFTWARE_VERSION': 'LPGS_2.7.0',\n",
       "  'RADIANCE_ADD_BAND_7': -2.5862700939178467,\n",
       "  'REFLECTANCE_MULT_BAND_8': 1.9999999494757503e-05,\n",
       "  'RADIANCE_ADD_BAND_1': -63.364051818847656,\n",
       "  'RADIANCE_ADD_BAND_2': -64.88555908203125,\n",
       "  'RADIANCE_ADD_BAND_3': -59.79148864746094,\n",
       "  'REFLECTANCE_MULT_BAND_1': 1.9999999494757503e-05,\n",
       "  'RADIANCE_ADD_BAND_8': -57.06106185913086,\n",
       "  'REFLECTANCE_MULT_BAND_3': 1.9999999494757503e-05,\n",
       "  'RADIANCE_ADD_BAND_9': -12.058540344238281,\n",
       "  'REFLECTANCE_MULT_BAND_2': 1.9999999494757503e-05,\n",
       "  'REFLECTANCE_MULT_BAND_5': 1.9999999494757503e-05,\n",
       "  'REFLECTANCE_MULT_BAND_4': 1.9999999494757503e-05,\n",
       "  'THERMAL_LINES': 7801,\n",
       "  'TIRS_SSM_POSITION_STATUS': 'NOMINAL',\n",
       "  'GRID_CELL_SIZE_THERMAL': 30,\n",
       "  'NADIR_OFFNADIR': 'NADIR',\n",
       "  'RADIANCE_ADD_BAND_11': 0.10000000149011612,\n",
       "  'REQUEST_ID': '0501703063989_00019',\n",
       "  'EARTH_SUN_DISTANCE': 0.9953709244728088,\n",
       "  'TIRS_SSM_MODEL': 'ACTUAL',\n",
       "  'FILE_DATE': 1488849349000,\n",
       "  'SCENE_CENTER_TIME': '18:46:32.0535800Z',\n",
       "  'SUN_ELEVATION': 46.471065521240234,\n",
       "  'BPF_NAME_OLI': 'LO8BPF20140318183249_20140318190412.01',\n",
       "  'RADIANCE_ADD_BAND_10': 0.10000000149011612,\n",
       "  'ROLL_ANGLE': -0.0010000000474974513,\n",
       "  'K1_CONSTANT_BAND_10': 774.8853149414062,\n",
       "  'SATURATION_BAND_1': 'Y',\n",
       "  'SATURATION_BAND_2': 'Y',\n",
       "  'SATURATION_BAND_3': 'Y',\n",
       "  'SATURATION_BAND_4': 'Y',\n",
       "  'SATURATION_BAND_5': 'Y',\n",
       "  'MAP_PROJECTION': 'UTM',\n",
       "  'SATURATION_BAND_6': 'Y',\n",
       "  'SENSOR_ID': 'OLI_TIRS',\n",
       "  'SATURATION_BAND_7': 'Y',\n",
       "  'K1_CONSTANT_BAND_11': 480.8883056640625,\n",
       "  'SATURATION_BAND_8': 'N',\n",
       "  'SATURATION_BAND_9': 'N',\n",
       "  'TARGET_WRS_PATH': 44,\n",
       "  'RADIANCE_MULT_BAND_11': 0.00033420001273043454,\n",
       "  'RADIANCE_MULT_BAND_10': 0.00033420001273043454,\n",
       "  'GROUND_CONTROL_POINTS_MODEL': 527,\n",
       "  'SPACECRAFT_ID': 'LANDSAT_8',\n",
       "  'ELEVATION_SOURCE': 'GLS2000',\n",
       "  'THERMAL_SAMPLES': 7661,\n",
       "  'GROUND_CONTROL_POINTS_VERIFY': 164}}"
      ]
     },
     "execution_count": 12,
     "metadata": {},
     "output_type": "execute_result"
    }
   ],
   "source": [
    "img_b3 = landsat.select('B3')\n",
    "img_b3.getInfo()"
   ]
  },
  {
   "cell_type": "markdown",
   "metadata": {},
   "source": [
    "### Weitere Dateneigenschaften"
   ]
  },
  {
   "cell_type": "code",
   "execution_count": 13,
   "metadata": {},
   "outputs": [
    {
     "name": "stdout",
     "output_type": "stream",
     "text": [
      "Band B1 projection: {'type': 'Projection', 'crs': 'EPSG:32610', 'transform': [30, 0, 460785, 0, -30, 4264215]}\n"
     ]
    }
   ],
   "source": [
    "# Get projection information from band B1\n",
    "b1proj = landsat.select('B1').projection()\n",
    "print('Band B1 projection: ' + str(b1proj.getInfo()))"
   ]
  },
  {
   "cell_type": "code",
   "execution_count": 14,
   "metadata": {},
   "outputs": [
    {
     "name": "stdout",
     "output_type": "stream",
     "text": [
      "Band B1 scale: 30\n"
     ]
    }
   ],
   "source": [
    "# Get scale (in meters) information from band 1.\n",
    "elvscale = landsat.select('B1').projection().nominalScale()\n",
    "print('Band B1 scale: ' + str(elvscale.getInfo()))"
   ]
  },
  {
   "cell_type": "code",
   "execution_count": 15,
   "metadata": {},
   "outputs": [
    {
     "name": "stdout",
     "output_type": "stream",
     "text": [
      "Metadata properties: ['RADIANCE_MULT_BAND_5', 'RADIANCE_MULT_BAND_6', 'RADIANCE_MULT_BAND_3', 'RADIANCE_MULT_BAND_4', 'RADIANCE_MULT_BAND_1', 'RADIANCE_MULT_BAND_2', 'system:id', 'K2_CONSTANT_BAND_11', 'K2_CONSTANT_BAND_10', 'system:footprint', 'REFLECTIVE_SAMPLES', 'SUN_AZIMUTH', 'CPF_NAME', 'DATE_ACQUIRED', 'ELLIPSOID', 'google:registration_offset_x', 'google:registration_offset_y', 'STATION_ID', 'RESAMPLING_OPTION', 'ORIENTATION', 'WRS_ROW', 'RADIANCE_MULT_BAND_9', 'TARGET_WRS_ROW', 'RADIANCE_MULT_BAND_7', 'RADIANCE_MULT_BAND_8', 'IMAGE_QUALITY_TIRS', 'TRUNCATION_OLI', 'CLOUD_COVER', 'GEOMETRIC_RMSE_VERIFY', 'COLLECTION_CATEGORY', 'GRID_CELL_SIZE_REFLECTIVE', 'CLOUD_COVER_LAND', 'GEOMETRIC_RMSE_MODEL', 'COLLECTION_NUMBER', 'IMAGE_QUALITY_OLI', 'LANDSAT_SCENE_ID', 'WRS_PATH', 'google:registration_count', 'PANCHROMATIC_SAMPLES', 'PANCHROMATIC_LINES', 'GEOMETRIC_RMSE_MODEL_Y', 'REFLECTIVE_LINES', 'TIRS_STRAY_LIGHT_CORRECTION_SOURCE', 'GEOMETRIC_RMSE_MODEL_X', 'system:asset_size', 'system:index', 'REFLECTANCE_ADD_BAND_1', 'REFLECTANCE_ADD_BAND_2', 'DATUM', 'REFLECTANCE_ADD_BAND_3', 'REFLECTANCE_ADD_BAND_4', 'RLUT_FILE_NAME', 'REFLECTANCE_ADD_BAND_5', 'REFLECTANCE_ADD_BAND_6', 'REFLECTANCE_ADD_BAND_7', 'REFLECTANCE_ADD_BAND_8', 'BPF_NAME_TIRS', 'system:version', 'GROUND_CONTROL_POINTS_VERSION', 'DATA_TYPE', 'UTM_ZONE', 'LANDSAT_PRODUCT_ID', 'REFLECTANCE_ADD_BAND_9', 'google:registration_ratio', 'GRID_CELL_SIZE_PANCHROMATIC', 'RADIANCE_ADD_BAND_4', 'REFLECTANCE_MULT_BAND_7', 'system:time_start', 'RADIANCE_ADD_BAND_5', 'REFLECTANCE_MULT_BAND_6', 'RADIANCE_ADD_BAND_6', 'REFLECTANCE_MULT_BAND_9', 'PROCESSING_SOFTWARE_VERSION', 'RADIANCE_ADD_BAND_7', 'REFLECTANCE_MULT_BAND_8', 'RADIANCE_ADD_BAND_1', 'RADIANCE_ADD_BAND_2', 'RADIANCE_ADD_BAND_3', 'REFLECTANCE_MULT_BAND_1', 'RADIANCE_ADD_BAND_8', 'REFLECTANCE_MULT_BAND_3', 'RADIANCE_ADD_BAND_9', 'REFLECTANCE_MULT_BAND_2', 'REFLECTANCE_MULT_BAND_5', 'REFLECTANCE_MULT_BAND_4', 'THERMAL_LINES', 'TIRS_SSM_POSITION_STATUS', 'GRID_CELL_SIZE_THERMAL', 'NADIR_OFFNADIR', 'RADIANCE_ADD_BAND_11', 'REQUEST_ID', 'EARTH_SUN_DISTANCE', 'TIRS_SSM_MODEL', 'FILE_DATE', 'SCENE_CENTER_TIME', 'SUN_ELEVATION', 'BPF_NAME_OLI', 'RADIANCE_ADD_BAND_10', 'ROLL_ANGLE', 'K1_CONSTANT_BAND_10', 'SATURATION_BAND_1', 'SATURATION_BAND_2', 'SATURATION_BAND_3', 'SATURATION_BAND_4', 'SATURATION_BAND_5', 'MAP_PROJECTION', 'SATURATION_BAND_6', 'SENSOR_ID', 'SATURATION_BAND_7', 'K1_CONSTANT_BAND_11', 'SATURATION_BAND_8', 'SATURATION_BAND_9', 'TARGET_WRS_PATH', 'RADIANCE_MULT_BAND_11', 'RADIANCE_MULT_BAND_10', 'GROUND_CONTROL_POINTS_MODEL', 'SPACECRAFT_ID', 'ELEVATION_SOURCE', 'THERMAL_SAMPLES', 'GROUND_CONTROL_POINTS_VERIFY', 'system:bands', 'system:band_names']\n"
     ]
    }
   ],
   "source": [
    "# Get a list of all metadata properties.\n",
    "properties = landsat.propertyNames()\n",
    "print('Metadata properties: ' + str(properties.getInfo()))"
   ]
  },
  {
   "cell_type": "code",
   "execution_count": 16,
   "metadata": {},
   "outputs": [
    {
     "name": "stdout",
     "output_type": "stream",
     "text": [
      "CLOUD_COVER: 0.05999999865889549\n"
     ]
    }
   ],
   "source": [
    "# Get a specific metadata property.\n",
    "cloudiness = landsat.get('CLOUD_COVER')\n",
    "print('CLOUD_COVER: '+str(cloudiness.getInfo()))"
   ]
  },
  {
   "cell_type": "code",
   "execution_count": 17,
   "metadata": {},
   "outputs": [
    {
     "name": "stdout",
     "output_type": "stream",
     "text": [
      "Time epoch: 1395168392050 milliseconds (since 1970)\n",
      "Timestamp: 2014-03-19 05:46:32\n"
     ]
    }
   ],
   "source": [
    "# Get the timestamp and convert it to a date.\n",
    "date = landsat.get('system:time_start')\n",
    "print('Time epoch: ' + str(date.getInfo()) + ' milliseconds (since 1970)')\n",
    "dt_iso = dt.datetime.fromtimestamp(date.getInfo() // 1000)\n",
    "print('Timestamp: ' + str(dt_iso))"
   ]
  },
  {
   "cell_type": "markdown",
   "metadata": {},
   "source": [
    "## Die räumliche Dimension\n",
    "\n",
    "- Viele Datensätze haben eine vorgegebene regionale oder globale Abdeckung\n",
    "\n",
    "- Oftmals möchte man nur Daten von bestimmte Regionen analysieren\n",
    "\n",
    "- Für die Begrenzung gibt es eingebaute Funktionalität\n"
   ]
  },
  {
   "cell_type": "code",
   "execution_count": 18,
   "metadata": {
    "scrolled": true
   },
   "outputs": [],
   "source": [
    "# load the SRTM image\n",
    "image = ee.Image('USGS/SRTMGL1_003')\n",
    "\n",
    "# Create a circle by drawing a 20000 meter buffer around a point.\n",
    "roi = ee.Geometry.Rectangle([8.1, 48.9, 8.7, 49.1])\n",
    "\n",
    "# Clip the dataset ...\n",
    "image_clipped = image.clip(roi)"
   ]
  },
  {
   "cell_type": "code",
   "execution_count": 19,
   "metadata": {},
   "outputs": [
    {
     "data": {
      "application/vnd.jupyter.widget-view+json": {
       "model_id": "148c1e10986c4d568f5e263a2b15f722",
       "version_major": 2,
       "version_minor": 0
      },
      "text/plain": [
       "Map(center=[49.014, 8.405], controls=(WidgetControl(options=['position', 'transparent_bg'], widget=HBox(childr…"
      ]
     },
     "metadata": {},
     "output_type": "display_data"
    }
   ],
   "source": [
    "# visualise the clipped dataset\n",
    "globe = geemap.Map(location=[49.014, 8.405], zoom=10)\n",
    "vis_params = {'min': 100, 'max': 400, 'palette': cm.palettes.dem}\n",
    "globe.addLayer(image_clipped, vis_params, 'SRTM DEM', True, 0.9)\n",
    "\n",
    "KA = ee.Geometry.Point([8.407, 49.015])\n",
    "globe.addLayer(KA)\n",
    "\n",
    "globe"
   ]
  },
  {
   "cell_type": "code",
   "execution_count": 20,
   "metadata": {
    "scrolled": true
   },
   "outputs": [
    {
     "data": {
      "application/vnd.jupyter.widget-view+json": {
       "model_id": "b47e01dd26da4ef296f0123a4e6fa819",
       "version_major": 2,
       "version_minor": 0
      },
      "text/plain": [
       "Map(center=[49.014, 8.405], controls=(WidgetControl(options=['position', 'transparent_bg'], widget=HBox(childr…"
      ]
     },
     "metadata": {},
     "output_type": "display_data"
    }
   ],
   "source": [
    "# Create a circle by drawing a 10000 meter buffer around a point.\n",
    "roi = ee.Geometry.Point([8.405,49.014]).buffer(100000)\n",
    "\n",
    "# clip the dataset\n",
    "image_clipped = image.clip(roi)\n",
    "\n",
    "# visualise the clipped dataset\n",
    "globe = geemap.Map(location=[49.014, 8.405], zoom=8)\n",
    "vis_params = {'min': 100, 'max': 1000, 'palette': cm.palettes.dem}\n",
    "globe.addLayer(image_clipped, vis_params, 'SRTM DEM', True, 0.9)\n",
    "\n",
    "colors = vis_params['palette']\n",
    "vmin = vis_params['min']\n",
    "vmax = vis_params['max']\n",
    "globe.add_colorbar_branca(colors=colors, vmin=vmin, vmax=vmax, layer_name=\"DEM\")\n",
    "\n",
    "globe"
   ]
  },
  {
   "cell_type": "markdown",
   "metadata": {},
   "source": [
    "## *ee.ImageCollections* als Rasterserien\n",
    "\n",
    "- Für viele Datensätze gibt es Serien, d.h. eine zeitliche Auflösung von Daten\n",
    "\n",
    "- Diese werden immer als *ee.ImageCollections* gespeichert\n",
    "\n",
    "- *ee.ImageCollections* bestehen aus einer Aneinanderreigung von *ee.Image*-Objekten\n",
    "\n",
    "- Einzelne Zeitelemente können anhand von Metadaten extrahiert werden"
   ]
  },
  {
   "cell_type": "markdown",
   "metadata": {},
   "source": [
    "### Inspektion der Metadaten\n",
    "\n",
    "Der erste Schritt ist immer ein Blick auf die Metadaten eines einzelnen Rasters:"
   ]
  },
  {
   "cell_type": "code",
   "execution_count": 21,
   "metadata": {},
   "outputs": [
    {
     "data": {
      "text/plain": [
       "{'type': 'Image',\n",
       " 'bands': [{'id': 'sea_surface_temperature',\n",
       "   'data_type': {'type': 'PixelType', 'precision': 'float'},\n",
       "   'dimensions': [1440, 720],\n",
       "   'crs': 'EPSG:4326',\n",
       "   'crs_transform': [0.25, 0, -180, 0, -0.25, 90]},\n",
       "  {'id': 'fill_missing_qc',\n",
       "   'data_type': {'type': 'PixelType',\n",
       "    'precision': 'int',\n",
       "    'min': 0,\n",
       "    'max': 255},\n",
       "   'dimensions': [1440, 720],\n",
       "   'crs': 'EPSG:4326',\n",
       "   'crs_transform': [0.25, 0, -180, 0, -0.25, 90]}],\n",
       " 'version': 1516960293924856,\n",
       " 'id': 'NOAA/CDR/SST_WHOI/V2/19880101T00',\n",
       " 'properties': {'system:time_start': 567993600000,\n",
       "  'system:footprint': {'type': 'LinearRing',\n",
       "   'coordinates': [[-180, -90],\n",
       "    [180, -90],\n",
       "    [180, 90],\n",
       "    [-180, 90],\n",
       "    [-180, -90]]},\n",
       "  'system:time_end': 568004400000,\n",
       "  'system:asset_size': 2048775,\n",
       "  'system:index': '19880101T00'}}"
      ]
     },
     "execution_count": 21,
     "metadata": {},
     "output_type": "execute_result"
    }
   ],
   "source": [
    "# load the NOAA/CDR/SST ImageCollection\n",
    "collection = ee.ImageCollection('NOAA/CDR/SST_WHOI/V2')\n",
    "\n",
    "# extract one image from the collection\n",
    "image = ee.Image(collection.first())\n",
    "\n",
    "# print the MetaData\n",
    "image.getInfo()"
   ]
  },
  {
   "cell_type": "code",
   "execution_count": 22,
   "metadata": {},
   "outputs": [
    {
     "name": "stdout",
     "output_type": "stream",
     "text": [
      "Number of images:  98136\n"
     ]
    }
   ],
   "source": [
    "# Get the number of images\n",
    "count = collection.size().getInfo()\n",
    "print('Number of images: ', str(count))"
   ]
  },
  {
   "cell_type": "code",
   "execution_count": 23,
   "metadata": {},
   "outputs": [
    {
     "name": "stdout",
     "output_type": "stream",
     "text": [
      "Start time: 1988-01-01 00:00:00\n",
      "End time: 2021-08-31 21:00:00\n"
     ]
    }
   ],
   "source": [
    "# Get the date range of images in the collection\n",
    "dates = collection.aggregate_array(\"system:time_start\")\n",
    "\n",
    "# convert from milliseconds to datetime format\n",
    "datelist = pd.to_datetime(dates.getInfo(), unit='ms')\n",
    "\n",
    "print('Start time: ' + str(datelist[0]))\n",
    "print('End time: ' + str(datelist[-1]))"
   ]
  },
  {
   "cell_type": "markdown",
   "metadata": {},
   "source": [
    "### Extraktion von Elementen aus Kollektionen\n",
    "\n",
    "Einzelne Daten können aus einer *ee.ImageCollection* extrahiert werden. Dieser Prozess wird als *filtern* bezeichnet.\n",
    "\n",
    "Zuerst müssen wir die Informationen zusammenstellen. Hier zum Beispiel ein *index*:"
   ]
  },
  {
   "cell_type": "code",
   "execution_count": 24,
   "metadata": {
    "scrolled": true
   },
   "outputs": [
    {
     "name": "stdout",
     "output_type": "stream",
     "text": [
      "['19880101T00', '19880101T03', '19880101T06', '19880101T09', '19880101T12', '19880101T15', '19880101T18', '19880101T21', '19880102T00', '19880102T03']\n"
     ]
    }
   ],
   "source": [
    "# aggregate all indices in one array\n",
    "img_ids = collection.aggregate_array(\"system:index\")\n",
    "print(img_ids.getInfo()[:10])"
   ]
  },
  {
   "cell_type": "markdown",
   "metadata": {},
   "source": [
    "Für die Extraktion von einzelnen Rastern ist *filterMetadata()* sehr praktisch. \n",
    "\n",
    "Achtung: Hier sollte man immer noch *first()* verwenden, um ein *ee.Image*-Objekt zu erhalten:"
   ]
  },
  {
   "cell_type": "code",
   "execution_count": 25,
   "metadata": {
    "scrolled": true
   },
   "outputs": [
    {
     "data": {
      "text/plain": [
       "{'type': 'Image',\n",
       " 'bands': [{'id': 'sea_surface_temperature',\n",
       "   'data_type': {'type': 'PixelType', 'precision': 'float'},\n",
       "   'dimensions': [1440, 720],\n",
       "   'crs': 'EPSG:4326',\n",
       "   'crs_transform': [0.25, 0, -180, 0, -0.25, 90]}],\n",
       " 'version': 1516938555927735,\n",
       " 'id': 'NOAA/CDR/SST_WHOI/V2/19880213T12',\n",
       " 'properties': {'system:time_start': 571752000000,\n",
       "  'system:footprint': {'type': 'LinearRing',\n",
       "   'coordinates': [[-180, -90],\n",
       "    [180, -90],\n",
       "    [180, 90],\n",
       "    [-180, 90],\n",
       "    [-180, -90]]},\n",
       "  'system:time_end': 571762800000,\n",
       "  'system:asset_size': 2226788,\n",
       "  'system:index': '19880213T12'}}"
      ]
     },
     "execution_count": 25,
     "metadata": {},
     "output_type": "execute_result"
    }
   ],
   "source": [
    "# extract a desired image from the collection\n",
    "image = ee.Image(collection.filterMetadata('system:index','equals','19880213T12') \\\n",
    "                 .first())\n",
    "\n",
    "# select a band ...\n",
    "image_sst = image.select('sea_surface_temperature')\n",
    "image_sst.getInfo()"
   ]
  },
  {
   "cell_type": "code",
   "execution_count": 26,
   "metadata": {},
   "outputs": [
    {
     "data": {
      "application/vnd.jupyter.widget-view+json": {
       "model_id": "59e731db7822434da4dd13d4af3401b1",
       "version_major": 2,
       "version_minor": 0
      },
      "text/plain": [
       "Map(center=[20, 0], controls=(WidgetControl(options=['position', 'transparent_bg'], widget=HBox(children=(Togg…"
      ]
     },
     "metadata": {},
     "output_type": "display_data"
    }
   ],
   "source": [
    "# visualise the image in a dynamic map\n",
    "globe = geemap.Map(zoom=1)\n",
    "vis_params = {'min': -5, 'max': 35, 'palette': cm.palettes.jet}\n",
    "globe.addLayer(image_sst, vis_params, 'SST', True, 0.7)\n",
    "globe"
   ]
  },
  {
   "cell_type": "markdown",
   "metadata": {},
   "source": [
    "Auch Datum und Zeit können zum Filtern verwendet werden. \n",
    "\n",
    "Schauen wir uns zuerst die verfügbaren Zeitdaten an:"
   ]
  },
  {
   "cell_type": "code",
   "execution_count": 27,
   "metadata": {},
   "outputs": [
    {
     "data": {
      "text/plain": [
       "DatetimeIndex(['1988-01-01 00:00:00', '1988-01-01 03:00:00',\n",
       "               '1988-01-01 06:00:00', '1988-01-01 09:00:00',\n",
       "               '1988-01-01 12:00:00', '1988-01-01 15:00:00',\n",
       "               '1988-01-01 18:00:00', '1988-01-01 21:00:00',\n",
       "               '1988-01-02 00:00:00', '1988-01-02 03:00:00',\n",
       "               ...\n",
       "               '2021-08-30 18:00:00', '2021-08-30 21:00:00',\n",
       "               '2021-08-31 00:00:00', '2021-08-31 03:00:00',\n",
       "               '2021-08-31 06:00:00', '2021-08-31 09:00:00',\n",
       "               '2021-08-31 12:00:00', '2021-08-31 15:00:00',\n",
       "               '2021-08-31 18:00:00', '2021-08-31 21:00:00'],\n",
       "              dtype='datetime64[ns]', length=98136, freq=None)"
      ]
     },
     "execution_count": 27,
     "metadata": {},
     "output_type": "execute_result"
    }
   ],
   "source": [
    "# extract the date and time of images\n",
    "dates = collection.aggregate_array(\"system:time_start\")\n",
    "\n",
    "# convert to a human readable format\n",
    "datelist = pd.to_datetime(dates.getInfo(), unit='ms')\n",
    "datelist"
   ]
  },
  {
   "cell_type": "markdown",
   "metadata": {},
   "source": [
    "Für das Filtern bitte immer das ISO-8601 Format verwenden:"
   ]
  },
  {
   "cell_type": "code",
   "execution_count": 28,
   "metadata": {},
   "outputs": [],
   "source": [
    "# extract image based on date and time\n",
    "dated_image = ee.Image(collection.filterDate('2021-01-30T18:00:00').first())\n",
    "\n",
    "# select the desired image band\n",
    "dated_image = dated_image.select('sea_surface_temperature')"
   ]
  },
  {
   "cell_type": "code",
   "execution_count": 29,
   "metadata": {
    "scrolled": true
   },
   "outputs": [
    {
     "data": {
      "application/vnd.jupyter.widget-view+json": {
       "model_id": "4a2712a3c538423a8ebca214788b3345",
       "version_major": 2,
       "version_minor": 0
      },
      "text/plain": [
       "Map(center=[20, 0], controls=(WidgetControl(options=['position', 'transparent_bg'], widget=HBox(children=(Togg…"
      ]
     },
     "metadata": {},
     "output_type": "display_data"
    }
   ],
   "source": [
    "# visualise the image in a dynamic map\n",
    "globe = geemap.Map(zoom=1)\n",
    "vis_params = {'min': -1, 'max': 35, 'palette': cm.palettes.jet}\n",
    "globe.addLayer(dated_image, vis_params, 'SST', True, 0.7)\n",
    "\n",
    "globe"
   ]
  },
  {
   "cell_type": "markdown",
   "metadata": {},
   "source": [
    "## Weitere Funktionalität\n",
    "\n",
    "Dieser Überblick war nur ein Anfang der verfügbaren unktionalität von *ee* in Python.\n",
    "\n",
    "Die [Developer Guides](https://samapriya.github.io/gee-py/projects/collection_meta/) enthalten viele hilfreiche Informationen und Rezepte für die Datenanalyse."
   ]
  },
  {
   "cell_type": "markdown",
   "metadata": {
    "slideshow": {
     "slide_type": "slide"
    }
   },
   "source": [
    "## ENDE"
   ]
  }
 ],
 "metadata": {
  "celltoolbar": "Slideshow",
  "kernelspec": {
   "display_name": "Python 3 (ipykernel)",
   "language": "python",
   "name": "python3"
  },
  "language_info": {
   "codemirror_mode": {
    "name": "ipython",
    "version": 3
   },
   "file_extension": ".py",
   "mimetype": "text/x-python",
   "name": "python",
   "nbconvert_exporter": "python",
   "pygments_lexer": "ipython3",
   "version": "3.7.13"
  },
  "toc": {
   "base_numbering": 1,
   "nav_menu": {},
   "number_sections": false,
   "sideBar": true,
   "skip_h1_title": false,
   "title_cell": "Table of Contents",
   "title_sidebar": "Contents",
   "toc_cell": false,
   "toc_position": {
    "height": "calc(100% - 180px)",
    "left": "10px",
    "top": "150px",
    "width": "303.27px"
   },
   "toc_section_display": true,
   "toc_window_display": true
  }
 },
 "nbformat": 4,
 "nbformat_minor": 4
}
