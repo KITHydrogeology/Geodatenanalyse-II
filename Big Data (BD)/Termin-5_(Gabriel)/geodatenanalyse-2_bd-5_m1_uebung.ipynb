{
 "cells": [
  {
   "cell_type": "markdown",
   "id": "complimentary-unknown",
   "metadata": {},
   "source": [
    "# Geodatenanalyse 2\n",
    "\n",
    "\n",
    "## Termin Big Data 5 - Modul 1\n",
    "\n",
    "## Einführung in *Google Earth Engine* (*GEE*)"
   ]
  },
  {
   "cell_type": "code",
   "execution_count": 2,
   "id": "resistant-corporation",
   "metadata": {},
   "outputs": [],
   "source": [
    "import ee\n",
    "# initialize the connection to the server\n",
    "ee.Initialize()\n",
    "import geemap\n",
    "import geemap.colormaps as cm\n",
    "import datetime as dt\n",
    "import pandas as pd"
   ]
  },
  {
   "cell_type": "markdown",
   "id": "sealed-necessity",
   "metadata": {},
   "source": [
    "## Übung 1\n",
    "\n",
    "In dieser Übung geht es um den Umgang mit Rastern (*ee.Image*). Hier werwenden wir das australische Höhenmodell von [Geoscience Australia](https://developers.google.com/earth-engine/datasets/catalog/AU_GA_DEM_1SEC_v10_DEM-S):\n",
    "\n",
    "\n",
    "- **Aufgabe 1**: Welche Kanäle enthält dieses Raster? Welche weiteren Eigenschaften hat dieses Raster?\n",
    "\n",
    "- **Aufgabe 2**: Zeige dieses Raster auf einer dynamischen Karte. \n",
    "\n",
    "- **Aufgabe 3**: Inspiziere die Karte manuell. Wo befindet sich der höchste Punkt auf dem australischen Kontinent? Wo der niedrigste?"
   ]
  },
  {
   "cell_type": "code",
   "execution_count": 1,
   "id": "average-carbon",
   "metadata": {},
   "outputs": [],
   "source": [
    "# AUFGABE 1"
   ]
  },
  {
   "cell_type": "code",
   "execution_count": 2,
   "id": "improving-colonial",
   "metadata": {
    "scrolled": true
   },
   "outputs": [],
   "source": [
    "# AUFGABE 2"
   ]
  },
  {
   "cell_type": "markdown",
   "id": "civilian-suggestion",
   "metadata": {},
   "source": [
    "## Übung 2\n",
    "\n",
    "Die globalen Waldtypen wurden mit Hilfe von Satellitenaufnahmen bestimmt und sind im [Copernicus Global Land Cover Layers](https://developers.google.com/earth-engine/datasets/catalog/COPERNICUS_Landcover_100m_Proba-V-C3_Global) archiviert. Bearbeite folgende Aufgaben:\n",
    "\n",
    "- **Aufgabe 1**: Welche Kanäle enthält diese Rasterkollektion? Welche Auflösung hat das Raster?\n",
    "\n",
    "- **Aufgabe 2**: Welche Zeitpunkte sind für die Bestimmung vorhanden? Welche Waldtypen sind im Kanal 'forest_type' vorhanden?\n",
    "\n",
    "- **Aufgabe 3**: Zeige das älteste Raster für den Waldtyp in einer interaktiven Karte. Beachte hierbei die Kategorien für Waldtypen und wähle eine Palette, mit welcher sich die Kategorien unterscheiden lassen. Welcher Waldtyp ist im Schwarzwald dominant?"
   ]
  },
  {
   "cell_type": "code",
   "execution_count": 3,
   "id": "certain-newton",
   "metadata": {
    "scrolled": false
   },
   "outputs": [],
   "source": [
    "# AUFGABE 1"
   ]
  },
  {
   "cell_type": "code",
   "execution_count": 5,
   "id": "complete-consciousness",
   "metadata": {},
   "outputs": [],
   "source": [
    "# AUFGABE 2"
   ]
  },
  {
   "cell_type": "code",
   "execution_count": 7,
   "id": "brave-lounge",
   "metadata": {
    "scrolled": false
   },
   "outputs": [],
   "source": [
    "# AUFGABE 3"
   ]
  },
  {
   "cell_type": "markdown",
   "id": "instrumental-budapest",
   "metadata": {},
   "source": [
    "## ENDE"
   ]
  }
 ],
 "metadata": {
  "kernelspec": {
   "display_name": "Python 3 (ipykernel)",
   "language": "python",
   "name": "python3"
  },
  "language_info": {
   "codemirror_mode": {
    "name": "ipython",
    "version": 3
   },
   "file_extension": ".py",
   "mimetype": "text/x-python",
   "name": "python",
   "nbconvert_exporter": "python",
   "pygments_lexer": "ipython3",
   "version": "3.9.16"
  },
  "toc": {
   "base_numbering": 1,
   "nav_menu": {},
   "number_sections": false,
   "sideBar": true,
   "skip_h1_title": false,
   "title_cell": "Table of Contents",
   "title_sidebar": "Contents",
   "toc_cell": false,
   "toc_position": {},
   "toc_section_display": true,
   "toc_window_display": true
  }
 },
 "nbformat": 4,
 "nbformat_minor": 5
}
