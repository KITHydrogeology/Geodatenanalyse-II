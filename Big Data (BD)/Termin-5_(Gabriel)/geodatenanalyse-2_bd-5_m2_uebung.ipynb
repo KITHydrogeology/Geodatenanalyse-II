{
 "cells": [
  {
   "cell_type": "markdown",
   "id": "complimentary-unknown",
   "metadata": {},
   "source": [
    "# Geodatenanalyse 2\n",
    "\n",
    "\n",
    "## Termin Big Data 5 - Modul 2\n",
    "\n",
    "## *Earth Engine*: Analyse und Export"
   ]
  },
  {
   "cell_type": "code",
   "execution_count": 1,
   "id": "resistant-corporation",
   "metadata": {},
   "outputs": [],
   "source": [
    "import geemap\n",
    "import geemap.colormaps as cm\n",
    "import datetime as dt\n",
    "import pandas as pd\n",
    "import ee\n",
    "# initialize the connection to the server\n",
    "ee.Initialize()"
   ]
  },
  {
   "cell_type": "markdown",
   "id": "sealed-necessity",
   "metadata": {},
   "source": [
    "## Übung 1\n",
    "\n",
    "Das Höhenmodell [ETOPO1 (Global 1 Arc-Minute Elevation)](https://developers.google.com/earth-engine/datasets/catalog/NOAA_NGDC_ETOPO1) wird in dieser Übung verwendet. Zusätzlich verwenden wir noch die Länder des [US Department of State, Office of Geography](https://developers.google.com/earth-engine/datasets/catalog/USDOS_LSIB_SIMPLE_2017):\n",
    "\n",
    "\n",
    "- **Aufgabe 1**: Welche Kanäle enthält dieses Raster? Welche weiteren Eigenschaften hat dieses Raster?\n",
    "\n",
    "- **Aufgabe 2**: Extrahiere das Polygon für die Schweiz aus der Länderliste.\n",
    "\n",
    "- **Aufgabe 3**: Zeige dieses Höhenmodell und die Grenze der Schweiz in einer dynamischen Karte an.\n",
    "\n",
    "- **Aufgabe 4**: Extrahiere ein Raster des Höhenmodells der Schweiz.\n",
    "\n",
    "- **Aufgabe 5**: Berechne die Höhenstatistik (Minimum, Maximum, Durchschnitt) für die Schweiz.\n",
    "\n",
    "- **Aufgabe 6**: Exportiere das Höhenmodell der Schweiz als GeoTIFF-Datei.\n"
   ]
  },
  {
   "cell_type": "code",
   "execution_count": 1,
   "id": "suspected-somerset",
   "metadata": {},
   "outputs": [],
   "source": [
    "# AUFGABE 1"
   ]
  },
  {
   "cell_type": "code",
   "execution_count": 2,
   "id": "nonprofit-swedish",
   "metadata": {},
   "outputs": [],
   "source": [
    "# AUFGABE 2"
   ]
  },
  {
   "cell_type": "code",
   "execution_count": 3,
   "id": "streaming-nevada",
   "metadata": {
    "scrolled": false
   },
   "outputs": [],
   "source": [
    "# AUFGABE 3"
   ]
  },
  {
   "cell_type": "code",
   "execution_count": 4,
   "id": "coastal-integral",
   "metadata": {},
   "outputs": [],
   "source": [
    "# AUFGABE 4"
   ]
  },
  {
   "cell_type": "code",
   "execution_count": 5,
   "id": "collectible-laundry",
   "metadata": {},
   "outputs": [],
   "source": [
    "# AUFGABE 5"
   ]
  },
  {
   "cell_type": "code",
   "execution_count": 6,
   "id": "comic-question",
   "metadata": {
    "scrolled": true
   },
   "outputs": [],
   "source": [
    "# AUFGABE 6"
   ]
  },
  {
   "cell_type": "markdown",
   "id": "clinical-carter",
   "metadata": {},
   "source": [
    "## Übung 2\n",
    "\n",
    "Das European Centre for Medium-Range Weather Forecasts (ECMWF) stellt kontinuierlich Klimadaten zusammen. Ein Beispiel ist das [ERA5 'Daily aggregates' Archiv](https://developers.google.com/earth-engine/datasets/catalog/ECMWF_ERA5_DAILY)\n",
    "\n",
    "- **Aufgabe 1**: Welche Kanäle enthält diese Rasterkollektion? Was sind die Einheiten der jeweiligen Rasterdaten?\n",
    "\n",
    "- **Aufgabe 2**: Welcher Zeitbereich wird von diesem Datensatz abgedeckt?\n",
    "\n",
    "- **Aufgabe 3**: Zeige die weltweite Temperaturverteilung für den 1. Januar 2020 in einer dynamischen Karte an.\n",
    "\n",
    "- **Aufgabe 4**: Extrahiere die durchschnittliche Temperatur sowie den Regen für Karlsruhe als CSV-Datei für die verfügbare Zeit."
   ]
  },
  {
   "cell_type": "code",
   "execution_count": 7,
   "id": "descending-rugby",
   "metadata": {},
   "outputs": [],
   "source": [
    "# AUFGABE 1"
   ]
  },
  {
   "cell_type": "code",
   "execution_count": 8,
   "id": "promotional-arlington",
   "metadata": {},
   "outputs": [],
   "source": [
    "# AUFGABE 2"
   ]
  },
  {
   "cell_type": "code",
   "execution_count": 9,
   "id": "former-kitty",
   "metadata": {
    "scrolled": true
   },
   "outputs": [],
   "source": [
    "# Aufgabe 3"
   ]
  },
  {
   "cell_type": "code",
   "execution_count": 10,
   "id": "applicable-concept",
   "metadata": {},
   "outputs": [],
   "source": [
    "# AUFGABE 4"
   ]
  },
  {
   "cell_type": "markdown",
   "id": "instrumental-budapest",
   "metadata": {},
   "source": [
    "## ENDE"
   ]
  }
 ],
 "metadata": {
  "kernelspec": {
   "display_name": "Python 3 (ipykernel)",
   "language": "python",
   "name": "python3"
  },
  "language_info": {
   "codemirror_mode": {
    "name": "ipython",
    "version": 3
   },
   "file_extension": ".py",
   "mimetype": "text/x-python",
   "name": "python",
   "nbconvert_exporter": "python",
   "pygments_lexer": "ipython3",
   "version": "3.9.16"
  },
  "toc": {
   "base_numbering": 1,
   "nav_menu": {},
   "number_sections": false,
   "sideBar": true,
   "skip_h1_title": false,
   "title_cell": "Table of Contents",
   "title_sidebar": "Contents",
   "toc_cell": false,
   "toc_position": {},
   "toc_section_display": true,
   "toc_window_display": true
  }
 },
 "nbformat": 4,
 "nbformat_minor": 5
}
