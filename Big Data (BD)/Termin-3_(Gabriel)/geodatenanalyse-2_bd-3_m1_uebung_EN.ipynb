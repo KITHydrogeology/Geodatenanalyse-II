{
 "cells": [
  {
   "cell_type": "markdown",
   "id": "complimentary-unknown",
   "metadata": {},
   "source": [
    "# Geodatenanalyse 2\n",
    "\n",
    "\n",
    "## Termin: Big Data 3 - Modul 1 - English language\n",
    "\n",
    "## What is \"big data\"? Data formats and how to\n",
    "\n",
    "Exercise approx. 40 minutes"
   ]
  },
  {
   "cell_type": "code",
   "execution_count": 1,
   "id": "resistant-corporation",
   "metadata": {},
   "outputs": [],
   "source": [
    "import xarray as xr\n",
    "import numpy as np\n",
    "import cartopy.crs as ccrs\n",
    "import matplotlib.pyplot as plt\n",
    "import pandas as pd"
   ]
  },
  {
   "cell_type": "markdown",
   "id": "patient-croatia",
   "metadata": {},
   "source": [
    "## Exercise 1\n",
    "\n",
    "A global dataset has been created and is to be pre-screened. The data are from the following publication:\n",
    "\n",
    "> [Cuthbert et al. (2022) *Global climate-driven trade-offs between the water retention and cooling benefits of urban greening* Nature Communications.](https://www.nature.com/articles/s41467-022-28160-8)\n",
    "\n",
    "- **Task 1**: Investigate what properties (e.g., dimensions, coordinates, variables, attributes, etc.) the data set has. \n",
    "\n",
    "- **Task 2**: What is the resolution of a single pixel in kilometers of the earth's surface in the direction of longitude and latitude? Why are the values different? The radius of the earth is approximately 6,371 km.\n",
    "\n",
    "- **Task 3**: Extract the value of the variable *p_av* (average precipitation) for Karlsruhe (49.0069° N, 8.4037° E)."
   ]
  },
  {
   "cell_type": "code",
   "execution_count": 1,
   "id": "composed-commander",
   "metadata": {
    "scrolled": true
   },
   "outputs": [],
   "source": [
    "# Task 1"
   ]
  },
  {
   "cell_type": "code",
   "execution_count": 2,
   "id": "vocational-retailer",
   "metadata": {},
   "outputs": [],
   "source": [
    "# Task 2"
   ]
  },
  {
   "cell_type": "code",
   "execution_count": 3,
   "id": "inner-musical",
   "metadata": {},
   "outputs": [],
   "source": [
    "# Task 3"
   ]
  },
  {
   "cell_type": "markdown",
   "id": "passive-anderson",
   "metadata": {},
   "source": [
    "## Exercise 2\n",
    "\n",
    "A historical and global climate dataset from the [Global Precipitation Climatology Centre (GPCC )](https://prism.oregonstate.edu/) is to be examined. It is located on the following server:  *https://psl.noaa.gov/thredds/dodsC/Datasets/gpcc/full_v7/precip.mon.total.v7.nc*. The explanation of the dataset is on the [NOAA](https://psl.noaa.gov/data/gridded/data.gpcc.html) website.\n",
    "\n",
    "- **Task 1**: Open the dataset and examine the properties (e.g., dimensions, coordinates, variables, attributes, etc.). \n",
    "\n",
    "- **Task 2**: Download a time series of average monthly precipitation for the Karlsruhe area and save it as a CSV file. *CAUTION*: This may take a while!"
   ]
  },
  {
   "cell_type": "code",
   "execution_count": 4,
   "id": "deluxe-decrease",
   "metadata": {},
   "outputs": [],
   "source": [
    "# Task 1"
   ]
  },
  {
   "cell_type": "code",
   "execution_count": 5,
   "id": "legal-energy",
   "metadata": {},
   "outputs": [],
   "source": [
    "# Task 2"
   ]
  }
 ],
 "metadata": {
  "kernelspec": {
   "display_name": "Python 3 (ipykernel)",
   "language": "python",
   "name": "python3"
  },
  "language_info": {
   "codemirror_mode": {
    "name": "ipython",
    "version": 3
   },
   "file_extension": ".py",
   "mimetype": "text/x-python",
   "name": "python",
   "nbconvert_exporter": "python",
   "pygments_lexer": "ipython3",
   "version": "3.9.19"
  },
  "toc": {
   "base_numbering": 1,
   "nav_menu": {},
   "number_sections": false,
   "sideBar": true,
   "skip_h1_title": false,
   "title_cell": "Table of Contents",
   "title_sidebar": "Contents",
   "toc_cell": false,
   "toc_position": {},
   "toc_section_display": true,
   "toc_window_display": true
  }
 },
 "nbformat": 4,
 "nbformat_minor": 5
}
