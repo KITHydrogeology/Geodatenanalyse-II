{
 "cells": [
  {
   "cell_type": "markdown",
   "metadata": {
    "slideshow": {
     "slide_type": "slide"
    }
   },
   "source": [
    "# Geodatenanalyse 2\n",
    "\n",
    "\n",
    "## Termin Big Data 5 - Modul 2\n",
    "\n",
    "## *Earth Engine*: Analyse und Export\n",
    "\n",
    "Ca. 20-30 Minuten"
   ]
  },
  {
   "cell_type": "markdown",
   "metadata": {
    "slideshow": {
     "slide_type": "slide"
    }
   },
   "source": [
    "## Inhalt\n",
    "\n",
    "- Datenanalyse in *Google Earth Engine*\n",
    "- *ee.Features* inspizieren\n",
    "- Datensätze exportieren\n",
    "- Zeitreihen exportieren"
   ]
  },
  {
   "cell_type": "markdown",
   "metadata": {},
   "source": [
    "Beispiele aus diesem [Tutorial](https://developers.google.com/earth-engine/tutorials/community/intro-to-python-api-guiattard)"
   ]
  },
  {
   "cell_type": "code",
   "execution_count": 1,
   "metadata": {},
   "outputs": [],
   "source": [
    "import geemap\n",
    "import geemap.colormaps as cm\n",
    "import datetime as dt\n",
    "import pandas as pd"
   ]
  },
  {
   "cell_type": "code",
   "execution_count": 2,
   "metadata": {},
   "outputs": [],
   "source": [
    "import ee\n",
    "# initialize the connection to the server\n",
    "ee.Initialize()"
   ]
  },
  {
   "cell_type": "markdown",
   "metadata": {},
   "source": [
    "## Datenanalyse in *Google EE*\n",
    "\n",
    "- *EE* kann als Cloud-Computer zur Berechnung von Datensätzen verwendet werden\n",
    "\n",
    "- Als Beispiel verwenden wir das [digitale Höhenmodell von NASA/CGIAR](https://developers.google.com/earth-engine/datasets/catalog/CGIAR_SRTM90_V4)"
   ]
  },
  {
   "cell_type": "code",
   "execution_count": 3,
   "metadata": {},
   "outputs": [],
   "source": [
    "# das Höhenmodell\n",
    "srtm = ee.Image('CGIAR/SRTM90_V4')"
   ]
  },
  {
   "cell_type": "markdown",
   "metadata": {},
   "source": [
    "### Beispiel: Wert für einen Punkt bestimmen\n",
    "\n",
    "Oftmals wollen wir die Werte eines Rasters für einen bestimmten Punkt bestimmen:"
   ]
  },
  {
   "cell_type": "code",
   "execution_count": 4,
   "metadata": {},
   "outputs": [
    {
     "data": {
      "text/plain": [
       "118"
      ]
     },
     "execution_count": 4,
     "metadata": {},
     "output_type": "execute_result"
    }
   ],
   "source": [
    "# Kalrsuhe ...\n",
    "point = ee.Geometry.Point(8.4, 49.0)\n",
    "\n",
    "# extract the image value\n",
    "data = srtm.select(\"elevation\") \\\n",
    "    .reduceRegion(ee.Reducer.first(), point, 10) \\\n",
    "    .get(\"elevation\")\n",
    "\n",
    "data.getInfo()"
   ]
  },
  {
   "cell_type": "markdown",
   "metadata": {},
   "source": [
    "### Beispiel: Gefälle berechnen\n",
    "\n",
    "Hier wird die Funktion *slope* verwendet, welche bereits eingebaut ist"
   ]
  },
  {
   "cell_type": "code",
   "execution_count": 8,
   "metadata": {
    "scrolled": true
   },
   "outputs": [
    {
     "data": {
      "application/vnd.jupyter.widget-view+json": {
       "model_id": "9bd7cf26905846c78efe91b60dab06a8",
       "version_major": 2,
       "version_minor": 0
      },
      "text/plain": [
       "Map(center=[46.21, 6.2], controls=(WidgetControl(options=['position', 'transparent_bg'], widget=HBox(children=…"
      ]
     },
     "execution_count": 8,
     "metadata": {},
     "output_type": "execute_result"
    }
   ],
   "source": [
    "# Berechnung des Gefälles\n",
    "slope = ee.Terrain.slope(srtm)\n",
    "\n",
    "# Ergebnis anzeigen ...\n",
    "globe = geemap.Map()\n",
    "globe.setCenter(6.2, 46.210, 8)\n",
    "vis = {'min': 0, 'max': 60, 'palette': cm.palettes.jet}\n",
    "globe.addLayer(slope, vis, 'slope', opacity=0.7)\n",
    "globe"
   ]
  },
  {
   "cell_type": "markdown",
   "metadata": {},
   "source": [
    "Trick. Eine Region auf der Karte auswählen:"
   ]
  },
  {
   "cell_type": "code",
   "execution_count": null,
   "metadata": {
    "scrolled": true
   },
   "outputs": [],
   "source": [
    "select = globe.draw_last_feature.geometry().getInfo()\n",
    "select"
   ]
  },
  {
   "cell_type": "markdown",
   "metadata": {},
   "source": [
    "### Beispiel: Statistik des Gefälles"
   ]
  },
  {
   "cell_type": "code",
   "execution_count": null,
   "metadata": {},
   "outputs": [],
   "source": [
    "# Median des Gefälles berechnen\n",
    "stats = slope.reduceRegion(\n",
    "    reducer = ee.Reducer.median(),\n",
    "    geometry = select,\n",
    "    scale = 30,\n",
    "    maxPixels = 1e9)\n",
    "\n",
    "stats.getInfo()"
   ]
  },
  {
   "cell_type": "markdown",
   "metadata": {},
   "source": [
    "Eine Kombination:"
   ]
  },
  {
   "cell_type": "code",
   "execution_count": null,
   "metadata": {},
   "outputs": [],
   "source": [
    "# a combination of reducers\n",
    "red_comb = ee.Reducer.mean().combine(\n",
    "  reducer2 = ee.Reducer.stdDev(),\n",
    "  sharedInputs = True\n",
    ").combine(\n",
    "  reducer2 = ee.Reducer.min(),\n",
    "  sharedInputs = True\n",
    ").combine(\n",
    "  reducer2 = ee.Reducer.max(),\n",
    "  sharedInputs = True\n",
    ")\n",
    "\n",
    "# Min, max and standard deviation\n",
    "stats = slope.reduceRegion(\n",
    "    reducer = red_comb,\n",
    "    geometry = select,\n",
    "    scale = 30,\n",
    "    maxPixels = 1e9)\n",
    "\n",
    "stats.getInfo()"
   ]
  },
  {
   "cell_type": "markdown",
   "metadata": {},
   "source": [
    "## Datensätze exportieren\n",
    "\n",
    "Eine generelle Lösung für den Export von Datensätzen ist es, diese gezielt zum Download vorzubereiten:"
   ]
  },
  {
   "cell_type": "code",
   "execution_count": null,
   "metadata": {
    "scrolled": true
   },
   "outputs": [],
   "source": [
    "# Get a download URL for an image\n",
    "image = ee.Image('srtm90_v4')\n",
    "\n",
    "path = image.getDownloadUrl({\n",
    "    'scale': 30,\n",
    "    'crs': 'EPSG:4326',\n",
    "    'region': [[-120, 35], [-119, 35], [-119, 34], [-120, 34]]\n",
    "})\n",
    "\n",
    "print(path)"
   ]
  },
  {
   "cell_type": "markdown",
   "metadata": {},
   "source": [
    "## *ee.FeatureCollections* inspizieren\n",
    "\n",
    "Zuerst laden wir die Ländergrenzen aus einem *ee.FeatureCollection* des [US Department of State, Office of Geography](https://developers.google.com/earth-engine/datasets/catalog/USDOS_LSIB_SIMPLE_2017):"
   ]
  },
  {
   "cell_type": "code",
   "execution_count": null,
   "metadata": {},
   "outputs": [],
   "source": [
    "countries = ee.FeatureCollection('USDOS/LSIB_SIMPLE/2017')"
   ]
  },
  {
   "cell_type": "markdown",
   "metadata": {},
   "source": [
    "Schauen wir uns die Metadaten eines Elements der Kollektion an:"
   ]
  },
  {
   "cell_type": "code",
   "execution_count": null,
   "metadata": {
    "scrolled": true
   },
   "outputs": [],
   "source": [
    "countries.first().getInfo()"
   ]
  },
  {
   "cell_type": "markdown",
   "metadata": {},
   "source": [
    "Eine Liste der Länder erstellen:"
   ]
  },
  {
   "cell_type": "code",
   "execution_count": null,
   "metadata": {},
   "outputs": [],
   "source": [
    "contry_list = countries.aggregate_array('country_na')\n",
    "contry_list.getInfo()[:20]"
   ]
  },
  {
   "cell_type": "markdown",
   "metadata": {},
   "source": [
    "Wo ist Deutschland? Finden wir das Polygon:"
   ]
  },
  {
   "cell_type": "code",
   "execution_count": null,
   "metadata": {},
   "outputs": [],
   "source": [
    "germany = countries.filter(ee.Filter.eq('country_na', 'Germany'))\n",
    "germany.getInfo()"
   ]
  },
  {
   "cell_type": "markdown",
   "metadata": {},
   "source": [
    "Holen wir uns die WGS84 Koordinaten des Zentrums als Information:"
   ]
  },
  {
   "cell_type": "code",
   "execution_count": null,
   "metadata": {},
   "outputs": [],
   "source": [
    "germany.geometry().centroid().getInfo()['coordinates']"
   ]
  },
  {
   "cell_type": "markdown",
   "metadata": {},
   "source": [
    "Schauen wir uns das Polygon in einer Karte an:"
   ]
  },
  {
   "cell_type": "code",
   "execution_count": null,
   "metadata": {
    "scrolled": true
   },
   "outputs": [],
   "source": [
    "globe = geemap.Map(location=[49.014, 8.405], zoom_start=4)\n",
    "\n",
    "vis_params = {'color': \"red\", 'width': 0.5}\n",
    "globe.addLayer(germany, vis_params, name='Germany')\n",
    "globe.centerObject(germany)\n",
    "\n",
    "globe"
   ]
  },
  {
   "cell_type": "markdown",
   "metadata": {},
   "source": [
    "## *ee.Feature* exportieren"
   ]
  },
  {
   "cell_type": "markdown",
   "metadata": {},
   "source": [
    "Das Polygon als Shapefile exportieren:"
   ]
  },
  {
   "cell_type": "code",
   "execution_count": null,
   "metadata": {
    "scrolled": true
   },
   "outputs": [],
   "source": [
    "geemap.ee_export_vector(germany, 'data/germany.shp')"
   ]
  },
  {
   "cell_type": "markdown",
   "metadata": {},
   "source": [
    "## *ee.Image* Regionen exportieren"
   ]
  },
  {
   "cell_type": "code",
   "execution_count": null,
   "metadata": {
    "scrolled": false
   },
   "outputs": [],
   "source": [
    "globe = geemap.Map(location=[49.014, 8.405], zoom=10)\n",
    "\n",
    "image = ee.Image('USGS/SRTMGL1_003')\n",
    "\n",
    "vis_params = {'min': 100, 'max': 800, 'palette': cm.palettes.dem}\n",
    "globe.addLayer(image, vis_params, 'SRTM DEM', True, 0.9)\n",
    "\n",
    "KA = ee.Geometry.Point([8.407, 49.015])\n",
    "globe.addLayer(KA)\n",
    "\n",
    "globe"
   ]
  },
  {
   "cell_type": "markdown",
   "metadata": {},
   "source": [
    "### Regional begrenztes Gebiet exportieren"
   ]
  },
  {
   "cell_type": "code",
   "execution_count": null,
   "metadata": {
    "scrolled": true
   },
   "outputs": [],
   "source": [
    "roi = ee.Geometry.Rectangle([8.1, 48.9, 8.7, 49.1])\n",
    "image_clipped = image.clip(roi)\n",
    "\n",
    "geemap.ee_export_image(image_clipped, \"data/DEM_Karlsruhe.tif\", region=roi, file_per_band=True)"
   ]
  },
  {
   "cell_type": "markdown",
   "metadata": {},
   "source": [
    "### Gebiet in der Karte auswählen"
   ]
  },
  {
   "cell_type": "code",
   "execution_count": null,
   "metadata": {
    "scrolled": true
   },
   "outputs": [],
   "source": [
    "polygon = globe.draw_last_feature.geometry()\n",
    "\n",
    "geemap.ee_export_image(image, \"data/DEM_selected.tif\", region=polygon, file_per_band=True)"
   ]
  },
  {
   "cell_type": "markdown",
   "metadata": {},
   "source": [
    "## *ee.ImageCollections* inspizieren\n",
    "\n",
    "Hier verwenden wir stündliche Klimareanalysedaten [ERA5 des European Centre for Medium-Range Weather Forecasts](https://developers.google.com/earth-engine/datasets/catalog/ECMWF_ERA5_LAND_HOURLY). Zuerst schauen wir uns die Dateneigenschaften an:"
   ]
  },
  {
   "cell_type": "code",
   "execution_count": null,
   "metadata": {
    "scrolled": true
   },
   "outputs": [],
   "source": [
    "collection = ee.ImageCollection('ECMWF/ERA5_LAND/HOURLY')\n",
    "collection.first().bandNames().getInfo()"
   ]
  },
  {
   "cell_type": "markdown",
   "metadata": {},
   "source": [
    "Was für Eigenschaften hat die Zeitreihe:"
   ]
  },
  {
   "cell_type": "code",
   "execution_count": null,
   "metadata": {
    "scrolled": false
   },
   "outputs": [],
   "source": [
    "dates = collection.reduceColumns(ee.Reducer.toList(), [\"system:time_start\"]).get('list')\n",
    "datelist = pd.to_datetime(dates.getInfo(), unit='ms')\n",
    "datelist"
   ]
  },
  {
   "cell_type": "markdown",
   "metadata": {},
   "source": [
    "## *ee.ImageCollections* exportieren\n",
    "\n",
    "Jetzt können wir Daten aussuchen und exportieren:"
   ]
  },
  {
   "cell_type": "code",
   "execution_count": null,
   "metadata": {
    "scrolled": false
   },
   "outputs": [],
   "source": [
    "roi = ee.Geometry.Rectangle([8.1, 48.9, 8.7, 49.1])\n",
    "\n",
    "collection = ee.ImageCollection('ECMWF/ERA5_LAND/HOURLY') \\\n",
    "    .filterBounds(roi) \\\n",
    "    .filterDate('2021-03-31T00:00:00', '2021-03-31T23:00:00') \\\n",
    "    .filter(ee.Filter.listContains(\"system:band_names\", \"temperature_2m\"))\n",
    "\n",
    "geemap.ee_export_image_collection(collection, region=roi, out_dir='data')"
   ]
  },
  {
   "cell_type": "markdown",
   "metadata": {},
   "source": [
    "## Zeitreihen in *Pandas* exportieren\n",
    "\n",
    "Daten aus *ee.ImageCollections* können auch als Zeitreihe extrahiert werden:"
   ]
  },
  {
   "cell_type": "code",
   "execution_count": null,
   "metadata": {},
   "outputs": [],
   "source": [
    "KA = ee.Geometry.Point(8.405, 49.014)\n",
    "buffer = 100\n",
    "\n",
    "land_temp = ee.ImageCollection('ECMWF/ERA5_LAND/HOURLY') \\\n",
    "    .filterDate('2021-01-01T00:00:00', '2021-03-31T00:00:00')"
   ]
  },
  {
   "cell_type": "markdown",
   "metadata": {},
   "source": [
    "Schauen wir uns einen beispielhaften Datenpunkt an:"
   ]
  },
  {
   "cell_type": "code",
   "execution_count": null,
   "metadata": {
    "scrolled": true
   },
   "outputs": [],
   "source": [
    "# Calculate and print the mean value of the LST collection at the point\n",
    "land_temp_point = land_temp.mean().sample(KA, buffer).first().get('temperature_2m').getInfo()\n",
    "print('Average for KA at 1 Jan 2021 00:00:', round(land_temp_point - 273.15, 2), '°C')"
   ]
  },
  {
   "cell_type": "markdown",
   "metadata": {},
   "source": [
    "Laden wir die Zeitreihe für Karlsruhe herunter (das kann eine Weile dauern):"
   ]
  },
  {
   "cell_type": "code",
   "execution_count": null,
   "metadata": {},
   "outputs": [],
   "source": [
    "# Get the data for the point in urban area.\n",
    "land_temp_poi = land_temp.getRegion(KA, buffer).getInfo()\n",
    "len(land_temp_poi)"
   ]
  },
  {
   "cell_type": "markdown",
   "metadata": {},
   "source": [
    "Wir definieren eine Funktion zur Speicherung der Daten als *pandas.DataFrame*:"
   ]
  },
  {
   "cell_type": "code",
   "execution_count": null,
   "metadata": {},
   "outputs": [],
   "source": [
    "def ee_array_to_df(arr, list_of_bands):\n",
    "    \"\"\"Transforms client-side ee.Image.getRegion array to pandas.DataFrame.\"\"\"\n",
    "    df = pd.DataFrame(arr)\n",
    "\n",
    "    # Rearrange the header.\n",
    "    headers = df.iloc[0]\n",
    "    df = pd.DataFrame(df.values[1:], columns=headers)\n",
    "\n",
    "    # Remove rows without data inside.\n",
    "    df = df[['longitude', 'latitude', 'time', *list_of_bands]].dropna()\n",
    "\n",
    "    # Convert the data to numeric values.\n",
    "    for band in list_of_bands:\n",
    "        df[band] = pd.to_numeric(df[band], errors='coerce')\n",
    "\n",
    "    # Convert the time field into a datetime.\n",
    "    df['datetime'] = pd.to_datetime(df['time'], unit='ms')\n",
    "\n",
    "    # Keep the columns of interest.\n",
    "    df = df[['time','datetime',  *list_of_bands]]\n",
    "\n",
    "    return df"
   ]
  },
  {
   "cell_type": "markdown",
   "metadata": {},
   "source": [
    "Nun können wir die gewünschten Daten extrahieren:"
   ]
  },
  {
   "cell_type": "code",
   "execution_count": null,
   "metadata": {},
   "outputs": [],
   "source": [
    "land_temp_df = ee_array_to_df(land_temp_poi, ['temperature_2m'])\n",
    "\n",
    "# konvertiere in Celsius\n",
    "land_temp_df['temperature_2m'] -= 273.15\n",
    "\n",
    "# als CSV speichern\n",
    "land_temp_df.to_csv(\"data/KA_temperature-2m.csv\")\n",
    "\n",
    "land_temp_df"
   ]
  },
  {
   "cell_type": "markdown",
   "metadata": {
    "slideshow": {
     "slide_type": "slide"
    }
   },
   "source": [
    "## ENDE"
   ]
  }
 ],
 "metadata": {
  "celltoolbar": "Slideshow",
  "kernelspec": {
   "display_name": "Python 3 (ipykernel)",
   "language": "python",
   "name": "python3"
  },
  "language_info": {
   "codemirror_mode": {
    "name": "ipython",
    "version": 3
   },
   "file_extension": ".py",
   "mimetype": "text/x-python",
   "name": "python",
   "nbconvert_exporter": "python",
   "pygments_lexer": "ipython3",
   "version": "3.9.16"
  },
  "toc": {
   "base_numbering": 1,
   "nav_menu": {},
   "number_sections": false,
   "sideBar": true,
   "skip_h1_title": false,
   "title_cell": "Table of Contents",
   "title_sidebar": "Contents",
   "toc_cell": false,
   "toc_position": {
    "height": "calc(100% - 180px)",
    "left": "10px",
    "top": "150px",
    "width": "279.27px"
   },
   "toc_section_display": true,
   "toc_window_display": true
  }
 },
 "nbformat": 4,
 "nbformat_minor": 4
}
