{
 "cells": [
  {
   "cell_type": "markdown",
   "id": "economic-writer",
   "metadata": {},
   "source": [
    "# Geodatenanalyse 2\n",
    "\n",
    "\n",
    "## Woche 2 - Teil 1\n",
    "\n",
    "## Umgang mit Datum und Zeit"
   ]
  },
  {
   "cell_type": "code",
   "execution_count": 1,
   "id": "green-graham",
   "metadata": {},
   "outputs": [],
   "source": [
    "import datetime as dt\n",
    "import numpy as np\n",
    "import pandas as pd"
   ]
  },
  {
   "cell_type": "markdown",
   "id": "introductory-brother",
   "metadata": {},
   "source": [
    "## Übung 1\n",
    "\n",
    "Über einen langen Zeitraum wurde ein Datensatz gemessen (siehe: \"*data/datetime_unsorted.csv*\"), bei welchem Jahr, Monat, Tag, Stunde, und Minute winzeln gespeichert wurden.\n",
    "\n",
    "- **Aufgabe 1**: Lade den Datensatz und konvertiere die Spalten in ein Datums- und Zeitobjekt.\n",
    "- **Aufgabe 2**: Sortiere die Daten nach Datum und Zeit und konvertiere Datum und Zeit in das deutsche Format.\n",
    "- **Aufgabe 3**: Berechne die Zeitdifferenz zwischen zwei Einträgen in Tagen und speichere das Ergebnis als Excel-Datei.\n"
   ]
  },
  {
   "cell_type": "code",
   "execution_count": 107,
   "id": "foreign-basketball",
   "metadata": {
    "scrolled": true
   },
   "outputs": [
    {
     "data": {
      "text/html": [
       "<div>\n",
       "<style scoped>\n",
       "    .dataframe tbody tr th:only-of-type {\n",
       "        vertical-align: middle;\n",
       "    }\n",
       "\n",
       "    .dataframe tbody tr th {\n",
       "        vertical-align: top;\n",
       "    }\n",
       "\n",
       "    .dataframe thead th {\n",
       "        text-align: right;\n",
       "    }\n",
       "</style>\n",
       "<table border=\"1\" class=\"dataframe\">\n",
       "  <thead>\n",
       "    <tr style=\"text-align: right;\">\n",
       "      <th></th>\n",
       "      <th>Year</th>\n",
       "      <th>Month</th>\n",
       "      <th>Day</th>\n",
       "      <th>Hour</th>\n",
       "      <th>Minute</th>\n",
       "      <th>Values</th>\n",
       "      <th>Datetime</th>\n",
       "    </tr>\n",
       "  </thead>\n",
       "  <tbody>\n",
       "    <tr>\n",
       "      <th>0</th>\n",
       "      <td>2007</td>\n",
       "      <td>10</td>\n",
       "      <td>12</td>\n",
       "      <td>19</td>\n",
       "      <td>10</td>\n",
       "      <td>0.858757</td>\n",
       "      <td>2007-10-12 19:10:00</td>\n",
       "    </tr>\n",
       "    <tr>\n",
       "      <th>1</th>\n",
       "      <td>2016</td>\n",
       "      <td>1</td>\n",
       "      <td>14</td>\n",
       "      <td>1</td>\n",
       "      <td>8</td>\n",
       "      <td>0.104170</td>\n",
       "      <td>2016-01-14 01:08:00</td>\n",
       "    </tr>\n",
       "    <tr>\n",
       "      <th>2</th>\n",
       "      <td>2017</td>\n",
       "      <td>1</td>\n",
       "      <td>14</td>\n",
       "      <td>18</td>\n",
       "      <td>52</td>\n",
       "      <td>0.727276</td>\n",
       "      <td>2017-01-14 18:52:00</td>\n",
       "    </tr>\n",
       "    <tr>\n",
       "      <th>3</th>\n",
       "      <td>2019</td>\n",
       "      <td>9</td>\n",
       "      <td>11</td>\n",
       "      <td>15</td>\n",
       "      <td>41</td>\n",
       "      <td>0.521470</td>\n",
       "      <td>2019-09-11 15:41:00</td>\n",
       "    </tr>\n",
       "    <tr>\n",
       "      <th>4</th>\n",
       "      <td>2001</td>\n",
       "      <td>1</td>\n",
       "      <td>2</td>\n",
       "      <td>14</td>\n",
       "      <td>9</td>\n",
       "      <td>0.004398</td>\n",
       "      <td>2001-01-02 14:09:00</td>\n",
       "    </tr>\n",
       "    <tr>\n",
       "      <th>...</th>\n",
       "      <td>...</td>\n",
       "      <td>...</td>\n",
       "      <td>...</td>\n",
       "      <td>...</td>\n",
       "      <td>...</td>\n",
       "      <td>...</td>\n",
       "      <td>...</td>\n",
       "    </tr>\n",
       "    <tr>\n",
       "      <th>229</th>\n",
       "      <td>2014</td>\n",
       "      <td>11</td>\n",
       "      <td>25</td>\n",
       "      <td>8</td>\n",
       "      <td>26</td>\n",
       "      <td>0.295781</td>\n",
       "      <td>2014-11-25 08:26:00</td>\n",
       "    </tr>\n",
       "    <tr>\n",
       "      <th>230</th>\n",
       "      <td>2014</td>\n",
       "      <td>10</td>\n",
       "      <td>11</td>\n",
       "      <td>21</td>\n",
       "      <td>9</td>\n",
       "      <td>0.425065</td>\n",
       "      <td>2014-10-11 21:09:00</td>\n",
       "    </tr>\n",
       "    <tr>\n",
       "      <th>231</th>\n",
       "      <td>2002</td>\n",
       "      <td>2</td>\n",
       "      <td>8</td>\n",
       "      <td>11</td>\n",
       "      <td>51</td>\n",
       "      <td>0.005506</td>\n",
       "      <td>2002-02-08 11:51:00</td>\n",
       "    </tr>\n",
       "    <tr>\n",
       "      <th>232</th>\n",
       "      <td>2009</td>\n",
       "      <td>3</td>\n",
       "      <td>13</td>\n",
       "      <td>2</td>\n",
       "      <td>14</td>\n",
       "      <td>0.841021</td>\n",
       "      <td>2009-03-13 02:14:00</td>\n",
       "    </tr>\n",
       "    <tr>\n",
       "      <th>233</th>\n",
       "      <td>2005</td>\n",
       "      <td>5</td>\n",
       "      <td>10</td>\n",
       "      <td>10</td>\n",
       "      <td>10</td>\n",
       "      <td>0.958329</td>\n",
       "      <td>2005-05-10 10:10:00</td>\n",
       "    </tr>\n",
       "  </tbody>\n",
       "</table>\n",
       "<p>234 rows × 7 columns</p>\n",
       "</div>"
      ],
      "text/plain": [
       "     Year  Month  Day  Hour  Minute    Values            Datetime\n",
       "0    2007     10   12    19      10  0.858757 2007-10-12 19:10:00\n",
       "1    2016      1   14     1       8  0.104170 2016-01-14 01:08:00\n",
       "2    2017      1   14    18      52  0.727276 2017-01-14 18:52:00\n",
       "3    2019      9   11    15      41  0.521470 2019-09-11 15:41:00\n",
       "4    2001      1    2    14       9  0.004398 2001-01-02 14:09:00\n",
       "..    ...    ...  ...   ...     ...       ...                 ...\n",
       "229  2014     11   25     8      26  0.295781 2014-11-25 08:26:00\n",
       "230  2014     10   11    21       9  0.425065 2014-10-11 21:09:00\n",
       "231  2002      2    8    11      51  0.005506 2002-02-08 11:51:00\n",
       "232  2009      3   13     2      14  0.841021 2009-03-13 02:14:00\n",
       "233  2005      5   10    10      10  0.958329 2005-05-10 10:10:00\n",
       "\n",
       "[234 rows x 7 columns]"
      ]
     },
     "execution_count": 107,
     "metadata": {},
     "output_type": "execute_result"
    }
   ],
   "source": [
    "# Datei einlesen\n",
    "data = pd.read_csv(\"data/datetime_unsorted.csv\")\n",
    "\n",
    "# relevante Spalten in Datum und Zeit konvertieren\n",
    "data['Datetime'] = pd.to_datetime(data[['Year', 'Month', 'Day', 'Hour', 'Minute']])\n",
    "data"
   ]
  },
  {
   "cell_type": "code",
   "execution_count": 108,
   "id": "attractive-pencil",
   "metadata": {},
   "outputs": [],
   "source": [
    "# Aufgabe 2\n",
    "\n",
    "# Daten sortieren\n",
    "data.sort_values('Datetime', inplace=True)\n",
    "\n",
    "# das Datum wird konvertiert\n",
    "data['Datum & Zeit'] = data['Datetime'].dt.strftime('%d.%m.%Y %H:%M')"
   ]
  },
  {
   "cell_type": "code",
   "execution_count": 109,
   "id": "diverse-navigator",
   "metadata": {},
   "outputs": [],
   "source": [
    "# Aufgabe 3\n",
    "\n",
    "# Zeitdifferenz berechnen\n",
    "data['Differenz'] = data['Datetime'].diff().dt.days + data['Datetime'].diff().dt.seconds/86400\n",
    "\n",
    "# die relevanten Spalten werden gespeichert\n",
    "data.to_excel(\"data/formatted.xlsx\")"
   ]
  },
  {
   "cell_type": "markdown",
   "id": "commercial-wealth",
   "metadata": {},
   "source": [
    "## Übung 2\n",
    "\n",
    "Ein Datensatz soll regelmäßige Einträge haben:\n",
    "\n",
    "- **Aufgabe 1**: Lade den Datensatz in der Datei \"*data/missing_values.csv*\". Ist dieser regelmäßig?\n",
    "\n",
    "- **Aufgabe 2**: Finde die fehlenden Datums- und Zeitobjekte. Wieviele Einträge fehlen?\n",
    "\n",
    "- **Aufgabe 3**: Wieviele knontinuierliche Datenlücken gibt es? diese Aufgabe ist etwas schwierig, denn man muss sich eine Logik überlegen."
   ]
  },
  {
   "cell_type": "code",
   "execution_count": 58,
   "id": "parliamentary-alcohol",
   "metadata": {},
   "outputs": [
    {
     "data": {
      "text/plain": [
       "True"
      ]
     },
     "execution_count": 58,
     "metadata": {},
     "output_type": "execute_result"
    }
   ],
   "source": [
    "# Aufgabe 1\n",
    "\n",
    "data = pd.read_csv(\"data/missing_values.csv\")\n",
    "data['New'] = pd.to_datetime(data.loc[:, 'Datetime'], dayfirst=True)\n",
    "\n",
    "# Zeitdifferenzen berechnen\n",
    "tdiff = np.diff(data['New'])\n",
    "\n",
    "# Zeitdifferenzen mit dem häufigsten vergelichen\n",
    "np.any(tdiff != np.median(tdiff))"
   ]
  },
  {
   "cell_type": "code",
   "execution_count": 28,
   "id": "clean-clark",
   "metadata": {},
   "outputs": [
    {
     "name": "stdout",
     "output_type": "stream",
     "text": [
      "DatetimeIndex(['2021-01-02 04:50:00', '2021-01-02 16:50:00',\n",
      "               '2021-01-02 17:00:00', '2021-01-03 11:00:00',\n",
      "               '2021-01-03 13:00:00', '2021-01-03 22:30:00',\n",
      "               '2021-01-04 03:50:00', '2021-01-04 13:50:00',\n",
      "               '2021-01-04 14:00:00', '2021-01-04 14:10:00',\n",
      "               '2021-01-05 00:00:00', '2021-01-05 11:10:00',\n",
      "               '2021-01-05 11:20:00', '2021-01-05 22:50:00',\n",
      "               '2021-01-05 23:00:00', '2021-01-06 23:10:00',\n",
      "               '2021-01-06 23:30:00', '2021-01-07 17:30:00',\n",
      "               '2021-01-07 17:40:00'],\n",
      "              dtype='datetime64[ns]', freq=None)\n",
      "Es fehlen 19 Einträge\n"
     ]
    }
   ],
   "source": [
    "# Aufgabe 2\n",
    "\n",
    "# erstelle eine neue, regelmäßige Zeitsequenz\n",
    "ref_date_range = pd.date_range(data['New'].min(), data['New'].max(), freq='10Min')\n",
    "ref_date_range\n",
    "\n",
    "# finde die fehlenden Einträge\n",
    "idx = ~ref_date_range.isin(data['New'])\n",
    "\n",
    "# bestimme die fehlenden EInträge\n",
    "print(ref_date_range[idx])\n",
    "\n",
    "print(\"Es fehlen {} Einträge\".format(len(ref_date_range[idx])))"
   ]
  },
  {
   "cell_type": "code",
   "execution_count": 57,
   "id": "narrative-assessment",
   "metadata": {
    "scrolled": false
   },
   "outputs": [
    {
     "data": {
      "text/plain": [
       "173    2.0\n",
       "244    3.0\n",
       "351    2.0\n",
       "362    2.0\n",
       "418    2.0\n",
       "449    2.0\n",
       "508    4.0\n",
       "566    2.0\n",
       "632    3.0\n",
       "700    3.0\n",
       "844    2.0\n",
       "845    2.0\n",
       "952    3.0\n",
       "Name: New, dtype: float64"
      ]
     },
     "execution_count": 57,
     "metadata": {},
     "output_type": "execute_result"
    }
   ],
   "source": [
    "# Aufgabe 3\n",
    "\n",
    "# berechne die Zeitdifferenz zwischen Einträgen in Sekunden\n",
    "tdiff = data['New'].diff().dt.seconds\n",
    "\n",
    "# teile die Differenz durch den häufigsten Wert\n",
    "gaps = tdiff / tdiff.median()\n",
    "\n",
    "# alle Einträge >1 sind nun Datenlücken mit der gegebenen Länge\n",
    "gaps[gaps > 1]"
   ]
  },
  {
   "cell_type": "markdown",
   "id": "verified-mitchell",
   "metadata": {},
   "source": [
    "## ENDE"
   ]
  }
 ],
 "metadata": {
  "kernelspec": {
   "display_name": "Python 3",
   "language": "python",
   "name": "python3"
  },
  "language_info": {
   "codemirror_mode": {
    "name": "ipython",
    "version": 3
   },
   "file_extension": ".py",
   "mimetype": "text/x-python",
   "name": "python",
   "nbconvert_exporter": "python",
   "pygments_lexer": "ipython3",
   "version": "3.7.10"
  }
 },
 "nbformat": 4,
 "nbformat_minor": 5
}
