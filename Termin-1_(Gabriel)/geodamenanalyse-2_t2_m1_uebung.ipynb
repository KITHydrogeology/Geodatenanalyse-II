{
 "cells": [
  {
   "cell_type": "markdown",
   "id": "economic-writer",
   "metadata": {},
   "source": [
    "# Geodatenanalyse 2\n",
    "\n",
    "\n",
    "## Woche 2 - Teil 1\n",
    "\n",
    "## Umgang mit Datum und Zeit"
   ]
  },
  {
   "cell_type": "code",
   "execution_count": 2,
   "id": "green-graham",
   "metadata": {},
   "outputs": [],
   "source": [
    "import datetime as dt\n",
    "import numpy as np"
   ]
  },
  {
   "cell_type": "markdown",
   "id": "commercial-wealth",
   "metadata": {},
   "source": [
    "## Aufgabe 1\n",
    "\n",
    "An welchem Wochentag wurde der Dalai Lhama geboren (6 Juli 1935)?"
   ]
  },
  {
   "cell_type": "markdown",
   "id": "digital-offering",
   "metadata": {},
   "source": [
    "## Aufgabe 2\n",
    "\n",
    "Erstelle eine regelmäßige Sequenz mit zunehmender Minute für den April 2021."
   ]
  },
  {
   "cell_type": "markdown",
   "id": "broken-connecticut",
   "metadata": {},
   "source": [
    "## Aufgabe 3\n",
    "\n",
    "Wie viele Minuten hat der Februar 2019?"
   ]
  },
  {
   "cell_type": "markdown",
   "id": "ordered-appeal",
   "metadata": {},
   "source": [
    "## Aufgabe 4\n",
    "\n",
    "Wie viele Sonntage hatte das Jahr 2020?"
   ]
  },
  {
   "cell_type": "markdown",
   "id": "verified-mitchell",
   "metadata": {},
   "source": [
    "## ENDE"
   ]
  }
 ],
 "metadata": {
  "kernelspec": {
   "display_name": "Python 3",
   "language": "python",
   "name": "python3"
  },
  "language_info": {
   "codemirror_mode": {
    "name": "ipython",
    "version": 3
   },
   "file_extension": ".py",
   "mimetype": "text/x-python",
   "name": "python",
   "nbconvert_exporter": "python",
   "pygments_lexer": "ipython3",
   "version": "3.7.10"
  }
 },
 "nbformat": 4,
 "nbformat_minor": 5
}
