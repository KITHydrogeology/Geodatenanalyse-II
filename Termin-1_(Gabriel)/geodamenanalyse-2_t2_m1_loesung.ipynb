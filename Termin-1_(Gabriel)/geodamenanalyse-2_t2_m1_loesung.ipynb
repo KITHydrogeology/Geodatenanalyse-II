{
 "cells": [
  {
   "cell_type": "markdown",
   "id": "economic-writer",
   "metadata": {},
   "source": [
    "# Geodatenanalyse 2\n",
    "\n",
    "\n",
    "## Woche 2 - Teil 1\n",
    "\n",
    "## Umgang mit Datum und Zeit"
   ]
  },
  {
   "cell_type": "code",
   "execution_count": 2,
   "id": "green-graham",
   "metadata": {},
   "outputs": [],
   "source": [
    "import datetime as dt\n",
    "import numpy as np"
   ]
  },
  {
   "cell_type": "markdown",
   "id": "commercial-wealth",
   "metadata": {},
   "source": [
    "## Aufgabe 1\n",
    "\n",
    "An welchem Wochentag wurde der Dalai Lhama geboren (6 Juli 1935)?"
   ]
  },
  {
   "cell_type": "code",
   "execution_count": 3,
   "id": "going-increase",
   "metadata": {},
   "outputs": [
    {
     "data": {
      "text/plain": [
       "'Saturday'"
      ]
     },
     "execution_count": 3,
     "metadata": {},
     "output_type": "execute_result"
    }
   ],
   "source": [
    "# Aufgabe 1\n",
    "birthday = np.datetime64('1935-07-06')\n",
    "t = birthday.astype(dt.datetime)\n",
    "t.strftime('%A')"
   ]
  },
  {
   "cell_type": "markdown",
   "id": "digital-offering",
   "metadata": {},
   "source": [
    "## Aufgabe 2\n",
    "\n",
    "Erstelle eine regelmäßige Sequenz mit zunehmender Minute für den April 2021."
   ]
  },
  {
   "cell_type": "code",
   "execution_count": 20,
   "id": "wired-asbestos",
   "metadata": {},
   "outputs": [
    {
     "data": {
      "text/plain": [
       "array(['2021-04-01T00:00', '2021-04-01T00:01', '2021-04-01T00:02', ...,\n",
       "       '2021-04-30T23:56', '2021-04-30T23:57', '2021-04-30T23:58'],\n",
       "      dtype='datetime64[m]')"
      ]
     },
     "execution_count": 20,
     "metadata": {},
     "output_type": "execute_result"
    }
   ],
   "source": [
    "# Aufgabe 2\n",
    "start = np.datetime64('2021-04-01 00:00')\n",
    "stop = np.datetime64('2021-04-30 23:59')\n",
    "\n",
    "series = np.arange(start, stop)\n",
    "series"
   ]
  },
  {
   "cell_type": "markdown",
   "id": "broken-connecticut",
   "metadata": {},
   "source": [
    "## Aufgabe 3\n",
    "\n",
    "Wie viele Minuten hat der Februar 2019?"
   ]
  },
  {
   "cell_type": "code",
   "execution_count": 21,
   "id": "prompt-annex",
   "metadata": {},
   "outputs": [
    {
     "data": {
      "text/plain": [
       "40319"
      ]
     },
     "execution_count": 21,
     "metadata": {},
     "output_type": "execute_result"
    }
   ],
   "source": [
    "# Aufgabe 3\n",
    "start = np.datetime64('2019-02-01 00:00')\n",
    "stop = np.datetime64('2019-02-28 23:59')\n",
    "series = np.arange(start, stop)\n",
    "len(series)"
   ]
  },
  {
   "cell_type": "markdown",
   "id": "ordered-appeal",
   "metadata": {},
   "source": [
    "## Aufgabe 4\n",
    "\n",
    "Wie viele Sonntage hatte das Jahr 2020?"
   ]
  },
  {
   "cell_type": "code",
   "execution_count": 4,
   "id": "metropolitan-camcorder",
   "metadata": {},
   "outputs": [
    {
     "name": "stdout",
     "output_type": "stream",
     "text": [
      "52\n"
     ]
    }
   ],
   "source": [
    "# Aufgabe 4\n",
    "start = np.datetime64('2020-01-01')\n",
    "stop = np.datetime64('2020-12-31')\n",
    "series = np.arange(start, stop)\n",
    "\n",
    "num_sundays = 0\n",
    "for item, value in np.ndenumerate(series):\n",
    "    weekday = value.astype(dt.datetime).strftime(\"%w\")\n",
    "    if (weekday == '0'):\n",
    "        num_sundays += 1\n",
    "\n",
    "print(num_sundays)"
   ]
  },
  {
   "cell_type": "markdown",
   "id": "verified-mitchell",
   "metadata": {},
   "source": [
    "## ENDE"
   ]
  }
 ],
 "metadata": {
  "kernelspec": {
   "display_name": "Python 3",
   "language": "python",
   "name": "python3"
  },
  "language_info": {
   "codemirror_mode": {
    "name": "ipython",
    "version": 3
   },
   "file_extension": ".py",
   "mimetype": "text/x-python",
   "name": "python",
   "nbconvert_exporter": "python",
   "pygments_lexer": "ipython3",
   "version": "3.7.10"
  }
 },
 "nbformat": 4,
 "nbformat_minor": 5
}
