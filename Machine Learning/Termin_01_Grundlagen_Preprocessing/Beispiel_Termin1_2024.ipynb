{
 "cells": [
  {
   "cell_type": "markdown",
   "id": "f37eaffd",
   "metadata": {},
   "source": [
    "# Maschinelles Lernen  \n",
    "## Übung Termin 1 -  Datenaufbereitung"
   ]
  },
  {
   "cell_type": "markdown",
   "id": "75090b68",
   "metadata": {},
   "source": [
    "### Aufbau:\n",
    "**1. Importieren von Daten**\n",
    "\n",
    "    - Datensätze einladen\n",
    "    - Zusammenführen und Filtern von Datensätze\n",
    "\n",
    "**2. Datenaufbereitung:**\n",
    "\n",
    "    - Ersetzen von Werten unterhalb der Nachweisgrenze\n",
    "    - Ersetzen von kategorischen und numerischen *NaN* Einträgen\n",
    "    - Feature Aggregation\n",
    "    - Aufteilen in Test- und Train-Split\n",
    "    - Skalieren (Normieren/Standardisieren)\n",
    "    - Encodieren (Binär/One Hot/Target)\n",
    "    - Speichern der Daten\n",
    " **3. Übungsaufgabe**"
   ]
  },
  {
   "cell_type": "markdown",
   "id": "95091cd3",
   "metadata": {},
   "source": [
    "#### Import der Python Bibliotheken\n"
   ]
  },
  {
   "cell_type": "code",
   "execution_count": 1,
   "id": "d3cc034e",
   "metadata": {},
   "outputs": [],
   "source": [
    "# Basic packages\n",
    "import pandas as pd\n",
    "import numpy as np\n",
    "import matplotlib.pyplot as plt"
   ]
  },
  {
   "cell_type": "markdown",
   "id": "22fd8b70",
   "metadata": {},
   "source": [
    "# 1. Importieren der Daten.\n",
    "## 1.1 Datensätze einladen"
   ]
  },
  {
   "cell_type": "markdown",
   "id": "bceb7ac7",
   "metadata": {},
   "source": [
    "Wir verwenden zwei Datensätze\n",
    "- Nitratdatensatz (Nitratmessungen an GW-Messstellen)\n",
    "- [Corine Landnutzungarten](https://land.copernicus.eu/pan-european/corine-land-cover/clc2018) an den GW-Messstellen\n",
    "\n",
    "\n",
    "Wir verwenden die Funktion <span style=\"color:blue\">**pandas.read_csv**</span> &rarr; [Hilfe](https://pandas.pydata.org/docs/reference/api/pandas.read_csv.html) um die Dateien zu importieren.\n",
    "\n",
    "### 1.1.1 Nitratdatensatz:"
   ]
  },
  {
   "cell_type": "code",
   "execution_count": 2,
   "id": "91f2e7cf",
   "metadata": {},
   "outputs": [
    {
     "data": {
      "text/html": [
       "<div>\n",
       "<style scoped>\n",
       "    .dataframe tbody tr th:only-of-type {\n",
       "        vertical-align: middle;\n",
       "    }\n",
       "\n",
       "    .dataframe tbody tr th {\n",
       "        vertical-align: top;\n",
       "    }\n",
       "\n",
       "    .dataframe thead th {\n",
       "        text-align: right;\n",
       "    }\n",
       "</style>\n",
       "<table border=\"1\" class=\"dataframe\">\n",
       "  <thead>\n",
       "    <tr style=\"text-align: right;\">\n",
       "      <th></th>\n",
       "      <th>GW-Nummer</th>\n",
       "      <th>Messstelle</th>\n",
       "      <th>Datum</th>\n",
       "      <th>NO3 [mg/l]</th>\n",
       "      <th>pH [ -]</th>\n",
       "      <th>O2 [mg/l]</th>\n",
       "      <th>O2-Sätt [%]</th>\n",
       "      <th>T [°C]</th>\n",
       "      <th>RECHTSWERT</th>\n",
       "      <th>HOCHWERT</th>\n",
       "      <th>HYDROGEOLE</th>\n",
       "      <th>AQUIFER</th>\n",
       "      <th>HYDROGEOL3</th>\n",
       "    </tr>\n",
       "  </thead>\n",
       "  <tbody>\n",
       "    <tr>\n",
       "      <th>0</th>\n",
       "      <td>918/069-2</td>\n",
       "      <td>BBR Betonwerk, Umkirch</td>\n",
       "      <td>11.10.2006 15:20</td>\n",
       "      <td>9,4</td>\n",
       "      <td>6,45</td>\n",
       "      <td>2,4</td>\n",
       "      <td>23,3</td>\n",
       "      <td>14,0</td>\n",
       "      <td>3407870</td>\n",
       "      <td>5323120</td>\n",
       "      <td>3.0</td>\n",
       "      <td>QUARTÄR EISZEITL.KIESE+SANDE (OBERRHEINGRABEN)</td>\n",
       "      <td>Quartäre Kiese und Sande (GWL)</td>\n",
       "    </tr>\n",
       "    <tr>\n",
       "      <th>1</th>\n",
       "      <td>918/069-2</td>\n",
       "      <td>BBR Betonwerk, Umkirch</td>\n",
       "      <td>17.09.2007 14:20</td>\n",
       "      <td>12</td>\n",
       "      <td>6,39</td>\n",
       "      <td>2,1</td>\n",
       "      <td>25,0</td>\n",
       "      <td>21,8</td>\n",
       "      <td>3407870</td>\n",
       "      <td>5323120</td>\n",
       "      <td>3.0</td>\n",
       "      <td>QUARTÄR EISZEITL.KIESE+SANDE (OBERRHEINGRABEN)</td>\n",
       "      <td>Quartäre Kiese und Sande (GWL)</td>\n",
       "    </tr>\n",
       "    <tr>\n",
       "      <th>2</th>\n",
       "      <td>918/069-2</td>\n",
       "      <td>BBR Betonwerk, Umkirch</td>\n",
       "      <td>23.09.2008 08:05</td>\n",
       "      <td>7,6</td>\n",
       "      <td>6,58</td>\n",
       "      <td>2,5</td>\n",
       "      <td>23,0</td>\n",
       "      <td>NaN</td>\n",
       "      <td>3407870</td>\n",
       "      <td>5323120</td>\n",
       "      <td>3.0</td>\n",
       "      <td>QUARTÄR EISZEITL.KIESE+SANDE (OBERRHEINGRABEN)</td>\n",
       "      <td>Quartäre Kiese und Sande (GWL)</td>\n",
       "    </tr>\n",
       "    <tr>\n",
       "      <th>3</th>\n",
       "      <td>918/069-2</td>\n",
       "      <td>BBR Betonwerk, Umkirch</td>\n",
       "      <td>10.11.2008 09:10</td>\n",
       "      <td>12,2</td>\n",
       "      <td>6,54</td>\n",
       "      <td>1,2</td>\n",
       "      <td>12,0</td>\n",
       "      <td>15,4</td>\n",
       "      <td>3407870</td>\n",
       "      <td>5323120</td>\n",
       "      <td>3.0</td>\n",
       "      <td>QUARTÄR EISZEITL.KIESE+SANDE (OBERRHEINGRABEN)</td>\n",
       "      <td>Quartäre Kiese und Sande (GWL)</td>\n",
       "    </tr>\n",
       "    <tr>\n",
       "      <th>4</th>\n",
       "      <td>918/069-2</td>\n",
       "      <td>BBR Betonwerk, Umkirch</td>\n",
       "      <td>09.09.2009 14:08</td>\n",
       "      <td>12</td>\n",
       "      <td>6,46</td>\n",
       "      <td>1,3</td>\n",
       "      <td>14,0</td>\n",
       "      <td>20,0</td>\n",
       "      <td>3407870</td>\n",
       "      <td>5323120</td>\n",
       "      <td>3.0</td>\n",
       "      <td>QUARTÄR EISZEITL.KIESE+SANDE (OBERRHEINGRABEN)</td>\n",
       "      <td>Quartäre Kiese und Sande (GWL)</td>\n",
       "    </tr>\n",
       "  </tbody>\n",
       "</table>\n",
       "</div>"
      ],
      "text/plain": [
       "   GW-Nummer              Messstelle             Datum NO3 [mg/l] pH [ -]  \\\n",
       "0  918/069-2  BBR Betonwerk, Umkirch  11.10.2006 15:20        9,4    6,45   \n",
       "1  918/069-2  BBR Betonwerk, Umkirch  17.09.2007 14:20         12    6,39   \n",
       "2  918/069-2  BBR Betonwerk, Umkirch  23.09.2008 08:05        7,6    6,58   \n",
       "3  918/069-2  BBR Betonwerk, Umkirch  10.11.2008 09:10       12,2    6,54   \n",
       "4  918/069-2  BBR Betonwerk, Umkirch  09.09.2009 14:08         12    6,46   \n",
       "\n",
       "  O2 [mg/l] O2-Sätt [%] T [°C]  RECHTSWERT  HOCHWERT  HYDROGEOLE  \\\n",
       "0       2,4        23,3   14,0     3407870   5323120         3.0   \n",
       "1       2,1        25,0   21,8     3407870   5323120         3.0   \n",
       "2       2,5        23,0    NaN     3407870   5323120         3.0   \n",
       "3       1,2        12,0   15,4     3407870   5323120         3.0   \n",
       "4       1,3        14,0   20,0     3407870   5323120         3.0   \n",
       "\n",
       "                                          AQUIFER  \\\n",
       "0  QUARTÄR EISZEITL.KIESE+SANDE (OBERRHEINGRABEN)   \n",
       "1  QUARTÄR EISZEITL.KIESE+SANDE (OBERRHEINGRABEN)   \n",
       "2  QUARTÄR EISZEITL.KIESE+SANDE (OBERRHEINGRABEN)   \n",
       "3  QUARTÄR EISZEITL.KIESE+SANDE (OBERRHEINGRABEN)   \n",
       "4  QUARTÄR EISZEITL.KIESE+SANDE (OBERRHEINGRABEN)   \n",
       "\n",
       "                       HYDROGEOL3  \n",
       "0  Quartäre Kiese und Sande (GWL)  \n",
       "1  Quartäre Kiese und Sande (GWL)  \n",
       "2  Quartäre Kiese und Sande (GWL)  \n",
       "3  Quartäre Kiese und Sande (GWL)  \n",
       "4  Quartäre Kiese und Sande (GWL)  "
      ]
     },
     "execution_count": 2,
     "metadata": {},
     "output_type": "execute_result"
    }
   ],
   "source": [
    "# Nitratdatensatz einlesen\n",
    "data_NO3 = pd.read_csv('Nitratmessungen.csv', sep=',', encoding=\"utf-8\", index_col=0)\n",
    "\n",
    "# Zeige die ersten 5 Zeilen des Datensatzes an\n",
    "data_NO3.head(5)"
   ]
  },
  {
   "cell_type": "code",
   "execution_count": 3,
   "id": "d9cf907b",
   "metadata": {},
   "outputs": [
    {
     "data": {
      "text/plain": [
       "GW-Nummer       object\n",
       "Messstelle      object\n",
       "Datum           object\n",
       "NO3 [mg/l]      object\n",
       "pH [ -]         object\n",
       "O2 [mg/l]       object\n",
       "O2-Sätt [%]     object\n",
       "T [°C]          object\n",
       "RECHTSWERT       int64\n",
       "HOCHWERT         int64\n",
       "HYDROGEOLE     float64\n",
       "AQUIFER         object\n",
       "HYDROGEOL3      object\n",
       "dtype: object"
      ]
     },
     "execution_count": 3,
     "metadata": {},
     "output_type": "execute_result"
    }
   ],
   "source": [
    "# Gebe Datentypen für die einzelnen Spalten aus\n",
    "# Bsp. int64, float64, bool, datetime64, timedelta, object, usw.\n",
    "data_NO3.dtypes"
   ]
  },
  {
   "cell_type": "markdown",
   "id": "ce37b32b-6599-4728-934b-dab505923273",
   "metadata": {},
   "source": [
    "> **Vorsicht:** Hier sehen wir, dass für mehrere Spalten falsche Datentypen vorliegen. Die Spalte `Datum` sollte anstelle von `Object` als Datetimeformat vorliegen. Die Spalten mit den physikochemischen Eigenschaften und dem Nitratgehalt sollten auch in `Float` umgewandelt werden, damit Berechnungen durchgeführt werden können. Diese Änderungen werden wir später in der Datenaufbereitung durchführen.\n"
   ]
  },
  {
   "cell_type": "markdown",
   "id": "8616715c",
   "metadata": {},
   "source": [
    "### 1.1.2 Corine Landnutzung für Messstellen:"
   ]
  },
  {
   "cell_type": "markdown",
   "id": "9b7d809a-19bb-4090-b72b-a5d2b8720c21",
   "metadata": {},
   "source": [
    "Die CORINE Landnutzungsdaten der Europäischen Umweltagentur klassifizieren die Landnutzung in Europa. Sie umfassen Kategorien wie Ackerland (Code 1), Wälder (Code 2), Siedlungsgebiete (Code 3) und andere. Diese Daten werden in Form von Raster- oder Vektordaten bereitgestellt, oft in einem rasterbasierten Format mit spezifischer räumlicher Auflösung. In der Datei 'Corinedaten.txt' wurden in einem Vorschritt die Landnutzungsklassen direkt an den Standorten der Messstellen erfasst."
   ]
  },
  {
   "cell_type": "code",
   "execution_count": 4,
   "id": "92ebaaaf",
   "metadata": {},
   "outputs": [
    {
     "data": {
      "text/html": [
       "<div>\n",
       "<style scoped>\n",
       "    .dataframe tbody tr th:only-of-type {\n",
       "        vertical-align: middle;\n",
       "    }\n",
       "\n",
       "    .dataframe tbody tr th {\n",
       "        vertical-align: top;\n",
       "    }\n",
       "\n",
       "    .dataframe thead th {\n",
       "        text-align: right;\n",
       "    }\n",
       "</style>\n",
       "<table border=\"1\" class=\"dataframe\">\n",
       "  <thead>\n",
       "    <tr style=\"text-align: right;\">\n",
       "      <th></th>\n",
       "      <th>GW_NUMMER</th>\n",
       "      <th>NAME</th>\n",
       "      <th>RECHTSWERT</th>\n",
       "      <th>HOCHWERT</th>\n",
       "      <th>GEMEINDE_K</th>\n",
       "      <th>AQUIFER_KZ</th>\n",
       "      <th>EINZUGSGEB</th>\n",
       "      <th>HYDROGEOLE</th>\n",
       "      <th>HYDROGEOL2</th>\n",
       "      <th>MESSNETZ1_</th>\n",
       "      <th>MESSNETZ2_</th>\n",
       "      <th>GEMEINDE</th>\n",
       "      <th>AQUIFER</th>\n",
       "      <th>EINZUGSGE2</th>\n",
       "      <th>HYDROGEOL3</th>\n",
       "      <th>MESSNETZ1</th>\n",
       "      <th>MESSNETZ2</th>\n",
       "      <th>RASTERVALU</th>\n",
       "    </tr>\n",
       "    <tr>\n",
       "      <th>FID</th>\n",
       "      <th></th>\n",
       "      <th></th>\n",
       "      <th></th>\n",
       "      <th></th>\n",
       "      <th></th>\n",
       "      <th></th>\n",
       "      <th></th>\n",
       "      <th></th>\n",
       "      <th></th>\n",
       "      <th></th>\n",
       "      <th></th>\n",
       "      <th></th>\n",
       "      <th></th>\n",
       "      <th></th>\n",
       "      <th></th>\n",
       "      <th></th>\n",
       "      <th></th>\n",
       "      <th></th>\n",
       "    </tr>\n",
       "  </thead>\n",
       "  <tbody>\n",
       "    <tr>\n",
       "      <th>0</th>\n",
       "      <td>1/022-9</td>\n",
       "      <td>QSS HERTINGERQU.1+2, KANDERN</td>\n",
       "      <td>3395475.0</td>\n",
       "      <td>5288420.0</td>\n",
       "      <td>8336104.0</td>\n",
       "      <td>31.0</td>\n",
       "      <td>2.333220e+09</td>\n",
       "      <td>11.0</td>\n",
       "      <td>2.0</td>\n",
       "      <td></td>\n",
       "      <td></td>\n",
       "      <td>MALSBURG-MARZELL</td>\n",
       "      <td>MALM WEIßJURA (SCHWÄBISCHE ALB)</td>\n",
       "      <td>Engebach</td>\n",
       "      <td>Oberjura (Raurasische Fazies) (GWL)</td>\n",
       "      <td>#800000000010</td>\n",
       "      <td>#800000000002</td>\n",
       "      <td>311</td>\n",
       "    </tr>\n",
       "    <tr>\n",
       "      <th>1</th>\n",
       "      <td>1/117-3</td>\n",
       "      <td>QF KREBSBRUNNENQ., ETTENHEIM</td>\n",
       "      <td>3419400.0</td>\n",
       "      <td>5345550.0</td>\n",
       "      <td>8317026.0</td>\n",
       "      <td>81.0</td>\n",
       "      <td>2.338940e+09</td>\n",
       "      <td>45.0</td>\n",
       "      <td>69.0</td>\n",
       "      <td></td>\n",
       "      <td></td>\n",
       "      <td>ETTENHEIM, STADT</td>\n",
       "      <td>BUNTSANDSTEIN</td>\n",
       "      <td>Ettenbach</td>\n",
       "      <td>Unterer und Mittlerer Buntsandstein (GWL)</td>\n",
       "      <td>#800000000010</td>\n",
       "      <td>#800000000002</td>\n",
       "      <td>311</td>\n",
       "    </tr>\n",
       "    <tr>\n",
       "      <th>2</th>\n",
       "      <td>1/119-9</td>\n",
       "      <td>TB SCHLAGBR.4, VOERSTETTEN</td>\n",
       "      <td>3414860.0</td>\n",
       "      <td>5325450.0</td>\n",
       "      <td>8316045.0</td>\n",
       "      <td>4.0</td>\n",
       "      <td>2.338892e+09</td>\n",
       "      <td>3.0</td>\n",
       "      <td>8.0</td>\n",
       "      <td></td>\n",
       "      <td></td>\n",
       "      <td>VÖRSTETTEN</td>\n",
       "      <td>QUARTÄR EISZEITL.KIESE+SANDE (OBERRHEINGRABEN)</td>\n",
       "      <td>Schobbach</td>\n",
       "      <td>Quartäre Kiese und Sande (GWL)</td>\n",
       "      <td>#800000000012</td>\n",
       "      <td></td>\n",
       "      <td>211</td>\n",
       "    </tr>\n",
       "    <tr>\n",
       "      <th>3</th>\n",
       "      <td>1/120-8</td>\n",
       "      <td>QF2 KLEISLEWALDQ., ZASTLER</td>\n",
       "      <td>3423200.0</td>\n",
       "      <td>5309100.0</td>\n",
       "      <td>8315084.0</td>\n",
       "      <td>91.0</td>\n",
       "      <td>2.338830e+09</td>\n",
       "      <td>50.0</td>\n",
       "      <td>18.0</td>\n",
       "      <td></td>\n",
       "      <td></td>\n",
       "      <td>OBERRIED</td>\n",
       "      <td>KRISTALLIN (SCHWARZWALD)</td>\n",
       "      <td>Dreisam unterh. Wagensteigbach oberh. Brugga</td>\n",
       "      <td>Paläozoikum, Kristallin (GWG)</td>\n",
       "      <td>#800000000010</td>\n",
       "      <td>#800000000002</td>\n",
       "      <td>312</td>\n",
       "    </tr>\n",
       "    <tr>\n",
       "      <th>4</th>\n",
       "      <td>1/121-0</td>\n",
       "      <td>Q STOLLENQUELLE HINTERES ELEND, MÜNSTERTAL</td>\n",
       "      <td>3413785.0</td>\n",
       "      <td>5303338.0</td>\n",
       "      <td>8315130.0</td>\n",
       "      <td>91.0</td>\n",
       "      <td>2.336410e+09</td>\n",
       "      <td>50.0</td>\n",
       "      <td>18.0</td>\n",
       "      <td></td>\n",
       "      <td></td>\n",
       "      <td>MÜNSTERTAL/ SCHWARZWALD</td>\n",
       "      <td>KRISTALLIN (SCHWARZWALD)</td>\n",
       "      <td>Neumagen oberhalb von Talbach</td>\n",
       "      <td>Paläozoikum, Kristallin (GWG)</td>\n",
       "      <td>#800000000010</td>\n",
       "      <td>#800000000002</td>\n",
       "      <td>231</td>\n",
       "    </tr>\n",
       "  </tbody>\n",
       "</table>\n",
       "</div>"
      ],
      "text/plain": [
       "    GW_NUMMER                                        NAME  RECHTSWERT  \\\n",
       "FID                                                                     \n",
       "0     1/022-9                QSS HERTINGERQU.1+2, KANDERN   3395475.0   \n",
       "1     1/117-3                QF KREBSBRUNNENQ., ETTENHEIM   3419400.0   \n",
       "2     1/119-9                  TB SCHLAGBR.4, VOERSTETTEN   3414860.0   \n",
       "3     1/120-8                  QF2 KLEISLEWALDQ., ZASTLER   3423200.0   \n",
       "4     1/121-0  Q STOLLENQUELLE HINTERES ELEND, MÜNSTERTAL   3413785.0   \n",
       "\n",
       "      HOCHWERT  GEMEINDE_K  AQUIFER_KZ    EINZUGSGEB  HYDROGEOLE  HYDROGEOL2  \\\n",
       "FID                                                                            \n",
       "0    5288420.0   8336104.0        31.0  2.333220e+09        11.0         2.0   \n",
       "1    5345550.0   8317026.0        81.0  2.338940e+09        45.0        69.0   \n",
       "2    5325450.0   8316045.0         4.0  2.338892e+09         3.0         8.0   \n",
       "3    5309100.0   8315084.0        91.0  2.338830e+09        50.0        18.0   \n",
       "4    5303338.0   8315130.0        91.0  2.336410e+09        50.0        18.0   \n",
       "\n",
       "    MESSNETZ1_ MESSNETZ2_                 GEMEINDE  \\\n",
       "FID                                                  \n",
       "0                                 MALSBURG-MARZELL   \n",
       "1                                 ETTENHEIM, STADT   \n",
       "2                                       VÖRSTETTEN   \n",
       "3                                         OBERRIED   \n",
       "4                          MÜNSTERTAL/ SCHWARZWALD   \n",
       "\n",
       "                                            AQUIFER  \\\n",
       "FID                                                   \n",
       "0                   MALM WEIßJURA (SCHWÄBISCHE ALB)   \n",
       "1                                     BUNTSANDSTEIN   \n",
       "2    QUARTÄR EISZEITL.KIESE+SANDE (OBERRHEINGRABEN)   \n",
       "3                          KRISTALLIN (SCHWARZWALD)   \n",
       "4                          KRISTALLIN (SCHWARZWALD)   \n",
       "\n",
       "                                       EINZUGSGE2  \\\n",
       "FID                                                 \n",
       "0                                        Engebach   \n",
       "1                                       Ettenbach   \n",
       "2                                       Schobbach   \n",
       "3    Dreisam unterh. Wagensteigbach oberh. Brugga   \n",
       "4                   Neumagen oberhalb von Talbach   \n",
       "\n",
       "                                    HYDROGEOL3      MESSNETZ1      MESSNETZ2  \\\n",
       "FID                                                                            \n",
       "0          Oberjura (Raurasische Fazies) (GWL)  #800000000010  #800000000002   \n",
       "1    Unterer und Mittlerer Buntsandstein (GWL)  #800000000010  #800000000002   \n",
       "2               Quartäre Kiese und Sande (GWL)  #800000000012                  \n",
       "3                Paläozoikum, Kristallin (GWG)  #800000000010  #800000000002   \n",
       "4                Paläozoikum, Kristallin (GWG)  #800000000010  #800000000002   \n",
       "\n",
       "     RASTERVALU  \n",
       "FID              \n",
       "0           311  \n",
       "1           311  \n",
       "2           211  \n",
       "3           312  \n",
       "4           231  "
      ]
     },
     "execution_count": 4,
     "metadata": {},
     "output_type": "execute_result"
    }
   ],
   "source": [
    "# Corine Datensatz einlesen\n",
    "data_Corine = pd.read_csv('Corinedaten.txt', sep=';',decimal=',',  encoding='utf-8', index_col=0)\n",
    "\n",
    "# Zeige die ersten 5 Zeilen des Datensatzes an\n",
    "data_Corine.head(5)"
   ]
  },
  {
   "cell_type": "markdown",
   "id": "81f5238b",
   "metadata": {},
   "source": [
    "## 1.2. Zusammenführen und Filtern der Datensätze"
   ]
  },
  {
   "cell_type": "markdown",
   "id": "5346c830",
   "metadata": {},
   "source": [
    "Zusammenführen der beiden Datensätze mit Hilfe der <span style=\"color:blue\">**.merge**</span>-Funktion für Pandas Dataframes. &rarr; [Hilfe](https://pandas.pydata.org/docs/reference/api/pandas.DataFrame.merge.html)\n",
    "- Gemeinsame Spalte für das Zusammenführen ist die **Grundwassernummer**.\n",
    "\n",
    "- Von dem zweiten Datensatz benötigen wir lediglich die Spalte **\"RASTERVALU\"**, diese enthält Daten zur Landnutzung von der Corine Landuse."
   ]
  },
  {
   "cell_type": "markdown",
   "id": "a7af2e13",
   "metadata": {},
   "source": [
    "### 1.2.1 Zusammenführen der Datensätze"
   ]
  },
  {
   "cell_type": "markdown",
   "id": "65be5644-1c32-4795-96aa-e8174d5085e2",
   "metadata": {},
   "source": [
    "> **Info:** Für die weitere Verarbeitung benötigen wir von den Corinedaten nur die Spalte \"Rastervalue\" und die \"GW-Nummer\" als Schlüssel, um beim Zusammenführen die richtigen Werte zuzuweisen.\n"
   ]
  },
  {
   "cell_type": "code",
   "execution_count": 5,
   "id": "ea706242",
   "metadata": {},
   "outputs": [
    {
     "data": {
      "text/html": [
       "<div>\n",
       "<style scoped>\n",
       "    .dataframe tbody tr th:only-of-type {\n",
       "        vertical-align: middle;\n",
       "    }\n",
       "\n",
       "    .dataframe tbody tr th {\n",
       "        vertical-align: top;\n",
       "    }\n",
       "\n",
       "    .dataframe thead th {\n",
       "        text-align: right;\n",
       "    }\n",
       "</style>\n",
       "<table border=\"1\" class=\"dataframe\">\n",
       "  <thead>\n",
       "    <tr style=\"text-align: right;\">\n",
       "      <th></th>\n",
       "      <th>GW-Nummer</th>\n",
       "      <th>Messstelle</th>\n",
       "      <th>Datum</th>\n",
       "      <th>NO3 [mg/l]</th>\n",
       "      <th>pH [ -]</th>\n",
       "      <th>O2 [mg/l]</th>\n",
       "      <th>O2-Sätt [%]</th>\n",
       "      <th>T [°C]</th>\n",
       "      <th>RECHTSWERT</th>\n",
       "      <th>HOCHWERT</th>\n",
       "      <th>HYDROGEOLE</th>\n",
       "      <th>AQUIFER</th>\n",
       "      <th>HYDROGEOL3</th>\n",
       "      <th>GW_NUMMER</th>\n",
       "      <th>RASTERVALU</th>\n",
       "    </tr>\n",
       "  </thead>\n",
       "  <tbody>\n",
       "    <tr>\n",
       "      <th>0</th>\n",
       "      <td>918/069-2</td>\n",
       "      <td>BBR Betonwerk, Umkirch</td>\n",
       "      <td>11.10.2006 15:20</td>\n",
       "      <td>9,4</td>\n",
       "      <td>6,45</td>\n",
       "      <td>2,4</td>\n",
       "      <td>23,3</td>\n",
       "      <td>14,0</td>\n",
       "      <td>3407870</td>\n",
       "      <td>5323120</td>\n",
       "      <td>3.0</td>\n",
       "      <td>QUARTÄR EISZEITL.KIESE+SANDE (OBERRHEINGRABEN)</td>\n",
       "      <td>Quartäre Kiese und Sande (GWL)</td>\n",
       "      <td>918/069-2</td>\n",
       "      <td>121</td>\n",
       "    </tr>\n",
       "    <tr>\n",
       "      <th>1</th>\n",
       "      <td>918/069-2</td>\n",
       "      <td>BBR Betonwerk, Umkirch</td>\n",
       "      <td>17.09.2007 14:20</td>\n",
       "      <td>12</td>\n",
       "      <td>6,39</td>\n",
       "      <td>2,1</td>\n",
       "      <td>25,0</td>\n",
       "      <td>21,8</td>\n",
       "      <td>3407870</td>\n",
       "      <td>5323120</td>\n",
       "      <td>3.0</td>\n",
       "      <td>QUARTÄR EISZEITL.KIESE+SANDE (OBERRHEINGRABEN)</td>\n",
       "      <td>Quartäre Kiese und Sande (GWL)</td>\n",
       "      <td>918/069-2</td>\n",
       "      <td>121</td>\n",
       "    </tr>\n",
       "    <tr>\n",
       "      <th>2</th>\n",
       "      <td>918/069-2</td>\n",
       "      <td>BBR Betonwerk, Umkirch</td>\n",
       "      <td>23.09.2008 08:05</td>\n",
       "      <td>7,6</td>\n",
       "      <td>6,58</td>\n",
       "      <td>2,5</td>\n",
       "      <td>23,0</td>\n",
       "      <td>NaN</td>\n",
       "      <td>3407870</td>\n",
       "      <td>5323120</td>\n",
       "      <td>3.0</td>\n",
       "      <td>QUARTÄR EISZEITL.KIESE+SANDE (OBERRHEINGRABEN)</td>\n",
       "      <td>Quartäre Kiese und Sande (GWL)</td>\n",
       "      <td>918/069-2</td>\n",
       "      <td>121</td>\n",
       "    </tr>\n",
       "    <tr>\n",
       "      <th>3</th>\n",
       "      <td>918/069-2</td>\n",
       "      <td>BBR Betonwerk, Umkirch</td>\n",
       "      <td>10.11.2008 09:10</td>\n",
       "      <td>12,2</td>\n",
       "      <td>6,54</td>\n",
       "      <td>1,2</td>\n",
       "      <td>12,0</td>\n",
       "      <td>15,4</td>\n",
       "      <td>3407870</td>\n",
       "      <td>5323120</td>\n",
       "      <td>3.0</td>\n",
       "      <td>QUARTÄR EISZEITL.KIESE+SANDE (OBERRHEINGRABEN)</td>\n",
       "      <td>Quartäre Kiese und Sande (GWL)</td>\n",
       "      <td>918/069-2</td>\n",
       "      <td>121</td>\n",
       "    </tr>\n",
       "    <tr>\n",
       "      <th>4</th>\n",
       "      <td>918/069-2</td>\n",
       "      <td>BBR Betonwerk, Umkirch</td>\n",
       "      <td>09.09.2009 14:08</td>\n",
       "      <td>12</td>\n",
       "      <td>6,46</td>\n",
       "      <td>1,3</td>\n",
       "      <td>14,0</td>\n",
       "      <td>20,0</td>\n",
       "      <td>3407870</td>\n",
       "      <td>5323120</td>\n",
       "      <td>3.0</td>\n",
       "      <td>QUARTÄR EISZEITL.KIESE+SANDE (OBERRHEINGRABEN)</td>\n",
       "      <td>Quartäre Kiese und Sande (GWL)</td>\n",
       "      <td>918/069-2</td>\n",
       "      <td>121</td>\n",
       "    </tr>\n",
       "  </tbody>\n",
       "</table>\n",
       "</div>"
      ],
      "text/plain": [
       "   GW-Nummer              Messstelle             Datum NO3 [mg/l] pH [ -]  \\\n",
       "0  918/069-2  BBR Betonwerk, Umkirch  11.10.2006 15:20        9,4    6,45   \n",
       "1  918/069-2  BBR Betonwerk, Umkirch  17.09.2007 14:20         12    6,39   \n",
       "2  918/069-2  BBR Betonwerk, Umkirch  23.09.2008 08:05        7,6    6,58   \n",
       "3  918/069-2  BBR Betonwerk, Umkirch  10.11.2008 09:10       12,2    6,54   \n",
       "4  918/069-2  BBR Betonwerk, Umkirch  09.09.2009 14:08         12    6,46   \n",
       "\n",
       "  O2 [mg/l] O2-Sätt [%] T [°C]  RECHTSWERT  HOCHWERT  HYDROGEOLE  \\\n",
       "0       2,4        23,3   14,0     3407870   5323120         3.0   \n",
       "1       2,1        25,0   21,8     3407870   5323120         3.0   \n",
       "2       2,5        23,0    NaN     3407870   5323120         3.0   \n",
       "3       1,2        12,0   15,4     3407870   5323120         3.0   \n",
       "4       1,3        14,0   20,0     3407870   5323120         3.0   \n",
       "\n",
       "                                          AQUIFER  \\\n",
       "0  QUARTÄR EISZEITL.KIESE+SANDE (OBERRHEINGRABEN)   \n",
       "1  QUARTÄR EISZEITL.KIESE+SANDE (OBERRHEINGRABEN)   \n",
       "2  QUARTÄR EISZEITL.KIESE+SANDE (OBERRHEINGRABEN)   \n",
       "3  QUARTÄR EISZEITL.KIESE+SANDE (OBERRHEINGRABEN)   \n",
       "4  QUARTÄR EISZEITL.KIESE+SANDE (OBERRHEINGRABEN)   \n",
       "\n",
       "                       HYDROGEOL3  GW_NUMMER  RASTERVALU  \n",
       "0  Quartäre Kiese und Sande (GWL)  918/069-2         121  \n",
       "1  Quartäre Kiese und Sande (GWL)  918/069-2         121  \n",
       "2  Quartäre Kiese und Sande (GWL)  918/069-2         121  \n",
       "3  Quartäre Kiese und Sande (GWL)  918/069-2         121  \n",
       "4  Quartäre Kiese und Sande (GWL)  918/069-2         121  "
      ]
     },
     "execution_count": 5,
     "metadata": {},
     "output_type": "execute_result"
    }
   ],
   "source": [
    "# Führe die beiden Datensätze anhand der gemeinsamen Spalte \"GW-Nummer\" zusammen und behalte nur die benötigten Spalten\n",
    "joined_data = data_NO3.merge(data_Corine[['GW_NUMMER','RASTERVALU']], how='inner', left_on='GW-Nummer', right_on='GW_NUMMER')\n",
    "\n",
    "# Zeige die ersten 5 Zeilen des zusammengeführten Datensatzes an\n",
    "joined_data.head(5)"
   ]
  },
  {
   "cell_type": "code",
   "execution_count": 6,
   "id": "3955be57",
   "metadata": {},
   "outputs": [
    {
     "data": {
      "text/plain": [
       "GW-Nummer       object\n",
       "Messstelle      object\n",
       "Datum           object\n",
       "NO3 [mg/l]      object\n",
       "pH [ -]         object\n",
       "O2 [mg/l]       object\n",
       "O2-Sätt [%]     object\n",
       "T [°C]          object\n",
       "RECHTSWERT       int64\n",
       "HOCHWERT         int64\n",
       "HYDROGEOLE     float64\n",
       "AQUIFER         object\n",
       "HYDROGEOL3      object\n",
       "GW_NUMMER       object\n",
       "RASTERVALU       int64\n",
       "dtype: object"
      ]
     },
     "execution_count": 6,
     "metadata": {},
     "output_type": "execute_result"
    }
   ],
   "source": [
    "# Gebe Datentypen für die einzelnen Spalten des zusammengeführten Dataframes aus\n",
    "joined_data.dtypes"
   ]
  },
  {
   "cell_type": "markdown",
   "id": "315e813d",
   "metadata": {},
   "source": [
    "### 1.2.2 Filtern der Datensätze"
   ]
  },
  {
   "cell_type": "markdown",
   "id": "62f019b2",
   "metadata": {},
   "source": [
    "#### Für die weitere Verarbeitung benötigen wir nur noch die folgenden Spalten:\n",
    "- Messstelle\n",
    "- GW-Nummer \n",
    "- Datum\n",
    "- NO3\n",
    "- O2\n",
    "- Rastervalu = Corine Landcover\n",
    "- Hydrogeologie"
   ]
  },
  {
   "cell_type": "code",
   "execution_count": 7,
   "id": "4698f46e-48f2-41ae-adbb-021e9afe3f10",
   "metadata": {},
   "outputs": [
    {
     "data": {
      "text/plain": [
       "Messstelle            object\n",
       "GW-Nummer             object\n",
       "Datum         datetime64[ns]\n",
       "NO3 [mg/l]            object\n",
       "O2 [mg/l]             object\n",
       "RASTERVALU             int64\n",
       "HYDROGEOL3            object\n",
       "dtype: object"
      ]
     },
     "execution_count": 7,
     "metadata": {},
     "output_type": "execute_result"
    }
   ],
   "source": [
    "# Erstelle DataFrame mit ausgewählten Spalten (columns) und konvertiere 'Datum' in ein Datetime-Objekt\n",
    "selected_columns = ['Messstelle', 'GW-Nummer', 'Datum', 'NO3 [mg/l]', 'O2 [mg/l]', 'RASTERVALU', 'HYDROGEOL3']\n",
    "data = joined_data[selected_columns].copy()  # selected_columns auswählen und eine Kopie erstelle\n",
    "\n",
    "# 'Datum' in ein Datetime-Objekt konvertieren\n",
    "data['Datum'] = pd.to_datetime(data['Datum'], format='%d.%m.%Y %H:%M')  \n",
    "\n",
    "# Zeige die ersten 5 Zeilen des zusammengeführten Datensatzes an\n",
    "data.head(5)\n",
    "data.dtypes"
   ]
  },
  {
   "cell_type": "markdown",
   "id": "2069e9c3-189b-4601-9620-a7ef98976fcc",
   "metadata": {},
   "source": [
    "> **Vorsicht:** Normalerweise könnten wir die Objekte mit `.astype(float)` einfach umwandeln. Wenn ihr das versucht, werdet ihr eine Fehlermeldung erhalten. Diese liegt daran, dass die Daten ein Komma statt eines Punktes als Dezimaltrennzeichen besitzen. Daher müssen wir das Komma mit einem Punkt ersetzen.\n",
    "Es lohnt sich daher die Spalten ein wenig genauer zu betrachten."
   ]
  },
  {
   "cell_type": "markdown",
   "id": "a5974e96",
   "metadata": {},
   "source": [
    "# 2. Datenaufbereitung"
   ]
  },
  {
   "cell_type": "markdown",
   "id": "46aa6077-253b-4208-a7ca-3af1aff9cd70",
   "metadata": {},
   "source": [
    "> Hinweis: Bevor ihr Manipulationen am DataFrame durchführen, kann es hilfreich sein, eine Kopie des DataFrame zu erstellen,\n",
    "um mögliche Fehlermeldungen zu vermeiden, insbesondere wenn Ihr Zellen mehrmals ausführt. \n",
    "Ihr könnt dies mit dem Befehl `df = data.copy()` tun. \n",
    "Auf diese Weise müsst ihr nicht das gesamte Skript erneut ausführen, sondern können einfach ab dieser Zelle fortsetzen.\n"
   ]
  },
  {
   "cell_type": "code",
   "execution_count": 8,
   "id": "9bbec4f9-ee6a-4b96-a930-e5d916241473",
   "metadata": {},
   "outputs": [],
   "source": [
    "# Erstelle eine Kopie des DataFrame\n",
    "df= data.copy()"
   ]
  },
  {
   "cell_type": "markdown",
   "id": "cef98f40-bccf-4157-b860-22798505d1a8",
   "metadata": {},
   "source": [
    "Spalte `\"NO3 [mg/l]\"`"
   ]
  },
  {
   "cell_type": "code",
   "execution_count": 9,
   "id": "5583e329",
   "metadata": {},
   "outputs": [
    {
     "data": {
      "text/plain": [
       "5026      0,1\n",
       "1707      0,1\n",
       "5873      0,1\n",
       "5543      0,2\n",
       "6549      0,2\n",
       "        ...  \n",
       "8294    < 0,5\n",
       "1366    < 0,5\n",
       "1367    < 0,5\n",
       "8248    < 0,5\n",
       "5724    < 0,5\n",
       "Name: NO3 [mg/l], Length: 12178, dtype: object"
      ]
     },
     "execution_count": 9,
     "metadata": {},
     "output_type": "execute_result"
    }
   ],
   "source": [
    "# Sortiere die Werte der Spalte in aufsteigender Reihenfolge\n",
    "df[\"NO3 [mg/l]\"].sort_values() # --> Beeinhaltet Werte unterhalb der Nachweisgrenze (NWG)"
   ]
  },
  {
   "cell_type": "markdown",
   "id": "d7422bd6-817b-4c53-a97d-d1692831d174",
   "metadata": {},
   "source": [
    "> **Vorsicht:** Wir sehen hier, dass es Werte gibt, die unterhalb der Nachweisgrenze liegen. Diese wurden mit \"<\" gekennzeichnet. Da \"Pandas\" nicht mit \"<\" arbeiten kann, müssen wir a) die Zeichen entfernen und b) überlegen, was wir mit den Werten unterhalb der Nachweisgrenze machen.\n"
   ]
  },
  {
   "cell_type": "markdown",
   "id": "46aaeb56-533b-48ef-939b-dd654c410725",
   "metadata": {},
   "source": [
    "Spalte `\"O2 [mg/l]\"`"
   ]
  },
  {
   "cell_type": "code",
   "execution_count": 10,
   "id": "58610943",
   "metadata": {},
   "outputs": [
    {
     "data": {
      "text/plain": [
       "8181     0,1\n",
       "3490     0,1\n",
       "5548     0,1\n",
       "3485     0,1\n",
       "685      0,1\n",
       "        ... \n",
       "12160    NaN\n",
       "12161    NaN\n",
       "12162    NaN\n",
       "12163    NaN\n",
       "12164    NaN\n",
       "Name: O2 [mg/l], Length: 12178, dtype: object"
      ]
     },
     "execution_count": 10,
     "metadata": {},
     "output_type": "execute_result"
    }
   ],
   "source": [
    "# Sortiere die Werte der Spalte in aufsteigender Reihenfolge\n",
    "df[\"O2 [mg/l]\"].sort_values() #--> beeinhaltet NAN Werte"
   ]
  },
  {
   "cell_type": "markdown",
   "id": "57d56f41-31f4-49e7-b9d6-bc02367dfe0e",
   "metadata": {},
   "source": [
    "> **Vorsicht:** Wir haben festgestellt, dass NaN-Werte im Datensatz vorhanden sind. Möglicherweise wurden diese Parameter nicht gemessen. In vielen Fällen müssen daher fehlende Werte geschätzt oder imputiert werden.\n",
    "> Eine allgemein akzeptierte Regel, wie viele Werte maximal geschätzt werden dürfen, ist schwer zu bestimmen, da sie von verschiedenen Faktoren abhängt, wie z.B. der Art der Daten, der Qualität der vorhandenen Daten, der Analysemethode und dem Anwendungsfall.\n",
    "> Jedoch wird oft empfohlen, dass nicht mehr als 5-10% der Daten imputiert werden sollten, um die Zuverlässigkeit der Ergebnisse zu gewährleisten."
   ]
  },
  {
   "cell_type": "code",
   "execution_count": 11,
   "id": "957b3073-0c82-463f-801e-d4fb9a87d2d6",
   "metadata": {},
   "outputs": [
    {
     "name": "stdout",
     "output_type": "stream",
     "text": [
      "In der Spalte 'O2 [mg/l]' gibt es 1413.0 '<' Zeichen (11.6%) und 475 NaN-Werte (3.9%).\n",
      "In der Spalte 'NO3 [mg/l]' gibt es 2110 '<' Zeichen (17.33%) und 0 NaN-Werte (0.0%).\n"
     ]
    }
   ],
   "source": [
    "# FYI: Anzahl von \"<\" und \"NAN\" ausgeben\n",
    "# Spaltennamen definieren\n",
    "columns = ['O2 [mg/l]', 'NO3 [mg/l]']\n",
    "\n",
    "# Schleife durch die Spaltennamen\n",
    "for col in columns:\n",
    "    # Anzahl von '<'-Zeichen zählen\n",
    "    count_lessthan = df[col].str.count('<').sum()\n",
    "    # Anzahl von NaN-Werten zählen\n",
    "    count_nan = df[col].isna().sum()\n",
    "    # Gesamtzahl der Einträge in der Spalte\n",
    "    total_entries = len(df)\n",
    "    \n",
    "    # Prozentsatz von '<'-Zeichen berechnen\n",
    "    percent_lessthan = round((count_lessthan / total_entries) * 100, 2)\n",
    "    # Prozentsatz von NaN berechnen\n",
    "    percent_nan = round((count_nan / total_entries) * 100, 2)\n",
    "    \n",
    "    # Ausgabe\n",
    "    print(f\"In der Spalte '{col}' gibt es {count_lessthan} '<' Zeichen ({percent_lessthan}%) und {count_nan} NaN-Werte ({percent_nan}%).\")\n"
   ]
  },
  {
   "cell_type": "markdown",
   "id": "6067fc8f-0323-401d-80c4-8d9181894e1c",
   "metadata": {},
   "source": [
    "### 2.1 Ersetzen von Werten unterhalb der Nachweisgrenze (NWG)\n",
    "\n",
    "Die NWG (Nachweisgrenze) ist der kleinste messbare Wert eines Analyten in einem bestimmten System oder Labor. Werte unterhalb der NWG gelten als nicht signifikant.\n",
    "\n",
    "In diesem Schritt werden diese Werte durch ´0,5 * NWG´ ersetzt, um eine grobe Schätzung des tatsächlichen Wertes zu erhalten, basierend auf der Annahme, dass der wahre Wert irgendwo zwischen 0 und der NWG liegt.\n",
    "\n",
    "*Es ist wichtig zu beachten, dass diese Art der Behandlung von Werten unterhalb der NWG nicht immer angemessen oder geeignet ist. In einigen Fällen kann es besser sein, die Daten auszulassen oder alternative Methoden zur Schätzung der wahren Werte zu verwenden.*\n"
   ]
  },
  {
   "cell_type": "code",
   "execution_count": 12,
   "id": "ede9c60d-05d6-443a-a231-a272529afd13",
   "metadata": {},
   "outputs": [],
   "source": [
    "def ersetze_unter_NWG(wert):\n",
    "    \"\"\"\n",
    "    Funktion, die Werte unterhalb der NWG durch 0.5*NWG ersetzt.\n",
    "    Args:\n",
    "    wert (int/float/str): Wert, entweder ein Integer, Float oder String.\n",
    "    Returns:\n",
    "    Eingabewert, wenn er größer/gleich NWG,\n",
    "    0.5*NWG, wenn der Wert kleiner NWG.\n",
    "    \"\"\"\n",
    "        # Wenn der Wert ein String ist, wird er in einen float umgewandelt.\n",
    "    if isinstance(wert, str):\n",
    "        # Überprüfen, ob der String ein \"<\" enthält, was auf eine Bereichsangabe hinweist.\n",
    "        if '<' in wert:\n",
    "            # Extrahiere den Bereichswert und dividiere ihn durch 2.\n",
    "            bereichswert = float(wert.split('<')[1].replace(',', '.')) / 2\n",
    "        else:\n",
    "            # Wenn kein \"<\" vorhanden ist, wird der String in einen float umgewandelt.\n",
    "            bereichswert = float(wert.replace(',', '.'))\n",
    "    else:\n",
    "        # Wenn der Wert kein String ist, wird er direkt verwendet.\n",
    "        bereichswert = wert\n",
    "    # Gib den finalen Wert zurück.\n",
    "    return bereichswert\n"
   ]
  },
  {
   "cell_type": "markdown",
   "id": "1e23ad3a",
   "metadata": {},
   "source": [
    "Anwenden unserer Funktion <span style=\"color:green\">**ersetze_unter_NWG**</span>-Funktion\n",
    "auf die Spalten `'NO3 [mg/l]` und `O2 [mg/l]`*, um die neuen Spalten `NO3` und `O2` zu erstellen.  \n",
    "\n",
    "Verwendete Funktionen:\n",
    "\n",
    "<span style=\"color:blue\">**.apply**</span>-Funktion &rarr; [Hilfe](https://pandas.pydata.org/docs/reference/api/pandas.DataFrame.apply.html)\n",
    "\n",
    "<span style=\"color:blue\">**.drop**</span>-Funktion &rarr; [Hilfe](https://pandas.pydata.org/docs/reference/api/pandas.DataFrame.drop.html)\n",
    "\n",
    "Anschließendes Entfernen der ehemaligen Spalten.\n",
    "\n"
   ]
  },
  {
   "cell_type": "code",
   "execution_count": 13,
   "id": "00fcfa84",
   "metadata": {},
   "outputs": [
    {
     "data": {
      "text/html": [
       "<div>\n",
       "<style scoped>\n",
       "    .dataframe tbody tr th:only-of-type {\n",
       "        vertical-align: middle;\n",
       "    }\n",
       "\n",
       "    .dataframe tbody tr th {\n",
       "        vertical-align: top;\n",
       "    }\n",
       "\n",
       "    .dataframe thead th {\n",
       "        text-align: right;\n",
       "    }\n",
       "</style>\n",
       "<table border=\"1\" class=\"dataframe\">\n",
       "  <thead>\n",
       "    <tr style=\"text-align: right;\">\n",
       "      <th></th>\n",
       "      <th>Messstelle</th>\n",
       "      <th>GW-Nummer</th>\n",
       "      <th>Datum</th>\n",
       "      <th>RASTERVALU</th>\n",
       "      <th>HYDROGEOL3</th>\n",
       "      <th>O2</th>\n",
       "      <th>NO3</th>\n",
       "    </tr>\n",
       "  </thead>\n",
       "  <tbody>\n",
       "    <tr>\n",
       "      <th>0</th>\n",
       "      <td>BBR Betonwerk, Umkirch</td>\n",
       "      <td>918/069-2</td>\n",
       "      <td>2006-10-11 15:20:00</td>\n",
       "      <td>121</td>\n",
       "      <td>Quartäre Kiese und Sande (GWL)</td>\n",
       "      <td>2.4</td>\n",
       "      <td>9.4</td>\n",
       "    </tr>\n",
       "    <tr>\n",
       "      <th>1</th>\n",
       "      <td>BBR Betonwerk, Umkirch</td>\n",
       "      <td>918/069-2</td>\n",
       "      <td>2007-09-17 14:20:00</td>\n",
       "      <td>121</td>\n",
       "      <td>Quartäre Kiese und Sande (GWL)</td>\n",
       "      <td>2.1</td>\n",
       "      <td>12.0</td>\n",
       "    </tr>\n",
       "    <tr>\n",
       "      <th>2</th>\n",
       "      <td>BBR Betonwerk, Umkirch</td>\n",
       "      <td>918/069-2</td>\n",
       "      <td>2008-09-23 08:05:00</td>\n",
       "      <td>121</td>\n",
       "      <td>Quartäre Kiese und Sande (GWL)</td>\n",
       "      <td>2.5</td>\n",
       "      <td>7.6</td>\n",
       "    </tr>\n",
       "    <tr>\n",
       "      <th>3</th>\n",
       "      <td>BBR Betonwerk, Umkirch</td>\n",
       "      <td>918/069-2</td>\n",
       "      <td>2008-11-10 09:10:00</td>\n",
       "      <td>121</td>\n",
       "      <td>Quartäre Kiese und Sande (GWL)</td>\n",
       "      <td>1.2</td>\n",
       "      <td>12.2</td>\n",
       "    </tr>\n",
       "    <tr>\n",
       "      <th>4</th>\n",
       "      <td>BBR Betonwerk, Umkirch</td>\n",
       "      <td>918/069-2</td>\n",
       "      <td>2009-09-09 14:08:00</td>\n",
       "      <td>121</td>\n",
       "      <td>Quartäre Kiese und Sande (GWL)</td>\n",
       "      <td>1.3</td>\n",
       "      <td>12.0</td>\n",
       "    </tr>\n",
       "  </tbody>\n",
       "</table>\n",
       "</div>"
      ],
      "text/plain": [
       "               Messstelle  GW-Nummer               Datum  RASTERVALU  \\\n",
       "0  BBR Betonwerk, Umkirch  918/069-2 2006-10-11 15:20:00         121   \n",
       "1  BBR Betonwerk, Umkirch  918/069-2 2007-09-17 14:20:00         121   \n",
       "2  BBR Betonwerk, Umkirch  918/069-2 2008-09-23 08:05:00         121   \n",
       "3  BBR Betonwerk, Umkirch  918/069-2 2008-11-10 09:10:00         121   \n",
       "4  BBR Betonwerk, Umkirch  918/069-2 2009-09-09 14:08:00         121   \n",
       "\n",
       "                       HYDROGEOL3   O2   NO3  \n",
       "0  Quartäre Kiese und Sande (GWL)  2.4   9.4  \n",
       "1  Quartäre Kiese und Sande (GWL)  2.1  12.0  \n",
       "2  Quartäre Kiese und Sande (GWL)  2.5   7.6  \n",
       "3  Quartäre Kiese und Sande (GWL)  1.2  12.2  \n",
       "4  Quartäre Kiese und Sande (GWL)  1.3  12.0  "
      ]
     },
     "execution_count": 13,
     "metadata": {},
     "output_type": "execute_result"
    }
   ],
   "source": [
    "# Erstelle neue Spalten \"O2\" und \"NO3\" durch Anwenden von ersetze_unter_NWG auf die Spalten \"O2 [mg/l]\" und \"NO3 [mg/l]\"\n",
    "df['O2'] = df['O2 [mg/l]'].apply(ersetze_unter_NWG)\n",
    "df['NO3'] = df['NO3 [mg/l]'].apply(ersetze_unter_NWG)\n",
    "\n",
    "# Lösche die alten Spalten \"O2 [mg/l]\" und \"NO3 [mg/l]\"\n",
    "df.drop(columns=['O2 [mg/l]', 'NO3 [mg/l]'], inplace=True)\n",
    "\n",
    "# Sortiere den DataFrame nach aufsteigendem NO3-Wert und gib die ersten fünf Zeilen aus\n",
    "df.head()"
   ]
  },
  {
   "cell_type": "markdown",
   "id": "e08f1349",
   "metadata": {},
   "source": [
    "### 2.2 Ersetzen von fehlenden Werten (NULL-Values)\n",
    "Datensätze sind oft unvollständig und enthalten fehlende Werte, sog: `NULL` values oder `NaNs`. Diese können verschiedene Ursachen haben, z.B. unvollständige Erfassung, Ausfälle von Sensoren oder fehlerhafte Datenübertragung. Fehlenden Werte können zu Problemen führen, da sie Metriken und Algorithmen beeinflussen und viele nicht damit umgehen können. \n",
    "\n",
    "Es ist wichtig, den Unterschied zwischen `0` und `NULL` zu verstehen, da `NULL` für einen fehlenden Wert steht, während `0` eine tatsächliche Messung von 0 bedeutet.\n",
    "\n",
    "Die Löschung der Nullwerte ist nur bei sehr geringem Anteil sinnvoll, da es zu einem Informationsverlust führt. Besser ist es, fehlende Werte zu imputieren (d.h. zu schätzen oder zu ergänzen), um die Datenanalyse zu optimieren. Es gibt verschiedene Imputationsmethoden, wie z.B. das Füllen von fehlenden Werten durch den Mittelwert, Median oder Mode der vorhandenen Werte oder die Verwendung von Machine-Learning-Modellen zur Vorhersage der fehlenden Werte auf der Grundlage der verfügbaren Daten. \n",
    "\n",
    "*Es ist wichtig, die Imputationsmethoden sorgfältig auszuwählen und zu validieren, um sicherzustellen, dass die Ergebnisse der Datenanalyse nicht verzerrt werden!*"
   ]
  },
  {
   "cell_type": "markdown",
   "id": "d325c1f9",
   "metadata": {},
   "source": [
    "Kontrolle der NULL-Values:"
   ]
  },
  {
   "cell_type": "code",
   "execution_count": 14,
   "id": "719db85d",
   "metadata": {},
   "outputs": [
    {
     "data": {
      "text/plain": [
       "Messstelle      0\n",
       "GW-Nummer       0\n",
       "Datum           0\n",
       "RASTERVALU      0\n",
       "HYDROGEOL3     56\n",
       "O2            475\n",
       "NO3             0\n",
       "dtype: int64"
      ]
     },
     "execution_count": 14,
     "metadata": {},
     "output_type": "execute_result"
    }
   ],
   "source": [
    "df.isnull().sum()"
   ]
  },
  {
   "cell_type": "markdown",
   "id": "246e9890",
   "metadata": {},
   "source": [
    "### 2.2.1 Nan Werte in numerische Spalten"
   ]
  },
  {
   "cell_type": "markdown",
   "id": "bfc45cc1",
   "metadata": {},
   "source": [
    "Für die numerische Spalte 'O2' werden die fehlenden Werte durch den Mittelwert ersetzt.\n",
    "\n",
    "Dies passiert mit dem <span style=\"color:blue\">**\"fillna()\"**</span>-Befehl für Pandas-Dataframes."
   ]
  },
  {
   "cell_type": "markdown",
   "id": "77ccbfdf-f65b-4c16-8c39-785832f923d1",
   "metadata": {},
   "source": [
    "> Zur Info: Falls fehlende Werte durch beispielsweise \"-999\" dargestellt sind, können Sie sie mit dem Befehl `replace('alter_Wert', 'neuer_Wert')` ersetzen. Dieser Befehl ersetzt alle Vorkommen des alten Werts durch den neuen Wert im DataFrame.\n"
   ]
  },
  {
   "cell_type": "code",
   "execution_count": 15,
   "id": "08e69896",
   "metadata": {
    "scrolled": true
   },
   "outputs": [
    {
     "name": "stdout",
     "output_type": "stream",
     "text": [
      "Messstelle     0\n",
      "GW-Nummer      0\n",
      "Datum          0\n",
      "RASTERVALU     0\n",
      "HYDROGEOL3    56\n",
      "O2             0\n",
      "NO3            0\n",
      "dtype: int64\n"
     ]
    }
   ],
   "source": [
    "#  Ersetzt alle NaN-Werte mit dem Mittelwert dieser Spalte\n",
    "df['O2'] = df['O2'].fillna(df['O2'].mean())\n",
    "\n",
    "print(df.isnull().sum())"
   ]
  },
  {
   "cell_type": "markdown",
   "id": "18e68a2c",
   "metadata": {},
   "source": [
    "### 2.2.2 NAN Werte in kategorische Spalten\n",
    "Einsetzen des meist vorkommenden Wertes, der sog. \"Modus\""
   ]
  },
  {
   "cell_type": "code",
   "execution_count": 16,
   "id": "46705c74-67c5-4ca1-b65e-a345740c9763",
   "metadata": {},
   "outputs": [
    {
     "name": "stdout",
     "output_type": "stream",
     "text": [
      "HYDROGEOL3\n",
      "Quartäre Kiese und Sande (GWL)         11955\n",
      "Paläozoikum, Kristallin (GWG)             50\n",
      "Tertiär im Oberrheingraben (GWG)          37\n",
      "Oberjura (Raurasische Fazies) (GWL)       35\n",
      "Oberer Muschelkalk (GWL)                  26\n",
      "Unterjura und Mitteljura (GWG)            19\n",
      "Name: count, dtype: int64 \n",
      "\n",
      "Modus: 0    Quartäre Kiese und Sande (GWL)\n",
      "Name: HYDROGEOL3, dtype: object\n"
     ]
    }
   ],
   "source": [
    "# Bestimmung des Modus der Spalte \"HYDROGEOL3\"\n",
    "hy_mode = df['HYDROGEOL3'].mode()\n",
    "\n",
    "# Ausgabe der Häufigkeitsverteilung der Werte in der Spalte \"HYDROGEOL3\" und des Modus\n",
    "print(df['HYDROGEOL3'].value_counts(), '\\n\\nModus:', hy_mode)\n"
   ]
  },
  {
   "cell_type": "code",
   "execution_count": 17,
   "id": "2b4ec73a-cc8e-4d5e-832c-e8210ce5cebe",
   "metadata": {},
   "outputs": [],
   "source": [
    "# Ersetze fehlende Werte durch den Modus der Spalte HYDROGEOL3\n",
    "df['Hydrogeologie'] = df['HYDROGEOL3'].fillna(df['HYDROGEOL3'].mode()[0])\n",
    "# Entferne die alte Spalte HYDROGEOL3 aus dem Datensatz\n",
    "df.drop(columns='HYDROGEOL3', inplace=True)\n"
   ]
  },
  {
   "cell_type": "markdown",
   "id": "f30e4a05",
   "metadata": {},
   "source": [
    "#### Kontrolle"
   ]
  },
  {
   "cell_type": "code",
   "execution_count": 18,
   "id": "d8310323",
   "metadata": {},
   "outputs": [
    {
     "data": {
      "text/plain": [
       "Messstelle       0\n",
       "GW-Nummer        0\n",
       "Datum            0\n",
       "RASTERVALU       0\n",
       "O2               0\n",
       "NO3              0\n",
       "Hydrogeologie    0\n",
       "dtype: int64"
      ]
     },
     "execution_count": 18,
     "metadata": {},
     "output_type": "execute_result"
    }
   ],
   "source": [
    "df.isnull().sum()"
   ]
  },
  {
   "cell_type": "markdown",
   "id": "9517db86",
   "metadata": {},
   "source": [
    "## 2.3 Feature Aggregation"
   ]
  },
  {
   "cell_type": "markdown",
   "id": "d8c6cc0e",
   "metadata": {},
   "source": [
    "Wir möchten für jede Messstelle aggregieren:\n",
    "\n",
    "- Numerische Features (NO3, O2) werden durch den Mittelwert für jede Messstelle aggregiert, während für kategorische Variablen der Modus (häufigst auftretender Wert) verwendet wird.\n",
    "  \n",
    "- Dies wird mit der Funktion `groupby()` durchgeführt.\n",
    "\n",
    "- Die Funktion `agg()` ermöglicht es, verschiedene Aggregationsfunktionen auf unterschiedliche Spalten anzuwenden.\n",
    "  \n",
    "- Nach dem Aggregieren wird der Index zurückgesetzt, da andernfalls die Messstellen den Index bilden.\n",
    "  \n",
    "- Die beiden aggregierten Datensätze werden dann wieder zusammengeführt."
   ]
  },
  {
   "cell_type": "code",
   "execution_count": 19,
   "id": "44f4683d-3a4e-439d-b077-573851a2c721",
   "metadata": {},
   "outputs": [
    {
     "data": {
      "text/html": [
       "<div>\n",
       "<style scoped>\n",
       "    .dataframe tbody tr th:only-of-type {\n",
       "        vertical-align: middle;\n",
       "    }\n",
       "\n",
       "    .dataframe tbody tr th {\n",
       "        vertical-align: top;\n",
       "    }\n",
       "\n",
       "    .dataframe thead th {\n",
       "        text-align: right;\n",
       "    }\n",
       "</style>\n",
       "<table border=\"1\" class=\"dataframe\">\n",
       "  <thead>\n",
       "    <tr style=\"text-align: right;\">\n",
       "      <th></th>\n",
       "      <th>Messstelle</th>\n",
       "      <th>NO3</th>\n",
       "      <th>O2</th>\n",
       "      <th>Modus_Hydrogeologie</th>\n",
       "      <th>Modus_RASTERVALU</th>\n",
       "    </tr>\n",
       "  </thead>\n",
       "  <tbody>\n",
       "    <tr>\n",
       "      <th>0</th>\n",
       "      <td>BBR 1 Firma Schultis, Riegel</td>\n",
       "      <td>6.259259</td>\n",
       "      <td>1.315473</td>\n",
       "      <td>Quartäre Kiese und Sande (GWL)</td>\n",
       "      <td>121</td>\n",
       "    </tr>\n",
       "    <tr>\n",
       "      <th>1</th>\n",
       "      <td>BBR 2 Firma Thieme, Teningen</td>\n",
       "      <td>1.452941</td>\n",
       "      <td>0.823723</td>\n",
       "      <td>Quartäre Kiese und Sande (GWL)</td>\n",
       "      <td>121</td>\n",
       "    </tr>\n",
       "    <tr>\n",
       "      <th>2</th>\n",
       "      <td>BBR 2 Kronenwiese Firma Burda Werk 1, Offenburg</td>\n",
       "      <td>5.600000</td>\n",
       "      <td>1.984615</td>\n",
       "      <td>Quartäre Kiese und Sande (GWL)</td>\n",
       "      <td>121</td>\n",
       "    </tr>\n",
       "    <tr>\n",
       "      <th>3</th>\n",
       "      <td>BBR 3186 im Garten der alten Schule, Langhurst</td>\n",
       "      <td>6.968750</td>\n",
       "      <td>0.730346</td>\n",
       "      <td>Quartäre Kiese und Sande (GWL)</td>\n",
       "      <td>112</td>\n",
       "    </tr>\n",
       "    <tr>\n",
       "      <th>4</th>\n",
       "      <td>BBR 998 A Kehlerstraße, Neuried-Auenheim</td>\n",
       "      <td>56.164286</td>\n",
       "      <td>1.116071</td>\n",
       "      <td>Quartäre Kiese und Sande (GWL)</td>\n",
       "      <td>112</td>\n",
       "    </tr>\n",
       "    <tr>\n",
       "      <th>...</th>\n",
       "      <td>...</td>\n",
       "      <td>...</td>\n",
       "      <td>...</td>\n",
       "      <td>...</td>\n",
       "      <td>...</td>\n",
       "    </tr>\n",
       "    <tr>\n",
       "      <th>502</th>\n",
       "      <td>TB Winzergenossenschaft, Sasbach am Kaiserstuhl</td>\n",
       "      <td>23.231034</td>\n",
       "      <td>2.691992</td>\n",
       "      <td>Quartäre Kiese und Sande (GWL)</td>\n",
       "      <td>112</td>\n",
       "    </tr>\n",
       "    <tr>\n",
       "      <th>503</th>\n",
       "      <td>TB Wäldeleacker Feldkirch, Hartheim am Rhein</td>\n",
       "      <td>84.274074</td>\n",
       "      <td>7.785307</td>\n",
       "      <td>Quartäre Kiese und Sande (GWL)</td>\n",
       "      <td>211</td>\n",
       "    </tr>\n",
       "    <tr>\n",
       "      <th>504</th>\n",
       "      <td>TB1 Glockenackern, Buggingen</td>\n",
       "      <td>59.056667</td>\n",
       "      <td>7.399035</td>\n",
       "      <td>Quartäre Kiese und Sande (GWL)</td>\n",
       "      <td>211</td>\n",
       "    </tr>\n",
       "    <tr>\n",
       "      <th>505</th>\n",
       "      <td>TB1 Weingartenhöfe, Forchheim</td>\n",
       "      <td>69.444000</td>\n",
       "      <td>4.908000</td>\n",
       "      <td>Quartäre Kiese und Sande (GWL)</td>\n",
       "      <td>211</td>\n",
       "    </tr>\n",
       "    <tr>\n",
       "      <th>506</th>\n",
       "      <td>TB2 Kieswerk Sattler, Steinenstadt</td>\n",
       "      <td>16.624138</td>\n",
       "      <td>3.890836</td>\n",
       "      <td>Quartäre Kiese und Sande (GWL)</td>\n",
       "      <td>211</td>\n",
       "    </tr>\n",
       "  </tbody>\n",
       "</table>\n",
       "<p>507 rows × 5 columns</p>\n",
       "</div>"
      ],
      "text/plain": [
       "                                          Messstelle        NO3        O2  \\\n",
       "0                       BBR 1 Firma Schultis, Riegel   6.259259  1.315473   \n",
       "1                       BBR 2 Firma Thieme, Teningen   1.452941  0.823723   \n",
       "2    BBR 2 Kronenwiese Firma Burda Werk 1, Offenburg   5.600000  1.984615   \n",
       "3     BBR 3186 im Garten der alten Schule, Langhurst   6.968750  0.730346   \n",
       "4           BBR 998 A Kehlerstraße, Neuried-Auenheim  56.164286  1.116071   \n",
       "..                                               ...        ...       ...   \n",
       "502  TB Winzergenossenschaft, Sasbach am Kaiserstuhl  23.231034  2.691992   \n",
       "503     TB Wäldeleacker Feldkirch, Hartheim am Rhein  84.274074  7.785307   \n",
       "504                     TB1 Glockenackern, Buggingen  59.056667  7.399035   \n",
       "505                    TB1 Weingartenhöfe, Forchheim  69.444000  4.908000   \n",
       "506               TB2 Kieswerk Sattler, Steinenstadt  16.624138  3.890836   \n",
       "\n",
       "                Modus_Hydrogeologie  Modus_RASTERVALU  \n",
       "0    Quartäre Kiese und Sande (GWL)               121  \n",
       "1    Quartäre Kiese und Sande (GWL)               121  \n",
       "2    Quartäre Kiese und Sande (GWL)               121  \n",
       "3    Quartäre Kiese und Sande (GWL)               112  \n",
       "4    Quartäre Kiese und Sande (GWL)               112  \n",
       "..                              ...               ...  \n",
       "502  Quartäre Kiese und Sande (GWL)               112  \n",
       "503  Quartäre Kiese und Sande (GWL)               211  \n",
       "504  Quartäre Kiese und Sande (GWL)               211  \n",
       "505  Quartäre Kiese und Sande (GWL)               211  \n",
       "506  Quartäre Kiese und Sande (GWL)               211  \n",
       "\n",
       "[507 rows x 5 columns]"
      ]
     },
     "execution_count": 19,
     "metadata": {},
     "output_type": "execute_result"
    }
   ],
   "source": [
    "# Aggregation von numerischen Spalten durch Mittelwert und von kategorischen Spalten durch Modus\n",
    "GWM = df.groupby('Messstelle').agg({\n",
    "    'NO3': 'mean',\n",
    "    'O2': 'mean',\n",
    "    'Hydrogeologie': pd.Series.mode,\n",
    "    'RASTERVALU': pd.Series.mode\n",
    "})\n",
    "\n",
    "# Zurücksetzen des Index und Umbenennung der Spalte für die Messstelle\n",
    "GWM.reset_index(inplace=True)\n",
    "\n",
    "# Umbenennung der Spaltennamen für die kategorischen Variablen\n",
    "GWM = GWM.rename(columns={'Hydrogeologie': 'Modus_Hydrogeologie', 'RASTERVALU': 'Modus_RASTERVALU'})\n",
    "GWM"
   ]
  },
  {
   "cell_type": "markdown",
   "id": "545ed8ae",
   "metadata": {},
   "source": [
    "## 2.4. Train/Test Split"
   ]
  },
  {
   "cell_type": "markdown",
   "id": "be700c37",
   "metadata": {},
   "source": [
    "Das Aufteilen des Datensatzes erfolgt mit der Funktion \n",
    "<span style=\"color:blue\"></span> [\"train_test_split\"](https://scikit-learn.org/stable/modules/generated/sklearn.model_selection.train_test_split.html) des Packages sklearn.\n",
    "\n",
    "\n",
    "Hier kann mit dem Parameter \"test_size\" das Verhältnis festgelegt werden und mit dem Parameter \"random_state\" die Reproduzierbarkeit garantiert werden. "
   ]
  },
  {
   "cell_type": "code",
   "execution_count": 20,
   "id": "0bca70da",
   "metadata": {},
   "outputs": [
    {
     "name": "stdout",
     "output_type": "stream",
     "text": [
      "Größe Trainingsdaten:  (101, 5)\n",
      "Größe Testdaten:  (406, 5)\n"
     ]
    }
   ],
   "source": [
    "from sklearn.model_selection import train_test_split\n",
    "\n",
    "# Teilt GWM in Test und Train Datensatz\n",
    "train, test = train_test_split(GWM, test_size=0.8, random_state=43)\n",
    "\n",
    "print('Größe Trainingsdaten: ', train.shape)\n",
    "print('Größe Testdaten: ', test.shape)"
   ]
  },
  {
   "cell_type": "markdown",
   "id": "02a5c045",
   "metadata": {},
   "source": [
    "## 2.5. Skalieren\n",
    "Das Skalieren von Daten vor der Verwendung in einem Machine-Learning-Modell hilft, die Leistung des Modells zu verbessern, die Berechnungskosten zu reduzieren und Verzerrungen zu vermeiden. Es gibt verschiedene Skalierungsmethoden, darunter Min-Max-Skalierung, Standardisierung und logarithmische Skalierung. Die beste Methode hängt von den Daten und dem Modell ab."
   ]
  },
  {
   "cell_type": "markdown",
   "id": "f0604f4e",
   "metadata": {},
   "source": [
    "### 2.5.1 Normieren\n",
    "Normieren ist ein Verfahren, bei dem Daten auf eine gemeinsame Einheitsnorm gebracht werden, indem sie durch die Länge des Vektors dividiert werden. Dadurch wird die Richtung der Daten beibehalten, aber die genaue Skala spielt keine Rolle mehr"
   ]
  },
  {
   "cell_type": "markdown",
   "id": "bb3d6b32",
   "metadata": {},
   "source": [
    "#### 2.5.1.1 Händisches Skalieren mit Hilfe der Formel:\n",
    "$X_{norm} = \\frac{X - X_{min}}{X_{max} - X_{min}}$"
   ]
  },
  {
   "cell_type": "code",
   "execution_count": 21,
   "id": "35f61150-717e-4ef8-aa4f-d8c4dca10f54",
   "metadata": {},
   "outputs": [
    {
     "name": "stdout",
     "output_type": "stream",
     "text": [
      "min     0.000000\n",
      "max     1.000000\n",
      "mean    0.204514\n",
      "Name: NO3_norm, dtype: float64\n"
     ]
    }
   ],
   "source": [
    "# Minimum und Range der Spalte NO3 im Trainingsdatensatz berechnen\n",
    "X_min = train.NO3.min()\n",
    "X_range = train.NO3.max() - train.NO3.min()\n",
    "\n",
    "# Spalte NO3 im Trainingsdatensatz normalisieren und als neue Spalte hinzufügen\n",
    "train['NO3_norm'] = (train['NO3'] - X_min) / X_range\n",
    "\n",
    "# Spalte NO3 im Testdatensatz normalisieren und als neue Spalte hinzufügen, \n",
    "# basierend auf den Werten des Trainingsdatensatzes, um Datenleckage zu vermeiden\n",
    "test['NO3_norm'] = (test['NO3'] - X_min) / X_range\n",
    "\n",
    "# Ausgabe der statistischen Zusammenfassung der normalisierten Spalte NO3 im Trainingsdatensatz\n",
    "print(train['NO3_norm'].describe()[['min', 'max', 'mean']])"
   ]
  },
  {
   "cell_type": "markdown",
   "id": "36f854e8",
   "metadata": {},
   "source": [
    "#### 2.5.1.1 Vorhandene Funktion von sklearn \"MinMaxScaler\" verwenden\n",
    "\n",
    "Die Scaler werden zuerst als eingenes Objekt erstellt und müssen dann an Daten gefittet werden.\n",
    "\n",
    "Anschließend können sie Daten auf Grundlage der Fit-Daten transformieren, hier sklieren."
   ]
  },
  {
   "cell_type": "code",
   "execution_count": 22,
   "id": "638d5740",
   "metadata": {},
   "outputs": [
    {
     "name": "stdout",
     "output_type": "stream",
     "text": [
      "min     0.000000\n",
      "max     1.000000\n",
      "mean    0.204514\n",
      "Name: NO3_norm, dtype: float64\n"
     ]
    }
   ],
   "source": [
    "from sklearn.preprocessing import MinMaxScaler\n",
    "\n",
    "# MinMaxScaler-Objekt erstellen und auf Trainingsdatensatz anpassen\n",
    "scaler = MinMaxScaler()\n",
    "scaler.fit(train[['NO3']])\n",
    "\n",
    "# Spalte NO3 im Trainings- und Testdatensatz normalisieren und als neue Spalte hinzufügen\n",
    "train['NO3_norm'] = scaler.transform(train[['NO3']])\n",
    "test['NO3_norm'] = scaler.transform(test[['NO3']])\n",
    "\n",
    "print(train['NO3_norm'].describe()[['min', 'max', 'mean']])"
   ]
  },
  {
   "cell_type": "markdown",
   "id": "247ce089",
   "metadata": {},
   "source": [
    "### 2.5.2 Standardisieren\n",
    "Standardisierung ist ein Verfahren, bei dem Daten so transformiert werden, dass sie eine Standardnormalverteilung mit einem Mittelwert von 0 und einer Standardabweichung von 1 haben. Die Standardisierung erfolgt durch Subtraktion des Mittelwerts der Daten und Division durch die Standardabweichung der Daten. Dadurch werden die Daten zentriert und die Skala der Daten wird angepasst. Die Standardisierung kann helfen, Ausreißer zu reduzieren und die Modellleistung zu verbessern, insbesondere bei linearen Modellen wie der linearen Regression."
   ]
  },
  {
   "cell_type": "markdown",
   "id": "217450f3",
   "metadata": {},
   "source": [
    "#### 2.5.2.1 Händisches Skalieren mit Hilfe der Formel:\n",
    "$X_{std} = \\frac{X - mean(X)}{stdw(X)}$"
   ]
  },
  {
   "cell_type": "code",
   "execution_count": 23,
   "id": "01e98077",
   "metadata": {},
   "outputs": [
    {
     "name": "stdout",
     "output_type": "stream",
     "text": [
      "mean(X):  5.27630744376312e-17\n",
      "std(X):  0.9999999999999999\n"
     ]
    }
   ],
   "source": [
    "# Berechnen von Mittelwert und Standardabweichung der NO3-Spalte im Trainingsdatensatz\n",
    "X_mean = train['NO3'].mean()\n",
    "X_std = train['NO3'].std()\n",
    "\n",
    "# Erstellen einer neuen Spalte im Trainings- und Testdatensatz durch Standardisierung der NO3-Spalte,\n",
    "# basierend auf dem Mittelwert und der Standardabweichung des Trainingsdatensatzes, \n",
    "# um Datenleckage zu vermeiden\n",
    "train['NO3_std'] = (train['NO3'] - X_mean) / X_std\n",
    "test['NO3_std'] = (test['NO3'] - X_mean) / X_std\n",
    "\n",
    "# Ausgabe des Mittelwerts und der Standardabweichung der standardisierten Spalte NO3_std im Trainingsdatensatz\n",
    "print('mean(X): ', train['NO3_std'].mean())\n",
    "print('std(X): ', train['NO3_std'].std())\n"
   ]
  },
  {
   "cell_type": "markdown",
   "id": "bd19dfd3",
   "metadata": {},
   "source": [
    "#### 2.5.2.2 Vorhandene Funktion von sklearn \"StandardScaler\""
   ]
  },
  {
   "cell_type": "code",
   "execution_count": 24,
   "id": "084503ea",
   "metadata": {},
   "outputs": [
    {
     "name": "stdout",
     "output_type": "stream",
     "text": [
      "mean(X):  5.386230515508185e-17\n",
      "std(X):  1.004987562112089\n"
     ]
    }
   ],
   "source": [
    "from sklearn.preprocessing import StandardScaler\n",
    "\n",
    "# Erstellen eines StandardScaler-Objekts\n",
    "scaler = StandardScaler()\n",
    "\n",
    "# Anpassen des StandardScaler-Objekts an den Trainingsdatensatz\n",
    "scaler.fit(train[['NO3']])\n",
    "\n",
    "# Transformieren der NO3-Spalte im Trainings- und Testdatensatz mithilfe des StandardScaler-Objekts\n",
    "train['NO3_std'] = scaler.transform(train[['NO3']])\n",
    "test['NO3_std'] = scaler.transform(test[['NO3']])\n",
    "\n",
    "# Ausgabe des Mittelwerts und der Standardabweichung der standardisierten Spalte NO3_std im Trainingsdatensatz\n",
    "print('mean(X): ', train['NO3_std'].mean())\n",
    "print('std(X): ', train['NO3_std'].std())\n"
   ]
  },
  {
   "cell_type": "code",
   "execution_count": 25,
   "id": "1bff391d",
   "metadata": {},
   "outputs": [
    {
     "data": {
      "text/html": [
       "<div>\n",
       "<style scoped>\n",
       "    .dataframe tbody tr th:only-of-type {\n",
       "        vertical-align: middle;\n",
       "    }\n",
       "\n",
       "    .dataframe tbody tr th {\n",
       "        vertical-align: top;\n",
       "    }\n",
       "\n",
       "    .dataframe thead th {\n",
       "        text-align: right;\n",
       "    }\n",
       "</style>\n",
       "<table border=\"1\" class=\"dataframe\">\n",
       "  <thead>\n",
       "    <tr style=\"text-align: right;\">\n",
       "      <th></th>\n",
       "      <th>Messstelle</th>\n",
       "      <th>NO3</th>\n",
       "      <th>O2</th>\n",
       "      <th>Modus_Hydrogeologie</th>\n",
       "      <th>Modus_RASTERVALU</th>\n",
       "      <th>NO3_norm</th>\n",
       "      <th>NO3_std</th>\n",
       "    </tr>\n",
       "  </thead>\n",
       "  <tbody>\n",
       "    <tr>\n",
       "      <th>49</th>\n",
       "      <td>BR 7 Hofgut Freudenberg, Heddesheim</td>\n",
       "      <td>0.366000</td>\n",
       "      <td>0.394000</td>\n",
       "      <td>Quartäre Kiese und Sande (GWL)</td>\n",
       "      <td>211</td>\n",
       "      <td>0.001255</td>\n",
       "      <td>-0.847277</td>\n",
       "    </tr>\n",
       "    <tr>\n",
       "      <th>298</th>\n",
       "      <td>GWM E40 ZWK Kurpfalz, Schwetzingen</td>\n",
       "      <td>15.027586</td>\n",
       "      <td>5.883984</td>\n",
       "      <td>Quartäre Kiese und Sande (GWL)</td>\n",
       "      <td>112</td>\n",
       "      <td>0.140704</td>\n",
       "      <td>-0.265988</td>\n",
       "    </tr>\n",
       "    <tr>\n",
       "      <th>437</th>\n",
       "      <td>TB 2 Transportbeton Freiburg</td>\n",
       "      <td>16.500000</td>\n",
       "      <td>6.939286</td>\n",
       "      <td>Quartäre Kiese und Sande (GWL)</td>\n",
       "      <td>121</td>\n",
       "      <td>0.154709</td>\n",
       "      <td>-0.207611</td>\n",
       "    </tr>\n",
       "    <tr>\n",
       "      <th>441</th>\n",
       "      <td>TB 3 Firma Hansa Heemann AG, Bruchsal</td>\n",
       "      <td>0.287037</td>\n",
       "      <td>0.546296</td>\n",
       "      <td>Quartäre Kiese und Sande (GWL)</td>\n",
       "      <td>121</td>\n",
       "      <td>0.000504</td>\n",
       "      <td>-0.850407</td>\n",
       "    </tr>\n",
       "    <tr>\n",
       "      <th>382</th>\n",
       "      <td>GWM Tief, Heddesheim</td>\n",
       "      <td>0.250000</td>\n",
       "      <td>0.347619</td>\n",
       "      <td>Quartäre Kiese und Sande (GWL)</td>\n",
       "      <td>211</td>\n",
       "      <td>0.000151</td>\n",
       "      <td>-0.851876</td>\n",
       "    </tr>\n",
       "  </tbody>\n",
       "</table>\n",
       "</div>"
      ],
      "text/plain": [
       "                                Messstelle        NO3        O2  \\\n",
       "49     BR 7 Hofgut Freudenberg, Heddesheim   0.366000  0.394000   \n",
       "298     GWM E40 ZWK Kurpfalz, Schwetzingen  15.027586  5.883984   \n",
       "437           TB 2 Transportbeton Freiburg  16.500000  6.939286   \n",
       "441  TB 3 Firma Hansa Heemann AG, Bruchsal   0.287037  0.546296   \n",
       "382                   GWM Tief, Heddesheim   0.250000  0.347619   \n",
       "\n",
       "                Modus_Hydrogeologie  Modus_RASTERVALU  NO3_norm   NO3_std  \n",
       "49   Quartäre Kiese und Sande (GWL)               211  0.001255 -0.847277  \n",
       "298  Quartäre Kiese und Sande (GWL)               112  0.140704 -0.265988  \n",
       "437  Quartäre Kiese und Sande (GWL)               121  0.154709 -0.207611  \n",
       "441  Quartäre Kiese und Sande (GWL)               121  0.000504 -0.850407  \n",
       "382  Quartäre Kiese und Sande (GWL)               211  0.000151 -0.851876  "
      ]
     },
     "execution_count": 25,
     "metadata": {},
     "output_type": "execute_result"
    }
   ],
   "source": [
    "train.head()"
   ]
  },
  {
   "cell_type": "code",
   "execution_count": 26,
   "id": "8b93205e",
   "metadata": {
    "scrolled": true
   },
   "outputs": [
    {
     "data": {
      "text/html": [
       "<div>\n",
       "<style scoped>\n",
       "    .dataframe tbody tr th:only-of-type {\n",
       "        vertical-align: middle;\n",
       "    }\n",
       "\n",
       "    .dataframe tbody tr th {\n",
       "        vertical-align: top;\n",
       "    }\n",
       "\n",
       "    .dataframe thead th {\n",
       "        text-align: right;\n",
       "    }\n",
       "</style>\n",
       "<table border=\"1\" class=\"dataframe\">\n",
       "  <thead>\n",
       "    <tr style=\"text-align: right;\">\n",
       "      <th></th>\n",
       "      <th>Messstelle</th>\n",
       "      <th>NO3</th>\n",
       "      <th>O2</th>\n",
       "      <th>Modus_Hydrogeologie</th>\n",
       "      <th>Modus_RASTERVALU</th>\n",
       "      <th>NO3_norm</th>\n",
       "      <th>NO3_std</th>\n",
       "    </tr>\n",
       "  </thead>\n",
       "  <tbody>\n",
       "    <tr>\n",
       "      <th>498</th>\n",
       "      <td>TB WW Neuburgweier, Rheinstetten</td>\n",
       "      <td>0.664062</td>\n",
       "      <td>1.625000</td>\n",
       "      <td>Quartäre Kiese und Sande (GWL)</td>\n",
       "      <td>231</td>\n",
       "      <td>0.004090</td>\n",
       "      <td>-0.835459</td>\n",
       "    </tr>\n",
       "    <tr>\n",
       "      <th>328</th>\n",
       "      <td>GWM K 20 Kehl, Goldscheuer</td>\n",
       "      <td>0.227778</td>\n",
       "      <td>0.255556</td>\n",
       "      <td>Quartäre Kiese und Sande (GWL)</td>\n",
       "      <td>231</td>\n",
       "      <td>-0.000060</td>\n",
       "      <td>-0.852757</td>\n",
       "    </tr>\n",
       "    <tr>\n",
       "      <th>321</th>\n",
       "      <td>GWM G0/1 KIT, Leopoldshafen</td>\n",
       "      <td>6.945455</td>\n",
       "      <td>3.259091</td>\n",
       "      <td>Quartäre Kiese und Sande (GWL)</td>\n",
       "      <td>313</td>\n",
       "      <td>0.063833</td>\n",
       "      <td>-0.586421</td>\n",
       "    </tr>\n",
       "    <tr>\n",
       "      <th>170</th>\n",
       "      <td>GWM 1279 A, Oberhausen</td>\n",
       "      <td>14.138462</td>\n",
       "      <td>7.215385</td>\n",
       "      <td>Quartäre Kiese und Sande (GWL)</td>\n",
       "      <td>231</td>\n",
       "      <td>0.132248</td>\n",
       "      <td>-0.301239</td>\n",
       "    </tr>\n",
       "    <tr>\n",
       "      <th>432</th>\n",
       "      <td>TB 116 Universität Albertstraße, Freiburg</td>\n",
       "      <td>14.133333</td>\n",
       "      <td>7.412369</td>\n",
       "      <td>Quartäre Kiese und Sande (GWL)</td>\n",
       "      <td>121</td>\n",
       "      <td>0.132199</td>\n",
       "      <td>-0.301442</td>\n",
       "    </tr>\n",
       "  </tbody>\n",
       "</table>\n",
       "</div>"
      ],
      "text/plain": [
       "                                    Messstelle        NO3        O2  \\\n",
       "498           TB WW Neuburgweier, Rheinstetten   0.664062  1.625000   \n",
       "328                 GWM K 20 Kehl, Goldscheuer   0.227778  0.255556   \n",
       "321                GWM G0/1 KIT, Leopoldshafen   6.945455  3.259091   \n",
       "170                     GWM 1279 A, Oberhausen  14.138462  7.215385   \n",
       "432  TB 116 Universität Albertstraße, Freiburg  14.133333  7.412369   \n",
       "\n",
       "                Modus_Hydrogeologie  Modus_RASTERVALU  NO3_norm   NO3_std  \n",
       "498  Quartäre Kiese und Sande (GWL)               231  0.004090 -0.835459  \n",
       "328  Quartäre Kiese und Sande (GWL)               231 -0.000060 -0.852757  \n",
       "321  Quartäre Kiese und Sande (GWL)               313  0.063833 -0.586421  \n",
       "170  Quartäre Kiese und Sande (GWL)               231  0.132248 -0.301239  \n",
       "432  Quartäre Kiese und Sande (GWL)               121  0.132199 -0.301442  "
      ]
     },
     "execution_count": 26,
     "metadata": {},
     "output_type": "execute_result"
    }
   ],
   "source": [
    "test.head()"
   ]
  },
  {
   "cell_type": "markdown",
   "id": "7e047a7e",
   "metadata": {},
   "source": [
    "## 2.6 Encodieren\n",
    "Encodieren ist die Konvertierung von Daten in eine geeignete Darstellung, die von einer Maschine/Computer verarbeitet werden kann. Dies kann die Umwandlung von Daten in numerische, binäre oder kategoriale Darstellungen umfassen, je nachdem, welche Art von Daten verarbeitet werden sollen und welche Anforderungen das Modell hat, das mit den Daten trainiert oder verwendet wird. \n",
    "\n",
    "*Die Wahl der richtigen Encoding-Methode kann einen erheblichen Einfluss auf die Leistung eines Machine-Learning-Modells haben*"
   ]
  },
  {
   "cell_type": "markdown",
   "id": "b5184cef",
   "metadata": {},
   "source": [
    "### 2.6.1 Binäres Encodieren\n",
    "Jede Kategorie wird umgewandelt in Zahlenwert\n",
    "\n",
    "Der 3-stellige Corine Code ist eine Stufenweise Beschreibung der Landnutzung, wobei die erste Ziffer die gröbste Einordnung darstellt.\n",
    "- 1XX = Artificial Surfaces \n",
    "- 2XX = Agricultural areas \n",
    "- 3XX = Forest and seminatural areas\n",
    "- 4XX = Wetlands \n",
    "- 5XX = Water bodies \n",
    "\n",
    "Im Folgenden erfolgt ein binäres Encoding nach der Klasse 1.\n",
    "Dafür wird zuerst eine neue Spalte erstellt, die nur die erste Ziffer enthät und anschließend in Abhängigkeit davon ein binäres Encoding.\n"
   ]
  },
  {
   "cell_type": "code",
   "execution_count": 27,
   "id": "cebd98b4",
   "metadata": {},
   "outputs": [],
   "source": [
    "datasets = [train, test]\n",
    "\n",
    "for dataset in datasets:\n",
    "    # Extrahiert erste Ziffer in \"Modus_RASTERVALU\"\n",
    "    dataset['Corine'] = dataset['Modus_RASTERVALU'].apply(lambda x: int(str(x)[0]))\n",
    "    \n",
    "    # Falls erste Ziffer ungleich 1, dann 0\n",
    "    dataset['Artificial_Surface'] = dataset['Corine'].apply(lambda x: 1 if x == 1  else 0)\n",
    "    \n",
    "    # Entfernt \"Modus_RASTERVALU\"\n",
    "    dataset.drop(columns='Modus_RASTERVALU', inplace=True)\n"
   ]
  },
  {
   "cell_type": "markdown",
   "id": "25f79dee",
   "metadata": {},
   "source": [
    "### 2.6.2 One-Hot\n",
    "Encoding für Nominal-Daten (ohne Rangfolge)  \n",
    "One-Hot-Encoding ist ein Verfahren zur Darstellung von Kategorien oder Nominaldaten als numerische Vektoren. Dabei wird jeder Kategorie ein eigener Binärwert zugeordnet."
   ]
  },
  {
   "cell_type": "code",
   "execution_count": 28,
   "id": "e4a2834d",
   "metadata": {},
   "outputs": [],
   "source": [
    "from sklearn.preprocessing import OneHotEncoder"
   ]
  },
  {
   "cell_type": "markdown",
   "id": "70cd8d79",
   "metadata": {},
   "source": [
    "Beispiel für One-Hot Encoding:"
   ]
  },
  {
   "cell_type": "code",
   "execution_count": 29,
   "id": "7b115d0d-77af-4eb7-9a9c-2038dfe165d4",
   "metadata": {},
   "outputs": [
    {
     "data": {
      "text/html": [
       "<div>\n",
       "<style scoped>\n",
       "    .dataframe tbody tr th:only-of-type {\n",
       "        vertical-align: middle;\n",
       "    }\n",
       "\n",
       "    .dataframe tbody tr th {\n",
       "        vertical-align: top;\n",
       "    }\n",
       "\n",
       "    .dataframe thead th {\n",
       "        text-align: right;\n",
       "    }\n",
       "</style>\n",
       "<table border=\"1\" class=\"dataframe\">\n",
       "  <thead>\n",
       "    <tr style=\"text-align: right;\">\n",
       "      <th></th>\n",
       "      <th>Corine_1</th>\n",
       "      <th>Corine_2</th>\n",
       "      <th>Corine_3</th>\n",
       "      <th>Corine_5</th>\n",
       "    </tr>\n",
       "  </thead>\n",
       "  <tbody>\n",
       "    <tr>\n",
       "      <th>0</th>\n",
       "      <td>0.0</td>\n",
       "      <td>1.0</td>\n",
       "      <td>0.0</td>\n",
       "      <td>0.0</td>\n",
       "    </tr>\n",
       "    <tr>\n",
       "      <th>1</th>\n",
       "      <td>0.0</td>\n",
       "      <td>1.0</td>\n",
       "      <td>0.0</td>\n",
       "      <td>0.0</td>\n",
       "    </tr>\n",
       "    <tr>\n",
       "      <th>2</th>\n",
       "      <td>0.0</td>\n",
       "      <td>0.0</td>\n",
       "      <td>1.0</td>\n",
       "      <td>0.0</td>\n",
       "    </tr>\n",
       "    <tr>\n",
       "      <th>3</th>\n",
       "      <td>0.0</td>\n",
       "      <td>1.0</td>\n",
       "      <td>0.0</td>\n",
       "      <td>0.0</td>\n",
       "    </tr>\n",
       "    <tr>\n",
       "      <th>4</th>\n",
       "      <td>1.0</td>\n",
       "      <td>0.0</td>\n",
       "      <td>0.0</td>\n",
       "      <td>0.0</td>\n",
       "    </tr>\n",
       "    <tr>\n",
       "      <th>...</th>\n",
       "      <td>...</td>\n",
       "      <td>...</td>\n",
       "      <td>...</td>\n",
       "      <td>...</td>\n",
       "    </tr>\n",
       "    <tr>\n",
       "      <th>401</th>\n",
       "      <td>1.0</td>\n",
       "      <td>0.0</td>\n",
       "      <td>0.0</td>\n",
       "      <td>0.0</td>\n",
       "    </tr>\n",
       "    <tr>\n",
       "      <th>402</th>\n",
       "      <td>0.0</td>\n",
       "      <td>0.0</td>\n",
       "      <td>1.0</td>\n",
       "      <td>0.0</td>\n",
       "    </tr>\n",
       "    <tr>\n",
       "      <th>403</th>\n",
       "      <td>0.0</td>\n",
       "      <td>1.0</td>\n",
       "      <td>0.0</td>\n",
       "      <td>0.0</td>\n",
       "    </tr>\n",
       "    <tr>\n",
       "      <th>404</th>\n",
       "      <td>1.0</td>\n",
       "      <td>0.0</td>\n",
       "      <td>0.0</td>\n",
       "      <td>0.0</td>\n",
       "    </tr>\n",
       "    <tr>\n",
       "      <th>405</th>\n",
       "      <td>1.0</td>\n",
       "      <td>0.0</td>\n",
       "      <td>0.0</td>\n",
       "      <td>0.0</td>\n",
       "    </tr>\n",
       "  </tbody>\n",
       "</table>\n",
       "<p>406 rows × 4 columns</p>\n",
       "</div>"
      ],
      "text/plain": [
       "     Corine_1  Corine_2  Corine_3  Corine_5\n",
       "0         0.0       1.0       0.0       0.0\n",
       "1         0.0       1.0       0.0       0.0\n",
       "2         0.0       0.0       1.0       0.0\n",
       "3         0.0       1.0       0.0       0.0\n",
       "4         1.0       0.0       0.0       0.0\n",
       "..        ...       ...       ...       ...\n",
       "401       1.0       0.0       0.0       0.0\n",
       "402       0.0       0.0       1.0       0.0\n",
       "403       0.0       1.0       0.0       0.0\n",
       "404       1.0       0.0       0.0       0.0\n",
       "405       1.0       0.0       0.0       0.0\n",
       "\n",
       "[406 rows x 4 columns]"
      ]
     },
     "execution_count": 29,
     "metadata": {},
     "output_type": "execute_result"
    }
   ],
   "source": [
    "from sklearn.preprocessing import OneHotEncoder\n",
    "\n",
    "# Erstelle einen OneHotEncoder\n",
    "encoder = OneHotEncoder(sparse_output=False)\n",
    "\n",
    "# Passe den Encoder auf die \"Corine\"-Spalte des Trainingsdatensatzes an\n",
    "encoder.fit(train[['Corine']])\n",
    "\n",
    "# Wende den Encoder auf die \"Corine\"-Spalte des Testdatensatzes an und erhalte die One-Hot-kodierten Features\n",
    "OHE_test = encoder.transform(test[['Corine']])\n",
    "\n",
    "# Konvertiere die One-Hot-kodierten Features in ein DataFrame und benenne die Spalten entsprechend\n",
    "OHE_test = pd.DataFrame(OHE_test, columns=encoder.get_feature_names_out(['Corine']))\n",
    "OHE_test"
   ]
  },
  {
   "cell_type": "markdown",
   "id": "5af17a26",
   "metadata": {},
   "source": [
    "### 2.6.3 Target Encoding\n",
    "Der Mittelwert der Ziel Variable wird für jede Kategorie berechnet und als Wert für die entsprechende Kategorie verwendet  \n",
    "Das Encodieren muss nach dem Data-Split erfolgen um ein Data Leakage zu vermeiden"
   ]
  },
  {
   "cell_type": "code",
   "execution_count": 30,
   "id": "cf5b6640",
   "metadata": {},
   "outputs": [
    {
     "data": {
      "text/html": [
       "<div>\n",
       "<style scoped>\n",
       "    .dataframe tbody tr th:only-of-type {\n",
       "        vertical-align: middle;\n",
       "    }\n",
       "\n",
       "    .dataframe tbody tr th {\n",
       "        vertical-align: top;\n",
       "    }\n",
       "\n",
       "    .dataframe thead th {\n",
       "        text-align: right;\n",
       "    }\n",
       "</style>\n",
       "<table border=\"1\" class=\"dataframe\">\n",
       "  <thead>\n",
       "    <tr style=\"text-align: right;\">\n",
       "      <th></th>\n",
       "      <th>Messstelle</th>\n",
       "      <th>NO3</th>\n",
       "      <th>O2</th>\n",
       "      <th>Modus_Hydrogeologie</th>\n",
       "      <th>NO3_norm</th>\n",
       "      <th>NO3_std</th>\n",
       "      <th>Corine</th>\n",
       "      <th>Artificial_Surface</th>\n",
       "      <th>Target_Hy</th>\n",
       "    </tr>\n",
       "  </thead>\n",
       "  <tbody>\n",
       "    <tr>\n",
       "      <th>49</th>\n",
       "      <td>BR 7 Hofgut Freudenberg, Heddesheim</td>\n",
       "      <td>0.366000</td>\n",
       "      <td>0.394000</td>\n",
       "      <td>Quartäre Kiese und Sande (GWL)</td>\n",
       "      <td>0.001255</td>\n",
       "      <td>-0.847277</td>\n",
       "      <td>2</td>\n",
       "      <td>0</td>\n",
       "      <td>21.923784</td>\n",
       "    </tr>\n",
       "    <tr>\n",
       "      <th>298</th>\n",
       "      <td>GWM E40 ZWK Kurpfalz, Schwetzingen</td>\n",
       "      <td>15.027586</td>\n",
       "      <td>5.883984</td>\n",
       "      <td>Quartäre Kiese und Sande (GWL)</td>\n",
       "      <td>0.140704</td>\n",
       "      <td>-0.265988</td>\n",
       "      <td>1</td>\n",
       "      <td>1</td>\n",
       "      <td>21.923784</td>\n",
       "    </tr>\n",
       "    <tr>\n",
       "      <th>437</th>\n",
       "      <td>TB 2 Transportbeton Freiburg</td>\n",
       "      <td>16.500000</td>\n",
       "      <td>6.939286</td>\n",
       "      <td>Quartäre Kiese und Sande (GWL)</td>\n",
       "      <td>0.154709</td>\n",
       "      <td>-0.207611</td>\n",
       "      <td>1</td>\n",
       "      <td>1</td>\n",
       "      <td>21.923784</td>\n",
       "    </tr>\n",
       "    <tr>\n",
       "      <th>441</th>\n",
       "      <td>TB 3 Firma Hansa Heemann AG, Bruchsal</td>\n",
       "      <td>0.287037</td>\n",
       "      <td>0.546296</td>\n",
       "      <td>Quartäre Kiese und Sande (GWL)</td>\n",
       "      <td>0.000504</td>\n",
       "      <td>-0.850407</td>\n",
       "      <td>1</td>\n",
       "      <td>1</td>\n",
       "      <td>21.923784</td>\n",
       "    </tr>\n",
       "    <tr>\n",
       "      <th>382</th>\n",
       "      <td>GWM Tief, Heddesheim</td>\n",
       "      <td>0.250000</td>\n",
       "      <td>0.347619</td>\n",
       "      <td>Quartäre Kiese und Sande (GWL)</td>\n",
       "      <td>0.000151</td>\n",
       "      <td>-0.851876</td>\n",
       "      <td>2</td>\n",
       "      <td>0</td>\n",
       "      <td>21.923784</td>\n",
       "    </tr>\n",
       "  </tbody>\n",
       "</table>\n",
       "</div>"
      ],
      "text/plain": [
       "                                Messstelle        NO3        O2  \\\n",
       "49     BR 7 Hofgut Freudenberg, Heddesheim   0.366000  0.394000   \n",
       "298     GWM E40 ZWK Kurpfalz, Schwetzingen  15.027586  5.883984   \n",
       "437           TB 2 Transportbeton Freiburg  16.500000  6.939286   \n",
       "441  TB 3 Firma Hansa Heemann AG, Bruchsal   0.287037  0.546296   \n",
       "382                   GWM Tief, Heddesheim   0.250000  0.347619   \n",
       "\n",
       "                Modus_Hydrogeologie  NO3_norm   NO3_std  Corine  \\\n",
       "49   Quartäre Kiese und Sande (GWL)  0.001255 -0.847277       2   \n",
       "298  Quartäre Kiese und Sande (GWL)  0.140704 -0.265988       1   \n",
       "437  Quartäre Kiese und Sande (GWL)  0.154709 -0.207611       1   \n",
       "441  Quartäre Kiese und Sande (GWL)  0.000504 -0.850407       1   \n",
       "382  Quartäre Kiese und Sande (GWL)  0.000151 -0.851876       2   \n",
       "\n",
       "     Artificial_Surface  Target_Hy  \n",
       "49                    0  21.923784  \n",
       "298                   1  21.923784  \n",
       "437                   1  21.923784  \n",
       "441                   1  21.923784  \n",
       "382                   0  21.923784  "
      ]
     },
     "execution_count": 30,
     "metadata": {},
     "output_type": "execute_result"
    }
   ],
   "source": [
    "from category_encoders.target_encoder import TargetEncoder\n",
    "\n",
    "# Target-Encoder-Objekt erstellen\n",
    "encoder = TargetEncoder()\n",
    "# Trainingsdaten kodieren\n",
    "train['Target_Hy'] = encoder.fit_transform(train['Modus_Hydrogeologie'], train['NO3'])\n",
    "# Testdaten kodieren\n",
    "test['Target_Hy'] = encoder.transform(test['Modus_Hydrogeologie'])\n",
    "\n",
    "# Ausgabe der ersten Zeilen der Trainingsdaten mit der neuen Spalte 'Target_Hy'\n",
    "train.head()\n",
    "\n"
   ]
  },
  {
   "cell_type": "markdown",
   "id": "23516173",
   "metadata": {},
   "source": [
    "## 2.7. Speichern der Ergebnisse"
   ]
  },
  {
   "cell_type": "markdown",
   "id": "ee013f3b",
   "metadata": {},
   "source": [
    "Um einen Datensatz zu speichern,ist es sinnvoll diesen als csv.Datei zu exportieren.\n",
    "\n",
    "Das Exportieren erfolgt über den Befehl \".to_csv\" für Dataframes.\n",
    "\n",
    "https://pandas.pydata.org/docs/reference/api/pandas.DataFrame.to_csv.html"
   ]
  },
  {
   "cell_type": "code",
   "execution_count": 31,
   "id": "2fa48208",
   "metadata": {},
   "outputs": [],
   "source": [
    "train.to_csv('res.csv')"
   ]
  },
  {
   "cell_type": "markdown",
   "id": "724660d6",
   "metadata": {},
   "source": [
    "# 3. Übung"
   ]
  },
  {
   "cell_type": "markdown",
   "id": "e985dfe3",
   "metadata": {},
   "source": [
    "Bereite jetzt selbst den Datensatz \"Nitratmessungen_aufgabe.csv\" auf:\n",
    "1. Ersetze die Werte unter der NWG.\n",
    "2. Ersetze alle NULL-Values.\n",
    "3. Aggregiere die Daten für jede .\n",
    "4. Splitte die Daten (85:15).\n",
    "5. Standardisiere die numerischen Variablen.\n",
    "6. Encode die Landnutzung binär nach der Landwirtschaft (Corine = 2XX) --> vorhanden = 1, nicht vorhanden = 0.\n",
    "7. Target-Encode die Hyrogeologie auf Basis der Nitratkonzentration.\n",
    "8. Speichere deine Ergebnisse.\n",
    "9. Fertig! :).\n",
    "\n",
    "Tipps:\n",
    "- für die Features der Sauerstoff-Konzentration und der Hydrogeologie liegen die NULL-Values nicht als diese direkt vor, hier ist es hilfreich mal die Features mit \".describe()\" bzw. \".unique()\" zu betrachten."
   ]
  }
 ],
 "metadata": {
  "hide_input": false,
  "kernelspec": {
   "display_name": "Python 3 (ipykernel)",
   "language": "python",
   "name": "python3"
  },
  "language_info": {
   "codemirror_mode": {
    "name": "ipython",
    "version": 3
   },
   "file_extension": ".py",
   "mimetype": "text/x-python",
   "name": "python",
   "nbconvert_exporter": "python",
   "pygments_lexer": "ipython3",
   "version": "3.12.2"
  },
  "toc": {
   "base_numbering": 1,
   "nav_menu": {},
   "number_sections": false,
   "sideBar": true,
   "skip_h1_title": true,
   "title_cell": "Table of Contents",
   "title_sidebar": "Contents",
   "toc_cell": false,
   "toc_position": {
    "height": "calc(100% - 180px)",
    "left": "10px",
    "top": "150px",
    "width": "384px"
   },
   "toc_section_display": true,
   "toc_window_display": true
  },
  "varInspector": {
   "cols": {
    "lenName": 16,
    "lenType": 16,
    "lenVar": 40
   },
   "kernels_config": {
    "python": {
     "delete_cmd_postfix": "",
     "delete_cmd_prefix": "del ",
     "library": "var_list.py",
     "varRefreshCmd": "print(var_dic_list())"
    },
    "r": {
     "delete_cmd_postfix": ") ",
     "delete_cmd_prefix": "rm(",
     "library": "var_list.r",
     "varRefreshCmd": "cat(var_dic_list()) "
    }
   },
   "types_to_exclude": [
    "module",
    "function",
    "builtin_function_or_method",
    "instance",
    "_Feature"
   ],
   "window_display": false
  }
 },
 "nbformat": 4,
 "nbformat_minor": 5
}
