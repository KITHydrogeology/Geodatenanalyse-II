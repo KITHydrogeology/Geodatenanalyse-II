{
 "cells": [
  {
   "cell_type": "markdown",
   "id": "complimentary-unknown",
   "metadata": {},
   "source": [
    "# Geodatenanalyse 2\n",
    "\n",
    "\n",
    "## Termin 10 - Modul 1\n",
    "\n",
    "## Einführung in *Google Earth Engine* (*GEE*)"
   ]
  },
  {
   "cell_type": "code",
   "execution_count": 1,
   "id": "resistant-corporation",
   "metadata": {},
   "outputs": [],
   "source": [
    "import ee\n",
    "# initialize the connection to the server\n",
    "ee.Initialize()\n",
    "import geemap\n",
    "import geemap.colormaps as cm\n",
    "import datetime as dt\n",
    "import pandas as pd"
   ]
  },
  {
   "cell_type": "markdown",
   "id": "sealed-necessity",
   "metadata": {},
   "source": [
    "## Übung 1\n",
    "\n",
    "In dieser Übung geht es um den Umgang mit Rastern (*ee.Image*). Hier werwenden wir das australische Höhenmodell von [Geoscience Australia](https://developers.google.com/earth-engine/datasets/catalog/AU_GA_DEM_1SEC_v10_DEM-S):\n",
    "\n",
    "\n",
    "- **Aufgabe 1**: Welche Kanäle enthält dieses Raster? Welche weiteren Eigenschaften hat dieses Raster?\n",
    "\n",
    "- **Aufgabe 2**: Zeige dieses Raster auf einer dynamischen Karte. \n",
    "\n",
    "- **Aufgabe 3**: Inspiziere die Karte manuell. Wo befindet sich der höchste Punkt auf dem australischen Kontinent? Wo der niedrigste?"
   ]
  },
  {
   "cell_type": "code",
   "execution_count": 2,
   "id": "average-carbon",
   "metadata": {},
   "outputs": [
    {
     "data": {
      "text/plain": [
       "['elevation']"
      ]
     },
     "execution_count": 2,
     "metadata": {},
     "output_type": "execute_result"
    }
   ],
   "source": [
    "# AUFGABE 1\n",
    "\n",
    "au_dem = ee.Image(\"AU/GA/DEM_1SEC/v10/DEM-S\")\n",
    "bands = au_dem.bandNames().getInfo()\n",
    "bands"
   ]
  },
  {
   "cell_type": "code",
   "execution_count": 3,
   "id": "occupational-imperial",
   "metadata": {},
   "outputs": [
    {
     "data": {
      "text/plain": [
       "{'type': 'Image',\n",
       " 'bands': [{'id': 'elevation',\n",
       "   'data_type': {'type': 'PixelType', 'precision': 'float'},\n",
       "   'dimensions': [147600, 122400],\n",
       "   'crs': 'EPSG:4326',\n",
       "   'crs_transform': [0.0002777777777822621,\n",
       "    0,\n",
       "    112.99986111110002,\n",
       "    0,\n",
       "    -0.0002777777777822621,\n",
       "    -10.000138888696277]}],\n",
       " 'id': 'AU/GA/DEM_1SEC/v10/DEM-S',\n",
       " 'version': 1641990049596207,\n",
       " 'properties': {'system:visualization_0_min': '-10.0',\n",
       "  'type_name': 'Image',\n",
       "  'keywords': ['australia',\n",
       "   'dem',\n",
       "   'elevation',\n",
       "   'ga',\n",
       "   'geophysical',\n",
       "   'geoscience_australia',\n",
       "   'smoothed',\n",
       "   'srtm'],\n",
       "  'thumb': 'https://mw1.google.com/ges/dd/images/DEMH_thumb.png',\n",
       "  'description': '<p>The Smoothed Digital Elevation Model (DEM-S) was derived\\nfrom the SRTM data acquired by NASA in February 2000. DEM-S represents\\nground surface topography (excluding vegetation features) and has\\nbeen smoothed to reduce noise and improve the representation of\\nsurface shape. An adaptive process applied more smoothing in flatter\\nareas than hilly areas, and more smoothing in noisier areas than\\nin less noisy areas.</p><p>This DEM-S supports calculation of local terrain shape attributes\\nsuch as slope, aspect, and curvature that could not be reliably\\nderived from the unsmoothed 1 second DEM because of noise.</p><p><b>Provider: <a href=\"https://www.ga.gov.au/metadata-gateway/metadata/record/72759/\">Geoscience Australia</a></b><br><p><b>Resolution</b><br>30.92 meters\\n</p><p><b>Bands</b><table class=\"eecat\"><tr><th scope=\"col\">Name</th><th scope=\"col\">Description</th></tr><tr><td>elevation</td><td><p>Elevation</p></td></tr></table><p><sup>There are several areas with unexpected negative values: close to\\nCanberra around (150.443044, -35.355281) with values of -55 and in Western\\nAustralia around (124.84, -16.44) with -43.</sup><p><b>Terms of Use</b><br><p>Licensed under the Creative Commons Attribution 4.0 International License.</p><p><b>Suggested citation(s)</b><ul><li><p>Geoscience Australia, 2015. Digital Elevation Model (DEM) of Australia\\nderived from LiDAR 5 Metre Grid. Geoscience Australia, Canberra.</p></li></ul><style>\\n  table.eecat {\\n  border: 1px solid black;\\n  border-collapse: collapse;\\n  font-size: 13px;\\n  }\\n  table.eecat td, tr, th {\\n  text-align: left; vertical-align: top;\\n  border: 1px solid gray; padding: 3px;\\n  }\\n  td.nobreak { white-space: nowrap; }\\n</style>',\n",
       "  'source_tags': ['geoscience_australia', 'ga', 'srtm'],\n",
       "  'visualization_0_max': '1300.0',\n",
       "  'title': 'DEM-S: Australian Smoothed Digital Elevation Model',\n",
       "  'product_tags': ['elevation', 'australia', 'dem', 'geophysical', 'smoothed'],\n",
       "  'provider': 'Geoscience Australia',\n",
       "  'system:footprint': {'type': 'LinearRing',\n",
       "   'coordinates': [[149.51537760183976, -44.00027828111735],\n",
       "    [154.00010903404143, -44.00027798752704],\n",
       "    [154.00000473237392, -9.988974776483827],\n",
       "    [149.9958431430163, -9.997588081134982],\n",
       "    [145.99196394502417, -9.988977101473118],\n",
       "    [141.34746421600462, -9.994526135780077],\n",
       "    [137.18342993496213, -9.992536004118316],\n",
       "    [131.57799915884252, -9.983161038327308],\n",
       "    [126.13272351070789, -9.993569342197855],\n",
       "    [120.68744795871099, -9.983161044932864],\n",
       "    [115.88279293880827, -9.996937368513356],\n",
       "    [112.99971741761009, -9.996936179001814],\n",
       "    [112.99961314179245, -44.00027801616656],\n",
       "    [118.6054307262404, -44.00027824209282],\n",
       "    [125.17179254611291, -44.00027824879184],\n",
       "    [133.4998610947432, -44.000278249379896],\n",
       "    [140.0662228683342, -44.00027830304336],\n",
       "    [145.03103300127034, -44.00027828576524],\n",
       "    [149.51537760183976, -44.00027828111735]]},\n",
       "  'visualization_0_min': '-10.0',\n",
       "  'visualization_0_name': 'Elevation',\n",
       "  'date_range': [1264982400000, 1264982400000],\n",
       "  'period': 0,\n",
       "  'system:visualization_0_bands': 'elevation',\n",
       "  'provider_url': 'https://www.ga.gov.au/metadata-gateway/metadata/record/72759/',\n",
       "  'sample': 'https://mw1.google.com/ges/dd/images/DEMH_sample.png',\n",
       "  'tags': ['australia',\n",
       "   'dem',\n",
       "   'elevation',\n",
       "   'ga',\n",
       "   'geophysical',\n",
       "   'geoscience_australia',\n",
       "   'smoothed',\n",
       "   'srtm'],\n",
       "  'system:visualization_0_max': '1300.0',\n",
       "  'visualization_0_palette': '3ae237,b5e22e,d6e21f,fff705,ffd611,ffb613,ff8b13,ff6e08,ff500d,ff0000,de0101,c21301,0602ff,235cb1,307ef3,269db1,30c8e2,32d3ef,3be285,3ff38f,86e26f',\n",
       "  'system:visualization_0_palette': '3ae237,b5e22e,d6e21f,fff705,ffd611,ffb613,ff8b13,ff6e08,ff500d,ff0000,de0101,c21301,0602ff,235cb1,307ef3,269db1,30c8e2,32d3ef,3be285,3ff38f,86e26f',\n",
       "  'system:visualization_0_name': 'Elevation',\n",
       "  'system:asset_size': 37876426185,\n",
       "  'visualization_0_bands': 'elevation'}}"
      ]
     },
     "execution_count": 3,
     "metadata": {},
     "output_type": "execute_result"
    }
   ],
   "source": [
    "# AUFGABE 1\n",
    "\n",
    "au_dem.getInfo()"
   ]
  },
  {
   "cell_type": "code",
   "execution_count": 4,
   "id": "improving-colonial",
   "metadata": {
    "scrolled": true
   },
   "outputs": [
    {
     "data": {
      "application/vnd.jupyter.widget-view+json": {
       "model_id": "56fefe2877aa486797e14b699d203f33",
       "version_major": 2,
       "version_minor": 0
      },
      "text/plain": [
       "Map(center=[20, 0], controls=(WidgetControl(options=['position', 'transparent_bg'], widget=HBox(children=(Togg…"
      ]
     },
     "metadata": {},
     "output_type": "display_data"
    }
   ],
   "source": [
    "# AUFGABE 2\n",
    "\n",
    "australia = geemap.Map()\n",
    "vis_params = {'min': 0, 'max': 2300, 'palette': cm.palettes.dem}\n",
    "australia.addLayer(au_dem, vis_params, 'SRTM DEM', True, 0.7)\n",
    "australia.centerObject(au_dem)\n",
    "\n",
    "australia"
   ]
  },
  {
   "cell_type": "markdown",
   "id": "civilian-suggestion",
   "metadata": {},
   "source": [
    "## Übung 2\n",
    "\n",
    "Die globalen Waldtypen wurden mit Hilfe von Satellitenaufnahmen bestimmt und sind im [Copernicus Global Land Cover Layers](https://developers.google.com/earth-engine/datasets/catalog/COPERNICUS_Landcover_100m_Proba-V-C3_Global) archiviert. Bearbeite folgende Aufgaben:\n",
    "\n",
    "- **Aufgabe 1**: Welche Kanäle enthält diese Rasterkollektion? Welche Auflösung hat das Raster?\n",
    "\n",
    "- **Aufgabe 2**: Welche Zeitpunkte sind für die Bestimmung vorhanden? Welche Waldtypen sind im Kanal 'forest_type' vorhanden?\n",
    "\n",
    "- **Aufgabe 3**: Zeige das älteste Raster für den Waldtyp in einer interaktiven Karte. Beachte hierbei die Kategorien für Waldtypen und wähle eine Palette, mit welcher sich die Kategorien unterscheiden lassen. Welcher Waldtyp ist im Schwarzwald dominant?"
   ]
  },
  {
   "cell_type": "code",
   "execution_count": 5,
   "id": "certain-newton",
   "metadata": {
    "scrolled": false
   },
   "outputs": [
    {
     "data": {
      "text/plain": [
       "['discrete_classification',\n",
       " 'discrete_classification-proba',\n",
       " 'bare-coverfraction',\n",
       " 'urban-coverfraction',\n",
       " 'crops-coverfraction',\n",
       " 'grass-coverfraction',\n",
       " 'moss-coverfraction',\n",
       " 'water-permanent-coverfraction',\n",
       " 'water-seasonal-coverfraction',\n",
       " 'shrub-coverfraction',\n",
       " 'snow-coverfraction',\n",
       " 'tree-coverfraction',\n",
       " 'forest_type',\n",
       " 'data-density-indicator']"
      ]
     },
     "execution_count": 5,
     "metadata": {},
     "output_type": "execute_result"
    }
   ],
   "source": [
    "# AUFGABE 1\n",
    "land_cover = ee.ImageCollection(\"COPERNICUS/Landcover/100m/Proba-V-C3/Global\")\n",
    "land_cover.first().bandNames().getInfo()"
   ]
  },
  {
   "cell_type": "code",
   "execution_count": 6,
   "id": "emerging-envelope",
   "metadata": {},
   "outputs": [
    {
     "data": {
      "text/plain": [
       "100"
      ]
     },
     "execution_count": 6,
     "metadata": {},
     "output_type": "execute_result"
    }
   ],
   "source": [
    "# AUFGABE 1\n",
    "\n",
    "land_cover.first().select('forest_type').projection().nominalScale().getInfo()"
   ]
  },
  {
   "cell_type": "code",
   "execution_count": 7,
   "id": "complete-consciousness",
   "metadata": {},
   "outputs": [
    {
     "data": {
      "text/plain": [
       "DatetimeIndex(['2015-01-01', '2016-01-01', '2017-01-01', '2018-01-01',\n",
       "               '2019-01-01'],\n",
       "              dtype='datetime64[ns]', freq=None)"
      ]
     },
     "execution_count": 7,
     "metadata": {},
     "output_type": "execute_result"
    }
   ],
   "source": [
    "# AUFGABE 2\n",
    "\n",
    "dates = land_cover.aggregate_array(\"system:time_start\")\n",
    "datelist = pd.to_datetime(dates.getInfo(), unit='ms')\n",
    "datelist"
   ]
  },
  {
   "cell_type": "code",
   "execution_count": 8,
   "id": "ordered-routine",
   "metadata": {},
   "outputs": [
    {
     "data": {
      "text/plain": [
       "{'type': 'Image',\n",
       " 'bands': [{'id': 'forest_type',\n",
       "   'data_type': {'type': 'PixelType',\n",
       "    'precision': 'int',\n",
       "    'min': 0,\n",
       "    'max': 255},\n",
       "   'dimensions': [400750, 240450],\n",
       "   'crs': 'EPSG:3857',\n",
       "   'crs_transform': [100, 0, -20037550, 0, -100, 15538800]}],\n",
       " 'id': 'COPERNICUS/Landcover/100m/Proba-V-C3/Global/2015',\n",
       " 'version': 1612501859478524,\n",
       " 'properties': {'forest_type_class_names': ['Unknown',\n",
       "   'Evergreen needle leaf',\n",
       "   'Evergreen broad leaf',\n",
       "   'Deciduous needle leaf',\n",
       "   'Deciduous broad leaf',\n",
       "   'Mix of forest types'],\n",
       "  'forest_type_class_palette': ['282828',\n",
       "   '666000',\n",
       "   '009900',\n",
       "   '70663E',\n",
       "   'A0DC00',\n",
       "   '929900'],\n",
       "  'copyright': 'Copernicus Service information 2020',\n",
       "  'references': 'https://land.copernicus.eu/global/products/lc',\n",
       "  'processing_level': 'L3',\n",
       "  'source': 'Derived from EO satellite imagery',\n",
       "  'platform': 'Proba-V',\n",
       "  'discrete_classification_class_values': [0,\n",
       "   20,\n",
       "   30,\n",
       "   40,\n",
       "   50,\n",
       "   60,\n",
       "   70,\n",
       "   80,\n",
       "   90,\n",
       "   100,\n",
       "   111,\n",
       "   112,\n",
       "   113,\n",
       "   114,\n",
       "   115,\n",
       "   116,\n",
       "   121,\n",
       "   122,\n",
       "   123,\n",
       "   124,\n",
       "   125,\n",
       "   126,\n",
       "   200],\n",
       "  'institution': 'VITO NV',\n",
       "  'system:footprint': {'type': 'LinearRing',\n",
       "   'coordinates': [[-180, -90],\n",
       "    [180, -90],\n",
       "    [180, 90],\n",
       "    [-180, 90],\n",
       "    [-180, -90]]},\n",
       "  'contact': 'https://land.copernicus.eu/global/contact',\n",
       "  'orbit_type': 'LEO',\n",
       "  'forest_type_class_values': [0, 1, 2, 3, 4, 5],\n",
       "  'discrete_classification_class_names': ['Unknown. No or not enough satellite data available.',\n",
       "   'Shrubs. Woody perennial plants with persistent and woody stems and without any defined main stem being less than 5 m tall. The shrub foliage can be either evergreen or deciduous.',\n",
       "   'Herbaceous vegetation. Plants without persistent stem or shoots above ground and lacking definite firm structure. Tree and shrub cover is less than 10 %.',\n",
       "   'Cultivated and managed vegetation / agriculture. Lands covered with temporary crops followed by harvest and a bare soil period (e.g., single and multiple cropping systems). Note that perennial woody crops will be classified as the appropriate forest or shrub land cover type.',\n",
       "   'Urban / built up. Land covered by buildings and other man-made structures.',\n",
       "   'Bare / sparse vegetation. Lands with exposed soil, sand, or rocks and never has more than 10 % vegetated cover during any time of the year.',\n",
       "   'Snow and ice. Lands under snow or ice cover throughout the year.',\n",
       "   'Permanent water bodies. Lakes, reservoirs, and rivers. Can be either fresh or salt-water bodies.',\n",
       "   'Herbaceous wetland. Lands with a permanent mixture of water and herbaceous or woody vegetation. The vegetation can be present in either salt, brackish, or fresh water.',\n",
       "   'Moss and lichen.',\n",
       "   'Closed forest, evergreen needle leaf. Tree canopy >70 %, almost all needle leaf trees remain green all year. Canopy is never without green foliage.',\n",
       "   'Closed forest, evergreen broad leaf. Tree canopy >70 %, almost all broadleaf trees remain green year round. Canopy is never without green foliage.',\n",
       "   'Closed forest, deciduous needle leaf. Tree canopy >70 %, consists of seasonal needle leaf tree communities with an annual cycle of leaf-on and leaf-off periods.',\n",
       "   'Closed forest, deciduous broad leaf. Tree canopy >70 %, consists of seasonal broadleaf tree communities with an annual cycle of leaf-on and leaf-off periods.',\n",
       "   'Closed forest, mixed.',\n",
       "   'Closed forest, not matching any of the other definitions.',\n",
       "   'Open forest, evergreen needle leaf. Top layer- trees 15-70 % and second layer- mixed of shrubs and grassland, almost all needle leaf trees remain green all year. Canopy is never without green foliage.',\n",
       "   'Open forest, evergreen broad leaf. Top layer- trees 15-70 % and second layer- mixed of shrubs and grassland, almost all broadleaf trees remain green year round. Canopy is never without green foliage.',\n",
       "   'Open forest, deciduous needle leaf. Top layer- trees 15-70 % and second layer- mixed of shrubs and grassland, consists of seasonal needle leaf tree communities with an annual cycle of leaf-on and leaf-off periods.',\n",
       "   'Open forest, deciduous broad leaf. Top layer- trees 15-70 % and second layer- mixed of shrubs and grassland, consists of seasonal broadleaf tree communities with an annual cycle of leaf-on and leaf-off periods.',\n",
       "   'Open forest, mixed.',\n",
       "   'Open forest, not matching any of the other definitions.',\n",
       "   'Oceans, seas. Can be either fresh or salt-water bodies.'],\n",
       "  'creator': 'Dr. Marcel Buchhorn (VITO)',\n",
       "  'product_version': 'v3.0.1',\n",
       "  'system:time_end': 1451606400000,\n",
       "  'NODATA_value': 255,\n",
       "  'system:time_start': 1420070400000,\n",
       "  'discrete_classification_class_palette': ['282828',\n",
       "   'FFBB22',\n",
       "   'FFFF4C',\n",
       "   'F096FF',\n",
       "   'FA0000',\n",
       "   'B4B4B4',\n",
       "   'F0F0F0',\n",
       "   '0032C8',\n",
       "   '0096A0',\n",
       "   'FAE6A0',\n",
       "   '58481F',\n",
       "   '009900',\n",
       "   '70663E',\n",
       "   '00CC00',\n",
       "   '4E751F',\n",
       "   '007800',\n",
       "   '666000',\n",
       "   '8DB400',\n",
       "   '8D7400',\n",
       "   'A0DC00',\n",
       "   '929900',\n",
       "   '648C00',\n",
       "   '000080'],\n",
       "  'production_grid': 'MGRS (Sentinel-2 tiling grid)',\n",
       "  'processing_mode': 'offline',\n",
       "  'sensor': 'VEGETATION',\n",
       "  'system:asset_size': 80770774280,\n",
       "  'production_crs': 'UTM',\n",
       "  'doi': '10.5281/zenodo.3939038',\n",
       "  'system:index': '2015'}}"
      ]
     },
     "execution_count": 8,
     "metadata": {},
     "output_type": "execute_result"
    }
   ],
   "source": [
    "# AUFGABE 2\n",
    "forest = land_cover.first().select('forest_type')\n",
    "forest.getInfo()"
   ]
  },
  {
   "cell_type": "code",
   "execution_count": 9,
   "id": "brave-lounge",
   "metadata": {
    "scrolled": false
   },
   "outputs": [
    {
     "data": {
      "text/plain": [
       "['Unknown',\n",
       " 'Evergreen needle leaf',\n",
       " 'Evergreen broad leaf',\n",
       " 'Deciduous needle leaf',\n",
       " 'Deciduous broad leaf',\n",
       " 'Mix of forest types']"
      ]
     },
     "execution_count": 9,
     "metadata": {},
     "output_type": "execute_result"
    }
   ],
   "source": [
    "# AUFGABE 3\n",
    "\n",
    "# Untersuche den Datensatz für die Kartierung ...\n",
    "forest = ee.Image(land_cover.first().select('forest_type'))\n",
    "forest.getInfo()['properties']['forest_type_class_names']"
   ]
  },
  {
   "cell_type": "code",
   "execution_count": 10,
   "id": "amber-turtle",
   "metadata": {},
   "outputs": [
    {
     "data": {
      "application/vnd.jupyter.widget-view+json": {
       "model_id": "70233dda69b84b32957d812d029db007",
       "version_major": 2,
       "version_minor": 0
      },
      "text/plain": [
       "Map(center=[20, 0], controls=(WidgetControl(options=['position', 'transparent_bg'], widget=HBox(children=(Togg…"
      ]
     },
     "metadata": {},
     "output_type": "display_data"
    }
   ],
   "source": [
    "# AUFGABE 3\n",
    "\n",
    "# erstelle eine interaktive Karte\n",
    "\n",
    "globe = geemap.Map()\n",
    "\n",
    "palette = forest.getInfo()['properties']['forest_type_class_palette']\n",
    "vis_params = {'min': 0, 'max': 5, 'palette': palette}\n",
    "\n",
    "globe.addLayer(forest, vis_params, 'SRTM DEM', True, 0.7)\n",
    "globe.centerObject(forest)\n",
    "\n",
    "colors = vis_params['palette']\n",
    "vmin = vis_params['min']\n",
    "vmax = vis_params['max']\n",
    "globe.add_colorbar_branca(colors=colors, vmin=vmin, vmax=vmax, categorical=True, step=6)\n",
    "\n",
    "globe"
   ]
  },
  {
   "cell_type": "code",
   "execution_count": 11,
   "id": "split-passing",
   "metadata": {},
   "outputs": [
    {
     "data": {
      "text/plain": [
       "'Evergreen needle leaf'"
      ]
     },
     "execution_count": 11,
     "metadata": {},
     "output_type": "execute_result"
    }
   ],
   "source": [
    "# AUFGABE 3\n",
    "\n",
    "# bestimme den Waldtyp\n",
    "forest.getInfo()['properties']['forest_type_class_names'][1]"
   ]
  },
  {
   "cell_type": "markdown",
   "id": "instrumental-budapest",
   "metadata": {},
   "source": [
    "## ENDE"
   ]
  }
 ],
 "metadata": {
  "kernelspec": {
   "display_name": "Python 3 (ipykernel)",
   "language": "python",
   "name": "python3"
  },
  "language_info": {
   "codemirror_mode": {
    "name": "ipython",
    "version": 3
   },
   "file_extension": ".py",
   "mimetype": "text/x-python",
   "name": "python",
   "nbconvert_exporter": "python",
   "pygments_lexer": "ipython3",
   "version": "3.7.13"
  },
  "toc": {
   "base_numbering": 1,
   "nav_menu": {},
   "number_sections": false,
   "sideBar": true,
   "skip_h1_title": false,
   "title_cell": "Table of Contents",
   "title_sidebar": "Contents",
   "toc_cell": false,
   "toc_position": {},
   "toc_section_display": true,
   "toc_window_display": true
  }
 },
 "nbformat": 4,
 "nbformat_minor": 5
}
